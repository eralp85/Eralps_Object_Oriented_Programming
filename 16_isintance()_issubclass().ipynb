{
 "cells": [
  {
   "cell_type": "markdown",
   "source": [
    "# isinstance() and issubclass()\n",
    "\n",
    "These two methods are related to each other.\n",
    "\n",
    "They are used to determine object types and class relationships respectively.\n",
    "\n",
    "They are used to check if an object is an object belongs to a particular class or if a class is a subclass of another class."
   ],
   "metadata": {
    "collapsed": false
   },
   "id": "2a674e7f93fecc8d"
  },
  {
   "cell_type": "code",
   "execution_count": 2,
   "outputs": [],
   "source": [
    "class Phone:\n",
    "    def __init__(self, brand, model_name, price):\n",
    "        self.brand = brand\n",
    "        self.model = model_name\n",
    "        self._price = max(price, 0)\n",
    "        \n",
    "    @staticmethod\n",
    "    def make_call(number):\n",
    "        print(f\"Calling {number}...\")\n",
    "        \n",
    "    def full_name(self):\n",
    "        return f\"{self.brand} {self.model}\""
   ],
   "metadata": {
    "collapsed": false,
    "ExecuteTime": {
     "end_time": "2023-11-18T16:13:25.426989100Z",
     "start_time": "2023-11-18T16:13:25.371070100Z"
    }
   },
   "id": "f88227444e9f6b4a"
  },
  {
   "cell_type": "code",
   "execution_count": 4,
   "outputs": [],
   "source": [
    "class SmartPhone(Phone):\n",
    "    def __init__(self, brand, model_name, price, ram, internal_memory, rear_camera):\n",
    "        \n",
    "        super().__init__(brand, model_name, price)\n",
    "        \n",
    "        self.ram = ram\n",
    "        self.internal_memory = internal_memory\n",
    "        self.rear_camera = rear_camera"
   ],
   "metadata": {
    "collapsed": false,
    "ExecuteTime": {
     "end_time": "2023-11-18T16:13:42.611107700Z",
     "start_time": "2023-11-18T16:13:42.596002400Z"
    }
   },
   "id": "5abec3bdd8ca2031"
  },
  {
   "cell_type": "code",
   "execution_count": 5,
   "outputs": [],
   "source": [
    "class FlagshipPhone(SmartPhone):\n",
    "    def __init__(self, brand, model_name, price, ram, internal_memory, rear_camera, front_camera):\n",
    "        \n",
    "        super().__init__(brand, model_name, price, ram, internal_memory, rear_camera)\n",
    "        \n",
    "        self.front_camera = front_camera"
   ],
   "metadata": {
    "collapsed": false,
    "ExecuteTime": {
     "end_time": "2023-11-18T16:13:53.288995500Z",
     "start_time": "2023-11-18T16:13:53.273317100Z"
    }
   },
   "id": "e3315ccc655e54a2"
  },
  {
   "cell_type": "code",
   "execution_count": 6,
   "outputs": [],
   "source": [
    "phone1 = Phone('Nokia', '1100', 1000)"
   ],
   "metadata": {
    "collapsed": false,
    "ExecuteTime": {
     "end_time": "2023-11-18T16:14:15.946858200Z",
     "start_time": "2023-11-18T16:14:15.928734900Z"
    }
   },
   "id": "78725857b1a3a82e"
  },
  {
   "cell_type": "code",
   "execution_count": 7,
   "outputs": [],
   "source": [
    "smartphone1 = SmartPhone('OnePlus', '7T', 35000, '8 GB', '128 GB', '48 MP')"
   ],
   "metadata": {
    "collapsed": false,
    "ExecuteTime": {
     "end_time": "2023-11-18T16:14:19.481149600Z",
     "start_time": "2023-11-18T16:14:19.446679Z"
    }
   },
   "id": "fae83a0166b8509c"
  },
  {
   "cell_type": "code",
   "execution_count": 8,
   "outputs": [],
   "source": [
    "flagshipphone1 = FlagshipPhone('OnePlus', '7T', 35000, '8 GB', '128 GB', '48 MP', '16 MP')"
   ],
   "metadata": {
    "collapsed": false,
    "ExecuteTime": {
     "end_time": "2023-11-18T16:14:22.954398800Z",
     "start_time": "2023-11-18T16:14:22.919373300Z"
    }
   },
   "id": "ea35f551974b9dc4"
  },
  {
   "cell_type": "code",
   "execution_count": 9,
   "outputs": [
    {
     "data": {
      "text/plain": "True"
     },
     "execution_count": 9,
     "metadata": {},
     "output_type": "execute_result"
    }
   ],
   "source": [
    "isinstance(phone1, Phone)"
   ],
   "metadata": {
    "collapsed": false,
    "ExecuteTime": {
     "end_time": "2023-11-18T16:15:12.880569500Z",
     "start_time": "2023-11-18T16:15:12.757315Z"
    }
   },
   "id": "b79267d6dd5dd228"
  },
  {
   "cell_type": "code",
   "execution_count": 10,
   "outputs": [
    {
     "data": {
      "text/plain": "True"
     },
     "execution_count": 10,
     "metadata": {},
     "output_type": "execute_result"
    }
   ],
   "source": [
    "isinstance(smartphone1, SmartPhone)"
   ],
   "metadata": {
    "collapsed": false,
    "ExecuteTime": {
     "end_time": "2023-11-18T16:15:16.906978800Z",
     "start_time": "2023-11-18T16:15:16.848719Z"
    }
   },
   "id": "f1ee8d489dfc7685"
  },
  {
   "cell_type": "code",
   "execution_count": 12,
   "outputs": [
    {
     "data": {
      "text/plain": "False"
     },
     "execution_count": 12,
     "metadata": {},
     "output_type": "execute_result"
    }
   ],
   "source": [
    "isinstance(phone1, FlagshipPhone)"
   ],
   "metadata": {
    "collapsed": false,
    "ExecuteTime": {
     "end_time": "2023-11-18T16:16:07.181401800Z",
     "start_time": "2023-11-18T16:16:07.128700700Z"
    }
   },
   "id": "cecdbac91de07a69"
  },
  {
   "cell_type": "code",
   "execution_count": 13,
   "outputs": [
    {
     "data": {
      "text/plain": "True"
     },
     "execution_count": 13,
     "metadata": {},
     "output_type": "execute_result"
    }
   ],
   "source": [
    "isinstance(flagshipphone1, Phone)"
   ],
   "metadata": {
    "collapsed": false,
    "ExecuteTime": {
     "end_time": "2023-11-18T16:19:21.207840900Z",
     "start_time": "2023-11-18T16:19:21.176498800Z"
    }
   },
   "id": "6d7ae43a77274d2a"
  },
  {
   "cell_type": "code",
   "execution_count": 14,
   "outputs": [
    {
     "data": {
      "text/plain": "True"
     },
     "execution_count": 14,
     "metadata": {},
     "output_type": "execute_result"
    }
   ],
   "source": [
    "issubclass(SmartPhone, Phone)"
   ],
   "metadata": {
    "collapsed": false,
    "ExecuteTime": {
     "end_time": "2023-11-18T16:21:24.392354700Z",
     "start_time": "2023-11-18T16:21:24.316869700Z"
    }
   },
   "id": "d8f2c5db63750bbb"
  },
  {
   "cell_type": "code",
   "execution_count": 15,
   "outputs": [
    {
     "data": {
      "text/plain": "True"
     },
     "execution_count": 15,
     "metadata": {},
     "output_type": "execute_result"
    }
   ],
   "source": [
    "issubclass(FlagshipPhone, SmartPhone)"
   ],
   "metadata": {
    "collapsed": false,
    "ExecuteTime": {
     "end_time": "2023-11-18T16:21:54.100842700Z",
     "start_time": "2023-11-18T16:21:54.024867100Z"
    }
   },
   "id": "f9d618febf3a20c7"
  },
  {
   "cell_type": "code",
   "execution_count": 16,
   "outputs": [
    {
     "data": {
      "text/plain": "True"
     },
     "execution_count": 16,
     "metadata": {},
     "output_type": "execute_result"
    }
   ],
   "source": [
    "issubclass(FlagshipPhone, Phone)"
   ],
   "metadata": {
    "collapsed": false,
    "ExecuteTime": {
     "end_time": "2023-11-18T16:21:58.969660100Z",
     "start_time": "2023-11-18T16:21:58.878010900Z"
    }
   },
   "id": "ea77223e631ce7da"
  },
  {
   "cell_type": "code",
   "execution_count": 17,
   "outputs": [
    {
     "data": {
      "text/plain": "False"
     },
     "execution_count": 17,
     "metadata": {},
     "output_type": "execute_result"
    }
   ],
   "source": [
    "issubclass(Phone, SmartPhone)"
   ],
   "metadata": {
    "collapsed": false,
    "ExecuteTime": {
     "end_time": "2023-11-18T16:22:00.275574800Z",
     "start_time": "2023-11-18T16:22:00.249698900Z"
    }
   },
   "id": "ae4fc22c3417e6bc"
  },
  {
   "cell_type": "code",
   "execution_count": null,
   "outputs": [],
   "source": [],
   "metadata": {
    "collapsed": false
   },
   "id": "841e71cc9f0d5a09"
  }
 ],
 "metadata": {
  "kernelspec": {
   "display_name": "Python 3",
   "language": "python",
   "name": "python3"
  },
  "language_info": {
   "codemirror_mode": {
    "name": "ipython",
    "version": 2
   },
   "file_extension": ".py",
   "mimetype": "text/x-python",
   "name": "python",
   "nbconvert_exporter": "python",
   "pygments_lexer": "ipython2",
   "version": "2.7.6"
  }
 },
 "nbformat": 4,
 "nbformat_minor": 5
}
