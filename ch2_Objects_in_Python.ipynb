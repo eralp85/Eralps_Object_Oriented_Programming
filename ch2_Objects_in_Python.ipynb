{
 "cells": [
  {
   "cell_type": "markdown",
   "source": [
    "# OBJECTS in PYTHON"
   ],
   "metadata": {
    "collapsed": false
   },
   "id": "cad0b3f5d7c5a001"
  },
  {
   "cell_type": "markdown",
   "source": [
    "# INTRODUCING TYPE HINTS\n",
    "\n",
    "Objects are Python’s abstraction for data. All data in a Python program is represented by objects or by relations between objects.\n",
    "\n",
    "Every object has an identity, a type and a value.\n",
    "\n",
    "The central idea here is that **everything in Python is an object**.\n",
    "\n",
    "Objects are instances of types (classes).In other words, every object is defined by being an instance of at least one class.\n",
    "\n",
    "So in fact, \"instance\" and \"object\" are two words for the same thing.\n",
    "\n",
    "Lists are objects. 42 is an object. Modules are objects. Functions are objects. Python bytecode is also kept in an object.\n",
    "\n",
    "When we write literal values like \"Hello, world!\" or 42, we're actually creating instances of built-in classes.\n",
    "\n",
    "We use the built-in type() function on the class that defines the properties of these objects:"
   ],
   "metadata": {
    "collapsed": false
   },
   "id": "3554729744fdd8b0"
  },
  {
   "cell_type": "code",
   "execution_count": 118,
   "outputs": [
    {
     "data": {
      "text/plain": "str"
     },
     "execution_count": 118,
     "metadata": {},
     "output_type": "execute_result"
    }
   ],
   "source": [
    "type(\"Hello, world!\")\n"
   ],
   "metadata": {
    "collapsed": false,
    "ExecuteTime": {
     "end_time": "2023-12-02T13:48:19.794346900Z",
     "start_time": "2023-12-02T13:48:19.354199800Z"
    }
   },
   "id": "4b70673623084906"
  },
  {
   "cell_type": "markdown",
   "source": [
    "A variable is a referance to an object. Think of a yellow sticky note with a name on it stuck to an object.\n",
    "\n",
    "The type information is defined by the class associated with the object.\n",
    "\n",
    "The type information is not attached to the variable in any way. \n"
   ],
   "metadata": {
    "collapsed": false
   },
   "id": "d9307afad93e02a0"
  },
  {
   "cell_type": "code",
   "execution_count": 119,
   "outputs": [
    {
     "data": {
      "text/plain": "str"
     },
     "execution_count": 119,
     "metadata": {},
     "output_type": "execute_result"
    }
   ],
   "source": [
    "a_string_variable = \"Strng\"\n",
    "type(a_string_variable)"
   ],
   "metadata": {
    "collapsed": false,
    "ExecuteTime": {
     "end_time": "2023-12-02T13:48:19.794346900Z",
     "start_time": "2023-12-02T13:48:19.369827700Z"
    }
   },
   "id": "269d6fa9e9bc5b83"
  },
  {
   "cell_type": "code",
   "execution_count": 120,
   "outputs": [
    {
     "data": {
      "text/plain": "2208876031920"
     },
     "execution_count": 120,
     "metadata": {},
     "output_type": "execute_result"
    }
   ],
   "source": [
    "id(a_string_variable)"
   ],
   "metadata": {
    "collapsed": false,
    "ExecuteTime": {
     "end_time": "2023-12-02T13:48:19.810010600Z",
     "start_time": "2023-12-02T13:48:19.385889800Z"
    }
   },
   "id": "cebfc356a48a7ffc"
  },
  {
   "cell_type": "code",
   "execution_count": 121,
   "outputs": [
    {
     "data": {
      "text/plain": "6310403533234799345"
     },
     "execution_count": 121,
     "metadata": {},
     "output_type": "execute_result"
    }
   ],
   "source": [
    "hash(a_string_variable)"
   ],
   "metadata": {
    "collapsed": false,
    "ExecuteTime": {
     "end_time": "2023-12-02T13:48:19.810010600Z",
     "start_time": "2023-12-02T13:48:19.401564Z"
    }
   },
   "id": "62144d67b59bc248"
  },
  {
   "cell_type": "code",
   "execution_count": 122,
   "outputs": [
    {
     "data": {
      "text/plain": "int"
     },
     "execution_count": 122,
     "metadata": {},
     "output_type": "execute_result"
    }
   ],
   "source": [
    "a_string_variable = 42\n",
    "type(a_string_variable)"
   ],
   "metadata": {
    "collapsed": false,
    "ExecuteTime": {
     "end_time": "2023-12-02T13:48:19.810010600Z",
     "start_time": "2023-12-02T13:48:19.417180600Z"
    }
   },
   "id": "bfa695ff53e095de"
  },
  {
   "cell_type": "code",
   "execution_count": 123,
   "outputs": [
    {
     "data": {
      "text/plain": "2208796968464"
     },
     "execution_count": 123,
     "metadata": {},
     "output_type": "execute_result"
    }
   ],
   "source": [
    "id(a_string_variable)"
   ],
   "metadata": {
    "collapsed": false,
    "ExecuteTime": {
     "end_time": "2023-12-02T13:48:19.825618800Z",
     "start_time": "2023-12-02T13:48:19.432797100Z"
    }
   },
   "id": "e3a65f16d612fc61"
  },
  {
   "cell_type": "code",
   "execution_count": 124,
   "outputs": [
    {
     "data": {
      "text/plain": "42"
     },
     "execution_count": 124,
     "metadata": {},
     "output_type": "execute_result"
    }
   ],
   "source": [
    "hash(a_string_variable)"
   ],
   "metadata": {
    "collapsed": false,
    "ExecuteTime": {
     "end_time": "2023-12-02T13:48:19.825618800Z",
     "start_time": "2023-12-02T13:48:19.448403Z"
    }
   },
   "id": "27007b7b868c87df"
  },
  {
   "cell_type": "markdown",
   "source": [
    "We created an object using a built-in class, str. We assigned a long name, a_string_variable, to the object. \n",
    "\n",
    "Then, we created an object using a different built-in class, int. We assigned this object the same name. \n",
    "\n",
    "(The previous string object has no more references and ceases to exist.)\n",
    "\n",
    "The various properties (type, id, hash) are part of the object, not the variable.\n",
    "\n",
    "**The variable is just a name that refers to an object**."
   ],
   "metadata": {
    "collapsed": false
   },
   "id": "8550ed0edec33839"
  },
  {
   "cell_type": "markdown",
   "source": [],
   "metadata": {
    "collapsed": false
   },
   "id": "22cada572fc3c8a3"
  },
  {
   "cell_type": "markdown",
   "source": [
    "## TYPE CHECKING\n",
    "\n",
    "Python doesn't prevent us from attempting to use non-existent methods of objects.\n",
    "\n",
    "This flexibility reflects an explicit trade-off favoring ease of use over sophisticated prevention of potential problems. This allows a person to use a variable name with little mental overhead.\n",
    "\n",
    "We can provide annotations, called type hints, and use tools to examine our code for consistency among the type hints.\n",
    "\n",
    "First, we'll look at the annotations. In a few contexts, we can follow a variable name with a colon, :, and a type name. We can do this in the parameters to functions (and methods). \n",
    "\n",
    "We can also do this in assignment statements. Further, we can also add -> syntax to a function (or a class method) definition to explain the expected return type."
   ],
   "metadata": {
    "collapsed": false
   },
   "id": "486bc5ae3dbbeb5b"
  },
  {
   "cell_type": "code",
   "execution_count": 125,
   "outputs": [],
   "source": [
    "def odd(n: int) -> bool:\n",
    "    return n % 2 != 0"
   ],
   "metadata": {
    "collapsed": false,
    "ExecuteTime": {
     "end_time": "2023-12-02T13:48:19.888958400Z",
     "start_time": "2023-12-02T13:48:19.464023500Z"
    }
   },
   "id": "756686d47edc95a6"
  },
  {
   "cell_type": "markdown",
   "source": [
    "In this example, we have specified that argument values for the n parameter should be integers.\n",
    "\n",
    "We have also specified that the return value should be a boolean.\n",
    "\n",
    "_While the hints consume some storage, they have no runtime impact. Python politely ignores these hints; this means they're optional._\n",
    "\n"
   ],
   "metadata": {
    "collapsed": false
   },
   "id": "fbd83dadf4e984b7"
  },
  {
   "cell_type": "markdown",
   "source": [
    "## CREATING PYTHON CLASSES\n",
    "\n",
    "In the olden days, there was a difference between user-defined classes and built in types. But since Pytohn 2.2, there is no real difference. \n",
    "\n",
    "**Essentially, a class is a mechanism Python gives us to create new user-defined types from Python code**.\n",
    "\n",
    "Using the class mechanism, we've created Eralp - a user-defined type. \n",
    "\n",
    "m is an instance of the class Eralp. In other words, it's an object and its type is Eralp."
   ],
   "metadata": {
    "collapsed": false
   },
   "id": "b9c3ba8896d9ff97"
  },
  {
   "cell_type": "code",
   "execution_count": 126,
   "outputs": [],
   "source": [
    "class Eralp:\n",
    "    pass\n",
    "\n",
    "m = Eralp()"
   ],
   "metadata": {
    "collapsed": false,
    "ExecuteTime": {
     "end_time": "2023-12-02T13:48:19.920222400Z",
     "start_time": "2023-12-02T13:48:19.485160400Z"
    }
   },
   "id": "8508685ac6de7df5"
  },
  {
   "cell_type": "code",
   "execution_count": 127,
   "outputs": [
    {
     "data": {
      "text/plain": "__main__.Eralp"
     },
     "execution_count": 127,
     "metadata": {},
     "output_type": "execute_result"
    }
   ],
   "source": [
    "type(m)"
   ],
   "metadata": {
    "collapsed": false,
    "ExecuteTime": {
     "end_time": "2023-12-02T13:48:19.920222400Z",
     "start_time": "2023-12-02T13:48:19.495671200Z"
    }
   },
   "id": "2660e81446c20ab8"
  },
  {
   "cell_type": "markdown",
   "source": [
    "The class definition starts with the class keyword, followed by the name of the class and ends with a colon.\n",
    "\n",
    "Class names shall be written in CamelCase.\n",
    "\n",
    "Creating an instance of a class is a matter of typing the class name, followed by a pair of parentheses. \n",
    "\n",
    "It looks much like a function call; calling a class will create a new object."
   ],
   "metadata": {
    "collapsed": false
   },
   "id": "33c1b068d31cbaeb"
  },
  {
   "cell_type": "code",
   "execution_count": 128,
   "outputs": [],
   "source": [
    "class MyFirstClass:\n",
    "    pass"
   ],
   "metadata": {
    "collapsed": false,
    "ExecuteTime": {
     "end_time": "2023-12-02T13:48:19.920222400Z",
     "start_time": "2023-12-02T13:48:19.511369700Z"
    }
   },
   "id": "c7cc5bc46265c149"
  },
  {
   "cell_type": "code",
   "execution_count": 129,
   "outputs": [],
   "source": [
    "a = MyFirstClass()\n",
    "b = MyFirstClass()"
   ],
   "metadata": {
    "collapsed": false,
    "ExecuteTime": {
     "end_time": "2023-12-02T13:48:19.951487500Z",
     "start_time": "2023-12-02T13:48:19.526943800Z"
    }
   },
   "id": "740b976460cc672f"
  },
  {
   "cell_type": "code",
   "execution_count": 130,
   "outputs": [
    {
     "name": "stdout",
     "output_type": "stream",
     "text": [
      "<__main__.MyFirstClass object at 0x0000020249AD1030>\n"
     ]
    }
   ],
   "source": [
    "print(a)"
   ],
   "metadata": {
    "collapsed": false,
    "ExecuteTime": {
     "end_time": "2023-12-02T13:48:20.071564200Z",
     "start_time": "2023-12-02T13:48:19.542585400Z"
    }
   },
   "id": "8cc8a1c19e4b1cb5"
  },
  {
   "cell_type": "code",
   "execution_count": 131,
   "outputs": [
    {
     "name": "stdout",
     "output_type": "stream",
     "text": [
      "<__main__.MyFirstClass object at 0x0000020249AD28F0>\n"
     ]
    }
   ],
   "source": [
    "print(b)"
   ],
   "metadata": {
    "collapsed": false,
    "ExecuteTime": {
     "end_time": "2023-12-02T13:48:20.071564200Z",
     "start_time": "2023-12-02T13:48:19.558207200Z"
    }
   },
   "id": "3762793efff2ce0d"
  },
  {
   "cell_type": "markdown",
   "source": [
    "## ADDING ATTRIBUTES TO A CLASS\n",
    "\n",
    "We can set arbitrary attributes on an instantiated object using dot notation."
   ],
   "metadata": {
    "collapsed": false
   },
   "id": "b19f3768c7722f6e"
  },
  {
   "cell_type": "code",
   "execution_count": 132,
   "outputs": [],
   "source": [
    "class Point:\n",
    "    pass\n",
    "\n"
   ],
   "metadata": {
    "collapsed": false,
    "ExecuteTime": {
     "end_time": "2023-12-02T13:48:20.071564200Z",
     "start_time": "2023-12-02T13:48:19.573809200Z"
    }
   },
   "id": "8d70a68eee2e48b4"
  },
  {
   "cell_type": "code",
   "execution_count": 133,
   "outputs": [],
   "source": [
    "p1 = Point()\n",
    "p2 = Point()"
   ],
   "metadata": {
    "collapsed": false,
    "ExecuteTime": {
     "end_time": "2023-12-02T13:48:20.071564200Z",
     "start_time": "2023-12-02T13:48:19.589832500Z"
    }
   },
   "id": "a85175fd2f9046e6"
  },
  {
   "cell_type": "code",
   "execution_count": 134,
   "outputs": [],
   "source": [
    "p1.x = 5\n",
    "p1.y = 4\n"
   ],
   "metadata": {
    "collapsed": false,
    "ExecuteTime": {
     "end_time": "2023-12-02T13:48:20.071564200Z",
     "start_time": "2023-12-02T13:48:19.605472200Z"
    }
   },
   "id": "7fa6dedaae3c0cd9"
  },
  {
   "cell_type": "code",
   "execution_count": 135,
   "outputs": [],
   "source": [
    "p2.x = 3\n",
    "p2.y = 6"
   ],
   "metadata": {
    "collapsed": false,
    "ExecuteTime": {
     "end_time": "2023-12-02T13:48:20.071564200Z",
     "start_time": "2023-12-02T13:48:19.621118200Z"
    }
   },
   "id": "43e4bbfb9d929b5e"
  },
  {
   "cell_type": "code",
   "execution_count": 136,
   "outputs": [
    {
     "name": "stdout",
     "output_type": "stream",
     "text": [
      "5 4\n"
     ]
    }
   ],
   "source": [
    "print(p1.x, p1.y)"
   ],
   "metadata": {
    "collapsed": false,
    "ExecuteTime": {
     "end_time": "2023-12-02T13:48:20.071564200Z",
     "start_time": "2023-12-02T13:48:19.636742300Z"
    }
   },
   "id": "4e228deff063fdf0"
  },
  {
   "cell_type": "code",
   "execution_count": 137,
   "outputs": [
    {
     "name": "stdout",
     "output_type": "stream",
     "text": [
      "3 6\n"
     ]
    }
   ],
   "source": [
    "print(p2.x, p2.y)"
   ],
   "metadata": {
    "collapsed": false,
    "ExecuteTime": {
     "end_time": "2023-12-02T13:48:20.071564200Z",
     "start_time": "2023-12-02T13:48:19.652705600Z"
    }
   },
   "id": "a440ac8fee3e14d7"
  },
  {
   "cell_type": "markdown",
   "source": [
    "Above code creates an empty Point class with no data or behaviors. Then, it creates two instances of that class and assigns each of those instances x and y coordinates to identify a point in two dimensions. \n",
    "\n",
    "All we need to do to assign a value to an attribute on an object is use the \"< object >\".\"< attribute >\" = \"< value >\" syntax. \n",
    "\n",
    "This is sometimes referred to as dot notation."
   ],
   "metadata": {
    "collapsed": false
   },
   "id": "bc8192da81bf6bac"
  },
  {
   "cell_type": "markdown",
   "source": [
    "## Making it Do Something\n",
    "\n",
    "Having objects with attributes is nice, but it's not very useful unless we can add some behaviors to those objects.\n",
    "\n",
    "Object Oriented Programming (OOP) is really about the interactions between objects.\n",
    "\n",
    "We have the data (attributes). Now we need to add some behaviors (methods).\n",
    "\n",
    "Let's add a \"reset\" method to our Point class that will reset the coordinates to 0, 0."
   ],
   "metadata": {
    "collapsed": false
   },
   "id": "43a31a716fabe2ff"
  },
  {
   "cell_type": "code",
   "execution_count": 138,
   "outputs": [],
   "source": [
    "class Point:\n",
    "    def reset(self):\n",
    "        self.x = 0\n",
    "        self.y = 0"
   ],
   "metadata": {
    "collapsed": false,
    "ExecuteTime": {
     "end_time": "2023-12-02T13:48:20.071564200Z",
     "start_time": "2023-12-02T13:48:19.668356400Z"
    }
   },
   "id": "60ba58bd18fd30c2"
  },
  {
   "cell_type": "code",
   "execution_count": 139,
   "outputs": [],
   "source": [
    "p = Point()"
   ],
   "metadata": {
    "collapsed": false,
    "ExecuteTime": {
     "end_time": "2023-12-02T13:48:20.071564200Z",
     "start_time": "2023-12-02T13:48:19.685522100Z"
    }
   },
   "id": "8efd967410623aef"
  },
  {
   "cell_type": "code",
   "execution_count": 140,
   "outputs": [],
   "source": [
    "p.reset()"
   ],
   "metadata": {
    "collapsed": false,
    "ExecuteTime": {
     "end_time": "2023-12-02T13:48:20.071564200Z",
     "start_time": "2023-12-02T13:48:19.700030300Z"
    }
   },
   "id": "a0ffc3b3c0b1e932"
  },
  {
   "cell_type": "code",
   "execution_count": 141,
   "outputs": [
    {
     "name": "stdout",
     "output_type": "stream",
     "text": [
      "0 0\n"
     ]
    }
   ],
   "source": [
    "print(p.x, p.y)"
   ],
   "metadata": {
    "collapsed": false,
    "ExecuteTime": {
     "end_time": "2023-12-02T13:48:20.071564200Z",
     "start_time": "2023-12-02T13:48:19.715695400Z"
    }
   },
   "id": "d58538f81db81a6a"
  },
  {
   "cell_type": "markdown",
   "source": [
    "In Python, a method is formatted identically to a function. \n",
    "\n",
    "It starts with the def keyword, followed by the method name and a pair of parentheses containing any arguments (parameters).\n",
    "\n",
    "The difference between a function and a method is that methods have one required argument.\n",
    "\n",
    "**This argument is conventionally called self**.\n"
   ],
   "metadata": {
    "collapsed": false
   },
   "id": "45bffaad0c4a010d"
  },
  {
   "cell_type": "markdown",
   "source": [
    "The self argument to a method is a reference to the object that the method is being invoked on.\n",
    "\n",
    "The object is an instance of a class and this is sometimes called the instance variable.\n",
    "\n",
    "We can access attributes and methods of that object via this variable.\n",
    "\n",
    "_We can think of the method as a function attached to a class._\n",
    "\n",
    "_The **self** parameter refers to a specific instance of the class_\n",
    "\n",
    "_When you call the method on two different objects, you are calling the same method twice but passing two different objects as the self parameter_ "
   ],
   "metadata": {
    "collapsed": false
   },
   "id": "5f5821f62ec61cca"
  },
  {
   "cell_type": "markdown",
   "source": [
    "This is exactly what we do inside the reset method, when we set the x and y attributes on self object.\n",
    "\n",
    "Notice that when we call p.reset(), we do not explicitly pass the self argument into it.\n",
    "\n",
    "Python automatically figures out what self should be based on the object that we call the method on.\n",
    "\n",
    "In this case, it knows we are calling on the p object, so it automatically passes that object, p, to the method of the class, Point.\n"
   ],
   "metadata": {
    "collapsed": false
   },
   "id": "d198b1c93edaff67"
  },
  {
   "cell_type": "markdown",
   "source": [
    "In order to pass more arguments to a method, we just add them to the method definition.\n",
    "\n",
    "Let's add new method that allows us to move a point to an arbitrary location not just the origin.\n",
    "\n",
    "We can also inclue a method that accepts another Point object as input and returns the distance between the two points."
   ],
   "metadata": {
    "collapsed": false
   },
   "id": "e55a0b9e25545e39"
  },
  {
   "cell_type": "code",
   "execution_count": 142,
   "outputs": [],
   "source": [
    "import math\n",
    "\n",
    "class Point:\n",
    "    # move() methods accepts two arguments, x and y, and sets the values on the self object.\n",
    "    def move(self, x: float, y: float) -> None:\n",
    "        self.x = x\n",
    "        self.y = y\n",
    "    \n",
    "    # reset() methods calls the move() method, and gives specific location.\n",
    "    def reset(self) -> None:\n",
    "        self.move(0, 0)\n",
    "    \n",
    "    # Calculate the distance from this point to a second point passed as a parameter. Use Euclidean distance.\n",
    "    def calculate_distance(self, other : \"Point\") -> float:\n",
    "        return (math.hypot(self.x - other.x, self.y - other.y))"
   ],
   "metadata": {
    "collapsed": false,
    "ExecuteTime": {
     "end_time": "2023-12-02T13:48:20.071564200Z",
     "start_time": "2023-12-02T13:48:19.731296Z"
    }
   },
   "id": "2441adbb7e4aac12"
  },
  {
   "cell_type": "code",
   "execution_count": 153,
   "outputs": [],
   "source": [
    "point1 = Point()\n",
    "point2 = Point()"
   ],
   "metadata": {
    "collapsed": false,
    "ExecuteTime": {
     "end_time": "2023-12-02T13:54:09.453478200Z",
     "start_time": "2023-12-02T13:54:09.343656100Z"
    }
   },
   "id": "56bf3b0f95f78574"
  },
  {
   "cell_type": "code",
   "execution_count": 154,
   "outputs": [],
   "source": [
    "point1.reset()"
   ],
   "metadata": {
    "collapsed": false,
    "ExecuteTime": {
     "end_time": "2023-12-02T13:54:09.453478200Z",
     "start_time": "2023-12-02T13:54:09.359293Z"
    }
   },
   "id": "11daaf178c22571b"
  },
  {
   "cell_type": "code",
   "execution_count": 155,
   "outputs": [
    {
     "name": "stdout",
     "output_type": "stream",
     "text": [
      "0 0\n"
     ]
    }
   ],
   "source": [
    "print(point1.x, point1.y)"
   ],
   "metadata": {
    "collapsed": false,
    "ExecuteTime": {
     "end_time": "2023-12-02T13:54:09.469117Z",
     "start_time": "2023-12-02T13:54:09.374915Z"
    }
   },
   "id": "62bf1279a39fc8bc"
  },
  {
   "cell_type": "code",
   "execution_count": 156,
   "outputs": [],
   "source": [
    "point2.move(5,0)"
   ],
   "metadata": {
    "collapsed": false,
    "ExecuteTime": {
     "end_time": "2023-12-02T13:54:09.469117Z",
     "start_time": "2023-12-02T13:54:09.390539300Z"
    }
   },
   "id": "89099e8f8292643b"
  },
  {
   "cell_type": "code",
   "execution_count": 157,
   "outputs": [
    {
     "name": "stdout",
     "output_type": "stream",
     "text": [
      "5.0\n"
     ]
    }
   ],
   "source": [
    "print(point2.calculate_distance(point1))"
   ],
   "metadata": {
    "collapsed": false,
    "ExecuteTime": {
     "end_time": "2023-12-02T13:54:09.469117Z",
     "start_time": "2023-12-02T13:54:09.406184500Z"
    }
   },
   "id": "5f03640b70f0d22d"
  },
  {
   "cell_type": "markdown",
   "source": [
    "## INITIALIZING THE OBJECT\n",
    "\n",
    "If we don't explicitly set the x and y positions on our Point object, either using move or by accessing them directly, we'll have a broken Point object with no real position.\n",
    "\n",
    "It will throw \"Point' object has no attribute 'x' 'y'\" error.\n",
    "\n",
    "Most object-oriented programming languages have the concept of a constructor, a special method that creates and initializes the object when it is created. \n",
    "\n",
    "Python is a little different; it has a constructor and an initializer. \n",
    "\n",
    "The constructor method, __ new__(), is rarely used unless you're doing something very exotic.\n"
   ],
   "metadata": {
    "collapsed": false
   },
   "id": "79561f78665fdb6b"
  },
  {
   "cell_type": "markdown",
   "source": [
    " \n",
    "So, we'll start our discussion with the much more common initialization method, __ init__().\n",
    "\n",
    "Python initializes objects by calling the __ init__() method on the class.\n",
    "\n",
    "The leading and trailing double underscores indicate that this is a special method.\n",
    "\n",
    "Let's create a new Point class that initializes the x and y coordinates when the object is created."
   ],
   "metadata": {
    "collapsed": false
   },
   "id": "e539effeb069d283"
  },
  {
   "cell_type": "code",
   "execution_count": 158,
   "outputs": [],
   "source": [
    "class Point:\n",
    "    def __init__(self, x: float, y: float) -> None:\n",
    "        self.move(x, y)\n",
    "    \n",
    "    def move(self, x: float, y: float) -> None:\n",
    "        self.x = x\n",
    "        self.y = y\n",
    "    \n",
    "    def reset(self) -> None:\n",
    "        self.move(0, 0)\n",
    "    \n",
    "    def calculate_distance(self, other : \"Point\") -> float:\n",
    "        return (math.hypot(self.x - other.x, self.y - other.y))"
   ],
   "metadata": {
    "collapsed": false,
    "ExecuteTime": {
     "end_time": "2023-12-02T14:20:41.553103600Z",
     "start_time": "2023-12-02T14:20:41.537386600Z"
    }
   },
   "id": "8cdc0668d2c8869f"
  },
  {
   "cell_type": "code",
   "execution_count": 159,
   "outputs": [
    {
     "name": "stdout",
     "output_type": "stream",
     "text": [
      "2 8\n"
     ]
    }
   ],
   "source": [
    "point = Point(2, 8)\n",
    "print(point.x, point.y)"
   ],
   "metadata": {
    "collapsed": false,
    "ExecuteTime": {
     "end_time": "2023-12-02T14:20:53.850993800Z",
     "start_time": "2023-12-02T14:20:53.804084700Z"
    }
   },
   "id": "afe4523a494e5678"
  },
  {
   "cell_type": "code",
   "execution_count": 160,
   "outputs": [
    {
     "ename": "TypeError",
     "evalue": "Point.__init__() missing 1 required positional argument: 'y'",
     "output_type": "error",
     "traceback": [
      "\u001B[1;31m---------------------------------------------------------------------------\u001B[0m",
      "\u001B[1;31mTypeError\u001B[0m                                 Traceback (most recent call last)",
      "\u001B[1;32m~\\AppData\\Local\\Temp\\ipykernel_11964\\2161262007.py\u001B[0m in \u001B[0;36m<module>\u001B[1;34m\u001B[0m\n\u001B[1;32m----> 1\u001B[1;33m \u001B[0mpoint99\u001B[0m\u001B[1;33m=\u001B[0m \u001B[0mPoint\u001B[0m\u001B[1;33m(\u001B[0m\u001B[1;36m99\u001B[0m\u001B[1;33m)\u001B[0m\u001B[1;33m\u001B[0m\u001B[1;33m\u001B[0m\u001B[0m\n\u001B[0m",
      "\u001B[1;31mTypeError\u001B[0m: Point.__init__() missing 1 required positional argument: 'y'"
     ]
    }
   ],
   "source": [
    "point99= Point(99)"
   ],
   "metadata": {
    "collapsed": false,
    "ExecuteTime": {
     "end_time": "2023-12-02T14:21:24.543978100Z",
     "start_time": "2023-12-02T14:21:24.465809500Z"
    }
   },
   "id": "36cb09c6c4fbc4df"
  },
  {
   "cell_type": "markdown",
   "source": [
    "Most of the time, we put our initialization statments in an __ init__() method.\n",
    "\n",
    "It is very important to be sure that all of the attributes are initialized in the __ init__() method.\n",
    "\n",
    "Doing this helps people reading your code, alos; it saves people from having to read the whole application to find mysterious attributes set outside the class definition."
   ],
   "metadata": {
    "collapsed": false
   },
   "id": "275e8b3ce9c8c74"
  },
  {
   "cell_type": "markdown",
   "source": [
    "## Type Hints and Defaults\n",
    "\n",
    "Hints are optional, but they can be very useful.\n",
    "\n",
    "If we do not want to make the two arguments required, we can use the same syntax Python functions use to provide default arguments.\n",
    "\n",
    "The keyword argument syntax appends an equal sign after each variable name.\n",
    "\n",
    "If the calling object does not provide this argument, then the default argument is used instead.\n",
    "\n",
    "The variables will still be available to the function, but they will have the values specified in the argument list."
   ],
   "metadata": {
    "collapsed": false
   },
   "id": "d39d1066706149c5"
  },
  {
   "cell_type": "code",
   "execution_count": 162,
   "outputs": [],
   "source": [
    "class Point:\n",
    "    \n",
    "    \"\"\" Providing default values for the x and y coordinates. x will default to 0 and y will default to 0. \"\"\"\n",
    "    \n",
    "    def __init__(self, x: float = 0, y: float = 0) -> None:\n",
    "        self.move(x, y)\n"
   ],
   "metadata": {
    "collapsed": false,
    "ExecuteTime": {
     "end_time": "2023-12-02T14:34:26.802662200Z",
     "start_time": "2023-12-02T14:34:26.755770900Z"
    }
   },
   "id": "f7f92b3192ff6ceb"
  },
  {
   "cell_type": "code",
   "execution_count": 163,
   "outputs": [
    {
     "name": "stdout",
     "output_type": "stream",
     "text": [
      "Help on class Point in module __main__:\n",
      "\n",
      "class Point(builtins.object)\n",
      " |  Point(x: float = 0, y: float = 0) -> None\n",
      " |  \n",
      " |  Providing default values for the x and y coordinates. x will default to 0 and y will default to 0.\n",
      " |  \n",
      " |  Methods defined here:\n",
      " |  \n",
      " |  __init__(self, x: float = 0, y: float = 0) -> None\n",
      " |      Initialize self.  See help(type(self)) for accurate signature.\n",
      " |  \n",
      " |  ----------------------------------------------------------------------\n",
      " |  Data descriptors defined here:\n",
      " |  \n",
      " |  __dict__\n",
      " |      dictionary for instance variables (if defined)\n",
      " |  \n",
      " |  __weakref__\n",
      " |      list of weak references to the object (if defined)\n"
     ]
    }
   ],
   "source": [
    "help(Point)"
   ],
   "metadata": {
    "collapsed": false,
    "ExecuteTime": {
     "end_time": "2023-12-02T14:34:31.028579800Z",
     "start_time": "2023-12-02T14:34:30.762687500Z"
    }
   },
   "id": "d276b93954996191"
  },
  {
   "cell_type": "markdown",
   "source": [
    "# MODULES AND PACKAGES\n",
    "\n",
    "Modules are Python files, nothing more.\n",
    "\n",
    "The single file in our small program is a module.\n",
    "Two Python files are two modules.\n",
    "\n",
    "If we have two files in the same directory, we can load a class from one module for use in the other module.\n",
    "\n",
    "The **import** statement is used to load a module, specific class or function from module into a Python program."
   ],
   "metadata": {
    "collapsed": false
   },
   "id": "a7fcc7cd2d8989d0"
  },
  {
   "cell_type": "markdown",
   "source": [
    "If we are building an e-commerce system, we will likely be storing a lot of data in a database.\n",
    "\n",
    "We can put all the classes and functions related to database access into a seperate file. (database.py)\n",
    "\n",
    "Then, our other modules (products) can import classes from the database module in order to access the database.\n",
    "\n"
   ],
   "metadata": {
    "collapsed": false
   },
   "id": "9b4b6aeca7b44dc"
  },
  {
   "cell_type": "markdown",
   "source": [
    "Let's start with a module called database. It's a file, database.py, containing a class called Database. \n",
    "\n",
    "A second module called products is responsible for product-related queries. \n",
    "\n",
    "The classes in the products module need to instantiate the Database class from the database module so that they can execute queries on the product table in the database."
   ],
   "metadata": {
    "collapsed": false
   },
   "id": "ec47454aff4513c1"
  },
  {
   "cell_type": "markdown",
   "source": [
    "There are several variations of import statement syntax that can be used to access the **DATABASE** class"
   ],
   "metadata": {
    "collapsed": false
   },
   "id": "b144ec23cb5418f0"
  },
  {
   "cell_type": "code",
   "execution_count": 203,
   "outputs": [
    {
     "ename": "AttributeError",
     "evalue": "module 'database' has no attribute 'sevval'",
     "output_type": "error",
     "traceback": [
      "\u001B[1;31m---------------------------------------------------------------------------\u001B[0m",
      "\u001B[1;31mAttributeError\u001B[0m                            Traceback (most recent call last)",
      "\u001B[1;32m~\\AppData\\Local\\Temp\\ipykernel_11964\\1216353780.py\u001B[0m in \u001B[0;36m<module>\u001B[1;34m\u001B[0m\n\u001B[0;32m      2\u001B[0m \u001B[1;33m\u001B[0m\u001B[0m\n\u001B[0;32m      3\u001B[0m \u001B[1;32mimport\u001B[0m \u001B[0mdatabase\u001B[0m\u001B[1;33m\u001B[0m\u001B[1;33m\u001B[0m\u001B[0m\n\u001B[1;32m----> 4\u001B[1;33m \u001B[0mdb\u001B[0m \u001B[1;33m=\u001B[0m \u001B[0mdatabase\u001B[0m\u001B[1;33m.\u001B[0m\u001B[0msevval\u001B[0m\u001B[1;33m(\u001B[0m\u001B[1;33m)\u001B[0m\u001B[1;33m\u001B[0m\u001B[1;33m\u001B[0m\u001B[0m\n\u001B[0m",
      "\u001B[1;31mAttributeError\u001B[0m: module 'database' has no attribute 'sevval'"
     ]
    }
   ],
   "source": [
    "# Variation 1\n",
    "\n",
    "import database\n",
    "db = database.sevval()"
   ],
   "metadata": {
    "collapsed": false,
    "ExecuteTime": {
     "end_time": "2023-12-02T15:36:45.517986400Z",
     "start_time": "2023-12-02T15:36:45.471109400Z"
    }
   },
   "id": "ae41e48009e84f34"
  },
  {
   "cell_type": "markdown",
   "source": [
    "This version inports the database module, creating a database namespace in the current module.\n",
    "\n",
    "Any class or function in the database module can be accessed using the \"database.< something>\" notation. "
   ],
   "metadata": {
    "collapsed": false
   },
   "id": "863f3603ddd15636"
  },
  {
   "cell_type": "code",
   "execution_count": 205,
   "outputs": [
    {
     "ename": "ImportError",
     "evalue": "cannot import name 'DataBase' from 'database' (C:\\Users\\ERALP\\OneDrive\\Desktop\\Software Engineering\\Kaggle\\Fundamental Python\\Object Oriented Programming\\database.py)",
     "output_type": "error",
     "traceback": [
      "\u001B[1;31m---------------------------------------------------------------------------\u001B[0m",
      "\u001B[1;31mImportError\u001B[0m                               Traceback (most recent call last)",
      "\u001B[1;32m~\\AppData\\Local\\Temp\\ipykernel_11964\\4277700970.py\u001B[0m in \u001B[0;36m<module>\u001B[1;34m\u001B[0m\n\u001B[0;32m      1\u001B[0m \u001B[1;31m# Variation 2\u001B[0m\u001B[1;33m\u001B[0m\u001B[1;33m\u001B[0m\u001B[0m\n\u001B[0;32m      2\u001B[0m \u001B[1;33m\u001B[0m\u001B[0m\n\u001B[1;32m----> 3\u001B[1;33m \u001B[1;32mfrom\u001B[0m \u001B[0mdatabase\u001B[0m \u001B[1;32mimport\u001B[0m \u001B[0mDataBase\u001B[0m\u001B[1;33m\u001B[0m\u001B[1;33m\u001B[0m\u001B[0m\n\u001B[0m\u001B[0;32m      4\u001B[0m \u001B[0mdb\u001B[0m \u001B[1;33m=\u001B[0m \u001B[0mDataBase\u001B[0m\u001B[1;33m(\u001B[0m\u001B[1;36m2\u001B[0m\u001B[1;33m,\u001B[0m\u001B[1;36m3\u001B[0m\u001B[1;33m,\u001B[0m\u001B[1;34m\"serdar\"\u001B[0m\u001B[1;33m)\u001B[0m\u001B[1;33m\u001B[0m\u001B[1;33m\u001B[0m\u001B[0m\n",
      "\u001B[1;31mImportError\u001B[0m: cannot import name 'DataBase' from 'database' (C:\\Users\\ERALP\\OneDrive\\Desktop\\Software Engineering\\Kaggle\\Fundamental Python\\Object Oriented Programming\\database.py)"
     ]
    }
   ],
   "source": [
    "# Variation 2\n",
    "\n",
    "from database import DataBase\n",
    "db = DataBase()"
   ],
   "metadata": {
    "collapsed": false,
    "ExecuteTime": {
     "end_time": "2023-12-02T15:39:50.338657100Z",
     "start_time": "2023-12-02T15:39:50.307373500Z"
    }
   },
   "id": "6cef28af5e836dfb"
  },
  {
   "cell_type": "markdown",
   "source": [
    "Alternatively, we can import the specific class we want from the database module.\n",
    "\n",
    "When we have a few items from a few modules, this can be helpful simplification to avoid using longer names.\n",
    "\n",
    "When we import a number of items from a number of different modules, this can be a potential source of confusion when we omit the qualifiers.\n",
    "\n",
    "If, for some reason, products already has a class called Database, and we don't want the two names to be confused, we can rename the class when used inside the products module:"
   ],
   "metadata": {
    "collapsed": false
   },
   "id": "1d40b34029d3cb43"
  },
  {
   "cell_type": "code",
   "execution_count": 206,
   "outputs": [
    {
     "ename": "ImportError",
     "evalue": "cannot import name 'DataBase' from 'database' (C:\\Users\\ERALP\\OneDrive\\Desktop\\Software Engineering\\Kaggle\\Fundamental Python\\Object Oriented Programming\\database.py)",
     "output_type": "error",
     "traceback": [
      "\u001B[1;31m---------------------------------------------------------------------------\u001B[0m",
      "\u001B[1;31mImportError\u001B[0m                               Traceback (most recent call last)",
      "\u001B[1;32m~\\AppData\\Local\\Temp\\ipykernel_11964\\1971568961.py\u001B[0m in \u001B[0;36m<module>\u001B[1;34m\u001B[0m\n\u001B[1;32m----> 1\u001B[1;33m \u001B[1;32mfrom\u001B[0m \u001B[0mdatabase\u001B[0m \u001B[1;32mimport\u001B[0m \u001B[0mDataBase\u001B[0m \u001B[1;32mas\u001B[0m \u001B[0mDB\u001B[0m\u001B[1;33m\u001B[0m\u001B[1;33m\u001B[0m\u001B[0m\n\u001B[0m\u001B[0;32m      2\u001B[0m \u001B[1;33m\u001B[0m\u001B[0m\n\u001B[0;32m      3\u001B[0m \u001B[0mdb\u001B[0m \u001B[1;33m=\u001B[0m \u001B[0mDB\u001B[0m\u001B[1;33m(\u001B[0m\u001B[1;33m)\u001B[0m\u001B[1;33m\u001B[0m\u001B[1;33m\u001B[0m\u001B[0m\n",
      "\u001B[1;31mImportError\u001B[0m: cannot import name 'DataBase' from 'database' (C:\\Users\\ERALP\\OneDrive\\Desktop\\Software Engineering\\Kaggle\\Fundamental Python\\Object Oriented Programming\\database.py)"
     ]
    }
   ],
   "source": [
    "from database import DataBase as DB\n",
    "\n",
    "db = DB()"
   ],
   "metadata": {
    "collapsed": false,
    "ExecuteTime": {
     "end_time": "2023-12-02T15:53:24.040160600Z",
     "start_time": "2023-12-02T15:53:23.930744100Z"
    }
   },
   "id": "ddc69288449ec6c8"
  },
  {
   "cell_type": "markdown",
   "source": [
    "We can also import multiple items in one statement. If our database module also contains a Query class, we can import both classes using the following code:"
   ],
   "metadata": {
    "collapsed": false
   },
   "id": "d3f06d40b5eb8094"
  },
  {
   "cell_type": "code",
   "execution_count": 207,
   "outputs": [
    {
     "ename": "ImportError",
     "evalue": "cannot import name 'DataBase' from 'database' (C:\\Users\\ERALP\\OneDrive\\Desktop\\Software Engineering\\Kaggle\\Fundamental Python\\Object Oriented Programming\\database.py)",
     "output_type": "error",
     "traceback": [
      "\u001B[1;31m---------------------------------------------------------------------------\u001B[0m",
      "\u001B[1;31mImportError\u001B[0m                               Traceback (most recent call last)",
      "\u001B[1;32m~\\AppData\\Local\\Temp\\ipykernel_11964\\2163124078.py\u001B[0m in \u001B[0;36m<module>\u001B[1;34m\u001B[0m\n\u001B[1;32m----> 1\u001B[1;33m \u001B[1;32mfrom\u001B[0m \u001B[0mdatabase\u001B[0m \u001B[1;32mimport\u001B[0m \u001B[0mDataBase\u001B[0m\u001B[1;33m,\u001B[0m \u001B[0mQuery\u001B[0m\u001B[1;33m\u001B[0m\u001B[1;33m\u001B[0m\u001B[0m\n\u001B[0m\u001B[0;32m      2\u001B[0m \u001B[1;33m\u001B[0m\u001B[0m\n\u001B[0;32m      3\u001B[0m \u001B[0mdb\u001B[0m \u001B[1;33m=\u001B[0m \u001B[0mDataBase\u001B[0m\u001B[1;33m(\u001B[0m\u001B[1;33m)\u001B[0m\u001B[1;33m\u001B[0m\u001B[1;33m\u001B[0m\u001B[0m\n\u001B[0;32m      4\u001B[0m \u001B[0mquery\u001B[0m \u001B[1;33m=\u001B[0m \u001B[0mQuery\u001B[0m\u001B[1;33m(\u001B[0m\u001B[1;33m)\u001B[0m\u001B[1;33m\u001B[0m\u001B[1;33m\u001B[0m\u001B[0m\n\u001B[0;32m      5\u001B[0m \u001B[1;33m\u001B[0m\u001B[0m\n",
      "\u001B[1;31mImportError\u001B[0m: cannot import name 'DataBase' from 'database' (C:\\Users\\ERALP\\OneDrive\\Desktop\\Software Engineering\\Kaggle\\Fundamental Python\\Object Oriented Programming\\database.py)"
     ]
    }
   ],
   "source": [
    "from database import DataBase, Query\n",
    "\n",
    "db = DataBase()\n",
    "query = Query()\n",
    "\n"
   ],
   "metadata": {
    "collapsed": false,
    "ExecuteTime": {
     "end_time": "2023-12-02T15:59:26.987870900Z",
     "start_time": "2023-12-02T15:59:26.818441700Z"
    }
   },
   "id": "cf898b866af93ffc"
  },
  {
   "cell_type": "markdown",
   "source": [
    "We can also import all classes and functions from a module using the following syntax:"
   ],
   "metadata": {
    "collapsed": false
   },
   "id": "ff1d17295fe0087b"
  },
  {
   "cell_type": "code",
   "execution_count": 208,
   "outputs": [],
   "source": [
    "from database import *"
   ],
   "metadata": {
    "collapsed": false,
    "ExecuteTime": {
     "end_time": "2023-12-02T15:59:48.696413200Z",
     "start_time": "2023-12-02T15:59:48.649465200Z"
    }
   },
   "id": "2471b62fb1ae032"
  },
  {
   "cell_type": "markdown",
   "source": [
    "This is not recommended. It can lead to confusion and errors.\n",
    "\n",
    "It's better to be explicit about what we're importing.\n",
    "\n",
    "When we explicitly import the database class at the top of our file using from database import Database, we can easily see where the Database class comes from. \n",
    "\n",
    "We might use db = Database() 400 lines later in the file, and we can quickly look at the imports to see where that Database class came from. \n",
    "\n",
    "Then, if we need clarification as to how to use the Database class, we can visit the original file (or import the module in the interactive interpreter and use the help(database.Database) command). \n",
    "\n",
    "However, if we use the from database import * syntax, it takes a lot longer to find where that class is located. Code maintenance becomes a nightmare."
   ],
   "metadata": {
    "collapsed": false
   },
   "id": "2eeb2da36f22eaea"
  },
  {
   "cell_type": "markdown",
   "source": [
    "If there are conflicting names, we're doomed. Let's say we have two modules, both of which provide a class named Database. \n",
    "\n",
    "Using from module_1 import * and from module_2 import * means the second import statement overwrites the Database name created by the first import. \n",
    "\n",
    "If we used import module_1 and import module_2, we'd use the module names as qualifiers to disambiguate module_1.Database from module_2.Database."
   ],
   "metadata": {
    "collapsed": false
   },
   "id": "b4216dac098ac1df"
  },
  {
   "cell_type": "markdown",
   "source": [
    "## Organizing Modules\n",
    "\n",
    "As a project grows into a collection of more and more modules, we may find that we want to add another level of abstraction, some kind of nested hierarchy on our modules' levels.\n",
    "\n",
    "However, we cannot put modules inside modules; one file can hold only one file after all, and modules are just files.\n",
    "\n",
    "Files, however, can go in folders, and so can modules.\n",
    "\n",
    "A package is a collection of modules in a folder. and the name of the package is the name of the folder.\n",
    "\n",
    "We need to tell Python that a folder is a package to distinguish from other folders in the directory.\n",
    "\n",
    "To do this, we create a file called __ init__.py in the folder."
   ],
   "metadata": {
    "collapsed": false
   },
   "id": "44979410240212cc"
  },
  {
   "cell_type": "markdown",
   "source": [
    "## WHO CAN ACCESS MY DATA?\n",
    "\n",
    "Most object oriented programming languages have a concept of access control. \n",
    "\n",
    "This is related to abstraction.\n",
    "\n",
    "Some attributes and methods on an object are marked private, meaning only that object can access them.\n",
    "\n",
    "Others are marked protected, meaning only that class and any subclass have access.\n",
    "\n",
    "The rest are public, meaning any other object is allowed to access them.\n",
    "\n",
    "Python does not do this. It provides unenforced guidelines and best practices.\n",
    "\n",
    "Technically, all methods and attributes on a class are publicly available.\n",
    "\n",
    "If we want to suggest that a method should not be used publicly, we can put a docstring note.\n",
    "\n",
    "By convention, we generally prefix an internal attribute or method with an underscore.\n",
    "\n",
    "There's another thing you can do to strongly suggest that outside objects don't access a property or method: prefix it with a double underscore, __. \n",
    "\n",
    "This will perform name mangling on the attribute in question. \n",
    "\n",
    "In essence, name mangling means that the method can still be called by outside objects if they really want to do so, but it requires extra work and is a strong indicator that you demand that your attribute remains private.\n",
    "\n",
    "What's important is that encapsulation – as a design principle – assures that the methods of a class encapsulate the state changes for the attributes. \n",
    "\n",
    "Whether or not attributes (or methods) are private doesn't change the essential good design that flows from encapsulation.\n",
    "\n",
    "The encapsulation principle applies to individual classes as well as a module with a bunch of classes. It also applies to a package with a bunch of modules. \n",
    "\n",
    "As designers of object-oriented Python, we're isolating responsibilities and clearly encapsulating features."
   ],
   "metadata": {
    "collapsed": false
   },
   "id": "2dbea5291efc36b9"
  }
 ],
 "metadata": {
  "kernelspec": {
   "display_name": "Python 3",
   "language": "python",
   "name": "python3"
  },
  "language_info": {
   "codemirror_mode": {
    "name": "ipython",
    "version": 2
   },
   "file_extension": ".py",
   "mimetype": "text/x-python",
   "name": "python",
   "nbconvert_exporter": "python",
   "pygments_lexer": "ipython2",
   "version": "2.7.6"
  }
 },
 "nbformat": 4,
 "nbformat_minor": 5
}
