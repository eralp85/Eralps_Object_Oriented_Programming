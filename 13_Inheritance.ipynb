{
 "cells": [
  {
   "cell_type": "markdown",
   "source": [
    "# INHERITANCE\n",
    "\n",
    "Inheritance is a way to form new classes using classes that have already been defined. The newly formed classes are called derived classes, the classes that we derive from are called base classes. \n",
    "\n",
    "Important benefits of inheritance are code reuse and reduction of complexity of a program. The derived classes (descendants) override or extend the functionality of base classes (ancestors)."
   ],
   "metadata": {
    "collapsed": false
   },
   "id": "452c530d94a53543"
  },
  {
   "cell_type": "code",
   "execution_count": 61,
   "outputs": [],
   "source": [
    "class Phone():\n",
    "    def __init__(self, brand, model, price):\n",
    "        self.brand = brand\n",
    "        self.model = model\n",
    "        self.price = max(price,0)\n",
    "        \n",
    "    @staticmethod\n",
    "    def make_call(number):\n",
    "        print(f\"Calling {number}...\")\n",
    "        \n",
    "    def full_name(self):\n",
    "        return f\"{self.brand_model} costs {self.price}\""
   ],
   "metadata": {
    "collapsed": false,
    "ExecuteTime": {
     "end_time": "2023-11-18T12:52:46.255996100Z",
     "start_time": "2023-11-18T12:52:46.018719100Z"
    }
   },
   "id": "9d9cab2bdf41058e"
  },
  {
   "cell_type": "code",
   "execution_count": 62,
   "outputs": [],
   "source": [
    "# class SmartPhone():\n",
    "#     def __init__(self, brand_model, price, ram, internal_memory, rear_camera):\n",
    "#         self.model = model\n",
    "#         self.brand=brand\n",
    "#         self.price = max(price,0)\n",
    "#         self.ram = ram\n",
    "#         self.internal_memory = internal_memory\n",
    "#         self.rear_camera = rear_camera\n",
    "#         \n",
    "#     @staticmethod\n",
    "#     def make_call(number):\n",
    "#         print(f\"Calling {number}...\")\n",
    "#         \n",
    "#     def full_name(self):\n",
    "#         return f\"{self.brand_model} costs {self.price}\""
   ],
   "metadata": {
    "collapsed": false,
    "ExecuteTime": {
     "end_time": "2023-11-18T12:52:46.255996100Z",
     "start_time": "2023-11-18T12:52:46.034368300Z"
    }
   },
   "id": "38340597b3f65d18"
  },
  {
   "cell_type": "markdown",
   "source": [
    "You can notice that some line of code is repeated in both classes. We can use inheritance to avoid this repetition.\n",
    "\n",
    "This consumes less memory and reduces the length of the code.\n",
    "\n",
    "With inheritance, we can inherit attributes and methods from the base class.\n",
    " \n",
    "The derived class is the class that inherits from another class, also called subclass. The base class is also called superclass.\n"
   ],
   "metadata": {
    "collapsed": false
   },
   "id": "90ebc62dd0cd4232"
  },
  {
   "cell_type": "code",
   "execution_count": 63,
   "outputs": [],
   "source": [
    "class SmartPhone():\n",
    "    #Uncomman way of doing it\n",
    "    def __init__(self, brand, model, price, ram, internal_memory, rear_camera):\n",
    "        Phone.__init__(self, brand, model, price)\n",
    "        self.ram = ram\n",
    "        self.internal_memory = internal_memory\n",
    "        self.rear_camera = rear_camera\n",
    "        \n",
    "    @staticmethod\n",
    "    def make_call(number):\n",
    "        print(f\"Calling {number}...\")\n",
    "        \n",
    "    def full_name(self):\n",
    "        return f\"{self.brand_model} costs {self.price}\""
   ],
   "metadata": {
    "collapsed": false,
    "ExecuteTime": {
     "end_time": "2023-11-18T12:52:46.255996100Z",
     "start_time": "2023-11-18T12:52:46.050034Z"
    }
   },
   "id": "39234841a74070be"
  },
  {
   "cell_type": "code",
   "execution_count": 64,
   "outputs": [],
   "source": [
    "phone1 = Phone(\"Nokia\", \"1100\", 1000)\n",
    "smartphone1 = SmartPhone(\"Samsung\", \"Galaxy S10\", 50000, \"8GB\", \"128GB\", \"12MP\")"
   ],
   "metadata": {
    "collapsed": false,
    "ExecuteTime": {
     "end_time": "2023-11-18T12:52:46.255996100Z",
     "start_time": "2023-11-18T12:52:46.067921500Z"
    }
   },
   "id": "25249c0bf5f189b0"
  },
  {
   "cell_type": "code",
   "execution_count": 65,
   "outputs": [
    {
     "data": {
      "text/plain": "{'brand': 'Nokia', 'model': '1100', 'price': 1000}"
     },
     "execution_count": 65,
     "metadata": {},
     "output_type": "execute_result"
    }
   ],
   "source": [
    "phone1.__dict__"
   ],
   "metadata": {
    "collapsed": false,
    "ExecuteTime": {
     "end_time": "2023-11-18T12:52:46.255996100Z",
     "start_time": "2023-11-18T12:52:46.083616Z"
    }
   },
   "id": "a8de2a629accf98e"
  },
  {
   "cell_type": "code",
   "execution_count": 66,
   "outputs": [
    {
     "data": {
      "text/plain": "{'brand': 'Samsung',\n 'model': 'Galaxy S10',\n 'price': 50000,\n 'ram': '8GB',\n 'internal_memory': '128GB',\n 'rear_camera': '12MP'}"
     },
     "execution_count": 66,
     "metadata": {},
     "output_type": "execute_result"
    }
   ],
   "source": [
    "smartphone1.__dict__"
   ],
   "metadata": {
    "collapsed": false,
    "ExecuteTime": {
     "end_time": "2023-11-18T12:52:46.255996100Z",
     "start_time": "2023-11-18T12:52:46.099207500Z"
    }
   },
   "id": "8ff20fe9119e0616"
  },
  {
   "cell_type": "markdown",
   "source": [
    "# Let's work on the comman way of doing it"
   ],
   "metadata": {
    "collapsed": false
   },
   "id": "87a5369783f551a0"
  },
  {
   "cell_type": "code",
   "execution_count": 67,
   "outputs": [],
   "source": [
    "class Animal: # Base class\n",
    "    def __init__(self, name, weight):\n",
    "        self.name = name\n",
    "        self.weight = weight\n",
    "        \n",
    "    @staticmethod\n",
    "    def eat(Vegetable):\n",
    "        print(f\" Eating {Vegetable}...\")\n",
    "       \n",
    "    def walk(self):\n",
    "        print(f\"{self.name} is walking\")"
   ],
   "metadata": {
    "collapsed": false,
    "ExecuteTime": {
     "end_time": "2023-11-18T12:52:46.255996100Z",
     "start_time": "2023-11-18T12:52:46.114863800Z"
    }
   },
   "id": "236e9480734e55d2"
  },
  {
   "cell_type": "code",
   "execution_count": 73,
   "outputs": [],
   "source": [
    "class ZooAnimal: # Child class\n",
    "    def __init__(self, name, weight, age, zoo_name):\n",
    "        super().__init__(name, weight)\n",
    "        self.age = age\n",
    "        self.zoo_name = zoo_name\n",
    "    \n",
    "    @staticmethod\n",
    "    def eat(Vegetable):\n",
    "        print(f\" Eating {Vegetable}...\")\n",
    "       \n",
    "    def walk(self):\n",
    "        print(f\"{self.name} is walking\")"
   ],
   "metadata": {
    "collapsed": false,
    "ExecuteTime": {
     "end_time": "2023-11-18T12:53:38.315650200Z",
     "start_time": "2023-11-18T12:53:38.221904700Z"
    }
   },
   "id": "56926389311006a3"
  },
  {
   "cell_type": "code",
   "execution_count": 74,
   "outputs": [],
   "source": [
    "ayi = Animal(\"Bear\", 100)\n"
   ],
   "metadata": {
    "collapsed": false,
    "ExecuteTime": {
     "end_time": "2023-11-18T12:53:38.315650200Z",
     "start_time": "2023-11-18T12:53:38.253163100Z"
    }
   },
   "id": "b5bcacd91f5dcd19"
  },
  {
   "cell_type": "code",
   "execution_count": 75,
   "outputs": [
    {
     "data": {
      "text/plain": "{'name': 'Bear', 'weight': 100}"
     },
     "execution_count": 75,
     "metadata": {},
     "output_type": "execute_result"
    }
   ],
   "source": [
    "ayi.__dict__"
   ],
   "metadata": {
    "collapsed": false,
    "ExecuteTime": {
     "end_time": "2023-11-18T12:53:38.315650200Z",
     "start_time": "2023-11-18T12:53:38.268829800Z"
    }
   },
   "id": "270ddbf7c590e3c3"
  },
  {
   "cell_type": "code",
   "execution_count": 76,
   "outputs": [
    {
     "ename": "TypeError",
     "evalue": "object.__init__() takes exactly one argument (the instance to initialize)",
     "output_type": "error",
     "traceback": [
      "\u001B[1;31m---------------------------------------------------------------------------\u001B[0m",
      "\u001B[1;31mTypeError\u001B[0m                                 Traceback (most recent call last)",
      "\u001B[1;32m~\\AppData\\Local\\Temp\\ipykernel_18832\\3287578388.py\u001B[0m in \u001B[0;36m<module>\u001B[1;34m\u001B[0m\n\u001B[1;32m----> 1\u001B[1;33m \u001B[0mfil\u001B[0m \u001B[1;33m=\u001B[0m \u001B[0mZooAnimal\u001B[0m\u001B[1;33m(\u001B[0m\u001B[1;34m\"Elephant\"\u001B[0m\u001B[1;33m,\u001B[0m \u001B[1;36m200\u001B[0m\u001B[1;33m,\u001B[0m \u001B[1;36m10\u001B[0m\u001B[1;33m,\u001B[0m \u001B[1;34m\"Zoo\"\u001B[0m\u001B[1;33m)\u001B[0m\u001B[1;33m\u001B[0m\u001B[1;33m\u001B[0m\u001B[0m\n\u001B[0m",
      "\u001B[1;32m~\\AppData\\Local\\Temp\\ipykernel_18832\\1635559335.py\u001B[0m in \u001B[0;36m__init__\u001B[1;34m(self, name, weight, age, zoo_name)\u001B[0m\n\u001B[0;32m      1\u001B[0m \u001B[1;32mclass\u001B[0m \u001B[0mZooAnimal\u001B[0m\u001B[1;33m:\u001B[0m \u001B[1;31m# Child class\u001B[0m\u001B[1;33m\u001B[0m\u001B[1;33m\u001B[0m\u001B[0m\n\u001B[0;32m      2\u001B[0m     \u001B[1;32mdef\u001B[0m \u001B[0m__init__\u001B[0m\u001B[1;33m(\u001B[0m\u001B[0mself\u001B[0m\u001B[1;33m,\u001B[0m \u001B[0mname\u001B[0m\u001B[1;33m,\u001B[0m \u001B[0mweight\u001B[0m\u001B[1;33m,\u001B[0m \u001B[0mage\u001B[0m\u001B[1;33m,\u001B[0m \u001B[0mzoo_name\u001B[0m\u001B[1;33m)\u001B[0m\u001B[1;33m:\u001B[0m\u001B[1;33m\u001B[0m\u001B[1;33m\u001B[0m\u001B[0m\n\u001B[1;32m----> 3\u001B[1;33m         \u001B[0msuper\u001B[0m\u001B[1;33m(\u001B[0m\u001B[1;33m)\u001B[0m\u001B[1;33m.\u001B[0m\u001B[0m__init__\u001B[0m\u001B[1;33m(\u001B[0m\u001B[0mname\u001B[0m\u001B[1;33m,\u001B[0m \u001B[0mweight\u001B[0m\u001B[1;33m)\u001B[0m\u001B[1;33m\u001B[0m\u001B[1;33m\u001B[0m\u001B[0m\n\u001B[0m\u001B[0;32m      4\u001B[0m         \u001B[0mself\u001B[0m\u001B[1;33m.\u001B[0m\u001B[0mage\u001B[0m \u001B[1;33m=\u001B[0m \u001B[0mage\u001B[0m\u001B[1;33m\u001B[0m\u001B[1;33m\u001B[0m\u001B[0m\n\u001B[0;32m      5\u001B[0m         \u001B[0mself\u001B[0m\u001B[1;33m.\u001B[0m\u001B[0mzoo_name\u001B[0m \u001B[1;33m=\u001B[0m \u001B[0mzoo_name\u001B[0m\u001B[1;33m\u001B[0m\u001B[1;33m\u001B[0m\u001B[0m\n",
      "\u001B[1;31mTypeError\u001B[0m: object.__init__() takes exactly one argument (the instance to initialize)"
     ]
    }
   ],
   "source": [
    "fil = ZooAnimal(\"Elephant\", 200, 10, \"Zoo\")"
   ],
   "metadata": {
    "collapsed": false,
    "ExecuteTime": {
     "end_time": "2023-11-18T12:53:38.315650200Z",
     "start_time": "2023-11-18T12:53:38.284402500Z"
    }
   },
   "id": "7f14eadcb009ae7e"
  },
  {
   "cell_type": "code",
   "execution_count": null,
   "outputs": [],
   "source": [],
   "metadata": {
    "collapsed": false,
    "ExecuteTime": {
     "start_time": "2023-11-18T12:53:38.315650200Z"
    }
   },
   "id": "b76734427844690d"
  }
 ],
 "metadata": {
  "kernelspec": {
   "display_name": "Python 3",
   "language": "python",
   "name": "python3"
  },
  "language_info": {
   "codemirror_mode": {
    "name": "ipython",
    "version": 2
   },
   "file_extension": ".py",
   "mimetype": "text/x-python",
   "name": "python",
   "nbconvert_exporter": "python",
   "pygments_lexer": "ipython2",
   "version": "2.7.6"
  }
 },
 "nbformat": 4,
 "nbformat_minor": 5
}
