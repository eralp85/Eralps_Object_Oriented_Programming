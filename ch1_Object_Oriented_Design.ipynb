{
 "cells": [
  {
   "cell_type": "code",
   "execution_count": null,
   "outputs": [],
   "source": [],
   "metadata": {
    "collapsed": false
   },
   "id": "25e9389bd301cb4d"
  },
  {
   "cell_type": "markdown",
   "source": [
    "# OBJECT-ORIENTED-DESIGN\n",
    "\n",
    "An object is a collection of data and associated behaviours.\n",
    "\n",
    "Oriented means directed towards.\n",
    "\n",
    "Object-oriented programming means writing code directed towards modelling objects.\n",
    "\n"
   ],
   "metadata": {
    "collapsed": false
   },
   "id": "395fb6cb92c8775b"
  },
  {
   "cell_type": "markdown",
   "source": [
    "## OBJECTS AND CLASSES\n",
    "\n",
    "An object is a collection of data with associated behaviours. \n",
    "\n",
    "Classes are blueprints for creating an object.\n",
    "\n",
    "Classes describe related objects.\n",
    "\n",
    "Assume that you look at 4 different oranges. Each orange is a distinct object but all four have the attributes and behaviours associated with one class: the general class of oranges.\n"
   ],
   "metadata": {
    "collapsed": false
   },
   "id": "fa39b17414fe0ca9"
  },
  {
   "cell_type": "markdown",
   "source": [
    "## SPECIFYING ATTRIBUTES AND BEHAVIOURS\n",
    "\n",
    "Objects are instances of classes that can be associated with each other. \n",
    "\n",
    "A class instance is a specific object with its own set of data and behaviours.\n",
    "\n",
    "We implement state of an object via the values of specific attributes."
   ],
   "metadata": {
    "collapsed": false
   },
   "id": "9035f450df4d6c00"
  },
  {
   "cell_type": "markdown",
   "source": [
    "### Data Describes Object State\n",
    "\n",
    "Data represents the individual characteristics of a certain object; its current state.\n",
    "\n",
    "A class can define specific sets of characteristics that are part of all objects that are member of that class.\n",
    "\n",
    "Any specific object can have a different data values for the given characteristics.\n",
    "\n",
    "For example, four oranges you had in the previous example have different weights, sizes, and colours.\n",
    "\n",
    "All instances of orange class have a waight attribute but each orange has a different value for that attribute.\n",
    "\n",
    "Attributes are also called members or properties. In phyton, we can also call an attribute an **instance variable**.\n",
    "\n",
    "They are variables with unique values for each instance of a class."
   ],
   "metadata": {
    "collapsed": false
   },
   "id": "dc40d032340c60bb"
  },
  {
   "cell_type": "markdown",
   "source": [
    "### Behaviours are Actions\n",
    "\n",
    "Behaviours are actions that an object can perform.\n",
    "\n",
    "The behaviours of an object are expressed as functions that are part of the class.\n",
    "\n",
    "At programming level, methods are like functions in structured programming, but they have access to the attributes.\n",
    "\n",
    "In particular, the instance variables with the data associated with the object.\n",
    "\n",
    "Like functions, methods can also accept parameters and return values.\n",
    "\n",
    "A method's parameters are provided to it as a collection of objects that need to be passed into that method.\n",
    "\n",
    "The actual object instances that are passed into a method during a specific invocation are usually called arguments.\n",
    "\n",
    "These objects are bound to parameter variables in the method body.\n",
    "\n",
    "They are used by the method to perform whatever behaviour or task it is meant to do.\n",
    "\n",
    "Returned values are result of that task.\n",
    "\n",
    "Internal state changes are another possible effect of evaluating a method.\n",
    "\n",
    "Adding attributes and methods to individual objects allows us to create a system of interacting objects.\n",
    "\n",
    "Each object in the system is a member of a certain class.\n",
    "\n",
    "These classes specify what types of data the object can hold and what methods can be invoked on it.\n",
    "\n",
    "The data in each object can be in a different state from other instances of the same class; each object may react to method calls differently because of differences in its internal state.\n",
    "\n",
    "Object-Oriented analysis and design is all about figuring out what those objects are and how they should interact.\n",
    "\n",
    "Each class has responsibilities and collaborations.\n"
   ],
   "metadata": {
    "collapsed": false
   },
   "id": "8417f09aeed8d21e"
  },
  {
   "cell_type": "markdown",
   "source": [
    "### Hiding Details and Creating Public Interface\n",
    "\n",
    "The key purpose of modelling an object in object-oriented design is to determine what the public interface of that object will be.\n",
    "\n",
    "The interface is the collection of attributes and methods that other objects can access to interact with the object.\n",
    "\n",
    "A common real-world example is the television. Our interface to the television is the remote control. Each button on the remote control represents a method that can be called on the television object. \n",
    "\n",
    "When we, as the calling object, access these methods, we do not know or care if the television is getting its signal from a cable connection, a satellite dish, or an internet-enabled device. \n",
    "\n",
    "We don't care what electronic signals are being sent to adjust the volume, or whether the sound is destined for speakers or headphones. \n",
    "\n",
    "If we open the television to access its internal workings, for example, to split the output signal to both external speakers and a set of headphones, we may void the warranty.\n",
    "\n",
    "This process of hiding the implementation of an object is called encapsulation.\n",
    "\n",
    "The TV's external case encapsulates the state and behaviour of the television.\n",
    "\n",
    "We do not have direct access to the wiring of the amplifier or the circuitry of the tuner.\n",
    "\n",
    " Abstraction means dealing with the level of detail that is most appropriate to a given task. It is the process of extracting a public interface from the inner details. A car's driver needs to interact with the steering, accelerator, and brakes. \n",
    " \n",
    "The workings of the motor, drive train, and brake subsystem don't matter to the driver. A mechanic, on the other hand, works at a different level of abstraction, tuning the engine and bleeding the brakes. "
   ],
   "metadata": {
    "collapsed": false
   },
   "id": "f1c0585b332f5dfd"
  },
  {
   "cell_type": "markdown",
   "source": [
    "### COMPOSITION\n",
    "\n",
    "Composition is the act of collecting several objects together to create a new one.\n",
    "\n",
    "Composition is usually a good choice when one object is part of another object.\n",
    "\n",
    " A fossil-fueled car is composed of an engine, transmission, starter, headlights, and windshield, among numerous other parts. \n",
    " \n",
    "The engine, in turn, is composed of pistons, a crank shaft, and valves. In this example, composition is a good way to provide levels of abstraction.\n",
    "\n",
    "The Car object can provide the interface required by a driver, while also giving access to its component parts, which offers the deeper level of abstraction suitable for a mechanic. "
   ],
   "metadata": {
    "collapsed": false
   },
   "id": "248d8e6156b3867d"
  },
  {
   "cell_type": "markdown",
   "source": [
    "### INHERITANCE\n",
    "\n",
    "In object-oriented programming, instead of inheriting features and behaviors from a person, one class can inherit attributes and methods from another class."
   ],
   "metadata": {
    "collapsed": false
   },
   "id": "bfff4180b56726ae"
  },
  {
   "cell_type": "code",
   "execution_count": null,
   "outputs": [],
   "source": [],
   "metadata": {
    "collapsed": false
   },
   "id": "50c912eb229f6f6e"
  }
 ],
 "metadata": {
  "kernelspec": {
   "display_name": "Python 3",
   "language": "python",
   "name": "python3"
  },
  "language_info": {
   "codemirror_mode": {
    "name": "ipython",
    "version": 2
   },
   "file_extension": ".py",
   "mimetype": "text/x-python",
   "name": "python",
   "nbconvert_exporter": "python",
   "pygments_lexer": "ipython2",
   "version": "2.7.6"
  }
 },
 "nbformat": 4,
 "nbformat_minor": 5
}
