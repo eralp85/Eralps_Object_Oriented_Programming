{
 "cells": [
  {
   "cell_type": "markdown",
   "source": [
    "# METHOD OVERRIDING\n",
    "\n",
    "Overriding allows as subclass to provide a new implementation of a method that is already defined by its superclass. \n",
    "\n",
    "The implementation in the subclass overrides the implementation of the superclass. The methods must have the same name and the same parameter list.\n",
    "\n",
    "Method Resolution Order (MRO) is the order in which Python looks for a method in a hierarchy of classes."
   ],
   "metadata": {
    "collapsed": false
   },
   "id": "c14ae9f2b661d588"
  },
  {
   "cell_type": "code",
   "execution_count": 47,
   "outputs": [],
   "source": [
    "class University:\n",
    "    def __init__(self, uni_name, country, rank):\n",
    "        self.uni_name = uni_name\n",
    "        self.country = country\n",
    "        self.rank = rank\n",
    "        \n",
    "    @staticmethod\n",
    "    def independency (press):\n",
    "        print(f\"The university is independent from the press of {press}\")\n",
    "        \n",
    "    def full_name(self):\n",
    "        return f\"{self.uni_name} {self.country}\""
   ],
   "metadata": {
    "collapsed": false,
    "ExecuteTime": {
     "end_time": "2023-11-18T16:05:14.375916100Z",
     "start_time": "2023-11-18T16:05:14.165858300Z"
    }
   },
   "id": "28fe7a0e5c4711d1"
  },
  {
   "cell_type": "code",
   "execution_count": 48,
   "outputs": [],
   "source": [
    "class Professor(University):\n",
    "    def __init__(self, uni_name, country, rank, salary, department):\n",
    "        super().__init__(uni_name, country, rank)\n",
    "        self.salary = salary\n",
    "        self.department = department\n",
    "        \n",
    "    def full_name(self):\n",
    "        return f\"Professor from {self.uni_name} / {self.country} has a salary of {self.salary}\""
   ],
   "metadata": {
    "collapsed": false,
    "ExecuteTime": {
     "end_time": "2023-11-18T16:05:14.376918700Z",
     "start_time": "2023-11-18T16:05:14.178700300Z"
    }
   },
   "id": "8d28c1d3ff9c1f20"
  },
  {
   "cell_type": "code",
   "execution_count": 49,
   "outputs": [],
   "source": [
    "professor = Professor(\"University of Oxford\", \"UK\", 1, 100000, \"Computer Science\")"
   ],
   "metadata": {
    "collapsed": false,
    "ExecuteTime": {
     "end_time": "2023-11-18T16:05:14.377923200Z",
     "start_time": "2023-11-18T16:05:14.195858400Z"
    }
   },
   "id": "e65e19584da317d1"
  },
  {
   "cell_type": "code",
   "execution_count": 50,
   "outputs": [
    {
     "data": {
      "text/plain": "{'uni_name': 'University of Oxford',\n 'country': 'UK',\n 'rank': 1,\n 'salary': 100000,\n 'department': 'Computer Science'}"
     },
     "execution_count": 50,
     "metadata": {},
     "output_type": "execute_result"
    }
   ],
   "source": [
    "professor.__dict__"
   ],
   "metadata": {
    "collapsed": false,
    "ExecuteTime": {
     "end_time": "2023-11-18T16:05:14.394609400Z",
     "start_time": "2023-11-18T16:05:14.212109100Z"
    }
   },
   "id": "4c5da071bbd7aee"
  },
  {
   "cell_type": "code",
   "execution_count": 51,
   "outputs": [
    {
     "name": "stdout",
     "output_type": "stream",
     "text": [
      "Help on Professor in module __main__ object:\n",
      "\n",
      "class Professor(University)\n",
      " |  Professor(uni_name, country, rank, salary, department)\n",
      " |  \n",
      " |  Method resolution order:\n",
      " |      Professor\n",
      " |      University\n",
      " |      builtins.object\n",
      " |  \n",
      " |  Methods defined here:\n",
      " |  \n",
      " |  __init__(self, uni_name, country, rank, salary, department)\n",
      " |      Initialize self.  See help(type(self)) for accurate signature.\n",
      " |  \n",
      " |  full_name(self)\n",
      " |  \n",
      " |  ----------------------------------------------------------------------\n",
      " |  Static methods inherited from University:\n",
      " |  \n",
      " |  independency(press)\n",
      " |  \n",
      " |  ----------------------------------------------------------------------\n",
      " |  Data descriptors inherited from University:\n",
      " |  \n",
      " |  __dict__\n",
      " |      dictionary for instance variables (if defined)\n",
      " |  \n",
      " |  __weakref__\n",
      " |      list of weak references to the object (if defined)\n"
     ]
    }
   ],
   "source": [
    "help(professor)"
   ],
   "metadata": {
    "collapsed": false,
    "ExecuteTime": {
     "end_time": "2023-11-18T16:05:14.394609400Z",
     "start_time": "2023-11-18T16:05:14.233582500Z"
    }
   },
   "id": "93c09c0aee29c9b0"
  },
  {
   "cell_type": "code",
   "execution_count": 52,
   "outputs": [
    {
     "data": {
      "text/plain": "'Professor from University of Oxford / UK has a salary of 100000'"
     },
     "execution_count": 52,
     "metadata": {},
     "output_type": "execute_result"
    }
   ],
   "source": [
    "professor.full_name()"
   ],
   "metadata": {
    "collapsed": false,
    "ExecuteTime": {
     "end_time": "2023-11-18T16:05:14.395583700Z",
     "start_time": "2023-11-18T16:05:14.262996Z"
    }
   },
   "id": "54e7b84bce73eae"
  },
  {
   "cell_type": "code",
   "execution_count": 53,
   "outputs": [
    {
     "name": "stdout",
     "output_type": "stream",
     "text": [
      "The university is independent from the press of UK\n"
     ]
    }
   ],
   "source": [
    "professor.independency(\"UK\")"
   ],
   "metadata": {
    "collapsed": false,
    "ExecuteTime": {
     "end_time": "2023-11-18T16:05:14.395583700Z",
     "start_time": "2023-11-18T16:05:14.278031900Z"
    }
   },
   "id": "335ed3b2442088c7"
  },
  {
   "cell_type": "code",
   "execution_count": 54,
   "outputs": [
    {
     "data": {
      "text/plain": "'Professor from University of Oxford / UK has a salary of 100000'"
     },
     "execution_count": 54,
     "metadata": {},
     "output_type": "execute_result"
    }
   ],
   "source": [
    "# full_name() method is getted from the Professor class\n",
    "professor.full_name()"
   ],
   "metadata": {
    "collapsed": false,
    "ExecuteTime": {
     "end_time": "2023-11-18T16:05:14.395583700Z",
     "start_time": "2023-11-18T16:05:14.296191900Z"
    }
   },
   "id": "e9c9f77b2e648835"
  },
  {
   "cell_type": "code",
   "execution_count": 54,
   "outputs": [],
   "source": [],
   "metadata": {
    "collapsed": false,
    "ExecuteTime": {
     "end_time": "2023-11-18T16:05:14.395583700Z",
     "start_time": "2023-11-18T16:05:14.317956400Z"
    }
   },
   "id": "8ade3f2edac3efb7"
  }
 ],
 "metadata": {
  "kernelspec": {
   "display_name": "Python 3",
   "language": "python",
   "name": "python3"
  },
  "language_info": {
   "codemirror_mode": {
    "name": "ipython",
    "version": 2
   },
   "file_extension": ".py",
   "mimetype": "text/x-python",
   "name": "python",
   "nbconvert_exporter": "python",
   "pygments_lexer": "ipython2",
   "version": "2.7.6"
  }
 },
 "nbformat": 4,
 "nbformat_minor": 5
}
