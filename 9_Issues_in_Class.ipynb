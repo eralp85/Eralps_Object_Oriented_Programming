{
 "cells": [
  {
   "cell_type": "markdown",
   "source": [
    "# ISSUES in CLASS\n",
    "\n",
    "Let's first create an example of a class."
   ],
   "metadata": {
    "collapsed": false
   },
   "id": "4df213a0ce54f229"
  },
  {
   "cell_type": "code",
   "execution_count": 6,
   "outputs": [],
   "source": [
    "class Phone:\n",
    "    def __init__(self, brand, model_name, price):\n",
    "        self.brand = brand\n",
    "        self.model_name = model_name\n",
    "        self.price = price\n",
    "        self.complete_specification = f\"{self.brand} {self.model_name} and price is {self.price}\"\n",
    "    \n",
    "    @staticmethod\n",
    "    def make_call(phone_number):\n",
    "        print(f\"calling {phone_number}...\")\n",
    "        \n",
    "    def full_name(self):\n",
    "        return f\"{self.brand} {self.model_name}\""
   ],
   "metadata": {
    "collapsed": false,
    "ExecuteTime": {
     "end_time": "2023-11-15T19:52:04.024224200Z",
     "start_time": "2023-11-15T19:52:04.002955700Z"
    }
   },
   "id": "811f1cf90c7d4cfe"
  },
  {
   "cell_type": "code",
   "execution_count": 7,
   "outputs": [],
   "source": [
    "phone1 = Phone('nokia', '1100', 6000)\n"
   ],
   "metadata": {
    "collapsed": false,
    "ExecuteTime": {
     "end_time": "2023-11-15T19:52:29.472236400Z",
     "start_time": "2023-11-15T19:52:29.437067500Z"
    }
   },
   "id": "fc460f164162ecff"
  },
  {
   "cell_type": "code",
   "execution_count": 9,
   "outputs": [
    {
     "data": {
      "text/plain": "'nokia'"
     },
     "execution_count": 9,
     "metadata": {},
     "output_type": "execute_result"
    }
   ],
   "source": [
    "phone1.brand"
   ],
   "metadata": {
    "collapsed": false,
    "ExecuteTime": {
     "end_time": "2023-11-15T19:52:44.299817500Z",
     "start_time": "2023-11-15T19:52:44.261105800Z"
    }
   },
   "id": "bc1ef4757db287fc"
  },
  {
   "cell_type": "code",
   "execution_count": 10,
   "outputs": [
    {
     "data": {
      "text/plain": "'1100'"
     },
     "execution_count": 10,
     "metadata": {},
     "output_type": "execute_result"
    }
   ],
   "source": [
    "phone1.model_name"
   ],
   "metadata": {
    "collapsed": false,
    "ExecuteTime": {
     "end_time": "2023-11-15T19:52:47.388079400Z",
     "start_time": "2023-11-15T19:52:47.354496900Z"
    }
   },
   "id": "e5eec50b812e0ada"
  },
  {
   "cell_type": "code",
   "execution_count": 11,
   "outputs": [
    {
     "data": {
      "text/plain": "6000"
     },
     "execution_count": 11,
     "metadata": {},
     "output_type": "execute_result"
    }
   ],
   "source": [
    "phone1.price"
   ],
   "metadata": {
    "collapsed": false,
    "ExecuteTime": {
     "end_time": "2023-11-15T19:52:48.813814700Z",
     "start_time": "2023-11-15T19:52:48.743953700Z"
    }
   },
   "id": "43757004fa903ed6"
  },
  {
   "cell_type": "code",
   "execution_count": 12,
   "outputs": [
    {
     "data": {
      "text/plain": "'nokia 1100 and price is 6000'"
     },
     "execution_count": 12,
     "metadata": {},
     "output_type": "execute_result"
    }
   ],
   "source": [
    "phone1.complete_specification"
   ],
   "metadata": {
    "collapsed": false,
    "ExecuteTime": {
     "end_time": "2023-11-15T19:52:50.089651900Z",
     "start_time": "2023-11-15T19:52:50.005405300Z"
    }
   },
   "id": "16f97fec6bc1c7f0"
  },
  {
   "cell_type": "markdown",
   "source": [
    "First problem is that if you want to change the price of the phone to negative value it changes. However, price cannot be negative.\n",
    "\n",
    "Second problem is that if update the price of the phone it changes the price of the phone. However, it does not change the price in the complete specification. "
   ],
   "metadata": {
    "collapsed": false
   },
   "id": "e20f4382ae8d004f"
  },
  {
   "cell_type": "code",
   "execution_count": 13,
   "outputs": [],
   "source": [
    "phone1.price = -5000"
   ],
   "metadata": {
    "collapsed": false,
    "ExecuteTime": {
     "end_time": "2023-11-15T19:56:32.522369800Z",
     "start_time": "2023-11-15T19:56:32.483035900Z"
    }
   },
   "id": "3ec6ba15e3a79cf7"
  },
  {
   "cell_type": "code",
   "execution_count": 14,
   "outputs": [
    {
     "data": {
      "text/plain": "-5000"
     },
     "execution_count": 14,
     "metadata": {},
     "output_type": "execute_result"
    }
   ],
   "source": [
    "phone1.price"
   ],
   "metadata": {
    "collapsed": false,
    "ExecuteTime": {
     "end_time": "2023-11-15T19:56:34.349528300Z",
     "start_time": "2023-11-15T19:56:34.317801100Z"
    }
   },
   "id": "28641f9b54052a10"
  },
  {
   "cell_type": "code",
   "execution_count": 15,
   "outputs": [
    {
     "data": {
      "text/plain": "'nokia 1100 and price is 6000'"
     },
     "execution_count": 15,
     "metadata": {},
     "output_type": "execute_result"
    }
   ],
   "source": [
    "phone1.complete_specification"
   ],
   "metadata": {
    "collapsed": false,
    "ExecuteTime": {
     "end_time": "2023-11-15T19:56:36.460458600Z",
     "start_time": "2023-11-15T19:56:36.444846400Z"
    }
   },
   "id": "1532c4e977e377d3"
  },
  {
   "cell_type": "markdown",
   "source": [
    "Solutions to first problem has two ways:\n",
    "\n",
    "a. we can use if and else statement.\n"
   ],
   "metadata": {
    "collapsed": false
   },
   "id": "bbed879bd6acfd2d"
  },
  {
   "cell_type": "code",
   "execution_count": 65,
   "outputs": [],
   "source": [
    "class Phone:\n",
    "    def __init__(self, brand, model_name, price):\n",
    "        self.brand = brand\n",
    "        self.model_name = model_name\n",
    "        if price > 0:\n",
    "            self.price = price\n",
    "        else:\n",
    "            self.price = 0\n",
    "        self.complete_specification = f\"{self.brand} {self.model_name} and price is {self.price}\"\n",
    "    \n",
    "    @staticmethod\n",
    "    def make_call(phone_number):\n",
    "        print(f\"calling {phone_number}...\")\n",
    "        \n",
    "    def full_name(self):\n",
    "        return f\"{self.brand} {self.model_name}\""
   ],
   "metadata": {
    "collapsed": false,
    "ExecuteTime": {
     "end_time": "2023-11-15T20:04:14.523502900Z",
     "start_time": "2023-11-15T20:04:14.395426400Z"
    }
   },
   "id": "9ba63aab14b5b176"
  },
  {
   "cell_type": "code",
   "execution_count": 66,
   "outputs": [],
   "source": [
    "phone1 = Phone('nokia', '1100', -6000)"
   ],
   "metadata": {
    "collapsed": false,
    "ExecuteTime": {
     "end_time": "2023-11-15T20:04:14.546647700Z",
     "start_time": "2023-11-15T20:04:14.405456100Z"
    }
   },
   "id": "8f2aa0b0e7be20ea"
  },
  {
   "cell_type": "code",
   "execution_count": 67,
   "outputs": [
    {
     "data": {
      "text/plain": "0"
     },
     "execution_count": 67,
     "metadata": {},
     "output_type": "execute_result"
    }
   ],
   "source": [
    "phone1.price"
   ],
   "metadata": {
    "collapsed": false,
    "ExecuteTime": {
     "end_time": "2023-11-15T20:04:14.546647700Z",
     "start_time": "2023-11-15T20:04:14.421119100Z"
    }
   },
   "id": "eaff0edc374d4af0"
  },
  {
   "cell_type": "code",
   "execution_count": 68,
   "outputs": [
    {
     "data": {
      "text/plain": "'nokia'"
     },
     "execution_count": 68,
     "metadata": {},
     "output_type": "execute_result"
    }
   ],
   "source": [
    "phone1.brand"
   ],
   "metadata": {
    "collapsed": false,
    "ExecuteTime": {
     "end_time": "2023-11-15T20:04:14.546647700Z",
     "start_time": "2023-11-15T20:04:14.436716700Z"
    }
   },
   "id": "ae3caca03f4da295"
  },
  {
   "cell_type": "code",
   "execution_count": 69,
   "outputs": [
    {
     "data": {
      "text/plain": "'1100'"
     },
     "execution_count": 69,
     "metadata": {},
     "output_type": "execute_result"
    }
   ],
   "source": [
    "phone1.model_name"
   ],
   "metadata": {
    "collapsed": false,
    "ExecuteTime": {
     "end_time": "2023-11-15T20:04:14.546647700Z",
     "start_time": "2023-11-15T20:04:14.452363500Z"
    }
   },
   "id": "b1f6a37755a51455"
  },
  {
   "cell_type": "code",
   "execution_count": 70,
   "outputs": [
    {
     "data": {
      "text/plain": "'nokia 1100 and price is 0'"
     },
     "execution_count": 70,
     "metadata": {},
     "output_type": "execute_result"
    }
   ],
   "source": [
    "phone1.complete_specification\n"
   ],
   "metadata": {
    "collapsed": false,
    "ExecuteTime": {
     "end_time": "2023-11-15T20:04:14.546647700Z",
     "start_time": "2023-11-15T20:04:14.467974900Z"
    }
   },
   "id": "ec9d91eea69ac0b3"
  },
  {
   "cell_type": "markdown",
   "source": [
    "Solutions to first problem has two ways:\n",
    "\n",
    "b. use max method"
   ],
   "metadata": {
    "collapsed": false
   },
   "id": "e70004fd06a6066"
  },
  {
   "cell_type": "code",
   "execution_count": 71,
   "outputs": [],
   "source": [
    "class Phone:\n",
    "    def __init__(self, brand, model_name, price):\n",
    "        self.brand = brand\n",
    "        self.model_name = model_name\n",
    "        self.price = max(price, 0)\n",
    "        self.complete_specification = f\"{self.brand} {self.model_name} and price is {self.price}\"\n",
    "    \n",
    "    @staticmethod\n",
    "    def make_call(phone_number):\n",
    "        print(f\"calling {phone_number}...\")\n",
    "        \n",
    "    def full_name(self):\n",
    "        return f\"{self.brand} {self.model_name}\""
   ],
   "metadata": {
    "collapsed": false,
    "ExecuteTime": {
     "end_time": "2023-11-15T20:06:33.907399600Z",
     "start_time": "2023-11-15T20:06:33.860481Z"
    }
   },
   "id": "673928c04b6b633f"
  },
  {
   "cell_type": "code",
   "execution_count": 77,
   "outputs": [],
   "source": [
    "phone1 = Phone('nokia', '1100', -2000)"
   ],
   "metadata": {
    "collapsed": false,
    "ExecuteTime": {
     "end_time": "2023-11-15T20:07:01.821810800Z",
     "start_time": "2023-11-15T20:07:01.802748600Z"
    }
   },
   "id": "9b3f8905b3364dd5"
  },
  {
   "cell_type": "code",
   "execution_count": 78,
   "outputs": [
    {
     "data": {
      "text/plain": "0"
     },
     "execution_count": 78,
     "metadata": {},
     "output_type": "execute_result"
    }
   ],
   "source": [
    "phone1.price"
   ],
   "metadata": {
    "collapsed": false,
    "ExecuteTime": {
     "end_time": "2023-11-15T20:07:03.212810900Z",
     "start_time": "2023-11-15T20:07:03.167818300Z"
    }
   },
   "id": "d5c3793cbf4f193b"
  },
  {
   "cell_type": "markdown",
   "source": [
    "Solutions to second problem is about constructor. It does not update the price in the complete specification.\n",
    "\n",
    "To solve this we seperate the complete specification from the constructor and create a method for it."
   ],
   "metadata": {
    "collapsed": false
   },
   "id": "54a2cd2f172b94d"
  },
  {
   "cell_type": "code",
   "execution_count": 80,
   "outputs": [],
   "source": [
    "class Phone:\n",
    "    def __init__(self, brand, model_name, price):\n",
    "        self.brand = brand\n",
    "        self.model_name = model_name\n",
    "        self.price = max(price, 0)\n",
    "    \n",
    "    def complete_specification(self):\n",
    "        return f\"{self.brand} {self.model_name} and price is {self.price}\"\n",
    "    \n",
    "    @staticmethod\n",
    "    def make_call(phone_number):\n",
    "        print(f\"calling {phone_number}...\")\n",
    "        \n",
    "    def full_name(self):\n",
    "        return f\"{self.brand} {self.model_name}\"\n",
    "    \n"
   ],
   "metadata": {
    "collapsed": false,
    "ExecuteTime": {
     "end_time": "2023-11-15T20:10:32.380909700Z",
     "start_time": "2023-11-15T20:10:32.318139100Z"
    }
   },
   "id": "ac0ec195bd1050a7"
  },
  {
   "cell_type": "code",
   "execution_count": 81,
   "outputs": [],
   "source": [
    "phone1 = Phone('nokia', '1100', -2000)"
   ],
   "metadata": {
    "collapsed": false,
    "ExecuteTime": {
     "end_time": "2023-11-15T20:10:35.825149700Z",
     "start_time": "2023-11-15T20:10:35.767628600Z"
    }
   },
   "id": "e575f817f6bbf9a9"
  },
  {
   "cell_type": "code",
   "execution_count": 82,
   "outputs": [
    {
     "data": {
      "text/plain": "0"
     },
     "execution_count": 82,
     "metadata": {},
     "output_type": "execute_result"
    }
   ],
   "source": [
    "phone1.price"
   ],
   "metadata": {
    "collapsed": false,
    "ExecuteTime": {
     "end_time": "2023-11-15T20:10:37.410088600Z",
     "start_time": "2023-11-15T20:10:37.331911100Z"
    }
   },
   "id": "766997ce58128cac"
  },
  {
   "cell_type": "code",
   "execution_count": 83,
   "outputs": [
    {
     "data": {
      "text/plain": "'nokia 1100 and price is 0'"
     },
     "execution_count": 83,
     "metadata": {},
     "output_type": "execute_result"
    }
   ],
   "source": [
    "phone1.complete_specification()"
   ],
   "metadata": {
    "collapsed": false,
    "ExecuteTime": {
     "end_time": "2023-11-15T20:10:39.469368800Z",
     "start_time": "2023-11-15T20:10:39.382527800Z"
    }
   },
   "id": "84d5474e87356499"
  },
  {
   "cell_type": "code",
   "execution_count": 84,
   "outputs": [],
   "source": [
    "phone1.price = -5000"
   ],
   "metadata": {
    "collapsed": false,
    "ExecuteTime": {
     "end_time": "2023-11-15T20:10:42.011250300Z",
     "start_time": "2023-11-15T20:10:41.953565700Z"
    }
   },
   "id": "7de4ea36b04bb4c5"
  },
  {
   "cell_type": "code",
   "execution_count": 85,
   "outputs": [
    {
     "data": {
      "text/plain": "-5000"
     },
     "execution_count": 85,
     "metadata": {},
     "output_type": "execute_result"
    }
   ],
   "source": [
    "phone1.price"
   ],
   "metadata": {
    "collapsed": false,
    "ExecuteTime": {
     "end_time": "2023-11-15T20:10:43.875183Z",
     "start_time": "2023-11-15T20:10:43.820339300Z"
    }
   },
   "id": "fefe95d7e0165556"
  },
  {
   "cell_type": "code",
   "execution_count": 86,
   "outputs": [
    {
     "data": {
      "text/plain": "'nokia 1100 and price is -5000'"
     },
     "execution_count": 86,
     "metadata": {},
     "output_type": "execute_result"
    }
   ],
   "source": [
    "phone1.complete_specification()"
   ],
   "metadata": {
    "collapsed": false,
    "ExecuteTime": {
     "end_time": "2023-11-15T20:10:45.476851100Z",
     "start_time": "2023-11-15T20:10:45.407275500Z"
    }
   },
   "id": "acc8a96550586605"
  },
  {
   "cell_type": "markdown",
   "source": [
    "Solutions to second problem is about constructor. It does not update the price in the complete specification.\n",
    "\n",
    "To solve this we seperate the complete specification from the constructor and create a method for it. and also we can use property decorator."
   ],
   "metadata": {
    "collapsed": false
   },
   "id": "1dfeebd32367f97"
  },
  {
   "cell_type": "code",
   "execution_count": 90,
   "outputs": [],
   "source": [
    "class Phone:\n",
    "    def __init__(self, brand, model_name, price):\n",
    "        self.brand = brand\n",
    "        self.model_name = model_name\n",
    "        self.price = max(price, 0)\n",
    "    \n",
    "    @property\n",
    "    def complete_specification(self):\n",
    "        return f\"{self.brand} {self.model_name} and price is {self.price}\"\n",
    "    \n",
    "    @staticmethod\n",
    "    def make_call(phone_number):\n",
    "        print(f\"calling {phone_number}...\")\n",
    "        \n",
    "    def full_name(self):\n",
    "        return f\"{self.brand} {self.model_name}\"    \n"
   ],
   "metadata": {
    "collapsed": false,
    "ExecuteTime": {
     "end_time": "2023-11-15T20:13:42.339806200Z",
     "start_time": "2023-11-15T20:13:42.291459700Z"
    }
   },
   "id": "f1810483cf979db0"
  },
  {
   "cell_type": "code",
   "execution_count": 91,
   "outputs": [],
   "source": [
    "phone1 = Phone('nokia', '1100', -2000)"
   ],
   "metadata": {
    "collapsed": false,
    "ExecuteTime": {
     "end_time": "2023-11-15T20:13:45.331258Z",
     "start_time": "2023-11-15T20:13:45.282965900Z"
    }
   },
   "id": "b7f02a7b5263095e"
  },
  {
   "cell_type": "code",
   "execution_count": 92,
   "outputs": [
    {
     "data": {
      "text/plain": "0"
     },
     "execution_count": 92,
     "metadata": {},
     "output_type": "execute_result"
    }
   ],
   "source": [
    "phone1.price"
   ],
   "metadata": {
    "collapsed": false,
    "ExecuteTime": {
     "end_time": "2023-11-15T20:13:47.339676700Z",
     "start_time": "2023-11-15T20:13:47.216844500Z"
    }
   },
   "id": "9e921a6a6d0deaad"
  },
  {
   "cell_type": "code",
   "execution_count": 93,
   "outputs": [
    {
     "data": {
      "text/plain": "'nokia 1100 and price is 0'"
     },
     "execution_count": 93,
     "metadata": {},
     "output_type": "execute_result"
    }
   ],
   "source": [
    "phone1.complete_specification"
   ],
   "metadata": {
    "collapsed": false,
    "ExecuteTime": {
     "end_time": "2023-11-15T20:14:04.127322600Z",
     "start_time": "2023-11-15T20:14:04.078020700Z"
    }
   },
   "id": "c3bba55adc73db9b"
  },
  {
   "cell_type": "code",
   "execution_count": 94,
   "outputs": [],
   "source": [
    "phone1.price = 5000"
   ],
   "metadata": {
    "collapsed": false,
    "ExecuteTime": {
     "end_time": "2023-11-15T20:14:14.069877400Z",
     "start_time": "2023-11-15T20:14:13.996409700Z"
    }
   },
   "id": "cd42867ea071c69e"
  },
  {
   "cell_type": "code",
   "execution_count": 95,
   "outputs": [
    {
     "data": {
      "text/plain": "5000"
     },
     "execution_count": 95,
     "metadata": {},
     "output_type": "execute_result"
    }
   ],
   "source": [
    "phone1.price"
   ],
   "metadata": {
    "collapsed": false,
    "ExecuteTime": {
     "end_time": "2023-11-15T20:14:20.182625800Z",
     "start_time": "2023-11-15T20:14:20.088154400Z"
    }
   },
   "id": "a11c3aabc4c81bed"
  },
  {
   "cell_type": "code",
   "execution_count": 96,
   "outputs": [
    {
     "data": {
      "text/plain": "'nokia 1100 and price is 5000'"
     },
     "execution_count": 96,
     "metadata": {},
     "output_type": "execute_result"
    }
   ],
   "source": [
    "phone1.complete_specification"
   ],
   "metadata": {
    "collapsed": false,
    "ExecuteTime": {
     "end_time": "2023-11-15T20:14:21.762575400Z",
     "start_time": "2023-11-15T20:14:21.722560Z"
    }
   },
   "id": "96aa11d7eed4f6d8"
  },
  {
   "cell_type": "code",
   "execution_count": null,
   "outputs": [],
   "source": [],
   "metadata": {
    "collapsed": false
   },
   "id": "8a9ffc3202453cde"
  }
 ],
 "metadata": {
  "kernelspec": {
   "display_name": "Python 3",
   "language": "python",
   "name": "python3"
  },
  "language_info": {
   "codemirror_mode": {
    "name": "ipython",
    "version": 2
   },
   "file_extension": ".py",
   "mimetype": "text/x-python",
   "name": "python",
   "nbconvert_exporter": "python",
   "pygments_lexer": "ipython2",
   "version": "2.7.6"
  }
 },
 "nbformat": 4,
 "nbformat_minor": 5
}
