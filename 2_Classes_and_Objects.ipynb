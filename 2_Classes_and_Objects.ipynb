{
 "cells": [
  {
   "cell_type": "markdown",
   "source": [
    "# CREATING CLASSES\n",
    "\n",
    "To create a class, use the keyword class:\n",
    "\n",
    "class student:\n",
    "  def __init__(self, name, age, grade):\n",
    "    self.name = name\n",
    "    self.age = age\n",
    "    self.grade = grade\n",
    "\n",
    "\"__init__\" is a special method used to initialize the object. It is called constructor in object oriented terminology.\n",
    "\n",
    "\"self\" is a reference to the current instance of the class, and is used to access variables that belongs to the class.\n",
    "\n",
    "It does not have to be named self , you can call it whatever you like, but it has to be the first parameter of any function in the class:\n",
    "\n",
    "After \"self\" parameter, you can add as many parameters as you want. \n",
    "\n",
    "Parameters are used to talk about behavior of next object, which you want to create in your class. \n",
    "    \n",
    "Parameters tells you what kind of object you want to create. It gives you a blueprint of the object. What qualities it will have, what attributes that will have, what methods will there be.\n",
    "\n",
    "We tell the class through defining parameters, what its object or instance will look like.\n",
    "\n",
    "The parameters are the attributes of the object.\n",
    "\n"
   ],
   "metadata": {
    "collapsed": false
   },
   "id": "394199ea9317a07e"
  },
  {
   "cell_type": "code",
   "execution_count": 1,
   "outputs": [],
   "source": [
    "# Creating a class\n",
    "\n",
    "class car:\n",
    "    def __init__(self, brand, model, price):\n",
    "        self.brand = brand\n",
    "        self.model = model\n",
    "        self.price = price\n",
    "        "
   ],
   "metadata": {
    "collapsed": false,
    "ExecuteTime": {
     "end_time": "2023-11-10T05:35:09.915358300Z",
     "start_time": "2023-11-10T05:35:09.899739Z"
    }
   },
   "id": "556eb50673ca169d"
  },
  {
   "cell_type": "code",
   "execution_count": 2,
   "outputs": [],
   "source": [
    "# Creating an object of the class    \n",
    "car1 = car(\"Toyota\", \"Corolla\", 10000)\n",
    "car2 = car(\"Honda\", \"Civic\", 12000)\n",
    "car3 = car(\"Suzuki\", \"Swift\", 8000)   "
   ],
   "metadata": {
    "collapsed": false,
    "ExecuteTime": {
     "end_time": "2023-11-10T05:35:39.335739500Z",
     "start_time": "2023-11-10T05:35:39.308796700Z"
    }
   },
   "id": "23711d74c2fc4c0a"
  },
  {
   "cell_type": "code",
   "execution_count": 3,
   "outputs": [
    {
     "data": {
      "text/plain": "'Toyota'"
     },
     "execution_count": 3,
     "metadata": {},
     "output_type": "execute_result"
    }
   ],
   "source": [
    "# Accessing the attributes of the object\n",
    "\n",
    "car1.brand"
   ],
   "metadata": {
    "collapsed": false,
    "ExecuteTime": {
     "end_time": "2023-11-10T05:35:48.537874400Z",
     "start_time": "2023-11-10T05:35:48.506610500Z"
    }
   },
   "id": "4f7e52ffbf6394b8"
  },
  {
   "cell_type": "code",
   "execution_count": 5,
   "outputs": [
    {
     "data": {
      "text/plain": "'Civic'"
     },
     "execution_count": 5,
     "metadata": {},
     "output_type": "execute_result"
    }
   ],
   "source": [
    "car2.model"
   ],
   "metadata": {
    "collapsed": false,
    "ExecuteTime": {
     "end_time": "2023-11-10T05:35:55.708703500Z",
     "start_time": "2023-11-10T05:35:55.661769300Z"
    }
   },
   "id": "8e9a0fc75dc772ac"
  },
  {
   "cell_type": "code",
   "execution_count": 6,
   "outputs": [
    {
     "data": {
      "text/plain": "8000"
     },
     "execution_count": 6,
     "metadata": {},
     "output_type": "execute_result"
    }
   ],
   "source": [
    "car3.price"
   ],
   "metadata": {
    "collapsed": false,
    "ExecuteTime": {
     "end_time": "2023-11-10T05:36:00.560764100Z",
     "start_time": "2023-11-10T05:36:00.529455300Z"
    }
   },
   "id": "c4e37b5ef87e135f"
  },
  {
   "cell_type": "code",
   "execution_count": 7,
   "outputs": [],
   "source": [
    "# Changing the attributes of the object\n",
    "\n",
    "car1.price = 15000"
   ],
   "metadata": {
    "collapsed": false,
    "ExecuteTime": {
     "end_time": "2023-11-10T05:36:16.053941900Z",
     "start_time": "2023-11-10T05:36:16.006986300Z"
    }
   },
   "id": "a08cf1b9f2963c04"
  },
  {
   "cell_type": "code",
   "execution_count": 8,
   "outputs": [
    {
     "data": {
      "text/plain": "15000"
     },
     "execution_count": 8,
     "metadata": {},
     "output_type": "execute_result"
    }
   ],
   "source": [
    "car1.price"
   ],
   "metadata": {
    "collapsed": false,
    "ExecuteTime": {
     "end_time": "2023-11-10T05:36:17.849671900Z",
     "start_time": "2023-11-10T05:36:17.771487900Z"
    }
   },
   "id": "5fbb26d8d1e75917"
  },
  {
   "cell_type": "code",
   "execution_count": 11,
   "outputs": [
    {
     "data": {
      "text/plain": "<__main__.car at 0x29d5167bbb0>"
     },
     "execution_count": 11,
     "metadata": {},
     "output_type": "execute_result"
    }
   ],
   "source": [
    "car1"
   ],
   "metadata": {
    "collapsed": false,
    "ExecuteTime": {
     "end_time": "2023-11-10T05:38:17.310194400Z",
     "start_time": "2023-11-10T05:38:17.263316300Z"
    }
   },
   "id": "e8c01ba42bfb86d0"
  },
  {
   "cell_type": "code",
   "execution_count": null,
   "outputs": [],
   "source": [],
   "metadata": {
    "collapsed": false
   },
   "id": "90c73ede58c58a71"
  }
 ],
 "metadata": {
  "kernelspec": {
   "display_name": "Python 3",
   "language": "python",
   "name": "python3"
  },
  "language_info": {
   "codemirror_mode": {
    "name": "ipython",
    "version": 2
   },
   "file_extension": ".py",
   "mimetype": "text/x-python",
   "name": "python",
   "nbconvert_exporter": "python",
   "pygments_lexer": "ipython2",
   "version": "2.7.6"
  }
 },
 "nbformat": 4,
 "nbformat_minor": 5
}
