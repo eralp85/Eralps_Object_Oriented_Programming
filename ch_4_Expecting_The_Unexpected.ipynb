{
 "cells": [
  {
   "cell_type": "markdown",
   "source": [
    "# EXPECTING THE UNEXPECTED"
   ],
   "metadata": {
    "collapsed": false
   },
   "id": "330cd51254e1eca8"
  },
  {
   "cell_type": "markdown",
   "source": [
    "Systems built with software can be fragile. We need to have a way to work around the spectrum of failures that plague computer systems.\n",
    "\n",
    "We will study **exceptions**, special error objects raised when a normal response is impossible.\n",
    "\n"
   ],
   "metadata": {
    "collapsed": false
   },
   "id": "c054b719f18355aa"
  },
  {
   "cell_type": "markdown",
   "source": [
    "# RAISING EXCEPTIONS\n",
    "\n",
    "Python's normal behaviour is to execute statements in the order they are found.\n",
    "\n",
    "A few statements, specifically `if`, `while`, and `for`, alter the simple top-to-bottom sequence of statement execution.\n",
    "\n",
    "Additionally, an exception can break the sequential flow of execution.\n",
    "\n",
    "Exceptions are raised, and this interrupts the sequential execution of statements.\n",
    "\n",
    "In Python, the exception that's raised is also an object. There are many different exception classes available and we can easily define more of our own.\n",
    "\n",
    "The one thing that all exceptions have in common is that they are instances of a class that inherits from the `BaseException` class.\n",
    "\n",
    "When an exception is raised, everything that was supposed to happen is pre-empted.\n",
    "\n",
    "Instead, exception handling replaces the normal processing.\n",
    "\n",
    "The easiest way to cause an exception to occur is to do something silly. \n",
    "\n",
    "For example, any time Python encounters a line in your program that it can't understand, it bails with SyntaxError, which is a type of exception.\n",
    "\n"
   ],
   "metadata": {
    "collapsed": false
   },
   "id": "844e601e1b27da10"
  },
  {
   "cell_type": "code",
   "execution_count": 3,
   "outputs": [
    {
     "ename": "SyntaxError",
     "evalue": "Missing parentheses in call to 'print'. Did you mean print(...)? (2804745302.py, line 1)",
     "output_type": "error",
     "traceback": [
      "\u001B[1;36m  File \u001B[1;32m\"C:\\Users\\ERALP\\AppData\\Local\\Temp\\ipykernel_4780\\2804745302.py\"\u001B[1;36m, line \u001B[1;32m1\u001B[0m\n\u001B[1;33m    print \"Hello, world!\"\u001B[0m\n\u001B[1;37m    ^\u001B[0m\n\u001B[1;31mSyntaxError\u001B[0m\u001B[1;31m:\u001B[0m Missing parentheses in call to 'print'. Did you mean print(...)?\n"
     ]
    }
   ],
   "source": [
    "print \"Hello, world!\""
   ],
   "metadata": {
    "collapsed": false,
    "ExecuteTime": {
     "end_time": "2023-12-12T04:01:23.176138400Z",
     "start_time": "2023-12-12T04:01:23.144882100Z"
    }
   },
   "id": "79923eb88685fa13"
  },
  {
   "cell_type": "markdown",
   "source": [
    "The print() function requires the arguments to be enclosed in parentheses. So, if we type the preceding command into a Python 3 interpreter, we raise a SyntaxError exception."
   ],
   "metadata": {
    "collapsed": false
   },
   "id": "312d35f39d8f815"
  },
  {
   "cell_type": "markdown",
   "source": [
    "We can partition exceptions into roughly four categories. Some cases are blurry, but some edges have a bright line separating them:\n",
    "\n",
    "Sometimes, exceptions are indicators of something clearly wrong in our program. Exceptions like SyntaxError and NameError mean we need to find the indicated line number and fix the problem.\n",
    "\n",
    "\n",
    "Sometimes, exceptions are indicators of something wrong in the Python runtime. There's a RuntimeError exception that can get raised. In many cases, this is resolved by downloading and installing a newer Python. \n",
    "\n",
    "Some exceptions are design problems. We may fail to account for an edge case properly and sometimes try to compute an average of an empty list. This will result in a `ZeroDivisionError`. When we find these, again, we'll have to go to the indicated line number. But once we've found the resulting exception, we'll need to work backwards from there to find out what caused the problem that raised the exception. "
   ],
   "metadata": {
    "collapsed": false
   },
   "id": "35aa77265b4483a7"
  },
  {
   "cell_type": "markdown",
   "source": [
    "# EFFECTS OF EXCEPTIONS\n",
    "\n",
    "When an exception is raised, it appears to stop the program execution immediately.\n",
    "\n",
    "Any lines that were supposed to run after the exception is raised are not executed unless the exception is handled by an `except` clause, the program will exit with an error message.\n",
    "\n",
    "We can control how exceptions propagate from the initial `raise` statement. We can react to and deal with the exception inside either of these methods in the call stack."
   ],
   "metadata": {
    "collapsed": false
   },
   "id": "aa28e21fbf98cdd"
  },
  {
   "cell_type": "markdown",
   "source": [
    "# HANDLING EXCEPTIONS\n",
    "\n",
    "If we encounter an exception situation, how should our code react to or recover from it? \n",
    "\n",
    "We handle exceptions by wrapping any code that might throw one (whether it is exception code itself, or a call to any function or method that may have an exception raised inside it) inside a `try...except` clause. \n",
    "\n",
    "The most basic syntax looks like this:"
   ],
   "metadata": {
    "collapsed": false
   },
   "id": "2b2ab2f554f0aa6e"
  },
  {
   "cell_type": "code",
   "execution_count": 4,
   "outputs": [],
   "source": [
    "from typing import NoReturn\n",
    "def never_returns() -> NoReturn:\n",
    "    print(\"I am about to raise an exception\")\n",
    "    raise Exception(\"This is always raised\")\n",
    "    print(\"This line will never execute\")\n",
    "    return \"I won't be returned\""
   ],
   "metadata": {
    "collapsed": false,
    "ExecuteTime": {
     "end_time": "2023-12-12T04:49:02.352792200Z",
     "start_time": "2023-12-12T04:49:02.326795100Z"
    }
   },
   "id": "7802c0b39d8a708b"
  },
  {
   "cell_type": "code",
   "execution_count": 5,
   "outputs": [
    {
     "name": "stdout",
     "output_type": "stream",
     "text": [
      "I am about to raise an exception\n"
     ]
    },
    {
     "ename": "Exception",
     "evalue": "This is always raised",
     "output_type": "error",
     "traceback": [
      "\u001B[1;31m---------------------------------------------------------------------------\u001B[0m",
      "\u001B[1;31mException\u001B[0m                                 Traceback (most recent call last)",
      "\u001B[1;32m~\\AppData\\Local\\Temp\\ipykernel_4780\\752901515.py\u001B[0m in \u001B[0;36m<module>\u001B[1;34m\u001B[0m\n\u001B[1;32m----> 1\u001B[1;33m \u001B[0mnever_returns\u001B[0m\u001B[1;33m(\u001B[0m\u001B[1;33m)\u001B[0m\u001B[1;33m\u001B[0m\u001B[1;33m\u001B[0m\u001B[0m\n\u001B[0m",
      "\u001B[1;32m~\\AppData\\Local\\Temp\\ipykernel_4780\\2587595344.py\u001B[0m in \u001B[0;36mnever_returns\u001B[1;34m()\u001B[0m\n\u001B[0;32m      2\u001B[0m \u001B[1;32mdef\u001B[0m \u001B[0mnever_returns\u001B[0m\u001B[1;33m(\u001B[0m\u001B[1;33m)\u001B[0m \u001B[1;33m->\u001B[0m \u001B[0mNoReturn\u001B[0m\u001B[1;33m:\u001B[0m\u001B[1;33m\u001B[0m\u001B[1;33m\u001B[0m\u001B[0m\n\u001B[0;32m      3\u001B[0m     \u001B[0mprint\u001B[0m\u001B[1;33m(\u001B[0m\u001B[1;34m\"I am about to raise an exception\"\u001B[0m\u001B[1;33m)\u001B[0m\u001B[1;33m\u001B[0m\u001B[1;33m\u001B[0m\u001B[0m\n\u001B[1;32m----> 4\u001B[1;33m     \u001B[1;32mraise\u001B[0m \u001B[0mException\u001B[0m\u001B[1;33m(\u001B[0m\u001B[1;34m\"This is always raised\"\u001B[0m\u001B[1;33m)\u001B[0m\u001B[1;33m\u001B[0m\u001B[1;33m\u001B[0m\u001B[0m\n\u001B[0m\u001B[0;32m      5\u001B[0m     \u001B[0mprint\u001B[0m\u001B[1;33m(\u001B[0m\u001B[1;34m\"This line will never execute\"\u001B[0m\u001B[1;33m)\u001B[0m\u001B[1;33m\u001B[0m\u001B[1;33m\u001B[0m\u001B[0m\n\u001B[0;32m      6\u001B[0m     \u001B[1;32mreturn\u001B[0m \u001B[1;34m\"I won't be returned\"\u001B[0m\u001B[1;33m\u001B[0m\u001B[1;33m\u001B[0m\u001B[0m\n",
      "\u001B[1;31mException\u001B[0m: This is always raised"
     ]
    }
   ],
   "source": [
    "never_returns()"
   ],
   "metadata": {
    "collapsed": false,
    "ExecuteTime": {
     "end_time": "2023-12-12T04:49:10.084740300Z",
     "start_time": "2023-12-12T04:49:09.156245200Z"
    }
   },
   "id": "6c6cf96c4b7368f2"
  },
  {
   "cell_type": "code",
   "execution_count": 13,
   "outputs": [],
   "source": [
    "def handler() -> None:\n",
    "    try:\n",
    "        never_returns()\n",
    "        print(\"Never executed\")\n",
    "    except Exception as ex:\n",
    "        print(f\"I caught an exception: {ex!r}\")\n",
    "    print(\"Executed after the exception\")\n",
    "\n"
   ],
   "metadata": {
    "collapsed": false,
    "ExecuteTime": {
     "end_time": "2023-12-12T04:52:53.289395800Z",
     "start_time": "2023-12-12T04:52:53.231445500Z"
    }
   },
   "id": "fc978a76c2901387"
  },
  {
   "cell_type": "code",
   "execution_count": 14,
   "outputs": [
    {
     "name": "stdout",
     "output_type": "stream",
     "text": [
      "I am about to raise an exception\n",
      "I caught an exception: Exception('This is always raised')\n",
      "Executed after the exception\n"
     ]
    }
   ],
   "source": [
    "handler()"
   ],
   "metadata": {
    "collapsed": false,
    "ExecuteTime": {
     "end_time": "2023-12-12T04:52:55.020707100Z",
     "start_time": "2023-12-12T04:52:54.992468Z"
    }
   },
   "id": "beecdd3fc5a58d06"
  },
  {
   "cell_type": "markdown",
   "source": [
    "The `never_returns()` function happily informs us that it is about to raise an exception and raises it. \n",
    "\n",
    "The `handler()` function's except clause catches the exception. Once caught, we are able to clean up after ourselves (in this case, by outputting that we are handling the situation), and continue on our way. \n",
    "\n",
    "The remainder of the code in the `never_returns()` function remains unexecuted, but the code in the `handler()` function after the try: statement is able to recover and continue.\n",
    "\n",
    "Note the indentation around `try and except`. The `try` clause wraps any code that might throw an exception. The `except` clause is then back on the same indentation level as the `try` line. Any code to handle the exception is indented inside the `except` clause. Then normal code resumes at the original indentation level."
   ],
   "metadata": {
    "collapsed": false
   },
   "id": "afde037588668045"
  },
  {
   "cell_type": "markdown",
   "source": [
    "The problem with the preceding code is that it uses the `Exception` class to match any type of exception. \n",
    "\n",
    "What if we were writing some code that could raise either `TypeError` or `ZeroDivisionError`? \n",
    "\n",
    "We might need to catch `ZeroDivisionError` because it reflects a known object state, but let any other exceptions propagate to the console because they reflect bugs we need to catch and kill. \n",
    "\n",
    "Can you guess the syntax?"
   ],
   "metadata": {
    "collapsed": false
   },
   "id": "e7e7d7f0447baf65"
  },
  {
   "cell_type": "code",
   "execution_count": 15,
   "outputs": [],
   "source": [
    "from typing import Union\n",
    "\n",
    "def funny_division(divisor:float) -> Union[str, float]:\n",
    "    try:\n",
    "        return 100 / divisor\n",
    "    except ZeroDivisionError:\n",
    "        return \"Zero is not a good idea!\"\n"
   ],
   "metadata": {
    "collapsed": false,
    "ExecuteTime": {
     "end_time": "2023-12-12T05:16:06.024498Z",
     "start_time": "2023-12-12T05:16:05.977341800Z"
    }
   },
   "id": "1ce2df3a7dc95456"
  },
  {
   "cell_type": "markdown",
   "source": [
    "This function does a simple computation. We've provided the type hint of float for the divisor parameter. We can provide an integer, and ordinary Python type coercion will work. \n",
    "\n",
    "The mypy tool is aware of the ways integers can be coerced to floats, saving it from having to obsess over the parameter types.\n",
    "\n",
    "We do, however, have to be very clear about the return types. \n",
    "\n",
    "If we don't raise an exception, we'll compute and return a floating result. If we do raise a `ZeroDivisionError` exception, it will be handled, and we'll return a string result. \n",
    "\n",
    "Any other exceptions? Let's try it and see:"
   ],
   "metadata": {
    "collapsed": false
   },
   "id": "c0a8abb94bc0de93"
  },
  {
   "cell_type": "code",
   "execution_count": 16,
   "outputs": [
    {
     "data": {
      "text/plain": "'Zero is not a good idea!'"
     },
     "execution_count": 16,
     "metadata": {},
     "output_type": "execute_result"
    }
   ],
   "source": [
    "funny_division(0)"
   ],
   "metadata": {
    "collapsed": false,
    "ExecuteTime": {
     "end_time": "2023-12-12T05:17:23.066043300Z",
     "start_time": "2023-12-12T05:17:23.003523900Z"
    }
   },
   "id": "542907f7314c735d"
  },
  {
   "cell_type": "code",
   "execution_count": 19,
   "outputs": [
    {
     "name": "stdout",
     "output_type": "stream",
     "text": [
      "2.0\n"
     ]
    }
   ],
   "source": [
    "print(funny_division(50.0))"
   ],
   "metadata": {
    "collapsed": false,
    "ExecuteTime": {
     "end_time": "2023-12-12T05:17:58.104320200Z",
     "start_time": "2023-12-12T05:17:58.088688900Z"
    }
   },
   "id": "563a0c8b80bf0879"
  },
  {
   "cell_type": "code",
   "execution_count": 18,
   "outputs": [
    {
     "ename": "TypeError",
     "evalue": "unsupported operand type(s) for /: 'int' and 'str'",
     "output_type": "error",
     "traceback": [
      "\u001B[1;31m---------------------------------------------------------------------------\u001B[0m",
      "\u001B[1;31mTypeError\u001B[0m                                 Traceback (most recent call last)",
      "\u001B[1;32m~\\AppData\\Local\\Temp\\ipykernel_4780\\2638048427.py\u001B[0m in \u001B[0;36m<module>\u001B[1;34m\u001B[0m\n\u001B[1;32m----> 1\u001B[1;33m \u001B[0mprint\u001B[0m\u001B[1;33m(\u001B[0m\u001B[0mfunny_division\u001B[0m\u001B[1;33m(\u001B[0m\u001B[1;34m\"hello\"\u001B[0m\u001B[1;33m)\u001B[0m\u001B[1;33m)\u001B[0m\u001B[1;33m\u001B[0m\u001B[1;33m\u001B[0m\u001B[0m\n\u001B[0m",
      "\u001B[1;32m~\\AppData\\Local\\Temp\\ipykernel_4780\\1620237365.py\u001B[0m in \u001B[0;36mfunny_division\u001B[1;34m(divisor)\u001B[0m\n\u001B[0;32m      3\u001B[0m \u001B[1;32mdef\u001B[0m \u001B[0mfunny_division\u001B[0m\u001B[1;33m(\u001B[0m\u001B[0mdivisor\u001B[0m\u001B[1;33m:\u001B[0m\u001B[0mfloat\u001B[0m\u001B[1;33m)\u001B[0m \u001B[1;33m->\u001B[0m \u001B[0mUnion\u001B[0m\u001B[1;33m[\u001B[0m\u001B[0mstr\u001B[0m\u001B[1;33m,\u001B[0m \u001B[0mfloat\u001B[0m\u001B[1;33m]\u001B[0m\u001B[1;33m:\u001B[0m\u001B[1;33m\u001B[0m\u001B[1;33m\u001B[0m\u001B[0m\n\u001B[0;32m      4\u001B[0m     \u001B[1;32mtry\u001B[0m\u001B[1;33m:\u001B[0m\u001B[1;33m\u001B[0m\u001B[1;33m\u001B[0m\u001B[0m\n\u001B[1;32m----> 5\u001B[1;33m         \u001B[1;32mreturn\u001B[0m \u001B[1;36m100\u001B[0m \u001B[1;33m/\u001B[0m \u001B[0mdivisor\u001B[0m\u001B[1;33m\u001B[0m\u001B[1;33m\u001B[0m\u001B[0m\n\u001B[0m\u001B[0;32m      6\u001B[0m     \u001B[1;32mexcept\u001B[0m \u001B[0mZeroDivisionError\u001B[0m\u001B[1;33m:\u001B[0m\u001B[1;33m\u001B[0m\u001B[1;33m\u001B[0m\u001B[0m\n\u001B[0;32m      7\u001B[0m         \u001B[1;32mreturn\u001B[0m \u001B[1;34m\"Zero is not a good idea!\"\u001B[0m\u001B[1;33m\u001B[0m\u001B[1;33m\u001B[0m\u001B[0m\n",
      "\u001B[1;31mTypeError\u001B[0m: unsupported operand type(s) for /: 'int' and 'str'"
     ]
    }
   ],
   "source": [
    "print(funny_division(\"hello\"))"
   ],
   "metadata": {
    "collapsed": false,
    "ExecuteTime": {
     "end_time": "2023-12-12T05:17:55.733458400Z",
     "start_time": "2023-12-12T05:17:55.645264900Z"
    }
   },
   "id": "736d92c73aaf96bd"
  },
  {
   "cell_type": "markdown",
   "source": [
    " If we don't specify matching the `ZeroDivisionError` exception class, our handler would also see the `TypeError`, and accuse us of dividing by zero when we sent it a string, which is not a proper behavior at all.\n",
    " \n",
    "Python also has a bare except syntax. Using `except`: with no exception class to match is widely frowned upon because it will prevent an application from simply crashing when it should. \n",
    "\n",
    "We generally use `except Exception`: to explicitly catch a sensible set of exceptions.\n",
    "\n",
    "The bare except syntax is actually the same as using `except BaseException`:, which attempts to handle system-level exceptions that are often impossible to recover from. \n",
    "\n",
    "Indeed, this can make it impossible to crash your application when it's misbehaving."
   ],
   "metadata": {
    "collapsed": false
   },
   "id": "b48b07d8da1fbd6"
  },
  {
   "cell_type": "markdown",
   "source": [
    "We can even catch two or more different exceptions and handle them with the same code. \n",
    "\n",
    "Here's an example that raises three different types of exceptions. \n",
    "\n",
    "It handles TypeError and ZeroDivisionError with the same exception handler, but it may also raise a ValueError error if you supply the number 13:"
   ],
   "metadata": {
    "collapsed": false
   },
   "id": "e6a5b1704670d41"
  },
  {
   "cell_type": "code",
   "execution_count": 20,
   "outputs": [],
   "source": [
    "def funny_division2(divisor:float) -> Union[str, float]:\n",
    "    try:\n",
    "        if divisor == 13:\n",
    "            raise ValueError(\"13 is an unlucky number\")\n",
    "        return 100 / divisor\n",
    "    except (ZeroDivisionError, TypeError):\n",
    "        return \"Enter a number other than zero\""
   ],
   "metadata": {
    "collapsed": false,
    "ExecuteTime": {
     "end_time": "2023-12-12T05:25:17.160094400Z",
     "start_time": "2023-12-12T05:25:17.112718800Z"
    }
   },
   "id": "4fdf77f5216cc0c3"
  },
  {
   "cell_type": "markdown",
   "source": [
    "We've included multiple exception classes in the except clause. This lets us handle a variety of conditions with a common handler. \n",
    "\n",
    "Here's how we can test this with a bunch of different values:"
   ],
   "metadata": {
    "collapsed": false
   },
   "id": "2b4fdbefa167a71c"
  },
  {
   "cell_type": "code",
   "execution_count": 22,
   "outputs": [
    {
     "name": "stdout",
     "output_type": "stream",
     "text": [
      "Testing 0: Result: Enter a number other than zero\n",
      "Testing 'hello': Result: Enter a number other than zero\n",
      "Testing 50.0: Result: 2.0\n",
      "Testing 13: "
     ]
    },
    {
     "ename": "ValueError",
     "evalue": "13 is an unlucky number",
     "output_type": "error",
     "traceback": [
      "\u001B[1;31m---------------------------------------------------------------------------\u001B[0m",
      "\u001B[1;31mValueError\u001B[0m                                Traceback (most recent call last)",
      "\u001B[1;32m~\\AppData\\Local\\Temp\\ipykernel_4780\\1944626211.py\u001B[0m in \u001B[0;36m<module>\u001B[1;34m\u001B[0m\n\u001B[0;32m      1\u001B[0m \u001B[1;32mfor\u001B[0m \u001B[0mval\u001B[0m \u001B[1;32min\u001B[0m \u001B[1;33m(\u001B[0m\u001B[1;36m0\u001B[0m\u001B[1;33m,\u001B[0m \u001B[1;34m\"hello\"\u001B[0m\u001B[1;33m,\u001B[0m \u001B[1;36m50.0\u001B[0m\u001B[1;33m,\u001B[0m \u001B[1;36m13\u001B[0m\u001B[1;33m)\u001B[0m\u001B[1;33m:\u001B[0m\u001B[1;33m\u001B[0m\u001B[1;33m\u001B[0m\u001B[0m\n\u001B[0;32m      2\u001B[0m     \u001B[0mprint\u001B[0m\u001B[1;33m(\u001B[0m\u001B[1;34mf\"Testing {val!r}:\"\u001B[0m\u001B[1;33m,\u001B[0m \u001B[0mend\u001B[0m\u001B[1;33m=\u001B[0m\u001B[1;34m\" \"\u001B[0m\u001B[1;33m)\u001B[0m\u001B[1;33m\u001B[0m\u001B[1;33m\u001B[0m\u001B[0m\n\u001B[1;32m----> 3\u001B[1;33m     \u001B[0mprint\u001B[0m\u001B[1;33m(\u001B[0m\u001B[1;34mf\"Result: {funny_division2(val)}\"\u001B[0m\u001B[1;33m)\u001B[0m\u001B[1;33m\u001B[0m\u001B[1;33m\u001B[0m\u001B[0m\n\u001B[0m",
      "\u001B[1;32m~\\AppData\\Local\\Temp\\ipykernel_4780\\3809773482.py\u001B[0m in \u001B[0;36mfunny_division2\u001B[1;34m(divisor)\u001B[0m\n\u001B[0;32m      2\u001B[0m     \u001B[1;32mtry\u001B[0m\u001B[1;33m:\u001B[0m\u001B[1;33m\u001B[0m\u001B[1;33m\u001B[0m\u001B[0m\n\u001B[0;32m      3\u001B[0m         \u001B[1;32mif\u001B[0m \u001B[0mdivisor\u001B[0m \u001B[1;33m==\u001B[0m \u001B[1;36m13\u001B[0m\u001B[1;33m:\u001B[0m\u001B[1;33m\u001B[0m\u001B[1;33m\u001B[0m\u001B[0m\n\u001B[1;32m----> 4\u001B[1;33m             \u001B[1;32mraise\u001B[0m \u001B[0mValueError\u001B[0m\u001B[1;33m(\u001B[0m\u001B[1;34m\"13 is an unlucky number\"\u001B[0m\u001B[1;33m)\u001B[0m\u001B[1;33m\u001B[0m\u001B[1;33m\u001B[0m\u001B[0m\n\u001B[0m\u001B[0;32m      5\u001B[0m         \u001B[1;32mreturn\u001B[0m \u001B[1;36m100\u001B[0m \u001B[1;33m/\u001B[0m \u001B[0mdivisor\u001B[0m\u001B[1;33m\u001B[0m\u001B[1;33m\u001B[0m\u001B[0m\n\u001B[0;32m      6\u001B[0m     \u001B[1;32mexcept\u001B[0m \u001B[1;33m(\u001B[0m\u001B[0mZeroDivisionError\u001B[0m\u001B[1;33m,\u001B[0m \u001B[0mTypeError\u001B[0m\u001B[1;33m)\u001B[0m\u001B[1;33m:\u001B[0m\u001B[1;33m\u001B[0m\u001B[1;33m\u001B[0m\u001B[0m\n",
      "\u001B[1;31mValueError\u001B[0m: 13 is an unlucky number"
     ]
    }
   ],
   "source": [
    "for val in (0, \"hello\", 50.0, 13):\n",
    "    print(f\"Testing {val!r}:\", end=\" \")\n",
    "    print(f\"Result: {funny_division2(val)}\")"
   ],
   "metadata": {
    "collapsed": false,
    "ExecuteTime": {
     "end_time": "2023-12-12T05:26:33.186106100Z",
     "start_time": "2023-12-12T05:26:33.139226900Z"
    }
   },
   "id": "547bdc742e8bb21d"
  },
  {
   "cell_type": "code",
   "execution_count": null,
   "outputs": [],
   "source": [],
   "metadata": {
    "collapsed": false
   },
   "id": "d14f3aa6919e8724"
  }
 ],
 "metadata": {
  "kernelspec": {
   "display_name": "Python 3",
   "language": "python",
   "name": "python3"
  },
  "language_info": {
   "codemirror_mode": {
    "name": "ipython",
    "version": 2
   },
   "file_extension": ".py",
   "mimetype": "text/x-python",
   "name": "python",
   "nbconvert_exporter": "python",
   "pygments_lexer": "ipython2",
   "version": "2.7.6"
  }
 },
 "nbformat": 4,
 "nbformat_minor": 5
}
