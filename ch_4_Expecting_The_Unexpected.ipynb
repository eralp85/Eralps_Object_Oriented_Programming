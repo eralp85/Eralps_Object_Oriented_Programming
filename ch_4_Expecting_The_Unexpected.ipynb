{
 "cells": [
  {
   "cell_type": "markdown",
   "source": [
    "# EXPECTING THE UNEXPECTED"
   ],
   "metadata": {
    "collapsed": false
   },
   "id": "330cd51254e1eca8"
  },
  {
   "cell_type": "markdown",
   "source": [
    "Systems built with software can be fragile. We need to have a way to work around the spectrum of failures that plague computer systems.\n",
    "\n",
    "We will study **exceptions**, special error objects raised when a normal response is impossible.\n",
    "\n"
   ],
   "metadata": {
    "collapsed": false
   },
   "id": "c054b719f18355aa"
  },
  {
   "cell_type": "markdown",
   "source": [
    "# RAISING EXCEPTIONS\n",
    "\n",
    "Python's normal behaviour is to execute statements in the order they are found.\n",
    "\n",
    "A few statements, specifically `if`, `while`, and `for`, alter the simple top-to-bottom sequence of statement execution.\n",
    "\n",
    "Additionally, an exception can break the sequential flow of execution.\n",
    "\n",
    "Exceptions are raised, and this interrupts the sequential execution of statements.\n",
    "\n",
    "In Python, the exception that's raised is also an object. There are many different exception classes available and we can easily define more of our own.\n",
    "\n",
    "The one thing that all exceptions have in common is that they are instances of a class that inherits from the `BaseException` class.\n",
    "\n",
    "When an exception is raised, everything that was supposed to happen is pre-empted.\n",
    "\n",
    "Instead, exception handling replaces the normal processing.\n",
    "\n",
    "The easiest way to cause an exception to occur is to do something silly. \n",
    "\n",
    "For example, any time Python encounters a line in your program that it can't understand, it bails with SyntaxError, which is a type of exception.\n",
    "\n"
   ],
   "metadata": {
    "collapsed": false
   },
   "id": "844e601e1b27da10"
  },
  {
   "cell_type": "code",
   "execution_count": 1,
   "outputs": [
    {
     "ename": "SyntaxError",
     "evalue": "Missing parentheses in call to 'print'. Did you mean print(...)? (2804745302.py, line 1)",
     "output_type": "error",
     "traceback": [
      "\u001B[1;36m  File \u001B[1;32m\"C:\\Users\\ERALP\\AppData\\Local\\Temp\\ipykernel_16312\\2804745302.py\"\u001B[1;36m, line \u001B[1;32m1\u001B[0m\n\u001B[1;33m    print \"Hello, world!\"\u001B[0m\n\u001B[1;37m    ^\u001B[0m\n\u001B[1;31mSyntaxError\u001B[0m\u001B[1;31m:\u001B[0m Missing parentheses in call to 'print'. Did you mean print(...)?\n"
     ]
    }
   ],
   "source": [
    "print \"Hello, world!\""
   ],
   "metadata": {
    "collapsed": false,
    "ExecuteTime": {
     "end_time": "2023-12-15T03:47:06.513186900Z",
     "start_time": "2023-12-15T03:47:06.341274800Z"
    }
   },
   "id": "79923eb88685fa13"
  },
  {
   "cell_type": "markdown",
   "source": [
    "The print() function requires the arguments to be enclosed in parentheses. So, if we type the preceding command into a Python 3 interpreter, we raise a SyntaxError exception."
   ],
   "metadata": {
    "collapsed": false
   },
   "id": "312d35f39d8f815"
  },
  {
   "cell_type": "markdown",
   "source": [
    "We can partition exceptions into roughly four categories. Some cases are blurry, but some edges have a bright line separating them:\n",
    "\n",
    "Sometimes, exceptions are indicators of something clearly wrong in our program. Exceptions like SyntaxError and NameError mean we need to find the indicated line number and fix the problem.\n",
    "\n",
    "\n",
    "Sometimes, exceptions are indicators of something wrong in the Python runtime. There's a RuntimeError exception that can get raised. In many cases, this is resolved by downloading and installing a newer Python. \n",
    "\n",
    "Some exceptions are design problems. We may fail to account for an edge case properly and sometimes try to compute an average of an empty list. This will result in a `ZeroDivisionError`. When we find these, again, we'll have to go to the indicated line number. But once we've found the resulting exception, we'll need to work backwards from there to find out what caused the problem that raised the exception. "
   ],
   "metadata": {
    "collapsed": false
   },
   "id": "35aa77265b4483a7"
  },
  {
   "cell_type": "markdown",
   "source": [
    "# EFFECTS OF EXCEPTIONS\n",
    "\n",
    "When an exception is raised, it appears to stop the program execution immediately.\n",
    "\n",
    "Any lines that were supposed to run after the exception is raised are not executed unless the exception is handled by an `except` clause, the program will exit with an error message.\n",
    "\n",
    "We can control how exceptions propagate from the initial `raise` statement. We can react to and deal with the exception inside either of these methods in the call stack."
   ],
   "metadata": {
    "collapsed": false
   },
   "id": "aa28e21fbf98cdd"
  },
  {
   "cell_type": "markdown",
   "source": [
    "# HANDLING EXCEPTIONS\n",
    "\n",
    "If we encounter an exception situation, how should our code react to or recover from it? \n",
    "\n",
    "We handle exceptions by wrapping any code that might throw one (whether it is exception code itself, or a call to any function or method that may have an exception raised inside it) inside a `try...except` clause. \n",
    "\n",
    "The most basic syntax looks like this:"
   ],
   "metadata": {
    "collapsed": false
   },
   "id": "2b2ab2f554f0aa6e"
  },
  {
   "cell_type": "code",
   "execution_count": 2,
   "outputs": [],
   "source": [
    "from typing import NoReturn\n",
    "def never_returns() -> NoReturn:\n",
    "    print(\"I am about to raise an exception\")\n",
    "    raise Exception(\"This is always raised\")\n",
    "    print(\"This line will never execute\")\n",
    "    return \"I won't be returned\""
   ],
   "metadata": {
    "collapsed": false,
    "ExecuteTime": {
     "end_time": "2023-12-15T03:47:16.986027900Z",
     "start_time": "2023-12-15T03:47:16.861614300Z"
    }
   },
   "id": "7802c0b39d8a708b"
  },
  {
   "cell_type": "code",
   "execution_count": 3,
   "outputs": [
    {
     "name": "stdout",
     "output_type": "stream",
     "text": [
      "I am about to raise an exception\n"
     ]
    },
    {
     "ename": "Exception",
     "evalue": "This is always raised",
     "output_type": "error",
     "traceback": [
      "\u001B[1;31m---------------------------------------------------------------------------\u001B[0m",
      "\u001B[1;31mException\u001B[0m                                 Traceback (most recent call last)",
      "\u001B[1;32m~\\AppData\\Local\\Temp\\ipykernel_16312\\752901515.py\u001B[0m in \u001B[0;36m<module>\u001B[1;34m\u001B[0m\n\u001B[1;32m----> 1\u001B[1;33m \u001B[0mnever_returns\u001B[0m\u001B[1;33m(\u001B[0m\u001B[1;33m)\u001B[0m\u001B[1;33m\u001B[0m\u001B[1;33m\u001B[0m\u001B[0m\n\u001B[0m",
      "\u001B[1;32m~\\AppData\\Local\\Temp\\ipykernel_16312\\2587595344.py\u001B[0m in \u001B[0;36mnever_returns\u001B[1;34m()\u001B[0m\n\u001B[0;32m      2\u001B[0m \u001B[1;32mdef\u001B[0m \u001B[0mnever_returns\u001B[0m\u001B[1;33m(\u001B[0m\u001B[1;33m)\u001B[0m \u001B[1;33m->\u001B[0m \u001B[0mNoReturn\u001B[0m\u001B[1;33m:\u001B[0m\u001B[1;33m\u001B[0m\u001B[1;33m\u001B[0m\u001B[0m\n\u001B[0;32m      3\u001B[0m     \u001B[0mprint\u001B[0m\u001B[1;33m(\u001B[0m\u001B[1;34m\"I am about to raise an exception\"\u001B[0m\u001B[1;33m)\u001B[0m\u001B[1;33m\u001B[0m\u001B[1;33m\u001B[0m\u001B[0m\n\u001B[1;32m----> 4\u001B[1;33m     \u001B[1;32mraise\u001B[0m \u001B[0mException\u001B[0m\u001B[1;33m(\u001B[0m\u001B[1;34m\"This is always raised\"\u001B[0m\u001B[1;33m)\u001B[0m\u001B[1;33m\u001B[0m\u001B[1;33m\u001B[0m\u001B[0m\n\u001B[0m\u001B[0;32m      5\u001B[0m     \u001B[0mprint\u001B[0m\u001B[1;33m(\u001B[0m\u001B[1;34m\"This line will never execute\"\u001B[0m\u001B[1;33m)\u001B[0m\u001B[1;33m\u001B[0m\u001B[1;33m\u001B[0m\u001B[0m\n\u001B[0;32m      6\u001B[0m     \u001B[1;32mreturn\u001B[0m \u001B[1;34m\"I won't be returned\"\u001B[0m\u001B[1;33m\u001B[0m\u001B[1;33m\u001B[0m\u001B[0m\n",
      "\u001B[1;31mException\u001B[0m: This is always raised"
     ]
    }
   ],
   "source": [
    "never_returns()"
   ],
   "metadata": {
    "collapsed": false,
    "ExecuteTime": {
     "end_time": "2023-12-15T03:47:17.263369400Z",
     "start_time": "2023-12-15T03:47:16.876637800Z"
    }
   },
   "id": "6c6cf96c4b7368f2"
  },
  {
   "cell_type": "code",
   "execution_count": 4,
   "outputs": [],
   "source": [
    "def handler() -> None:\n",
    "    try:\n",
    "        never_returns()\n",
    "        print(\"Never executed\")\n",
    "    except Exception as ex:\n",
    "        print(f\"I caught an exception: {ex!r}\")\n",
    "    print(\"Executed after the exception\")\n",
    "\n"
   ],
   "metadata": {
    "collapsed": false,
    "ExecuteTime": {
     "end_time": "2023-12-15T03:47:21.054328600Z",
     "start_time": "2023-12-15T03:47:20.929335500Z"
    }
   },
   "id": "fc978a76c2901387"
  },
  {
   "cell_type": "code",
   "execution_count": 5,
   "outputs": [
    {
     "name": "stdout",
     "output_type": "stream",
     "text": [
      "I am about to raise an exception\n",
      "I caught an exception: Exception('This is always raised')\n",
      "Executed after the exception\n"
     ]
    }
   ],
   "source": [
    "handler()"
   ],
   "metadata": {
    "collapsed": false,
    "ExecuteTime": {
     "end_time": "2023-12-15T03:47:21.132458300Z",
     "start_time": "2023-12-15T03:47:20.944964Z"
    }
   },
   "id": "beecdd3fc5a58d06"
  },
  {
   "cell_type": "markdown",
   "source": [
    "The `never_returns()` function happily informs us that it is about to raise an exception and raises it. \n",
    "\n",
    "The `handler()` function's except clause catches the exception. Once caught, we are able to clean up after ourselves (in this case, by outputting that we are handling the situation), and continue on our way. \n",
    "\n",
    "The remainder of the code in the `never_returns()` function remains unexecuted, but the code in the `handler()` function after the try: statement is able to recover and continue.\n",
    "\n",
    "Note the indentation around `try and except`. The `try` clause wraps any code that might throw an exception. The `except` clause is then back on the same indentation level as the `try` line. Any code to handle the exception is indented inside the `except` clause. Then normal code resumes at the original indentation level."
   ],
   "metadata": {
    "collapsed": false
   },
   "id": "afde037588668045"
  },
  {
   "cell_type": "markdown",
   "source": [
    "The problem with the preceding code is that it uses the `Exception` class to match any type of exception. \n",
    "\n",
    "What if we were writing some code that could raise either `TypeError` or `ZeroDivisionError`? \n",
    "\n",
    "We might need to catch `ZeroDivisionError` because it reflects a known object state, but let any other exceptions propagate to the console because they reflect bugs we need to catch and kill. \n",
    "\n",
    "Can you guess the syntax?"
   ],
   "metadata": {
    "collapsed": false
   },
   "id": "e7e7d7f0447baf65"
  },
  {
   "cell_type": "code",
   "execution_count": 6,
   "outputs": [],
   "source": [
    "from typing import Union\n",
    "\n",
    "def funny_division(divisor:float) -> Union[str, float]:\n",
    "    try:\n",
    "        return 100 / divisor\n",
    "    except ZeroDivisionError:\n",
    "        return \"Zero is not a good idea!\"\n"
   ],
   "metadata": {
    "collapsed": false,
    "ExecuteTime": {
     "end_time": "2023-12-15T03:47:21.179672200Z",
     "start_time": "2023-12-15T03:47:20.960577Z"
    }
   },
   "id": "1ce2df3a7dc95456"
  },
  {
   "cell_type": "markdown",
   "source": [
    "This function does a simple computation. We've provided the type hint of float for the divisor parameter. We can provide an integer, and ordinary Python type coercion will work. \n",
    "\n",
    "The mypy tool is aware of the ways integers can be coerced to floats, saving it from having to obsess over the parameter types.\n",
    "\n",
    "We do, however, have to be very clear about the return types. \n",
    "\n",
    "If we don't raise an exception, we'll compute and return a floating result. If we do raise a `ZeroDivisionError` exception, it will be handled, and we'll return a string result. \n",
    "\n",
    "Any other exceptions? Let's try it and see:"
   ],
   "metadata": {
    "collapsed": false
   },
   "id": "c0a8abb94bc0de93"
  },
  {
   "cell_type": "code",
   "execution_count": 7,
   "outputs": [
    {
     "data": {
      "text/plain": "'Zero is not a good idea!'"
     },
     "execution_count": 7,
     "metadata": {},
     "output_type": "execute_result"
    }
   ],
   "source": [
    "funny_division(0)"
   ],
   "metadata": {
    "collapsed": false,
    "ExecuteTime": {
     "end_time": "2023-12-15T03:47:21.179672200Z",
     "start_time": "2023-12-15T03:47:20.976205100Z"
    }
   },
   "id": "542907f7314c735d"
  },
  {
   "cell_type": "code",
   "execution_count": 8,
   "outputs": [
    {
     "name": "stdout",
     "output_type": "stream",
     "text": [
      "2.0\n"
     ]
    }
   ],
   "source": [
    "print(funny_division(50.0))"
   ],
   "metadata": {
    "collapsed": false,
    "ExecuteTime": {
     "end_time": "2023-12-15T03:47:21.195341300Z",
     "start_time": "2023-12-15T03:47:21.007456800Z"
    }
   },
   "id": "563a0c8b80bf0879"
  },
  {
   "cell_type": "code",
   "execution_count": 9,
   "outputs": [
    {
     "ename": "TypeError",
     "evalue": "unsupported operand type(s) for /: 'int' and 'str'",
     "output_type": "error",
     "traceback": [
      "\u001B[1;31m---------------------------------------------------------------------------\u001B[0m",
      "\u001B[1;31mTypeError\u001B[0m                                 Traceback (most recent call last)",
      "\u001B[1;32m~\\AppData\\Local\\Temp\\ipykernel_16312\\2638048427.py\u001B[0m in \u001B[0;36m<module>\u001B[1;34m\u001B[0m\n\u001B[1;32m----> 1\u001B[1;33m \u001B[0mprint\u001B[0m\u001B[1;33m(\u001B[0m\u001B[0mfunny_division\u001B[0m\u001B[1;33m(\u001B[0m\u001B[1;34m\"hello\"\u001B[0m\u001B[1;33m)\u001B[0m\u001B[1;33m)\u001B[0m\u001B[1;33m\u001B[0m\u001B[1;33m\u001B[0m\u001B[0m\n\u001B[0m",
      "\u001B[1;32m~\\AppData\\Local\\Temp\\ipykernel_16312\\1620237365.py\u001B[0m in \u001B[0;36mfunny_division\u001B[1;34m(divisor)\u001B[0m\n\u001B[0;32m      3\u001B[0m \u001B[1;32mdef\u001B[0m \u001B[0mfunny_division\u001B[0m\u001B[1;33m(\u001B[0m\u001B[0mdivisor\u001B[0m\u001B[1;33m:\u001B[0m\u001B[0mfloat\u001B[0m\u001B[1;33m)\u001B[0m \u001B[1;33m->\u001B[0m \u001B[0mUnion\u001B[0m\u001B[1;33m[\u001B[0m\u001B[0mstr\u001B[0m\u001B[1;33m,\u001B[0m \u001B[0mfloat\u001B[0m\u001B[1;33m]\u001B[0m\u001B[1;33m:\u001B[0m\u001B[1;33m\u001B[0m\u001B[1;33m\u001B[0m\u001B[0m\n\u001B[0;32m      4\u001B[0m     \u001B[1;32mtry\u001B[0m\u001B[1;33m:\u001B[0m\u001B[1;33m\u001B[0m\u001B[1;33m\u001B[0m\u001B[0m\n\u001B[1;32m----> 5\u001B[1;33m         \u001B[1;32mreturn\u001B[0m \u001B[1;36m100\u001B[0m \u001B[1;33m/\u001B[0m \u001B[0mdivisor\u001B[0m\u001B[1;33m\u001B[0m\u001B[1;33m\u001B[0m\u001B[0m\n\u001B[0m\u001B[0;32m      6\u001B[0m     \u001B[1;32mexcept\u001B[0m \u001B[0mZeroDivisionError\u001B[0m\u001B[1;33m:\u001B[0m\u001B[1;33m\u001B[0m\u001B[1;33m\u001B[0m\u001B[0m\n\u001B[0;32m      7\u001B[0m         \u001B[1;32mreturn\u001B[0m \u001B[1;34m\"Zero is not a good idea!\"\u001B[0m\u001B[1;33m\u001B[0m\u001B[1;33m\u001B[0m\u001B[0m\n",
      "\u001B[1;31mTypeError\u001B[0m: unsupported operand type(s) for /: 'int' and 'str'"
     ]
    }
   ],
   "source": [
    "print(funny_division(\"hello\"))"
   ],
   "metadata": {
    "collapsed": false,
    "ExecuteTime": {
     "end_time": "2023-12-15T03:47:21.195341300Z",
     "start_time": "2023-12-15T03:47:21.023082700Z"
    }
   },
   "id": "736d92c73aaf96bd"
  },
  {
   "cell_type": "markdown",
   "source": [
    " If we don't specify matching the `ZeroDivisionError` exception class, our handler would also see the `TypeError`, and accuse us of dividing by zero when we sent it a string, which is not a proper behavior at all.\n",
    " \n",
    "Python also has a bare except syntax. Using `except`: with no exception class to match is widely frowned upon because it will prevent an application from simply crashing when it should. \n",
    "\n",
    "We generally use `except Exception`: to explicitly catch a sensible set of exceptions.\n",
    "\n",
    "The bare except syntax is actually the same as using `except BaseException`:, which attempts to handle system-level exceptions that are often impossible to recover from. \n",
    "\n",
    "Indeed, this can make it impossible to crash your application when it's misbehaving."
   ],
   "metadata": {
    "collapsed": false
   },
   "id": "b48b07d8da1fbd6"
  },
  {
   "cell_type": "markdown",
   "source": [
    "We can even catch two or more different exceptions and handle them with the same code. \n",
    "\n",
    "Here's an example that raises three different types of exceptions. \n",
    "\n",
    "It handles TypeError and ZeroDivisionError with the same exception handler, but it may also raise a ValueError error if you supply the number 13:"
   ],
   "metadata": {
    "collapsed": false
   },
   "id": "e6a5b1704670d41"
  },
  {
   "cell_type": "code",
   "execution_count": 10,
   "outputs": [],
   "source": [
    "def funny_division2(divisor:float) -> Union[str, float]:\n",
    "    try:\n",
    "        if divisor == 13:\n",
    "            raise ValueError(\"13 is an unlucky number\")\n",
    "        return 100 / divisor\n",
    "    except (ZeroDivisionError, TypeError):\n",
    "        return \"Enter a number other than zero\""
   ],
   "metadata": {
    "collapsed": false,
    "ExecuteTime": {
     "end_time": "2023-12-15T03:47:31.919209700Z",
     "start_time": "2023-12-15T03:47:31.810589Z"
    }
   },
   "id": "4fdf77f5216cc0c3"
  },
  {
   "cell_type": "markdown",
   "source": [
    "We've included multiple exception classes in the except clause. This lets us handle a variety of conditions with a common handler. \n",
    "\n",
    "Here's how we can test this with a bunch of different values:"
   ],
   "metadata": {
    "collapsed": false
   },
   "id": "2b4fdbefa167a71c"
  },
  {
   "cell_type": "code",
   "execution_count": 11,
   "outputs": [
    {
     "name": "stdout",
     "output_type": "stream",
     "text": [
      "Testing 0: Result: Enter a number other than zero\n",
      "Testing 'hello': Result: Enter a number other than zero\n",
      "Testing 50.0: Result: 2.0\n",
      "Testing 13: "
     ]
    },
    {
     "ename": "ValueError",
     "evalue": "13 is an unlucky number",
     "output_type": "error",
     "traceback": [
      "\u001B[1;31m---------------------------------------------------------------------------\u001B[0m",
      "\u001B[1;31mValueError\u001B[0m                                Traceback (most recent call last)",
      "\u001B[1;32m~\\AppData\\Local\\Temp\\ipykernel_16312\\1944626211.py\u001B[0m in \u001B[0;36m<module>\u001B[1;34m\u001B[0m\n\u001B[0;32m      1\u001B[0m \u001B[1;32mfor\u001B[0m \u001B[0mval\u001B[0m \u001B[1;32min\u001B[0m \u001B[1;33m(\u001B[0m\u001B[1;36m0\u001B[0m\u001B[1;33m,\u001B[0m \u001B[1;34m\"hello\"\u001B[0m\u001B[1;33m,\u001B[0m \u001B[1;36m50.0\u001B[0m\u001B[1;33m,\u001B[0m \u001B[1;36m13\u001B[0m\u001B[1;33m)\u001B[0m\u001B[1;33m:\u001B[0m\u001B[1;33m\u001B[0m\u001B[1;33m\u001B[0m\u001B[0m\n\u001B[0;32m      2\u001B[0m     \u001B[0mprint\u001B[0m\u001B[1;33m(\u001B[0m\u001B[1;34mf\"Testing {val!r}:\"\u001B[0m\u001B[1;33m,\u001B[0m \u001B[0mend\u001B[0m\u001B[1;33m=\u001B[0m\u001B[1;34m\" \"\u001B[0m\u001B[1;33m)\u001B[0m\u001B[1;33m\u001B[0m\u001B[1;33m\u001B[0m\u001B[0m\n\u001B[1;32m----> 3\u001B[1;33m     \u001B[0mprint\u001B[0m\u001B[1;33m(\u001B[0m\u001B[1;34mf\"Result: {funny_division2(val)}\"\u001B[0m\u001B[1;33m)\u001B[0m\u001B[1;33m\u001B[0m\u001B[1;33m\u001B[0m\u001B[0m\n\u001B[0m",
      "\u001B[1;32m~\\AppData\\Local\\Temp\\ipykernel_16312\\3809773482.py\u001B[0m in \u001B[0;36mfunny_division2\u001B[1;34m(divisor)\u001B[0m\n\u001B[0;32m      2\u001B[0m     \u001B[1;32mtry\u001B[0m\u001B[1;33m:\u001B[0m\u001B[1;33m\u001B[0m\u001B[1;33m\u001B[0m\u001B[0m\n\u001B[0;32m      3\u001B[0m         \u001B[1;32mif\u001B[0m \u001B[0mdivisor\u001B[0m \u001B[1;33m==\u001B[0m \u001B[1;36m13\u001B[0m\u001B[1;33m:\u001B[0m\u001B[1;33m\u001B[0m\u001B[1;33m\u001B[0m\u001B[0m\n\u001B[1;32m----> 4\u001B[1;33m             \u001B[1;32mraise\u001B[0m \u001B[0mValueError\u001B[0m\u001B[1;33m(\u001B[0m\u001B[1;34m\"13 is an unlucky number\"\u001B[0m\u001B[1;33m)\u001B[0m\u001B[1;33m\u001B[0m\u001B[1;33m\u001B[0m\u001B[0m\n\u001B[0m\u001B[0;32m      5\u001B[0m         \u001B[1;32mreturn\u001B[0m \u001B[1;36m100\u001B[0m \u001B[1;33m/\u001B[0m \u001B[0mdivisor\u001B[0m\u001B[1;33m\u001B[0m\u001B[1;33m\u001B[0m\u001B[0m\n\u001B[0;32m      6\u001B[0m     \u001B[1;32mexcept\u001B[0m \u001B[1;33m(\u001B[0m\u001B[0mZeroDivisionError\u001B[0m\u001B[1;33m,\u001B[0m \u001B[0mTypeError\u001B[0m\u001B[1;33m)\u001B[0m\u001B[1;33m:\u001B[0m\u001B[1;33m\u001B[0m\u001B[1;33m\u001B[0m\u001B[0m\n",
      "\u001B[1;31mValueError\u001B[0m: 13 is an unlucky number"
     ]
    }
   ],
   "source": [
    "for val in (0, \"hello\", 50.0, 13):\n",
    "    print(f\"Testing {val!r}:\", end=\" \")\n",
    "    print(f\"Result: {funny_division2(val)}\")"
   ],
   "metadata": {
    "collapsed": false,
    "ExecuteTime": {
     "end_time": "2023-12-15T03:47:31.919209700Z",
     "start_time": "2023-12-15T03:47:31.835254500Z"
    }
   },
   "id": "547bdc742e8bb21d"
  },
  {
   "cell_type": "markdown",
   "source": [
    "This is all well and good, but what if we want to catch different exceptions and do different things with them? \n",
    "\n",
    "Or maybe we want to do something with an exception and then allow it to continue to bubble up to the parent function, as if it had never been caught?\n",
    "\n",
    "We do not need any new syntax to deal with these cases. It is possible to stack the `except` clauses, and only the first match will be executed.\n",
    "\n",
    "For the second question, the `raise` keyword, with no arguments, will re-raise the last exception if we are already inside an exception handler."
   ],
   "metadata": {
    "collapsed": false
   },
   "id": "206923769307360f"
  },
  {
   "cell_type": "code",
   "execution_count": 13,
   "outputs": [],
   "source": [
    "def funniest_division(divisor: int) -> Union[str, float]:\n",
    "    try:\n",
    "        if divisor == 13:\n",
    "            raise ValueError(\"13 is an unlucky number\")\n",
    "        return 100 / divisor\n",
    "    except ZeroDivisionError:\n",
    "        return \"Enter a number other than zero\"\n",
    "    except TypeError:\n",
    "        return \"Enter a numerical value\"\n",
    "    except ValueError:\n",
    "        print(\"No, No, not 13!\")\n",
    "        raise\n"
   ],
   "metadata": {
    "collapsed": false,
    "ExecuteTime": {
     "end_time": "2023-12-15T03:54:28.722618500Z",
     "start_time": "2023-12-15T03:54:28.687791100Z"
    }
   },
   "id": "9d44d3997e57ac1f"
  },
  {
   "cell_type": "markdown",
   "source": [
    "The last line re-raises the ValueError error, so after outputting No, No, not 13!, it will raise the exception again; we'll still get the original stack trace on the console. \n",
    "\n",
    "If we stack exception clauses like we did in the preceding example, only the first matching clause will be run, even if more than one of them fits. \n",
    "\n",
    "How can more than one clause match? \n",
    "\n",
    "Remember that exceptions are objects, and can therefore be subclassed. \n",
    "\n",
    "As we'll see in the next section, most exceptions extend the `Exception` class (which is itself derived from `BaseException`). \n",
    "\n",
    "If we have an `except` clause to match `Exception` before we match `TypeError`, then only the `Exception` handler will be executed, because `TypeError` is an `Exception` by inheritance.\n",
    "\n",
    "This can come in handy in cases where we want to handle some exceptions specifically, and then handle all remaining exceptions as a more general case. \n",
    "\n",
    "We can list `Exception` in its own clause after catching all the specific exceptions and handle the general case there.\n",
    "\n",
    "Often, when we catch an exception, we need a reference to the `Exception` object itself.\n",
    " \n",
    "This most often happens when we define our own exceptions with custom arguments, but can also be relevant with standard exceptions. \n",
    "\n",
    "Most exception classes accept a set of arguments in their constructor, and we might want to access those attributes in the exception handler. \n",
    "\n",
    "If we define our own Exception class, we can even call custom methods on it when we catch it. \n",
    "\n",
    "The syntax for capturing an exception as a variable uses the as keyword:"
   ],
   "metadata": {
    "collapsed": false
   },
   "id": "5e7b84f9b55979e3"
  },
  {
   "cell_type": "code",
   "execution_count": 15,
   "outputs": [
    {
     "name": "stdout",
     "output_type": "stream",
     "text": [
      "The exception arguments were ('This is an argument',)\n"
     ]
    }
   ],
   "source": [
    "try :\n",
    "    raise ValueError(\"This is an argument\")\n",
    "except ValueError as e:\n",
    "    print(f\"The exception arguments were\", e.args)"
   ],
   "metadata": {
    "collapsed": false,
    "ExecuteTime": {
     "end_time": "2023-12-15T04:01:10.010306500Z",
     "start_time": "2023-12-15T04:01:09.994685Z"
    }
   },
   "id": "aa0551ad7fb7cc21"
  },
  {
   "cell_type": "markdown",
   "source": [
    "When we run this code, it prints out the string argument that we passed into `ValueError` upon initialization.\n",
    "\n",
    "We've seen several variations on the syntax for handling exceptions, but we still don't know how to execute code regardless of whether or not an exception has occurred. \n",
    "\n",
    "We also can't specify code that should be executed only if an exception does not occur. \n",
    "\n",
    "Two more keywords, `finally` and `else`, provide some additional execution paths. Neither one takes any extra arguments.\n",
    "\n",
    "We'll show an example with the `finally` clause. \n",
    "\n",
    "For the most part, we often use context managers instead of exception blocks as a cleaner way to implement a finalization that occurs whether or not an exception interrupted processing. \n",
    "\n",
    "The idea is to encapsulate responsibility for finalization in the context manager.\n",
    "\n",
    "The following example iterates through a number of exception classes, raising an instance of each. \n",
    "\n",
    "Then some not-so-complicated exception handling code runs that illustrates the newly introduced syntax:"
   ],
   "metadata": {
    "collapsed": false
   },
   "id": "3e8facdc32460dbb"
  },
  {
   "cell_type": "code",
   "execution_count": 16,
   "outputs": [
    {
     "name": "stdout",
     "output_type": "stream",
     "text": [
      "\n",
      "Raising <class 'ValueError'>\n",
      "Caught a ValueError\n",
      "This cleanup code is always called\n",
      "\n",
      "Raising <class 'TypeError'>\n",
      "Caught a TypeError\n",
      "This cleanup code is always called\n",
      "\n",
      "Raising <class 'IndexError'>\n",
      "Caught some other error: IndexError\n",
      "This cleanup code is always called\n",
      "\n",
      "Raising None\n",
      "no exception raised\n",
      "This code called if there is no exception\n",
      "This cleanup code is always called\n"
     ]
    }
   ],
   "source": [
    "some_exceptions = [ValueError, TypeError, IndexError, None]\n",
    "for choice in some_exceptions:\n",
    "    try:\n",
    "        print(f\"\\nRaising {choice}\")\n",
    "        if choice:\n",
    "            raise choice(\"An error\")\n",
    "        else:\n",
    "            print(\"no exception raised\")\n",
    "    except ValueError:\n",
    "        print(\"Caught a ValueError\")\n",
    "    except TypeError:\n",
    "        print(\"Caught a TypeError\")\n",
    "    except Exception as e:\n",
    "        print(f\"Caught some other error: {e.__class__.__name__}\")\n",
    "    else:\n",
    "        print(\"This code called if there is no exception\")\n",
    "    finally:\n",
    "        print(\"This cleanup code is always called\")\n"
   ],
   "metadata": {
    "collapsed": false,
    "ExecuteTime": {
     "end_time": "2023-12-15T04:04:17.865539300Z",
     "start_time": "2023-12-15T04:04:17.834259400Z"
    }
   },
   "id": "c0f57e232ee14edf"
  },
  {
   "cell_type": "markdown",
   "source": [
    "Note how the `print` statement in the `finally` clause is executed no matter what happens. \n",
    "\n",
    "This is one way to perform certain tasks after our code has finished running (even if an exception has occurred). \n",
    "\n",
    "Some common examples include the following:\n",
    "\n",
    "- Cleaning up an open database connection\n",
    "- Closing an open file\n",
    "- Sending a closing handshake over the network"
   ],
   "metadata": {
    "collapsed": false
   },
   "id": "c22af0478ec0a476"
  },
  {
   "cell_type": "markdown",
   "source": [
    "While obscure, the `finally` clause is executed after the `return` statement inside a `try` clause. \n",
    "\n",
    "While this can be exploited for post-return processing, it can also be confusing to folks reading the code."
   ],
   "metadata": {
    "collapsed": false
   },
   "id": "9a8527a1f4b6c590"
  },
  {
   "cell_type": "markdown",
   "source": [
    "Also, pay attention to the output when no exception is raised: both the `else` and the `finally` clauses are executed. \n",
    "\n",
    "The `else` clause may seem redundant, as the code that should be executed when no exception is raised could just be placed after the entire `try...except` block. \n",
    "\n",
    "The difference is that the else block will not be executed if an exception is caught and handled. \n",
    "\n",
    "We'll see more on this when we discuss using exceptions as flow control later.\n",
    "\n",
    "Any of the `except`, `else`, and `finally` clauses can be omitted after a `try` block (although else by itself is invalid). \n",
    "\n",
    "If you include more than one, the except clauses must come first, then the else clause, with the finally clause at the end. \n",
    "\n",
    "You must be sure the order of the except clauses has classes that move from the most specific subclasses to most generic superclasses."
   ],
   "metadata": {
    "collapsed": false
   },
   "id": "da59456bda53d3e0"
  },
  {
   "cell_type": "markdown",
   "source": [
    "# EXCEPTION HIERARCHY\n",
    "\n",
    "Most exceptions are subclasses of the `Exception` class. But this is not true of all exceptions. \n",
    "\n",
    "The `Exception` class actually extends a class called `BaseException`. \n",
    "\n",
    "In fact, all exceptions must extend the `BaseException` class or one of its subclasses.\n",
    "\n",
    "There are two key built-in exception classes, SystemExit and KeyboardInterrupt, that derive directly from the BaseException class instead of the Exception class. \n",
    "\n",
    "The SystemExit exception is raised whenever the program exits naturally, typically because we called the sys.exit() function somewhere in our code (for example, when the user selected an exit menu item, clicked the Close button on a window, entered a command to shut down a server, or the OS sent a signal to the application to terminate). \n",
    "\n",
    "This exception is designed to allow us to clean up code before the program ultimately exits.\n",
    "\n",
    "If we do handle the SystemExit exception, we would normally re-raise the exception, since catching it could stop the program from exiting. \n",
    "\n",
    "Imagine a web service with a bug that is holding database locks and can't be stopped without rebooting the server.\n",
    "\n",
    "We don't want a SystemExit exception to be accidentally caught in generic except Exception: clauses. This is why it derives directly from BaseException.\n",
    "\n",
    "The KeyboardInterrupt exception is common in command-line programs. It is thrown when the user explicitly interrupts program execution with an OS-dependent key combination (normally, Ctrl + C).\n",
    "\n",
    "This is a standard way for the user to deliberately interrupt a running program and, like the SystemExit exception, it should almost always respond by terminating the program. \n",
    "\n",
    "Also, like SystemExit, it can handle any cleanup tasks inside the finally blocks.\n",
    "\n",
    "- BaseException:\n",
    "    - SystemExit\n",
    "    - KeyboardInterrupt\n",
    "    - Exception\n",
    "        - Other Exceptions   \n"
   ],
   "metadata": {
    "collapsed": false
   },
   "id": "42a65803aa7b6798"
  },
  {
   "cell_type": "markdown",
   "source": [
    "When we use the except: clause without specifying any type of exception, it will catch all subclasses of BaseException; which is to say, it will catch all exceptions, including the two special ones. \n",
    "\n",
    "Since we almost always want these to get special treatment, it is unwise to use the except: statement without arguments. \n",
    "\n",
    "If you want to catch all exceptions (other than SystemExit and KeyboardInterrupt), always explicitly catch Exception. \n",
    "\n",
    "Most Python developers assume that except: without a type is an error and will flag it in code review."
   ],
   "metadata": {
    "collapsed": false
   },
   "id": "e2627d39fcab6302"
  },
  {
   "cell_type": "markdown",
   "source": [
    "# DEFINING CUSTOM EXCEPTIONS\n",
    "\n",
    "Occasionally, when we want to raise an exception, we find that none of the built-in exceptions are suitable. \n",
    "\n",
    "The distinction is often focused on how applications must handle the exception; when we introduce a new exception it must be because there will be distinct processing in a handler.\n",
    "\n",
    "There's no good reason to define an exception that's handled exactly like ValueError; we can use ValueError. \n",
    "\n",
    "Luckily, it's trivial to define new exceptions of our own. \n",
    "\n",
    "The name of the class is usually designed to communicate what went wrong, and we can provide arbitrary arguments in the initializer to include additional information.\n",
    "\n",
    "All we have to do is inherit from the Exception class or one of the existing exceptions that's semantically similar. \n",
    "We don't even have to add any content to the class! \n",
    "\n",
    "We can, of course, extend BaseException directly, but this means we're inventing new ways of stopping a running program, a very unusual thing to be creating.\n",
    "\n",
    "Here's a simple exception we might use in a banking application:"
   ],
   "metadata": {
    "collapsed": false
   },
   "id": "e696aa68869fb45a"
  },
  {
   "cell_type": "code",
   "execution_count": 17,
   "outputs": [],
   "source": [
    "class InvalidWithdrawal(Exception):\n",
    "    pass"
   ],
   "metadata": {
    "collapsed": false,
    "ExecuteTime": {
     "end_time": "2023-12-15T04:51:07.493383800Z",
     "start_time": "2023-12-15T04:51:07.462144200Z"
    }
   },
   "id": "5c4ae6c70760bde8"
  },
  {
   "cell_type": "code",
   "execution_count": 18,
   "outputs": [
    {
     "ename": "InvalidWithdrawal",
     "evalue": "You don't have $50 in your account",
     "output_type": "error",
     "traceback": [
      "\u001B[1;31m---------------------------------------------------------------------------\u001B[0m",
      "\u001B[1;31mInvalidWithdrawal\u001B[0m                         Traceback (most recent call last)",
      "\u001B[1;32m~\\AppData\\Local\\Temp\\ipykernel_16312\\3056926646.py\u001B[0m in \u001B[0;36m<module>\u001B[1;34m\u001B[0m\n\u001B[1;32m----> 1\u001B[1;33m \u001B[1;32mraise\u001B[0m \u001B[0mInvalidWithdrawal\u001B[0m\u001B[1;33m(\u001B[0m\u001B[1;34m\"You don't have $50 in your account\"\u001B[0m\u001B[1;33m)\u001B[0m\u001B[1;33m\u001B[0m\u001B[1;33m\u001B[0m\u001B[0m\n\u001B[0m",
      "\u001B[1;31mInvalidWithdrawal\u001B[0m: You don't have $50 in your account"
     ]
    }
   ],
   "source": [
    "raise InvalidWithdrawal(\"You don't have $50 in your account\")"
   ],
   "metadata": {
    "collapsed": false,
    "ExecuteTime": {
     "end_time": "2023-12-15T04:51:09.170958800Z",
     "start_time": "2023-12-15T04:51:09.045154800Z"
    }
   },
   "id": "1e4fd2de99f81010"
  },
  {
   "cell_type": "markdown",
   "source": [
    "The `raise` statement illustrates how to raise the newly defined exception. \n",
    "\n",
    "We are able to pass an arbitrary number of arguments into the exception. \n",
    "\n",
    "Often a string message is used, but any object that might be useful in a later exception handler can be stored. \n",
    "\n",
    "`The Exception.__init__()` method is designed to accept any arguments and store them as a tuple in an attribute named `args`. \n",
    "\n",
    "This makes exceptions easier to define without needing to override `__init__()`.\n",
    "\n",
    "Of course, if we do want to customize the initializer, we are free to do so. Here's a revision to the above exception whose initializer accepts the current balance and the amount the user wants to withdraw. In addition, it adds a method to calculate how overdrawn the request is:\n"
   ],
   "metadata": {
    "collapsed": false
   },
   "id": "ef42db2fdaf2bada"
  },
  {
   "cell_type": "code",
   "execution_count": 19,
   "outputs": [],
   "source": [
    "from decimal import Decimal\n",
    "\n",
    "class InvalidWithdrawal(ValueError): \n",
    "    def __init__(self, balance: Decimal, amount: Decimal) -> None: \n",
    "        super().__init__(f\"account doesn't have ${amount}\") \n",
    "        self.amount = amount \n",
    "        self.balance = balance \n",
    "    def overage(self) -> Decimal: \n",
    "        return self.amount - self.balance \n"
   ],
   "metadata": {
    "collapsed": false,
    "ExecuteTime": {
     "end_time": "2023-12-15T04:54:19.697114500Z",
     "start_time": "2023-12-15T04:54:19.619002500Z"
    }
   },
   "id": "a02b680117009aa"
  },
  {
   "cell_type": "markdown",
   "source": [
    "Since we're working with currency, we've imported the Decimal class of numbers. \n",
    "\n",
    "We can't use Python's default int or float types for money where there are a fixed number of decimal places and exquisitely complex rounding rules that assume exact decimal arithmetic.\n",
    "\n",
    "(Also note that the account number is not part of the exception. Bankers frown on using account numbers in a way that could expose them in a log or a traceback message.)\n",
    "\n",
    "Here's an example of creating an instance of this exception:"
   ],
   "metadata": {
    "collapsed": false
   },
   "id": "fe45c42c94c4e4da"
  },
  {
   "cell_type": "code",
   "execution_count": 20,
   "outputs": [
    {
     "ename": "InvalidWithdrawal",
     "evalue": "account doesn't have $50.00",
     "output_type": "error",
     "traceback": [
      "\u001B[1;31m---------------------------------------------------------------------------\u001B[0m",
      "\u001B[1;31mInvalidWithdrawal\u001B[0m                         Traceback (most recent call last)",
      "\u001B[1;32m~\\AppData\\Local\\Temp\\ipykernel_16312\\3048336951.py\u001B[0m in \u001B[0;36m<module>\u001B[1;34m\u001B[0m\n\u001B[1;32m----> 1\u001B[1;33m \u001B[1;32mraise\u001B[0m \u001B[0mInvalidWithdrawal\u001B[0m\u001B[1;33m(\u001B[0m\u001B[0mDecimal\u001B[0m\u001B[1;33m(\u001B[0m\u001B[1;34m'25.00'\u001B[0m\u001B[1;33m)\u001B[0m\u001B[1;33m,\u001B[0m \u001B[0mDecimal\u001B[0m\u001B[1;33m(\u001B[0m\u001B[1;34m'50.00'\u001B[0m\u001B[1;33m)\u001B[0m\u001B[1;33m)\u001B[0m\u001B[1;33m\u001B[0m\u001B[1;33m\u001B[0m\u001B[0m\n\u001B[0m",
      "\u001B[1;31mInvalidWithdrawal\u001B[0m: account doesn't have $50.00"
     ]
    }
   ],
   "source": [
    "raise InvalidWithdrawal(Decimal('25.00'), Decimal('50.00'))"
   ],
   "metadata": {
    "collapsed": false,
    "ExecuteTime": {
     "end_time": "2023-12-15T04:55:22.909455Z",
     "start_time": "2023-12-15T04:55:22.846957800Z"
    }
   },
   "id": "310cbf3fc14bcfbe"
  },
  {
   "cell_type": "code",
   "execution_count": 21,
   "outputs": [
    {
     "name": "stdout",
     "output_type": "stream",
     "text": [
      "I'm sorry, but your withdrawal is more than your balance by $25.00\n"
     ]
    }
   ],
   "source": [
    "try:\n",
    "    balance = Decimal('25.00')\n",
    "    raise InvalidWithdrawal(balance, Decimal('50.00')) \n",
    "except InvalidWithdrawal as ex: \n",
    "    print(\"I'm sorry, but your withdrawal is \" \n",
    "            \"more than your balance by \" \n",
    "            f\"${ex.overage()}\") \n"
   ],
   "metadata": {
    "collapsed": false,
    "ExecuteTime": {
     "end_time": "2023-12-15T04:56:16.251137200Z",
     "start_time": "2023-12-15T04:56:16.157400800Z"
    }
   },
   "id": "5955bb1cb2a1c233"
  },
  {
   "cell_type": "markdown",
   "source": [
    "Here we see a valid use of the as keyword to save the exception in a local variable, `ex`. \n",
    "\n",
    "By convention, most Python coders assign the exception a variable like `ex`, `exc`, or `exception`; although, as usual, you are free to call it `the_exception_raised_above`, or `aunt_sally` if you prefer.\n",
    "\n",
    "There are many reasons for defining our own exceptions. \n",
    "\n",
    "It is often useful to add information to the exception or log it in some way. \n",
    "\n",
    "But the utility of custom exceptions truly comes to light when creating a framework, library, or API that is intended for access by other programmers. \n",
    "\n",
    "In that case, be careful to ensure your code is raising exceptions that make sense to the client programmer. Here are some criteria:\n",
    "\n",
    "- They should clearly describe what went on. The KeyError exception, for example, provides the key that could not be found.\n",
    "\n",
    "- The client programmer should easily see how to fix the error (if it reflects a bug in their code) or handle the exception (if it's a situation they need to be made aware of).\n",
    "\n",
    "- The handling should be distinct from other exceptions. If the handling is the same as an existing exception, reusing the existing exception is best.\n",
    "\n",
    "\n",
    "Now that we've looked at raising exceptions and defining new exceptions, we can look at some of the design considerations that surround exceptional data and responding to problems. \n",
    "\n",
    "There are a number of alternative design choices, and we'll start with the idea that exceptions, in Python, can be used for a number of things that aren't – strictly speaking – erroneous."
   ],
   "metadata": {
    "collapsed": false
   },
   "id": "392479a4cc8a9a89"
  },
  {
   "cell_type": "markdown",
   "source": [
    "# EXCEPTIONS ARE NOT EXCEPTIONAL\n",
    "\n",
    "Novice programmers tend to think of exceptions as only useful for exceptional circumstances. \n",
    "\n",
    "However, the definition of exceptional circumstances can be vague and subject to interpretation. \n",
    "\n",
    "Consider the following two functions:"
   ],
   "metadata": {
    "collapsed": false
   },
   "id": "1e66e3dc10463de4"
  },
  {
   "cell_type": "code",
   "execution_count": 22,
   "outputs": [],
   "source": [
    "def divide_with_exception(dividend: int, divisor: int) -> None:\n",
    "    try:\n",
    "        print(f\"{dividend / divisor=}\")\n",
    "    except ZeroDivisionError:\n",
    "        print(\"You can't divide by zero\")\n",
    "def divide_with_if(dividend: int, divisor: int) -> None:\n",
    "    if divisor == 0:\n",
    "        print(\"You can't divide by zero\")\n",
    "    else:\n",
    "        print(f\"{dividend / divisor=}\")\n"
   ],
   "metadata": {
    "collapsed": false,
    "ExecuteTime": {
     "end_time": "2023-12-15T05:15:02.856926500Z",
     "start_time": "2023-12-15T05:15:02.798511400Z"
    }
   },
   "id": "d462355ffd7fb935"
  },
  {
   "cell_type": "markdown",
   "source": [
    "These two functions behave identically. \n",
    "\n",
    "If divisor is zero, an error message is printed; otherwise, a message printing the result of the division is displayed. \n",
    "\n",
    "We could avoid ZeroDivisionError ever being thrown by testing for it with an if statement. \n",
    "\n",
    "In this example, the test for a valid division is relatively simple-looking (divisor == 0). \n",
    "\n",
    "In some cases, it can be rather complex. \n",
    "\n",
    "In some cases, it may involve computing intermediate results. \n",
    "\n",
    "In the worst cases, the test for \"will this work?\" involves using a number of other methods of a class to – in effect – dry-run the operation to see if there would be an error along the way."
   ],
   "metadata": {
    "collapsed": false
   },
   "id": "bb67a1e5c6943cd2"
  },
  {
   "cell_type": "markdown",
   "source": [
    "Therefore, it is wise to use exceptions for exceptional circumstances, even if those circumstances are only a little bit exceptional. \n",
    "\n",
    "Taking this argument further, exception syntax can be effective for flow control. \n",
    "\n",
    "Like an if statement, exceptions can be used for decision making, branching, and message passing.\n",
    "\n",
    "Imagine an inventory application for a company that sells widgets and gadgets. \n",
    "\n",
    "When a customer makes a purchase, the item can either be available, in which case the item is removed from inventory and the number of items left is returned, or it might be out of stock. \n",
    "\n",
    "Now, being out of stock is a perfectly normal thing to happen in an inventory application. \n",
    "\n",
    "It is certainly not an exceptional circumstance. \n",
    "\n",
    "But what do we return if it's out of stock? A string saying \"out of stock\"? \n",
    "\n",
    "A negative number? In both cases, the calling method would have to check whether the return value is a positive integer or something else, to determine if it is out of stock. \n",
    "\n",
    "That seems a bit messy, especially if we forget to do it somewhere in our code.\n",
    "\n",
    "Instead, we can raise an OutOfStock exception and use the try statement to direct program flow control. Make sense? \n",
    "\n",
    "In addition, we want to make sure we don't sell the same item to two different customers, or sell an item that isn't in stock yet. \n",
    "\n",
    "One way to facilitate this is to lock each type of item to ensure only one person can update it at a time. \n",
    "\n",
    "The user must lock the item, manipulate the item (purchase, add stock, count items left...), and then unlock the item. (This is, in effect, a context manager, one subject of Chapter 8.)\n",
    "\n",
    "Here's an incomplete Inventory example with docstrings that describes what some of the methods should do:"
   ],
   "metadata": {
    "collapsed": false
   },
   "id": "4779e0053a3a7168"
  },
  {
   "cell_type": "code",
   "execution_count": 23,
   "outputs": [
    {
     "ename": "NameError",
     "evalue": "name 'ItemType' is not defined",
     "output_type": "error",
     "traceback": [
      "\u001B[1;31m---------------------------------------------------------------------------\u001B[0m",
      "\u001B[1;31mNameError\u001B[0m                                 Traceback (most recent call last)",
      "\u001B[1;32m~\\AppData\\Local\\Temp\\ipykernel_16312\\174504428.py\u001B[0m in \u001B[0;36m<module>\u001B[1;34m\u001B[0m\n\u001B[0;32m      3\u001B[0m \u001B[1;32mclass\u001B[0m \u001B[0mInvalidItemType\u001B[0m\u001B[1;33m(\u001B[0m\u001B[0mException\u001B[0m\u001B[1;33m)\u001B[0m\u001B[1;33m:\u001B[0m\u001B[1;33m\u001B[0m\u001B[1;33m\u001B[0m\u001B[0m\n\u001B[0;32m      4\u001B[0m     \u001B[1;32mpass\u001B[0m\u001B[1;33m\u001B[0m\u001B[1;33m\u001B[0m\u001B[0m\n\u001B[1;32m----> 5\u001B[1;33m \u001B[1;32mclass\u001B[0m \u001B[0mInventory\u001B[0m\u001B[1;33m:\u001B[0m\u001B[1;33m\u001B[0m\u001B[1;33m\u001B[0m\u001B[0m\n\u001B[0m\u001B[0;32m      6\u001B[0m     \u001B[1;32mdef\u001B[0m \u001B[0m__init__\u001B[0m\u001B[1;33m(\u001B[0m\u001B[0mself\u001B[0m\u001B[1;33m,\u001B[0m \u001B[0mstock\u001B[0m\u001B[1;33m:\u001B[0m \u001B[0mlist\u001B[0m\u001B[1;33m[\u001B[0m\u001B[0mItemType\u001B[0m\u001B[1;33m]\u001B[0m\u001B[1;33m)\u001B[0m \u001B[1;33m->\u001B[0m \u001B[1;32mNone\u001B[0m\u001B[1;33m:\u001B[0m\u001B[1;33m\u001B[0m\u001B[1;33m\u001B[0m\u001B[0m\n\u001B[0;32m      7\u001B[0m         \u001B[1;32mpass\u001B[0m\u001B[1;33m\u001B[0m\u001B[1;33m\u001B[0m\u001B[0m\n",
      "\u001B[1;32m~\\AppData\\Local\\Temp\\ipykernel_16312\\174504428.py\u001B[0m in \u001B[0;36mInventory\u001B[1;34m()\u001B[0m\n\u001B[0;32m      4\u001B[0m     \u001B[1;32mpass\u001B[0m\u001B[1;33m\u001B[0m\u001B[1;33m\u001B[0m\u001B[0m\n\u001B[0;32m      5\u001B[0m \u001B[1;32mclass\u001B[0m \u001B[0mInventory\u001B[0m\u001B[1;33m:\u001B[0m\u001B[1;33m\u001B[0m\u001B[1;33m\u001B[0m\u001B[0m\n\u001B[1;32m----> 6\u001B[1;33m     \u001B[1;32mdef\u001B[0m \u001B[0m__init__\u001B[0m\u001B[1;33m(\u001B[0m\u001B[0mself\u001B[0m\u001B[1;33m,\u001B[0m \u001B[0mstock\u001B[0m\u001B[1;33m:\u001B[0m \u001B[0mlist\u001B[0m\u001B[1;33m[\u001B[0m\u001B[0mItemType\u001B[0m\u001B[1;33m]\u001B[0m\u001B[1;33m)\u001B[0m \u001B[1;33m->\u001B[0m \u001B[1;32mNone\u001B[0m\u001B[1;33m:\u001B[0m\u001B[1;33m\u001B[0m\u001B[1;33m\u001B[0m\u001B[0m\n\u001B[0m\u001B[0;32m      7\u001B[0m         \u001B[1;32mpass\u001B[0m\u001B[1;33m\u001B[0m\u001B[1;33m\u001B[0m\u001B[0m\n\u001B[0;32m      8\u001B[0m     \u001B[1;32mdef\u001B[0m \u001B[0mlock\u001B[0m\u001B[1;33m(\u001B[0m\u001B[0mself\u001B[0m\u001B[1;33m,\u001B[0m \u001B[0mitem_type\u001B[0m\u001B[1;33m:\u001B[0m \u001B[0mItemType\u001B[0m\u001B[1;33m)\u001B[0m \u001B[1;33m->\u001B[0m \u001B[1;32mNone\u001B[0m\u001B[1;33m:\u001B[0m\u001B[1;33m\u001B[0m\u001B[1;33m\u001B[0m\u001B[0m\n",
      "\u001B[1;31mNameError\u001B[0m: name 'ItemType' is not defined"
     ]
    }
   ],
   "source": [
    "class OutOfStock(Exception):\n",
    "    pass\n",
    "class InvalidItemType(Exception):\n",
    "    pass\n",
    "class Inventory:\n",
    "    def __init__(self, stock: list[ItemType]) -> None:\n",
    "        pass\n",
    "    def lock(self, item_type: ItemType) -> None:\n",
    "        \"\"\"Context Entry.\n",
    "        Lock the item type so nobody else can manipulate the\n",
    "        inventory while we're working.\"\"\"\n",
    "        pass\n",
    "    def unlock(self, item_type: ItemType) -> None:\n",
    "        \"\"\"Context Exit.\n",
    "        Unlock the item type.\"\"\"\n",
    "        pass\n",
    "    def purchase(self, item_type: ItemType) -> int:\n",
    "        \"\"\"If the item is not locked, raise a\n",
    "        ValueError because something went wrong.\n",
    "        If the item_type does not exist,\n",
    "          raise InvalidItemType.\n",
    "        If the item is currently out of stock,\n",
    "          raise OutOfStock.\n",
    "        If the item is available,\n",
    "          subtract one item; return the number of items left.\n",
    "        \"\"\"\n",
    "        # Mocked results.\n",
    "        if item_type.name == \"Widget\":\n",
    "            raise OutOfStock(item_type)\n",
    "        elif item_type.name == \"Gadget\":\n",
    "            return 42\n",
    "        else:\n",
    "            raise InvalidItemType(item_type)\n"
   ],
   "metadata": {
    "collapsed": false,
    "ExecuteTime": {
     "end_time": "2023-12-15T05:18:44.872297100Z",
     "start_time": "2023-12-15T05:18:44.809765600Z"
    }
   },
   "id": "61d5b3b41bc22c9c"
  },
  {
   "cell_type": "markdown",
   "source": [
    "We could hand this object prototype to a developer and have them implement the methods to do exactly as they say while we work on the code needed to make a purchase. \n",
    "\n",
    "We'll use Python's robust exception handling to consider different branches, depending on how the purchase was made. \n",
    "\n",
    "We can even write a test case to be sure there's no question about how this class should work.\n",
    "\n",
    "Here's a definition of ItemType, just to round out the example:"
   ],
   "metadata": {
    "collapsed": false
   },
   "id": "11377d3a6b244237"
  },
  {
   "cell_type": "code",
   "execution_count": 28,
   "outputs": [],
   "source": [
    "class ItemType:\n",
    "    def __init__(self, name: str) -> None:\n",
    "        self.name = name\n",
    "        self.on_hand = 0\n",
    "\n",
    "class OutOfStock(Exception):\n",
    "    pass\n",
    "class InvalidItemType(Exception):\n",
    "    pass\n",
    "class Inventory:\n",
    "    def __init__(self, stock: list[ItemType]) -> None:\n",
    "        pass\n",
    "    def lock(self, item_type: ItemType) -> None:\n",
    "        \"\"\"Context Entry.\n",
    "        Lock the item type so nobody else can manipulate the\n",
    "        inventory while we're working.\"\"\"\n",
    "        pass\n",
    "    def unlock(self, item_type: ItemType) -> None:\n",
    "        \"\"\"Context Exit.\n",
    "        Unlock the item type.\"\"\"\n",
    "        pass\n",
    "    def purchase(self, item_type: ItemType) -> int:\n",
    "        \"\"\"If the item is not locked, raise a\n",
    "        ValueError because something went wrong.\n",
    "        If the item_type does not exist,\n",
    "          raise InvalidItemType.\n",
    "        If the item is currently out of stock,\n",
    "          raise OutOfStock.\n",
    "        If the item is available,\n",
    "          subtract one item; return the number of items left.\n",
    "        \"\"\"\n",
    "        # Mocked results.\n",
    "        if item_type.name == \"Widget\":\n",
    "            raise OutOfStock(item_type)\n",
    "        elif item_type.name == \"Gadget\":\n",
    "            return 42\n",
    "        else:\n",
    "            raise InvalidItemType(item_type)\n"
   ],
   "metadata": {
    "collapsed": false,
    "ExecuteTime": {
     "end_time": "2023-12-15T05:21:32.191469200Z",
     "start_time": "2023-12-15T05:21:32.129501800Z"
    }
   },
   "id": "8da7a58acc4fb4f4"
  },
  {
   "cell_type": "code",
   "execution_count": 29,
   "outputs": [
    {
     "name": "stdout",
     "output_type": "stream",
     "text": [
      "Sorry, that item is out of stock.\n"
     ]
    }
   ],
   "source": [
    "widget = ItemType(\"Widget\")\n",
    "gadget = ItemType(\"Gadget\")\n",
    "inv = Inventory([widget, gadget])\n",
    "item_to_buy = widget\n",
    "inv.lock(item_to_buy)\n",
    "try:\n",
    "    num_left = inv.purchase(item_to_buy)\n",
    "except InvalidItemType:\n",
    "    print(f\"Sorry, we don't sell {item_to_buy.name}\")\n",
    "except OutOfStock:\n",
    "    print(\"Sorry, that item is out of stock.\")\n",
    "else:\n",
    "    print(f\"Purchase complete. There are {num_left} {item_to_buy.name}s left\")\n",
    "finally:\n",
    "    inv.unlock(item_to_buy)\n",
    "\n"
   ],
   "metadata": {
    "collapsed": false,
    "ExecuteTime": {
     "end_time": "2023-12-15T05:21:33.612687300Z",
     "start_time": "2023-12-15T05:21:33.550202100Z"
    }
   },
   "id": "39a497d83124a0d"
  },
  {
   "cell_type": "markdown",
   "source": [
    "All the possible exception handling clauses are used to ensure the correct actions happen at the correct time. \n",
    "\n",
    "Even though OutOfStock is not a terribly exceptional circumstance, we are able to use an exception to handle it suitably. \n",
    "\n",
    "This same code could be written with an if...elif...else structure, but it wouldn't be as easy to read or maintain.\n",
    "\n",
    "As an aside, one of the exception messages, There are {num_left} {item_to_buy.name}s left, suffers from a goofy English grammar problem. \n",
    "\n",
    "When there's only one item left, it needs a major revision to There is {num_left} {item_to_buy.name} left. \n",
    "\n",
    "In order to support a sensible approach to translation, it's best to avoid fiddling around with grammar details inside the f-string. \n",
    "\n",
    "It's best to deal with it in the else: clause, using something like this to select the message with appropriate grammar:"
   ],
   "metadata": {
    "collapsed": false
   },
   "id": "f8b9fa50f2dc0772"
  },
  {
   "cell_type": "code",
   "execution_count": 30,
   "outputs": [
    {
     "ename": "NameError",
     "evalue": "name 'num_left' is not defined",
     "output_type": "error",
     "traceback": [
      "\u001B[1;31m---------------------------------------------------------------------------\u001B[0m",
      "\u001B[1;31mNameError\u001B[0m                                 Traceback (most recent call last)",
      "\u001B[1;32m~\\AppData\\Local\\Temp\\ipykernel_16312\\3330066297.py\u001B[0m in \u001B[0;36m<module>\u001B[1;34m\u001B[0m\n\u001B[0;32m      1\u001B[0m msg = (\n\u001B[0;32m      2\u001B[0m     \u001B[1;34mf\"there is {num_left} {item_to_buy.name} left\"\u001B[0m\u001B[1;33m\u001B[0m\u001B[1;33m\u001B[0m\u001B[0m\n\u001B[1;32m----> 3\u001B[1;33m     \u001B[1;32mif\u001B[0m \u001B[0mnum_left\u001B[0m \u001B[1;33m==\u001B[0m \u001B[1;36m1\u001B[0m\u001B[1;33m\u001B[0m\u001B[1;33m\u001B[0m\u001B[0m\n\u001B[0m\u001B[0;32m      4\u001B[0m     else f\"there are {num_left} {item_to_buy.name}s left\")\n\u001B[0;32m      5\u001B[0m \u001B[0mprint\u001B[0m\u001B[1;33m(\u001B[0m\u001B[0mmsg\u001B[0m\u001B[1;33m)\u001B[0m\u001B[1;33m\u001B[0m\u001B[1;33m\u001B[0m\u001B[0m\n",
      "\u001B[1;31mNameError\u001B[0m: name 'num_left' is not defined"
     ]
    }
   ],
   "source": [
    "msg = (\n",
    "    f\"there is {num_left} {item_to_buy.name} left\" \n",
    "    if num_left == 1 \n",
    "    else f\"there are {num_left} {item_to_buy.name}s left\")\n",
    "print(msg)\n"
   ],
   "metadata": {
    "collapsed": false,
    "ExecuteTime": {
     "end_time": "2023-12-15T05:22:49.367421800Z",
     "start_time": "2023-12-15T05:22:49.241956600Z"
    }
   },
   "id": "d4d3ab51c9f20841"
  },
  {
   "cell_type": "markdown",
   "source": [
    "We can also use exceptions to pass messages between different methods. \n",
    "\n",
    "For example, if we wanted to inform the customer as to what date the item is expected to be in stock again, we could ensure our OutOfStock object requires a back_in_stock parameter when it is constructed. \n",
    "\n",
    "Then, when we handle the exception, we can check that value and provide additional information to the customer. \n",
    "\n",
    "The information attached to the object can be easily passed between two different parts of the program. \n",
    "\n",
    "The exception could even provide a method that instructs the inventory object to reorder or backorder an item.\n",
    "\n",
    "Using exceptions for flow control can make for some handy program designs. \n",
    "\n",
    "The important thing to take from this discussion is that exceptions are not a bad thing that we should try to avoid. \n",
    "\n",
    "Having an exception occur does not mean that you should have prevented this exceptional circumstance from happening. \n",
    "\n",
    "Rather, it is just a powerful way to communicate information between two sections of code that may not be directly calling each other."
   ],
   "metadata": {
    "collapsed": false
   },
   "id": "7904243a20db3d93"
  }
 ],
 "metadata": {
  "kernelspec": {
   "display_name": "Python 3",
   "language": "python",
   "name": "python3"
  },
  "language_info": {
   "codemirror_mode": {
    "name": "ipython",
    "version": 2
   },
   "file_extension": ".py",
   "mimetype": "text/x-python",
   "name": "python",
   "nbconvert_exporter": "python",
   "pygments_lexer": "ipython2",
   "version": "2.7.6"
  }
 },
 "nbformat": 4,
 "nbformat_minor": 5
}
