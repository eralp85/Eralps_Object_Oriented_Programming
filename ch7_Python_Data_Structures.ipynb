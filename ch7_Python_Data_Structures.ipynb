{
 "cells": [
  {
   "cell_type": "markdown",
   "source": [
    "# PYTHON DATA STRUCTURES"
   ],
   "metadata": {
    "collapsed": false
   },
   "id": "cdd43ea80d1be6e8"
  },
  {
   "cell_type": "markdown",
   "source": [
    "We'll discuss the object-oriented features of  data structures, when they should be used instead of a regular class, and when they should not be used. \n",
    "\n",
    "In particular, we'll be covering the following topics:\n",
    "\n",
    "Tuples and named tuples\n",
    "Dataclasses\n",
    "Dictionaries\n",
    "Lists and sets\n",
    "Three types of queues"
   ],
   "metadata": {
    "collapsed": false
   },
   "id": "28adce95f22f07a1"
  },
  {
   "cell_type": "markdown",
   "source": [
    "# EMPTY OBJECTS\n",
    "\n",
    "Let's start with the most basic Python built-in, one that we've used implicitly many times already, the one (it turns out) we've extended in every class we have created: the object.\n",
    "\n",
    "Technically, we can instantiate an object without writing a subclass, as follows:"
   ],
   "metadata": {
    "collapsed": false
   },
   "id": "d34f4ce8f2a57b08"
  },
  {
   "cell_type": "code",
   "execution_count": 1,
   "outputs": [],
   "source": [
    "o = object()"
   ],
   "metadata": {
    "collapsed": false,
    "ExecuteTime": {
     "end_time": "2024-01-03T17:15:48.232524500Z",
     "start_time": "2024-01-03T17:15:48.217957200Z"
    }
   },
   "id": "828e5a9ffa8e4466"
  },
  {
   "cell_type": "code",
   "execution_count": 2,
   "outputs": [
    {
     "ename": "AttributeError",
     "evalue": "'object' object has no attribute 'x'",
     "output_type": "error",
     "traceback": [
      "\u001B[1;31m---------------------------------------------------------------------------\u001B[0m",
      "\u001B[1;31mAttributeError\u001B[0m                            Traceback (most recent call last)",
      "\u001B[1;32m~\\AppData\\Local\\Temp\\ipykernel_14252\\3592318861.py\u001B[0m in \u001B[0;36m<module>\u001B[1;34m\u001B[0m\n\u001B[1;32m----> 1\u001B[1;33m \u001B[0mo\u001B[0m\u001B[1;33m.\u001B[0m\u001B[0mx\u001B[0m \u001B[1;33m=\u001B[0m \u001B[1;36m100\u001B[0m\u001B[1;33m\u001B[0m\u001B[1;33m\u001B[0m\u001B[0m\n\u001B[0m",
      "\u001B[1;31mAttributeError\u001B[0m: 'object' object has no attribute 'x'"
     ]
    }
   ],
   "source": [
    "o.x = 100"
   ],
   "metadata": {
    "collapsed": false,
    "ExecuteTime": {
     "end_time": "2024-01-03T17:15:58.231467800Z",
     "start_time": "2024-01-03T17:15:57.708445400Z"
    }
   },
   "id": "32c461a4e1db1eb8"
  },
  {
   "cell_type": "markdown",
   "source": [
    "Unfortunately, as you can see, it's not possible to set any attributes on an object that was instantiated directly. \n",
    "\n",
    "This isn't because the Python developers wanted to force us to write our own classes, or anything so sinister. \n",
    "\n",
    "They did this to save memory – a lot of memory.\n",
    "\n"
   ],
   "metadata": {
    "collapsed": false
   },
   "id": "6ae0b26ec3b95da0"
  }
 ],
 "metadata": {
  "kernelspec": {
   "display_name": "Python 3",
   "language": "python",
   "name": "python3"
  },
  "language_info": {
   "codemirror_mode": {
    "name": "ipython",
    "version": 2
   },
   "file_extension": ".py",
   "mimetype": "text/x-python",
   "name": "python",
   "nbconvert_exporter": "python",
   "pygments_lexer": "ipython2",
   "version": "2.7.6"
  }
 },
 "nbformat": 4,
 "nbformat_minor": 5
}
