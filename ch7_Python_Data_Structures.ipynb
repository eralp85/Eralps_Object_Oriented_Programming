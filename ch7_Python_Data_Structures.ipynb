{
 "cells": [
  {
   "cell_type": "markdown",
   "source": [
    "# PYTHON DATA STRUCTURES"
   ],
   "metadata": {
    "collapsed": false
   },
   "id": "cdd43ea80d1be6e8"
  },
  {
   "cell_type": "markdown",
   "source": [
    "We'll discuss the object-oriented features of  data structures, when they should be used instead of a regular class, and when they should not be used. \n",
    "\n",
    "In particular, we'll be covering the following topics:\n",
    "\n",
    "Tuples and named tuples\n",
    "Dataclasses\n",
    "Dictionaries\n",
    "Lists and sets\n",
    "Three types of queues"
   ],
   "metadata": {
    "collapsed": false
   },
   "id": "28adce95f22f07a1"
  },
  {
   "cell_type": "markdown",
   "source": [
    "# EMPTY OBJECTS\n",
    "\n",
    "Let's start with the most basic Python built-in, one that we've used implicitly many times already, the one (it turns out) we've extended in every class we have created: the object.\n",
    "\n",
    "Technically, we can instantiate an object without writing a subclass, as follows:"
   ],
   "metadata": {
    "collapsed": false
   },
   "id": "d34f4ce8f2a57b08"
  },
  {
   "cell_type": "code",
   "execution_count": 63,
   "outputs": [],
   "source": [
    "o = object()"
   ],
   "metadata": {
    "collapsed": false,
    "ExecuteTime": {
     "end_time": "2024-01-08T05:02:01.681545700Z",
     "start_time": "2024-01-08T05:02:00.882128800Z"
    }
   },
   "id": "828e5a9ffa8e4466"
  },
  {
   "cell_type": "code",
   "execution_count": 64,
   "outputs": [
    {
     "ename": "AttributeError",
     "evalue": "'object' object has no attribute 'x'",
     "output_type": "error",
     "traceback": [
      "\u001B[1;31m---------------------------------------------------------------------------\u001B[0m",
      "\u001B[1;31mAttributeError\u001B[0m                            Traceback (most recent call last)",
      "\u001B[1;32m~\\AppData\\Local\\Temp\\ipykernel_4192\\3592318861.py\u001B[0m in \u001B[0;36m<module>\u001B[1;34m\u001B[0m\n\u001B[1;32m----> 1\u001B[1;33m \u001B[0mo\u001B[0m\u001B[1;33m.\u001B[0m\u001B[0mx\u001B[0m \u001B[1;33m=\u001B[0m \u001B[1;36m100\u001B[0m\u001B[1;33m\u001B[0m\u001B[1;33m\u001B[0m\u001B[0m\n\u001B[0m",
      "\u001B[1;31mAttributeError\u001B[0m: 'object' object has no attribute 'x'"
     ]
    }
   ],
   "source": [
    "o.x = 100"
   ],
   "metadata": {
    "collapsed": false,
    "ExecuteTime": {
     "end_time": "2024-01-08T05:02:02.292326100Z",
     "start_time": "2024-01-08T05:02:00.894959100Z"
    }
   },
   "id": "32c461a4e1db1eb8"
  },
  {
   "cell_type": "markdown",
   "source": [
    "Unfortunately, as you can see, it's not possible to set any attributes on an object that was instantiated directly. \n",
    "\n",
    "This isn't because the Python developers wanted to force us to write our own classes, or anything so sinister. \n",
    "\n",
    "They did this to save memory – a lot of memory.\n",
    "\n",
    "When Python allows an object to have arbitrary attributes, it takes a certain amount of system memory to keep track of what attributes each object has, for storing both the attribute name and its value.\n",
    "\n",
    "Even if no attributes are stored, memory is allocated to make it possible to add attributes.\n",
    "\n",
    "Given the dozens, hundreds or thousands of objects( every class extends the object class) in a typical Python program, this small amount of memory would quickly become a large amount of memory.\n",
    "\n",
    "So, Python disables arbitrary properties on `object` and several other built-ins, by default.\n",
    "\n",
    "It is possible to restrict arbitrary properties on our own classes using __slots__. \n",
    "\n",
    "Slots are part of Chapter 12, Advanced Design Patterns. We'll look at them as a way to save memory for objects that occur many, many times.\n",
    "\n",
    "It is, however, trivial to create an empty object class of our own; we saw it in our earliest example:"
   ],
   "metadata": {
    "collapsed": false
   },
   "id": "6ae0b26ec3b95da0"
  },
  {
   "cell_type": "code",
   "execution_count": 94,
   "outputs": [],
   "source": [
    "class MyObject:\n",
    "    pass"
   ],
   "metadata": {
    "collapsed": false,
    "ExecuteTime": {
     "end_time": "2024-01-08T05:02:19.238593100Z",
     "start_time": "2024-01-08T05:02:18.426074Z"
    }
   },
   "id": "faee2c8391b88964"
  },
  {
   "cell_type": "markdown",
   "source": [
    "In effect, `class MyObject` is equivalent to `class MyObject(object)`.\n",
    "\n",
    "As seen earlier, it is possible to set attributes on such classes."
   ],
   "metadata": {
    "collapsed": false
   },
   "id": "9468e4aca1d1f365"
  },
  {
   "cell_type": "code",
   "execution_count": 95,
   "outputs": [],
   "source": [
    "m = MyObject()"
   ],
   "metadata": {
    "collapsed": false,
    "ExecuteTime": {
     "end_time": "2024-01-08T05:02:19.645493800Z",
     "start_time": "2024-01-08T05:02:18.437982Z"
    }
   },
   "id": "379dbf0f2783dd3d"
  },
  {
   "cell_type": "code",
   "execution_count": 96,
   "outputs": [],
   "source": [
    "m.x = \"hihihi\""
   ],
   "metadata": {
    "collapsed": false,
    "ExecuteTime": {
     "end_time": "2024-01-08T05:02:19.645493800Z",
     "start_time": "2024-01-08T05:02:18.455134500Z"
    }
   },
   "id": "134c24879bdd0986"
  },
  {
   "cell_type": "code",
   "execution_count": 97,
   "outputs": [
    {
     "data": {
      "text/plain": "'hihihi'"
     },
     "execution_count": 97,
     "metadata": {},
     "output_type": "execute_result"
    }
   ],
   "source": [
    "m.x"
   ],
   "metadata": {
    "collapsed": false,
    "ExecuteTime": {
     "end_time": "2024-01-08T05:02:19.645493800Z",
     "start_time": "2024-01-08T05:02:18.467186700Z"
    }
   },
   "id": "5c73ce88098713d8"
  },
  {
   "cell_type": "markdown",
   "source": [
    "If we wanted to group an unknown number of attribute values together, we could store them in an empty object like this.\n",
    "\n",
    "The problem with this approach is the lack of an obvious schema that we can use to understand what attributes should be present and what types of values they will have.\n",
    "\n",
    "  Focus of this book is the way classes and objects should only be used when you want to specify both data and behaviors. \n",
    "  \n",
    "Therefore, it is important to decide from the outset whether the data is purely data, or whether it is an object in disguise. \n",
    "\n",
    "Once that design decision is made, the rest of the design can grow from the seed concept."
   ],
   "metadata": {
    "collapsed": false
   },
   "id": "de73fdae9e9c7341"
  },
  {
   "cell_type": "markdown",
   "source": [
    "# TUPLES AND NAMED TUPLES"
   ],
   "metadata": {
    "collapsed": false
   },
   "id": "a40b90be8aafafb7"
  },
  {
   "cell_type": "markdown",
   "source": [
    "Tuples are objects that can store a specific number of other objects in sequence.\n",
    "\n",
    "They are immutable, meaning we cannot add, remove or replace objects on the fly.\n",
    "\n",
    "The primary benefit of tuples' immutability is a tuple of immutable objects (like strings and numbers and other tuples) has a hash value, allowing us to use them as keys in dictionaries and members of sets.\n",
    "\n",
    "Instances of tuple class are used to store data; behaviour cannot be associated with built-in tuple class.\n",
    "\n",
    "If we require behaviour to manipulate a tuple, we have to pass the tuple into a function(or method on an another object) that performs the required behaviour."
   ],
   "metadata": {
    "collapsed": false
   },
   "id": "e5c1822f0477878a"
  },
  {
   "cell_type": "markdown",
   "source": [
    "Tuples overlap with the idea of coordinates or dimensions. \n",
    "\n",
    "A mathematical (x, y) pair or (r, g,b) color are examples of tuples.\n",
    "\n",
    "The order matters, a lot: the color (255, 0, 0) looks nothing like (0, 255, 0).\n",
    "\n",
    "The primary purpose of a tuple is to aggregate different pieces of data together into one container.\n",
    "\n",
    "We create a tuple by separating values with commas, and optionally surrounding them with parentheses.\n",
    "\n",
    "The following two assignments are identical (they record a stock, the current price, the 52-week high, and the 52-week low, for a rather profitable company):"
   ],
   "metadata": {
    "collapsed": false
   },
   "id": "2ae585a110363844"
  },
  {
   "cell_type": "code",
   "execution_count": 98,
   "outputs": [],
   "source": [
    "stock1 = \"AAPL\", 123.52, 53.15, 137.98\n",
    "stock2 = (\"AAPL\", 123.52, 53.15, 137.98)\n"
   ],
   "metadata": {
    "collapsed": false,
    "ExecuteTime": {
     "end_time": "2024-01-08T05:02:19.645493800Z",
     "start_time": "2024-01-08T05:02:18.482846900Z"
    }
   },
   "id": "45df7e3ff453eaf5"
  },
  {
   "cell_type": "markdown",
   "source": [
    "If we are grouping a tuple inside of some other object, such as function call, list comprehension, or generator, the parentheses are required.\n",
    "\n",
    "Otherwise, it would be impossible for the interpreter to know whether it is a tuple or the next function parameter:"
   ],
   "metadata": {
    "collapsed": false
   },
   "id": "62ced565ddf208ee"
  },
  {
   "cell_type": "code",
   "execution_count": 99,
   "outputs": [
    {
     "data": {
      "text/plain": "(74.965, datetime.date(2018, 2, 1))"
     },
     "execution_count": 99,
     "metadata": {},
     "output_type": "execute_result"
    }
   ],
   "source": [
    "import datetime\n",
    "\n",
    "def middle(stock, date):\n",
    "    symbol, current, high, low = stock\n",
    "    return (((high + low) / 2), date)\n",
    "\n",
    "middle((\"MSFT\", 75.00, 75.03, 74.90), datetime.date(2018, 2, 1))"
   ],
   "metadata": {
    "collapsed": false,
    "ExecuteTime": {
     "end_time": "2024-01-08T05:02:19.693830600Z",
     "start_time": "2024-01-08T05:02:18.509113300Z"
    }
   },
   "id": "e7cab712546665ac"
  },
  {
   "cell_type": "markdown",
   "source": [
    "When Python displays a tuple, it uses what is called the **canonical** representation; this will always include `()`'s, making the `()`'s a common practice even when they are not strictly required.\n",
    "\n",
    "The return statement, specifically has redundant `()`'s around the tuple it creates.\n",
    "\n",
    "The degenerate cases include a tuple with only one item, written like thin `(2.718,)`. \n",
    "\n",
    "The extra comma is required here. An empty tuple is `()`."
   ],
   "metadata": {
    "collapsed": false
   },
   "id": "5d8ef0ced0ecffe0"
  },
  {
   "cell_type": "code",
   "execution_count": 100,
   "outputs": [],
   "source": [
    "a = (42,)"
   ],
   "metadata": {
    "collapsed": false,
    "ExecuteTime": {
     "end_time": "2024-01-08T05:02:19.786988700Z",
     "start_time": "2024-01-08T05:02:18.529800200Z"
    }
   },
   "id": "4fa8dd3973ecd14e"
  },
  {
   "cell_type": "code",
   "execution_count": 101,
   "outputs": [
    {
     "data": {
      "text/plain": "(42,)"
     },
     "execution_count": 101,
     "metadata": {},
     "output_type": "execute_result"
    }
   ],
   "source": [
    "a"
   ],
   "metadata": {
    "collapsed": false,
    "ExecuteTime": {
     "end_time": "2024-01-08T05:02:19.866282500Z",
     "start_time": "2024-01-08T05:02:18.545424100Z"
    }
   },
   "id": "e4bc904d17e2826b"
  },
  {
   "cell_type": "markdown",
   "source": [
    "It is sometimes surprising that the varaible `a` will be a one-tuple.\n",
    "\n",
    "**The trailing comma is what creates an expression list with a single item; this is the value of the tuple**\n",
    "\n",
    "The parentheses are required for two tings:\n",
    "\n",
    "1-) to create an empty tuple\n",
    "2-) to separate a tuple from other expressions.\n",
    "\n",
    "For example, the following code will create nested tupple: "
   ],
   "metadata": {
    "collapsed": false
   },
   "id": "fc6ab5b66f97421b"
  },
  {
   "cell_type": "code",
   "execution_count": 102,
   "outputs": [],
   "source": [
    "b = (42, 3.14), (2.718, 2.618),"
   ],
   "metadata": {
    "collapsed": false,
    "ExecuteTime": {
     "end_time": "2024-01-08T05:02:19.882870100Z",
     "start_time": "2024-01-08T05:02:18.567146600Z"
    }
   },
   "id": "ebf62601d767e18b"
  },
  {
   "cell_type": "code",
   "execution_count": 103,
   "outputs": [
    {
     "data": {
      "text/plain": "((42, 3.14), (2.718, 2.618))"
     },
     "execution_count": 103,
     "metadata": {},
     "output_type": "execute_result"
    }
   ],
   "source": [
    "b"
   ],
   "metadata": {
    "collapsed": false,
    "ExecuteTime": {
     "end_time": "2024-01-08T05:02:19.928654200Z",
     "start_time": "2024-01-08T05:02:18.586210300Z"
    }
   },
   "id": "f9b379b00694ec4e"
  },
  {
   "cell_type": "markdown",
   "source": [
    "The trailing commas in Python are politely ignored.\n",
    "\n",
    "The `middle()` function also illustrates **tuple unpacking**.\n",
    "\n",
    "The first line inside the function unpacks the `stock` parameter into four different variables.\n",
    "\n",
    "*The tuple has to be exactly the same length as the number of variables, or it will raise an exception.*\n",
    "\n",
    "Unpacking is a very useful feature in Python.\n",
    "\n",
    "A tuple groups related values together to make storing and passing them around simpler.\n",
    "\n",
    "The moment we need to access the pieces, we can unpack them into separate variables.\n",
    "\n",
    "Of course, sometimes we only need access to one of the variables in the tuple.\n",
    "\n",
    "We can use the same syntax that we use for other sequence types(list and strings) to access an individual value."
   ],
   "metadata": {
    "collapsed": false
   },
   "id": "2604b0979243161a"
  },
  {
   "cell_type": "code",
   "execution_count": 104,
   "outputs": [],
   "source": [
    "s = (\"AKBNK\", 36.24, 48.56, 25.65)"
   ],
   "metadata": {
    "collapsed": false,
    "ExecuteTime": {
     "end_time": "2024-01-08T05:02:19.928654200Z",
     "start_time": "2024-01-08T05:02:18.608515800Z"
    }
   },
   "id": "d476774236b70abe"
  },
  {
   "cell_type": "code",
   "execution_count": 105,
   "outputs": [],
   "source": [
    "high = s[2]"
   ],
   "metadata": {
    "collapsed": false,
    "ExecuteTime": {
     "end_time": "2024-01-08T05:02:19.928654200Z",
     "start_time": "2024-01-08T05:02:18.624141800Z"
    }
   },
   "id": "ccf6c504bdd206bf"
  },
  {
   "cell_type": "code",
   "execution_count": 106,
   "outputs": [
    {
     "data": {
      "text/plain": "48.56"
     },
     "execution_count": 106,
     "metadata": {},
     "output_type": "execute_result"
    }
   ],
   "source": [
    "high"
   ],
   "metadata": {
    "collapsed": false,
    "ExecuteTime": {
     "end_time": "2024-01-08T05:02:19.928654200Z",
     "start_time": "2024-01-08T05:02:18.639768400Z"
    }
   },
   "id": "412814ed4028f8ea"
  },
  {
   "cell_type": "markdown",
   "source": [
    "We can use slice notation to extract larger pieces of tuples.\n"
   ],
   "metadata": {
    "collapsed": false
   },
   "id": "efb4334b8aa222cb"
  },
  {
   "cell_type": "code",
   "execution_count": 107,
   "outputs": [
    {
     "data": {
      "text/plain": "(36.24, 48.56)"
     },
     "execution_count": 107,
     "metadata": {},
     "output_type": "execute_result"
    }
   ],
   "source": [
    "s[1:3]"
   ],
   "metadata": {
    "collapsed": false,
    "ExecuteTime": {
     "end_time": "2024-01-08T05:02:19.975805Z",
     "start_time": "2024-01-08T05:02:18.658588300Z"
    }
   },
   "id": "5ad4e789d894b3f5"
  },
  {
   "cell_type": "markdown",
   "source": [
    "These examples, while illustrating how flexible tuples can be, also demonstrate one of their major disadvantages: **readability**.\n",
    "\n",
    "How does someone reading this code know what is in position 2 of a specific tuple?\n",
    "\n",
    "They would have to paw through the code to find where the tuple was packed or unpacked before they could discover what it does.\n",
    "\n",
    "Accessing tuple members directly is fine in some circumstances, but don't make a habit of it. \n",
    "\n",
    "The index values become what we might call magic numbers: numbers that seem to come out of thin air with no apparent meaning within the code. \n",
    "\n",
    "This opacity is the source of many coding errors and leads to hours of frustrated debugging. \n",
    "\n",
    "**Try to use tuples only when you know that all the values are going to be useful at once and it's normally going to be unpacked when it is accessed.**\n",
    " \n",
    "Think of (x, y) coordinate pairs and (r, g, b) colors, where the number of items is fixed, the order matters, and the meaning is clear.\n",
    "\n",
    "One way to provide some useful documentation is to define numerous little helper functions. This can help to clarify the way a tuple is used. Here's an example."
   ],
   "metadata": {
    "collapsed": false
   },
   "id": "63a75b0e0d35e705"
  },
  {
   "cell_type": "code",
   "execution_count": 108,
   "outputs": [],
   "source": [
    "def high(stock):\n",
    "    symbol, current, high, low = stock\n",
    "    return high"
   ],
   "metadata": {
    "collapsed": false,
    "ExecuteTime": {
     "end_time": "2024-01-08T05:02:20.022703500Z",
     "start_time": "2024-01-08T05:02:18.676856700Z"
    }
   },
   "id": "6422456cd2e40706"
  },
  {
   "cell_type": "code",
   "execution_count": 109,
   "outputs": [
    {
     "data": {
      "text/plain": "48.56"
     },
     "execution_count": 109,
     "metadata": {},
     "output_type": "execute_result"
    }
   ],
   "source": [
    "high(s)"
   ],
   "metadata": {
    "collapsed": false,
    "ExecuteTime": {
     "end_time": "2024-01-08T05:02:20.069623200Z",
     "start_time": "2024-01-08T05:02:18.695432100Z"
    }
   },
   "id": "10acb1a44900e9ed"
  },
  {
   "cell_type": "markdown",
   "source": [
    "We need to keep these helper functions collected together into a single namespace. \n",
    "\n",
    "Doing this causes us to suspect that a class is better than a tuple with a lot of helper functions. \n",
    "\n",
    "There are other alternatives to clarifying the contents of tuples, the most important of which is the typing.NamedTuple class."
   ],
   "metadata": {
    "collapsed": false
   },
   "id": "3b8e527f0ba862a8"
  },
  {
   "cell_type": "markdown",
   "source": [
    "# NAMED TUPLES VIA typing.NamedTuple"
   ],
   "metadata": {
    "collapsed": false
   },
   "id": "b5347825e735e1aa"
  },
  {
   "cell_type": "markdown",
   "source": [
    "What do we do when we want to group values together but know we're frequently going to need to access them individually? \n",
    "\n",
    "1-) We could use an empty object instance, as discussed previously. We can assign arbitrary attributes to this object. \n",
    "\n",
    "But without a good definition of what's allowed and what types are expected, we'll have trouble understanding this.\n",
    "\n",
    "2-) We could use a dictionary. This can work out nicely, and we can formalize the acceptable list of keys for the dictionary with the typing.TypedDict hint.\n",
    "\n",
    "3-) We can use a @dataclass, the subject of the next section in this chapter.\n",
    "\n",
    "4-) We can also provide names to the positions of a tuple. While we're at it, we can also define methods for these named tuples, making them super helpful.\n",
    "\n"
   ],
   "metadata": {
    "collapsed": false
   },
   "id": "7d75f346a794d931"
  },
  {
   "cell_type": "markdown",
   "source": [
    "Named tuples are tuples with attitude. They are a great way to create an immutable grouping of data values.\n",
    "\n",
    "When we define a named tuple, we are creating a subclass of `typing.NamedTuple`, based on a list of names and data types.\n",
    "\n",
    "We do not need to write an `__init__()` method, it is created for us.\n",
    "\n"
   ],
   "metadata": {
    "collapsed": false
   },
   "id": "c7a6d466575e91db"
  },
  {
   "cell_type": "code",
   "execution_count": 110,
   "outputs": [],
   "source": [
    "from typing import NamedTuple\n",
    "\n",
    "class Stock(NamedTuple):\n",
    "    name: str\n",
    "    current: float\n",
    "    high: float\n",
    "    low: float"
   ],
   "metadata": {
    "collapsed": false,
    "ExecuteTime": {
     "end_time": "2024-01-08T05:02:20.168066700Z",
     "start_time": "2024-01-08T05:02:18.702944500Z"
    }
   },
   "id": "f4dd5b7f87315541"
  },
  {
   "cell_type": "markdown",
   "source": [
    "This class will have a number of methods, including `__init__()`, `__hash__()` `__repr__()`and `__eq__`.\n",
    "\n",
    "These will be based on the generic `tupple` processing with the added benefit of names for the various items.\n",
    "\n",
    "There are more methods, including comparison operations.\n",
    "\n",
    "Here's how we can create a tuple of this class. It looks almost like creating a generic tuple:"
   ],
   "metadata": {
    "collapsed": false
   },
   "id": "8ec39f177ebbd328"
  },
  {
   "cell_type": "code",
   "execution_count": 111,
   "outputs": [],
   "source": [
    "hisse = Stock(name=\"GARAN\", current=36.24, high=48.56, low=25.65)"
   ],
   "metadata": {
    "collapsed": false,
    "ExecuteTime": {
     "end_time": "2024-01-08T05:02:20.201163200Z",
     "start_time": "2024-01-08T05:02:18.718588100Z"
    }
   },
   "id": "1ab898bcf7b21bda"
  },
  {
   "cell_type": "code",
   "execution_count": 112,
   "outputs": [
    {
     "data": {
      "text/plain": "'GARAN'"
     },
     "execution_count": 112,
     "metadata": {},
     "output_type": "execute_result"
    }
   ],
   "source": [
    "hisse.name"
   ],
   "metadata": {
    "collapsed": false,
    "ExecuteTime": {
     "end_time": "2024-01-08T05:02:20.274200200Z",
     "start_time": "2024-01-08T05:02:18.737434400Z"
    }
   },
   "id": "1af8e99290169f1b"
  },
  {
   "cell_type": "code",
   "execution_count": 113,
   "outputs": [
    {
     "data": {
      "text/plain": "36.24"
     },
     "execution_count": 113,
     "metadata": {},
     "output_type": "execute_result"
    }
   ],
   "source": [
    "hisse.current"
   ],
   "metadata": {
    "collapsed": false,
    "ExecuteTime": {
     "end_time": "2024-01-08T05:02:20.274200200Z",
     "start_time": "2024-01-08T05:02:18.749969800Z"
    }
   },
   "id": "2b0bab74307f104e"
  },
  {
   "cell_type": "code",
   "execution_count": 114,
   "outputs": [
    {
     "ename": "AttributeError",
     "evalue": "'Stock' object has no attribute 'average'",
     "output_type": "error",
     "traceback": [
      "\u001B[1;31m---------------------------------------------------------------------------\u001B[0m",
      "\u001B[1;31mAttributeError\u001B[0m                            Traceback (most recent call last)",
      "\u001B[1;32m~\\AppData\\Local\\Temp\\ipykernel_4192\\3656781093.py\u001B[0m in \u001B[0;36m<module>\u001B[1;34m\u001B[0m\n\u001B[1;32m----> 1\u001B[1;33m \u001B[0mhisse\u001B[0m\u001B[1;33m.\u001B[0m\u001B[0maverage\u001B[0m\u001B[1;33m\u001B[0m\u001B[1;33m\u001B[0m\u001B[0m\n\u001B[0m",
      "\u001B[1;31mAttributeError\u001B[0m: 'Stock' object has no attribute 'average'"
     ]
    }
   ],
   "source": [
    "hisse.average"
   ],
   "metadata": {
    "collapsed": false,
    "ExecuteTime": {
     "end_time": "2024-01-08T05:02:20.321074300Z",
     "start_time": "2024-01-08T05:02:18.765809100Z"
    }
   },
   "id": "2a79971b2656a852"
  },
  {
   "cell_type": "markdown",
   "source": [
    "The constructor must have exactly the correct number of arguments to create the tuple.\n",
    "\n",
    "Values can be passed in as positional or keyword arguments.\n",
    "\n",
    "It is important to recognize that the names are provided at the class level, but are not actually creating class-level attributes.\n",
    "\n",
    "The class-level names are used to build the `__init__()` method, each instance will have the expected names for the positions within the tuple.\n",
    "\n",
    "There is a clever metaclass-level transformation from what we wrote into the somewhat more complex definition of the resulting class with named, positional items.\n",
    "\n",
    "The resulting instance of our `NamedTuple` subclass, `hisse`, can be packed, unpacked, indexed, sliced and otherwise treated like a normal tuple, but we can also access individual attributes by name as if it were an object."
   ],
   "metadata": {
    "collapsed": false
   },
   "id": "3fac749ef758554c"
  },
  {
   "cell_type": "code",
   "execution_count": 130,
   "outputs": [
    {
     "data": {
      "text/plain": "'GARAN'"
     },
     "execution_count": 130,
     "metadata": {},
     "output_type": "execute_result"
    }
   ],
   "source": [
    "hisse.name"
   ],
   "metadata": {
    "collapsed": false,
    "ExecuteTime": {
     "end_time": "2024-01-08T05:02:36.964839100Z",
     "start_time": "2024-01-08T05:02:36.051580800Z"
    }
   },
   "id": "f334581525bc1b90"
  },
  {
   "cell_type": "code",
   "execution_count": 131,
   "outputs": [
    {
     "data": {
      "text/plain": "48.56"
     },
     "execution_count": 131,
     "metadata": {},
     "output_type": "execute_result"
    }
   ],
   "source": [
    "hisse[2]"
   ],
   "metadata": {
    "collapsed": false,
    "ExecuteTime": {
     "end_time": "2024-01-08T05:02:37.059348100Z",
     "start_time": "2024-01-08T05:02:36.067209300Z"
    }
   },
   "id": "2a785e0252a63492"
  },
  {
   "cell_type": "code",
   "execution_count": 132,
   "outputs": [],
   "source": [
    "symbol, current, high, low = hisse"
   ],
   "metadata": {
    "collapsed": false,
    "ExecuteTime": {
     "end_time": "2024-01-08T05:02:37.106229400Z",
     "start_time": "2024-01-08T05:02:36.082833Z"
    }
   },
   "id": "cb888e55c8e7d505"
  },
  {
   "cell_type": "code",
   "execution_count": 133,
   "outputs": [
    {
     "data": {
      "text/plain": "36.24"
     },
     "execution_count": 133,
     "metadata": {},
     "output_type": "execute_result"
    }
   ],
   "source": [
    "current"
   ],
   "metadata": {
    "collapsed": false,
    "ExecuteTime": {
     "end_time": "2024-01-08T05:02:37.121850Z",
     "start_time": "2024-01-08T05:02:36.102614Z"
    }
   },
   "id": "dd64a02586697279"
  },
  {
   "cell_type": "code",
   "execution_count": 134,
   "outputs": [
    {
     "data": {
      "text/plain": "'GARAN'"
     },
     "execution_count": 134,
     "metadata": {},
     "output_type": "execute_result"
    }
   ],
   "source": [
    "hisse.name"
   ],
   "metadata": {
    "collapsed": false,
    "ExecuteTime": {
     "end_time": "2024-01-08T05:02:37.169085900Z",
     "start_time": "2024-01-08T05:02:36.114121900Z"
    }
   },
   "id": "e2e179e22e8046fb"
  },
  {
   "cell_type": "markdown",
   "source": [
    "Named tuples are perfect for many uses cases.\n",
    "\n",
    "Like strings, tuples and named tuples are immutable, so we cannot modify an attribute once it has been set.\n",
    "\n",
    "For example, the current value of this company's stock is 36.24, but we cannot change it to 76.25."
   ],
   "metadata": {
    "collapsed": false
   },
   "id": "5ca8cc090e3fa052"
  },
  {
   "cell_type": "code",
   "execution_count": 135,
   "outputs": [
    {
     "ename": "AttributeError",
     "evalue": "can't set attribute",
     "output_type": "error",
     "traceback": [
      "\u001B[1;31m---------------------------------------------------------------------------\u001B[0m",
      "\u001B[1;31mAttributeError\u001B[0m                            Traceback (most recent call last)",
      "\u001B[1;32m~\\AppData\\Local\\Temp\\ipykernel_4192\\1159330553.py\u001B[0m in \u001B[0;36m<module>\u001B[1;34m\u001B[0m\n\u001B[1;32m----> 1\u001B[1;33m \u001B[0mhisse\u001B[0m\u001B[1;33m.\u001B[0m\u001B[0mcurrent\u001B[0m \u001B[1;33m=\u001B[0m \u001B[1;36m76.25\u001B[0m\u001B[1;33m\u001B[0m\u001B[1;33m\u001B[0m\u001B[0m\n\u001B[0m",
      "\u001B[1;31mAttributeError\u001B[0m: can't set attribute"
     ]
    }
   ],
   "source": [
    "hisse.current = 76.25"
   ],
   "metadata": {
    "collapsed": false,
    "ExecuteTime": {
     "end_time": "2024-01-08T05:02:37.216141600Z",
     "start_time": "2024-01-08T05:02:36.129762400Z"
    }
   },
   "id": "e2a73a7d77b4f1db"
  },
  {
   "cell_type": "markdown",
   "source": [
    "**The immutability refers only to the attributes of the tuple itself. The tuple can contain mutable elements.** "
   ],
   "metadata": {
    "collapsed": false
   },
   "id": "afe47efbd3dc2cfb"
  },
  {
   "cell_type": "code",
   "execution_count": 151,
   "outputs": [],
   "source": [
    "t = (\"Relayer\", [\"Gates of Delirium\", \"Sound Chaser\"])"
   ],
   "metadata": {
    "collapsed": false,
    "ExecuteTime": {
     "end_time": "2024-01-08T05:02:45.594646900Z",
     "start_time": "2024-01-08T05:02:44.896174800Z"
    }
   },
   "id": "119ea5a5479c34af"
  },
  {
   "cell_type": "code",
   "execution_count": 152,
   "outputs": [],
   "source": [
    "t[1].append(\"To Be Over\")"
   ],
   "metadata": {
    "collapsed": false,
    "ExecuteTime": {
     "end_time": "2024-01-08T05:02:45.604165800Z",
     "start_time": "2024-01-08T05:02:44.915473700Z"
    }
   },
   "id": "f4ddfd51a9ddbbc0"
  },
  {
   "cell_type": "code",
   "execution_count": 153,
   "outputs": [
    {
     "data": {
      "text/plain": "('Relayer', ['Gates of Delirium', 'Sound Chaser', 'To Be Over'])"
     },
     "execution_count": 153,
     "metadata": {},
     "output_type": "execute_result"
    }
   ],
   "source": [
    "t"
   ],
   "metadata": {
    "collapsed": false,
    "ExecuteTime": {
     "end_time": "2024-01-08T05:02:45.635937400Z",
     "start_time": "2024-01-08T05:02:44.930758100Z"
    }
   },
   "id": "87eba2cbf448dfa3"
  },
  {
   "cell_type": "markdown",
   "source": [
    "The object `t` is a tuple, which means it is immutable.\n",
    "\n",
    "The tuple object contains two elements. The value of `t[0]` is the string `\"Relayer\"`, which is immutable.\n",
    "\n",
    "The value of `t[1]` is a list, which is mutable.\n",
    "\n",
    "The mutability of the list is not altered by the immutability of the object `t`, with wihich its associated.\n",
    "\n",
    "A list is mutable, irrespective of context.\n",
    "\n",
    "The tuple, `t` is immutable, even if items withi it are mutable. \n",
    "\n",
    "Because the xample tuple, `t` contains a mutable list, it does not have a hash value. This should not be surprising. \n",
    "\n",
    "The `hash()` computation requires the hash from each item within the collection. \n",
    "\n",
    "Since the list value of `t[1]` cannot produce a hash, the tuple `t` as a whole connot produce a hash either.\n",
    "\n",
    "The presence of the unhashable list object means the tuple – as a whole – is also unhashable.\n",
    "\n"
   ],
   "metadata": {
    "collapsed": false
   },
   "id": "1ff75bb10638dd4f"
  },
  {
   "cell_type": "code",
   "execution_count": 154,
   "outputs": [
    {
     "ename": "TypeError",
     "evalue": "unhashable type: 'list'",
     "output_type": "error",
     "traceback": [
      "\u001B[1;31m---------------------------------------------------------------------------\u001B[0m",
      "\u001B[1;31mTypeError\u001B[0m                                 Traceback (most recent call last)",
      "\u001B[1;32m~\\AppData\\Local\\Temp\\ipykernel_4192\\932297612.py\u001B[0m in \u001B[0;36m<module>\u001B[1;34m\u001B[0m\n\u001B[1;32m----> 1\u001B[1;33m \u001B[0mhash\u001B[0m\u001B[1;33m(\u001B[0m\u001B[0mt\u001B[0m\u001B[1;33m)\u001B[0m\u001B[1;33m\u001B[0m\u001B[1;33m\u001B[0m\u001B[0m\n\u001B[0m",
      "\u001B[1;31mTypeError\u001B[0m: unhashable type: 'list'"
     ]
    }
   ],
   "source": [
    "hash(t)"
   ],
   "metadata": {
    "collapsed": false,
    "ExecuteTime": {
     "end_time": "2024-01-08T05:02:45.682850200Z",
     "start_time": "2024-01-08T05:02:44.945093200Z"
    }
   },
   "id": "c5a3466ede2cdb1d"
  },
  {
   "cell_type": "markdown",
   "source": [
    "We can create methods to compute derived values of the attributes of a named tuple.\n",
    "\n",
    "We can for example, redefine our `Stock` tuple to include the middle computation as a method (or a @property):"
   ],
   "metadata": {
    "collapsed": false
   },
   "id": "40812d5dfc3f28f6"
  },
  {
   "cell_type": "code",
   "execution_count": 173,
   "outputs": [],
   "source": [
    "from typing import NamedTuple\n",
    "\n",
    "class Stock2(NamedTuple):\n",
    "    name: str\n",
    "    current: float\n",
    "    high: float\n",
    "    low: float\n",
    "\n",
    "    def middle(self) -> float:\n",
    "        return (self.high + self.low) / 2"
   ],
   "metadata": {
    "collapsed": false,
    "ExecuteTime": {
     "end_time": "2024-01-08T05:02:52.778358900Z",
     "start_time": "2024-01-08T05:02:52.306572400Z"
    }
   },
   "id": "be1fcddbcb308999"
  },
  {
   "cell_type": "markdown",
   "source": [
    "We cannot change the state but we can compute values derived from the current state.\n",
    "\n",
    "This lets us couple computations directly to the tuple holding the source data.\n",
    "\n"
   ],
   "metadata": {
    "collapsed": false
   },
   "id": "9d87c32298528c87"
  },
  {
   "cell_type": "code",
   "execution_count": 174,
   "outputs": [],
   "source": [
    "s3 = Stock2(\"AKBNK\", 36.24, 48.56, 25.65)"
   ],
   "metadata": {
    "collapsed": false,
    "ExecuteTime": {
     "end_time": "2024-01-08T05:02:52.778358900Z",
     "start_time": "2024-01-08T05:02:52.322242Z"
    }
   },
   "id": "f464d75f495253d"
  },
  {
   "cell_type": "code",
   "execution_count": 175,
   "outputs": [
    {
     "data": {
      "text/plain": "37.105000000000004"
     },
     "execution_count": 175,
     "metadata": {},
     "output_type": "execute_result"
    }
   ],
   "source": [
    "s3.middle()"
   ],
   "metadata": {
    "collapsed": false,
    "ExecuteTime": {
     "end_time": "2024-01-08T05:02:52.778358900Z",
     "start_time": "2024-01-08T05:02:52.338028300Z"
    }
   },
   "id": "b977bfaf11656731"
  },
  {
   "cell_type": "markdown",
   "source": [
    "The `middle()` method is now part of the class definition.\n",
    "\n",
    "The state of a named tuple is fixed when the tuple is created.\n",
    "\n",
    "If we need to be able to change the stored data a `dataclass` may be what we need instead."
   ],
   "metadata": {
    "collapsed": false
   },
   "id": "32de6136c8b5d123"
  },
  {
   "cell_type": "markdown",
   "source": [
    "# DATACLASSES"
   ],
   "metadata": {
    "collapsed": false
   },
   "id": "bf426c98f7f49e84"
  },
  {
   "cell_type": "markdown",
   "source": [
    "Dataclasses let us define ordinary objects with a clean syntax for specifying attributes.\n",
    "\n",
    "They superficially look very similar to named tuples.\n",
    "\n",
    "Here is a dataclass version of our Stock example"
   ],
   "metadata": {
    "collapsed": false
   },
   "id": "5099df5bd7123c9d"
  },
  {
   "cell_type": "code",
   "execution_count": 176,
   "outputs": [],
   "source": [
    "from dataclasses import dataclass\n",
    "\n",
    "@dataclass\n",
    "\n",
    "class Stock3:\n",
    "    symbol: str\n",
    "    current: float\n",
    "    high: float\n",
    "    low: float\n"
   ],
   "metadata": {
    "collapsed": false,
    "ExecuteTime": {
     "end_time": "2024-01-08T05:02:52.847261800Z",
     "start_time": "2024-01-08T05:02:52.369762800Z"
    }
   },
   "id": "51d5c442a3c30bb7"
  },
  {
   "cell_type": "markdown",
   "source": [
    "For this case, the definition is nearly identical to the `NamedTupple` definition.\n",
    "\n",
    "The `dataclass` function is applied as a class decorator, using the `@` operator.\n",
    "\n",
    "This class definition syntax is bot much less verbose than an ordinary class with `__init__()`, but it gives us access to several additional `dataclass` feautres.\n",
    "\n",
    "It is important to recognize that the names are provided at the class level, bıt are not actually creating class-level attributes.\n",
    "\n",
    "The class level names are used to build several methods, including `__init__()` method; each instance will have the expected attributes.\n",
    "\n",
    "The decorator transforms what we wrote into the more complex definition of a class with the expected attributes and parameters to the `__init__()` method.\n",
    "\n",
    "Because dataclass objects can be stateful, mutable objects, there are a number of extra features available.\n",
    "\n",
    "We will start with some basics.\n",
    " "
   ],
   "metadata": {
    "collapsed": false
   },
   "id": "cec53a9665f780bc"
  },
  {
   "cell_type": "code",
   "execution_count": 177,
   "outputs": [],
   "source": [
    "s_dataclass = Stock3(\"YKBNK\", 3.24, 4.56, 2.65)"
   ],
   "metadata": {
    "collapsed": false,
    "ExecuteTime": {
     "end_time": "2024-01-08T05:02:53.014141600Z",
     "start_time": "2024-01-08T05:02:52.369762800Z"
    }
   },
   "id": "36285df4a12bbbdd"
  },
  {
   "cell_type": "markdown",
   "source": [
    "Once instantiated, the stock object can be used like any ordinary class.\n",
    "\n",
    "You can access and update attributes as follows:\n"
   ],
   "metadata": {
    "collapsed": false
   },
   "id": "f0b96ad49ffbccb8"
  },
  {
   "cell_type": "code",
   "execution_count": 178,
   "outputs": [
    {
     "data": {
      "text/plain": "Stock3(symbol='YKBNK', current=3.24, high=4.56, low=2.65)"
     },
     "execution_count": 178,
     "metadata": {},
     "output_type": "execute_result"
    }
   ],
   "source": [
    "s_dataclass"
   ],
   "metadata": {
    "collapsed": false,
    "ExecuteTime": {
     "end_time": "2024-01-08T05:02:53.077307100Z",
     "start_time": "2024-01-08T05:02:52.401390300Z"
    }
   },
   "id": "d2b8aa62437ca115"
  },
  {
   "cell_type": "code",
   "execution_count": 179,
   "outputs": [
    {
     "data": {
      "text/plain": "3.24"
     },
     "execution_count": 179,
     "metadata": {},
     "output_type": "execute_result"
    }
   ],
   "source": [
    "s_dataclass.current"
   ],
   "metadata": {
    "collapsed": false,
    "ExecuteTime": {
     "end_time": "2024-01-08T05:02:53.077307100Z",
     "start_time": "2024-01-08T05:02:52.417048400Z"
    }
   },
   "id": "f9243762575a3e97"
  },
  {
   "cell_type": "code",
   "execution_count": 180,
   "outputs": [],
   "source": [
    "s_dataclass.current = 99.99"
   ],
   "metadata": {
    "collapsed": false,
    "ExecuteTime": {
     "end_time": "2024-01-08T05:02:53.172191500Z",
     "start_time": "2024-01-08T05:02:52.442262700Z"
    }
   },
   "id": "8d04b6a2d7169508"
  },
  {
   "cell_type": "code",
   "execution_count": 181,
   "outputs": [
    {
     "data": {
      "text/plain": "Stock3(symbol='YKBNK', current=99.99, high=4.56, low=2.65)"
     },
     "execution_count": 181,
     "metadata": {},
     "output_type": "execute_result"
    }
   ],
   "source": [
    "s_dataclass"
   ],
   "metadata": {
    "collapsed": false,
    "ExecuteTime": {
     "end_time": "2024-01-08T05:02:53.219463800Z",
     "start_time": "2024-01-08T05:02:52.451382900Z"
    }
   },
   "id": "5af4a0e252dcc6d9"
  },
  {
   "cell_type": "markdown",
   "source": [
    "As with other objects, we can add attributes beyond those formally declared as a part of the dataclass.\n",
    "\n",
    "This is not always the best idea, but its is supported because this is an ordinary mutable object."
   ],
   "metadata": {
    "collapsed": false
   },
   "id": "c3f50e1292b0763e"
  },
  {
   "cell_type": "code",
   "execution_count": 182,
   "outputs": [],
   "source": [
    "s_dataclass.new_attribute = \"OMG\""
   ],
   "metadata": {
    "collapsed": false,
    "ExecuteTime": {
     "end_time": "2024-01-08T05:02:53.219463800Z",
     "start_time": "2024-01-08T05:02:52.465331400Z"
    }
   },
   "id": "99648f1342dd5fad"
  },
  {
   "cell_type": "code",
   "execution_count": 183,
   "outputs": [
    {
     "data": {
      "text/plain": "'OMG'"
     },
     "execution_count": 183,
     "metadata": {},
     "output_type": "execute_result"
    }
   ],
   "source": [
    "s_dataclass.new_attribute"
   ],
   "metadata": {
    "collapsed": false,
    "ExecuteTime": {
     "end_time": "2024-01-08T05:02:53.326732400Z",
     "start_time": "2024-01-08T05:02:52.479978400Z"
    }
   },
   "id": "6491e5cda1a526d6"
  },
  {
   "cell_type": "markdown",
   "source": [
    "Adding attributes is not available for frozen dataclasses, which we will talk about later.\n",
    "\n",
    "At first glance, it seems like dataclasses do not give many benefits over an ordinary class definition with an appropriate `__init__()` method.\n",
    "\n",
    "Here is an ordinary class that is similar to dataclass:"
   ],
   "metadata": {
    "collapsed": false
   },
   "id": "86c55f1864127f3a"
  },
  {
   "cell_type": "code",
   "execution_count": 184,
   "outputs": [],
   "source": [
    "class Stock4:\n",
    "    def __init__(self, name:str, current:float, high:float, low:float) -> None:\n",
    "        self.name = name\n",
    "        self.current = current\n",
    "        self.high = high\n",
    "        self.low = low"
   ],
   "metadata": {
    "collapsed": false,
    "ExecuteTime": {
     "end_time": "2024-01-08T05:02:53.326732400Z",
     "start_time": "2024-01-08T05:02:52.499896500Z"
    }
   },
   "id": "c4451df5a688b85f"
  },
  {
   "cell_type": "code",
   "execution_count": 185,
   "outputs": [],
   "source": [
    "s_ordinary = Stock4(\"KCHOL\", 25.96, 36.56, 15.65)"
   ],
   "metadata": {
    "collapsed": false,
    "ExecuteTime": {
     "end_time": "2024-01-08T05:02:53.327791200Z",
     "start_time": "2024-01-08T05:02:52.511988800Z"
    }
   },
   "id": "373395abb16cb16"
  },
  {
   "cell_type": "markdown",
   "source": [
    "One obvious benefit to a dataclass is we only need to state attribute names once, saving the repetition in the `__init__()` parameters and body.\n",
    "\n",
    "The dataclass also provides a much more useful string representation than we get from the implicit superclass `object`.\n",
    "\n",
    "By default, dataclasses include an equality comparison.\n",
    "\n",
    "This can be turned off in the cases where it does not make sense.\n",
    "\n",
    "The following example compares the manually built class to these dataclass features:"
   ],
   "metadata": {
    "collapsed": false
   },
   "id": "c47f03692f5cbc36"
  },
  {
   "cell_type": "code",
   "execution_count": 186,
   "outputs": [
    {
     "data": {
      "text/plain": "<__main__.Stock4 at 0x1f58a23fd30>"
     },
     "execution_count": 186,
     "metadata": {},
     "output_type": "execute_result"
    }
   ],
   "source": [
    "s_ordinary"
   ],
   "metadata": {
    "collapsed": false,
    "ExecuteTime": {
     "end_time": "2024-01-08T05:02:53.331450100Z",
     "start_time": "2024-01-08T05:02:52.527627900Z"
    }
   },
   "id": "9dfd7bd746fafdca"
  },
  {
   "cell_type": "code",
   "execution_count": 187,
   "outputs": [],
   "source": [
    "s_ordinary_2 = Stock4(\"KCHOL\", 25.96, 36.56, 15.65)"
   ],
   "metadata": {
    "collapsed": false,
    "ExecuteTime": {
     "end_time": "2024-01-08T05:02:53.333796300Z",
     "start_time": "2024-01-08T05:02:52.551036200Z"
    }
   },
   "id": "7d5ed8e9b58cd94d"
  },
  {
   "cell_type": "code",
   "execution_count": 188,
   "outputs": [
    {
     "data": {
      "text/plain": "False"
     },
     "execution_count": 188,
     "metadata": {},
     "output_type": "execute_result"
    }
   ],
   "source": [
    "s_ordinary == s_ordinary_2\n"
   ],
   "metadata": {
    "collapsed": false,
    "ExecuteTime": {
     "end_time": "2024-01-08T05:02:53.334872800Z",
     "start_time": "2024-01-08T05:02:52.598637600Z"
    }
   },
   "id": "98a7bd4b8c82b414"
  },
  {
   "cell_type": "markdown",
   "source": [
    "The class built manually has an awful default representation, and the lac of an equality test can make life difficult.\n",
    "\n",
    "We would prefer the behaviour of the `Stock` class defined with `dataclass`. "
   ],
   "metadata": {
    "collapsed": false
   },
   "id": "ba3dcc5a199941"
  },
  {
   "cell_type": "code",
   "execution_count": 191,
   "outputs": [],
   "source": [
    "stock_dataclass_2 = Stock3(\"YKBNK\", 99.99, 4.56, 2.65)"
   ],
   "metadata": {
    "collapsed": false,
    "ExecuteTime": {
     "end_time": "2024-01-08T05:03:51.853205200Z",
     "start_time": "2024-01-08T05:03:51.784042800Z"
    }
   },
   "id": "f5f568e9e667481d"
  },
  {
   "cell_type": "code",
   "execution_count": 192,
   "outputs": [
    {
     "data": {
      "text/plain": "True"
     },
     "execution_count": 192,
     "metadata": {},
     "output_type": "execute_result"
    }
   ],
   "source": [
    "stock_dataclass_2 == s_dataclass"
   ],
   "metadata": {
    "collapsed": false,
    "ExecuteTime": {
     "end_time": "2024-01-08T05:03:51.900085300Z",
     "start_time": "2024-01-08T05:03:51.790062400Z"
    }
   },
   "id": "24460f02d78a7bb"
  },
  {
   "cell_type": "markdown",
   "source": [
    "Class definitions decorated with `@dataclass` also have many other useful features. \n",
    "\n",
    "For example, you can specify a default value for the attributes of a dataclass. \n",
    "\n",
    "Perhaps the market is currently closed and you don't know what the values for the day are:"
   ],
   "metadata": {
    "collapsed": false
   },
   "id": "de27132cd0f9e27d"
  },
  {
   "cell_type": "code",
   "execution_count": 193,
   "outputs": [],
   "source": [
    "from dataclasses import dataclass\n",
    "\n",
    "@dataclass\n",
    "\n",
    "class StockDefaults:\n",
    "    name: str \n",
    "    current: float = 0.00\n",
    "    high: float = 0.00\n",
    "    low: float = 0.00"
   ],
   "metadata": {
    "collapsed": false,
    "ExecuteTime": {
     "end_time": "2024-01-08T05:23:17.950217900Z",
     "start_time": "2024-01-08T05:23:17.833554200Z"
    }
   },
   "id": "578d8b38073c91e9"
  },
  {
   "cell_type": "markdown",
   "source": [
    "You can construct this class with just the stock name; the rest of the values will take on the defaults. \n",
    "\n",
    "But you can still specify values if you prefer, as follows:"
   ],
   "metadata": {
    "collapsed": false
   },
   "id": "45b190d3918cc8d"
  },
  {
   "cell_type": "code",
   "execution_count": 194,
   "outputs": [],
   "source": [
    "s_defaults = StockDefaults(\"GOOGLE\")"
   ],
   "metadata": {
    "collapsed": false,
    "ExecuteTime": {
     "end_time": "2024-01-08T05:24:20.574942200Z",
     "start_time": "2024-01-08T05:24:20.493386400Z"
    }
   },
   "id": "7085f881a5b74b3f"
  },
  {
   "cell_type": "code",
   "execution_count": 195,
   "outputs": [
    {
     "data": {
      "text/plain": "StockDefaults(name='GOOGLE', current=0.0, high=0.0, low=0.0)"
     },
     "execution_count": 195,
     "metadata": {},
     "output_type": "execute_result"
    }
   ],
   "source": [
    "s_defaults"
   ],
   "metadata": {
    "collapsed": false,
    "ExecuteTime": {
     "end_time": "2024-01-08T05:24:22.418307400Z",
     "start_time": "2024-01-08T05:24:22.246090Z"
    }
   },
   "id": "2f3f806aa92c8fc5"
  },
  {
   "cell_type": "code",
   "execution_count": 196,
   "outputs": [],
   "source": [
    "s_defaults = StockDefaults(\"GOOGLE\", 100.00, 200.00, 50.00)"
   ],
   "metadata": {
    "collapsed": false,
    "ExecuteTime": {
     "end_time": "2024-01-08T05:24:48.175033800Z",
     "start_time": "2024-01-08T05:24:48.064780500Z"
    }
   },
   "id": "6640687bc0f06397"
  },
  {
   "cell_type": "code",
   "execution_count": 197,
   "outputs": [
    {
     "data": {
      "text/plain": "StockDefaults(name='GOOGLE', current=100.0, high=200.0, low=50.0)"
     },
     "execution_count": 197,
     "metadata": {},
     "output_type": "execute_result"
    }
   ],
   "source": [
    "s_defaults"
   ],
   "metadata": {
    "collapsed": false,
    "ExecuteTime": {
     "end_time": "2024-01-08T05:24:51.361682200Z",
     "start_time": "2024-01-08T05:24:51.168862700Z"
    }
   },
   "id": "1c5ff580dbc3fc1a"
  },
  {
   "cell_type": "markdown",
   "source": [
    "We have seen that dataclasses support equality comparison by default.\n",
    "\n",
    "If all the attributes compare as equal, then the dataclass objects as a whole also compare as equal.\n",
    "\n",
    "By default, dataclasses do not support other comparisons, such as less than or greater than, and **they cannot be sorted**.\n",
    "\n",
    " However, you can easily add comparisons if you wish:"
   ],
   "metadata": {
    "collapsed": false
   },
   "id": "ada0256a361241a4"
  },
  {
   "cell_type": "code",
   "execution_count": 199,
   "outputs": [],
   "source": [
    "from dataclasses import dataclass\n",
    "\n",
    "@dataclass(order=True)\n",
    "\n",
    "class StockOrdered:\n",
    "    name: str\n",
    "    current: float = 0.00\n",
    "    high: float = 0.00\n",
    "    low: float = 0.00\n",
    "    "
   ],
   "metadata": {
    "collapsed": false,
    "ExecuteTime": {
     "end_time": "2024-01-09T03:05:16.552237400Z",
     "start_time": "2024-01-09T03:05:16.505328300Z"
    }
   },
   "id": "a32f368c903ba41"
  },
  {
   "cell_type": "markdown",
   "source": [
    "the `order=True` parameterr to the decorator leads to the creation of all of the comparison special methods.\n",
    "\n",
    "This change gives us the opportunity to sort and compare the instances of this class."
   ],
   "metadata": {
    "collapsed": false
   },
   "id": "93c47a3f29fac91b"
  },
  {
   "cell_type": "code",
   "execution_count": 201,
   "outputs": [],
   "source": [
    "stock_ordered1 = StockOrdered(\"GOOG\", 1826.77, 1847.20, 1013.54)\n",
    "\n",
    "stock_ordered2 = StockOrdered(\"GOOG\")\n",
    "\n",
    "stock_ordered3 = StockOrdered(\"GOOG\", 1728.28, high=1733.18, low=1666.33)"
   ],
   "metadata": {
    "collapsed": false,
    "ExecuteTime": {
     "end_time": "2024-01-09T03:05:24.070919900Z",
     "start_time": "2024-01-09T03:05:23.977122800Z"
    }
   },
   "id": "427f749a2db3ae87"
  },
  {
   "cell_type": "code",
   "execution_count": 202,
   "outputs": [
    {
     "data": {
      "text/plain": "False"
     },
     "execution_count": 202,
     "metadata": {},
     "output_type": "execute_result"
    }
   ],
   "source": [
    "stock_ordered1 < stock_ordered2"
   ],
   "metadata": {
    "collapsed": false,
    "ExecuteTime": {
     "end_time": "2024-01-09T03:05:35.690775300Z",
     "start_time": "2024-01-09T03:05:35.597030Z"
    }
   },
   "id": "7779a673f75b9015"
  },
  {
   "cell_type": "code",
   "execution_count": 203,
   "outputs": [
    {
     "data": {
      "text/plain": "True"
     },
     "execution_count": 203,
     "metadata": {},
     "output_type": "execute_result"
    }
   ],
   "source": [
    "stock_ordered1 > stock_ordered2"
   ],
   "metadata": {
    "collapsed": false,
    "ExecuteTime": {
     "end_time": "2024-01-09T03:05:43.601991900Z",
     "start_time": "2024-01-09T03:05:43.492572600Z"
    }
   },
   "id": "f995136e43004e06"
  },
  {
   "cell_type": "code",
   "execution_count": 204,
   "outputs": [
    {
     "name": "stdout",
     "output_type": "stream",
     "text": [
      "[StockOrdered(name='GOOG', current=0.0, high=0.0, low=0.0),\n",
      " StockOrdered(name='GOOG', current=1728.28, high=1733.18, low=1666.33),\n",
      " StockOrdered(name='GOOG', current=1826.77, high=1847.2, low=1013.54)]\n"
     ]
    }
   ],
   "source": [
    "from pprint import pprint\n",
    "\n",
    "pprint(sorted([stock_ordered1, stock_ordered2, stock_ordered3]))"
   ],
   "metadata": {
    "collapsed": false,
    "ExecuteTime": {
     "end_time": "2024-01-09T03:06:01.326269Z",
     "start_time": "2024-01-09T03:06:01.248136100Z"
    }
   },
   "id": "468cb1f46e3252ef"
  },
  {
   "cell_type": "markdown",
   "source": [
    "When the dataclass decorator receives the `order = True` argument, it will, by default, compare the values based on each of the attributes in the order they were defined.\n",
    "\n",
    "So, in this case, it first compares the `name` attribute values of the two objects.\n",
    "\n",
    "If those are the same, it compares the `current` attribute values and so on.\n",
    "\n",
    "**The rules follow the definition of a tuple: the order of definition is the order of comparison.**\n",
    " "
   ],
   "metadata": {
    "collapsed": false
   },
   "id": "c652c166a24c38d0"
  },
  {
   "cell_type": "markdown",
   "source": [
    "Another interesting feautre of datacalsses is `frozen=True`.\n",
    "\n",
    "This creates a class that is similar to a `typing.NamedTuple` class.\n",
    "\n",
    "There are some differences in what we get as feautres.\n",
    "\n",
    "We would need to use `@dataclass(frozen=True, ordered=True)` to create a frozen dataclass.\n",
    "\n",
    "This leads to a question of \"Which is better?\", which – of course – depends on the details of a given use case. \n",
    "\n",
    "We haven't explored all of the optional features of dataclasses, like initialization-only fields and the `__post_init__()` method. \n",
    "\n",
    "Some applications don't need all of these features, and a simple `NamedTuple` may be adequate.\n",
    "\n",
    "There are a few other approaches. Outside the standard library, packages like attrs, pydantic, and marshmallow provide attribute definition capabilities that are – in some ways – similar to dataclasses. \n",
    "\n",
    "(https://jackmckew.dev/dataclasses-vs-attrs-vs-pydantic.html)\n",
    "\n",
    "It's often easier to start with dataclasses and add specialized methods. This can save us a bit of programming because some of the basics, like initialization, comparison, and string representations, are handled elegantly for us.\n",
    "\n",
    "It's time to look at Python's built-in generic collections."
   ],
   "metadata": {
    "collapsed": false
   },
   "id": "1a79719e828d10dd"
  },
  {
   "cell_type": "markdown",
   "source": [
    "# DICTIONARIES"
   ],
   "metadata": {
    "collapsed": false
   },
   "id": "922d52c449c67b69"
  },
  {
   "cell_type": "markdown",
   "source": [
    "Dictionaries allow us to map objects directly to other objects.\n",
    "\n",
    "They are extremely efficient at looking up a **value**, given a specific **key** object that maps to that value.\n",
    "\n",
    "The secret of the speed is using a hash of the key to locate the value.\n",
    "\n",
    "Every immutable Python object has a numerich hash code; a relatively simple table is used to map the numeric hashes directly to values.\n",
    "\n",
    "This trick means a dictionary never searches the entire collection for a ket; the key is transformed to a hash, which locates the associated value immediately."
   ],
   "metadata": {
    "collapsed": false
   },
   "id": "59dfb59b5976b747"
  },
  {
   "cell_type": "markdown",
   "source": [
    "Dictionaries can be created either using `dict()` constructor or the `{}` syntax.\n",
    "\n",
    "We can prepopulate a dictionary by separating the keys from the  values using a colon, and separating the pairs with commas."
   ],
   "metadata": {
    "collapsed": false
   },
   "id": "4d4d32e6c6173a51"
  },
  {
   "cell_type": "code",
   "execution_count": 205,
   "outputs": [],
   "source": [
    "d1= dict(current=36.24, high=48.56, low=25.65)"
   ],
   "metadata": {
    "collapsed": false,
    "ExecuteTime": {
     "end_time": "2024-01-09T07:33:37.889624800Z",
     "start_time": "2024-01-09T07:33:37.842217200Z"
    }
   },
   "id": "71f63e9abefe65e7"
  },
  {
   "cell_type": "code",
   "execution_count": 206,
   "outputs": [],
   "source": [
    "d2 = {\"current\": 36.24, \"high\": 48.56, \"low\": 25.65}"
   ],
   "metadata": {
    "collapsed": false,
    "ExecuteTime": {
     "end_time": "2024-01-09T07:33:44.340296300Z",
     "start_time": "2024-01-09T07:33:44.184003Z"
    }
   },
   "id": "e87c6ae74152be01"
  },
  {
   "cell_type": "code",
   "execution_count": 207,
   "outputs": [
    {
     "data": {
      "text/plain": "True"
     },
     "execution_count": 207,
     "metadata": {},
     "output_type": "execute_result"
    }
   ],
   "source": [
    "d1 == d2"
   ],
   "metadata": {
    "collapsed": false,
    "ExecuteTime": {
     "end_time": "2024-01-09T07:33:45.994838600Z",
     "start_time": "2024-01-09T07:33:45.776092200Z"
    }
   },
   "id": "95735d65b468cfbf"
  },
  {
   "cell_type": "markdown",
   "source": [
    "This `dict()` syntax overlaps with other constructors like dataclasses and named tuples."
   ],
   "metadata": {
    "collapsed": false
   },
   "id": "6434291710e51c29"
  },
  {
   "cell_type": "markdown",
   "source": [
    "For example, in our stock example, we would often want to look up prices by the stock symbol.\n",
    "\n",
    "We can create a dictionary that uses stock symbols as keys, and tuples (we could also use named tuples or dataclasses as values, of course) of current, high and low as values."
   ],
   "metadata": {
    "collapsed": false
   },
   "id": "b1ec713d0256a561"
  },
  {
   "cell_type": "code",
   "execution_count": 208,
   "outputs": [],
   "source": [
    "stocks = {\n",
    "    \"GOOG\": (1186.96, 1188.05, 1166.21),\n",
    "    \"MSFT\": (107.56, 108.23, 107.56),\n",
    "}"
   ],
   "metadata": {
    "collapsed": false,
    "ExecuteTime": {
     "end_time": "2024-01-09T07:39:12.546429900Z",
     "start_time": "2024-01-09T07:39:12.437034800Z"
    }
   },
   "id": "3e0b86bace319a2f"
  },
  {
   "cell_type": "markdown",
   "source": [
    "We can look up values in the dictionary by requesting a key inside square brackets.\n",
    "\n",
    "If the key is not present, a `KeyError` exception is raised."
   ],
   "metadata": {
    "collapsed": false
   },
   "id": "1d03ea9ebedc3334"
  },
  {
   "cell_type": "code",
   "execution_count": 209,
   "outputs": [
    {
     "data": {
      "text/plain": "(1186.96, 1188.05, 1166.21)"
     },
     "execution_count": 209,
     "metadata": {},
     "output_type": "execute_result"
    }
   ],
   "source": [
    "stocks[\"GOOG\"]\n"
   ],
   "metadata": {
    "collapsed": false,
    "ExecuteTime": {
     "end_time": "2024-01-09T07:40:26.053103400Z",
     "start_time": "2024-01-09T07:40:25.943703200Z"
    }
   },
   "id": "7c6db5e700245885"
  },
  {
   "cell_type": "code",
   "execution_count": 210,
   "outputs": [
    {
     "ename": "KeyError",
     "evalue": "'RIM'",
     "output_type": "error",
     "traceback": [
      "\u001B[1;31m---------------------------------------------------------------------------\u001B[0m",
      "\u001B[1;31mKeyError\u001B[0m                                  Traceback (most recent call last)",
      "\u001B[1;32m~\\AppData\\Local\\Temp\\ipykernel_4192\\3955586988.py\u001B[0m in \u001B[0;36m<module>\u001B[1;34m\u001B[0m\n\u001B[1;32m----> 1\u001B[1;33m \u001B[0mstocks\u001B[0m\u001B[1;33m[\u001B[0m\u001B[1;34m\"RIM\"\u001B[0m\u001B[1;33m]\u001B[0m\u001B[1;33m\u001B[0m\u001B[1;33m\u001B[0m\u001B[0m\n\u001B[0m",
      "\u001B[1;31mKeyError\u001B[0m: 'RIM'"
     ]
    }
   ],
   "source": [
    "stocks[\"RIM\"]"
   ],
   "metadata": {
    "collapsed": false,
    "ExecuteTime": {
     "end_time": "2024-01-09T07:40:29.722969600Z",
     "start_time": "2024-01-09T07:40:29.551081Z"
    }
   },
   "id": "a34877832fdb55e3"
  },
  {
   "cell_type": "markdown",
   "source": [
    "We can of course catch the `KeyError` and handle it, but we have other options as well.\n",
    "\n",
    "Remember, dictionaries are objects, even if their primary purpose is to hold other objects.\n",
    "\n",
    "As such, they have several behaviours associated with them.\n",
    "\n",
    "One of the most useful of these methods is the `get()` method; it acctips a key as the first parameter and an optional default value if the key does not exist:"
   ],
   "metadata": {
    "collapsed": false
   },
   "id": "7f88270e97dc6d26"
  },
  {
   "cell_type": "code",
   "execution_count": 211,
   "outputs": [
    {
     "name": "stdout",
     "output_type": "stream",
     "text": [
      "None\n"
     ]
    }
   ],
   "source": [
    "print(stocks.get(\"RIM\"))"
   ],
   "metadata": {
    "collapsed": false,
    "ExecuteTime": {
     "end_time": "2024-01-11T02:53:17.743448300Z",
     "start_time": "2024-01-11T02:53:17.727842700Z"
    }
   },
   "id": "f6d0a5025a1add49"
  },
  {
   "cell_type": "code",
   "execution_count": 212,
   "outputs": [
    {
     "data": {
      "text/plain": "'NOT FOUND'"
     },
     "execution_count": 212,
     "metadata": {},
     "output_type": "execute_result"
    }
   ],
   "source": [
    "stocks.get(\"RIM\", \"NOT FOUND\")"
   ],
   "metadata": {
    "collapsed": false,
    "ExecuteTime": {
     "end_time": "2024-01-11T02:53:28.647793700Z",
     "start_time": "2024-01-11T02:53:28.458574500Z"
    }
   },
   "id": "11382cb4b31558f1"
  },
  {
   "cell_type": "markdown",
   "source": [
    "For even more control,we can use the `setdefault()` method.\n",
    "\n",
    "If the key is in the dictionary, this method behaves just like the `get()` method; it returns the value for that key.\n",
    "\n",
    "Otherwise, if the key is not in the dicitonary, it will not only return the default value we supply in the method call; it will also set   the key to that same value.\n",
    "\n",
    "Another way to think of it is that `setdefault()` sets a value in the dictionary only if that value has not previously been set.\n",
    "\n",
    "Then, it returns the value in the dictionary; either the one that was already there or the newly provided default value:"
   ],
   "metadata": {
    "collapsed": false
   },
   "id": "6193b65516138607"
  },
  {
   "cell_type": "code",
   "execution_count": 213,
   "outputs": [
    {
     "data": {
      "text/plain": "(1186.96, 1188.05, 1166.21)"
     },
     "execution_count": 213,
     "metadata": {},
     "output_type": "execute_result"
    }
   ],
   "source": [
    "stocks.setdefault(\"GOOG\", \"INVALID\")"
   ],
   "metadata": {
    "collapsed": false,
    "ExecuteTime": {
     "end_time": "2024-01-11T03:02:58.408810800Z",
     "start_time": "2024-01-11T03:02:58.361497200Z"
    }
   },
   "id": "c1d3e38ec5a61e3"
  },
  {
   "cell_type": "code",
   "execution_count": 214,
   "outputs": [
    {
     "data": {
      "text/plain": "(10.5, 10.62, 10.39)"
     },
     "execution_count": 214,
     "metadata": {},
     "output_type": "execute_result"
    }
   ],
   "source": [
    "stocks.setdefault(\"BB\", (10.50, 10.62, 10.39))"
   ],
   "metadata": {
    "collapsed": false,
    "ExecuteTime": {
     "end_time": "2024-01-11T03:03:27.084010800Z",
     "start_time": "2024-01-11T03:03:26.926873100Z"
    }
   },
   "id": "cf6782a28e8d2e7c"
  },
  {
   "cell_type": "code",
   "execution_count": 216,
   "outputs": [
    {
     "data": {
      "text/plain": "(10.5, 10.62, 10.39)"
     },
     "execution_count": 216,
     "metadata": {},
     "output_type": "execute_result"
    }
   ],
   "source": [
    "stocks[\"BB\"]"
   ],
   "metadata": {
    "collapsed": false,
    "ExecuteTime": {
     "end_time": "2024-01-11T03:03:48.594722700Z",
     "start_time": "2024-01-11T03:03:48.547363100Z"
    }
   },
   "id": "a7b380303730fba"
  },
  {
   "cell_type": "markdown",
   "source": [
    "The \"GOOG\" stock was already in the dictionary, so when we tried to use setdefault() to change it to an invalid value, it just returned the value already in the dictionary. \n",
    "\n",
    "The key \"BB\" was not in the dictionary, so the setdefault() method returned the default value and set the new value in the dictionary for us. \n",
    "\n",
    "We then check that the new stock is, indeed, in the dictionary.\n"
   ],
   "metadata": {
    "collapsed": false
   },
   "id": "905f0cdb31702a73"
  },
  {
   "cell_type": "markdown",
   "source": [
    "Depending on your version of Python, you'll often need to use `from __future__ import annotations` as the first line of code in your module; this includes the necessary language support to treat built-in classes as properly generic type annotations."
   ],
   "metadata": {
    "collapsed": false
   },
   "id": "f245bd43fc89f095"
  },
  {
   "cell_type": "markdown",
   "source": [
    "Three other useful dictionary methods are `keys()`, `values()`, and `items()`.\n",
    "\n",
    "The first two return iterators ober all the kets and all the values in the dictionary.\n",
    "\n",
    "We can use these in for loops if we want to process all the keys or values.\n",
    "\n",
    "The `items()` returns an iterator over tuples of key-value pairs for every item in the dictionary.\n",
    "\n",
    "This works great with tuple unpacking in a for loop to loop over associated keys and values."
   ],
   "metadata": {
    "collapsed": false
   },
   "id": "d541584de6e5634f"
  },
  {
   "cell_type": "code",
   "execution_count": 217,
   "outputs": [
    {
     "name": "stdout",
     "output_type": "stream",
     "text": [
      "GOOG last value is 1186.96\n",
      "MSFT last value is 107.56\n",
      "BB last value is 10.5\n"
     ]
    }
   ],
   "source": [
    "for stock, values in stocks.items():\n",
    "    print(f\"{stock} last value is {values[0]}\")"
   ],
   "metadata": {
    "collapsed": false,
    "ExecuteTime": {
     "end_time": "2024-01-11T03:15:37.264511800Z",
     "start_time": "2024-01-11T03:15:37.139108100Z"
    }
   },
   "id": "d0e1cc358dd0e039"
  },
  {
   "cell_type": "markdown",
   "source": [
    "Finally, as you already know, we can set a vlue in a dictionary using the same indexing syntax we use to retrieve a value."
   ],
   "metadata": {
    "collapsed": false
   },
   "id": "102753aaff395928"
  },
  {
   "cell_type": "code",
   "execution_count": 218,
   "outputs": [],
   "source": [
    "stocks[\"GOOG\"] = (1650.96, 1988.05, 916.21)"
   ],
   "metadata": {
    "collapsed": false,
    "ExecuteTime": {
     "end_time": "2024-01-11T03:18:25.999646100Z",
     "start_time": "2024-01-11T03:18:25.874193200Z"
    }
   },
   "id": "948be743f9f00faa"
  },
  {
   "cell_type": "code",
   "execution_count": 219,
   "outputs": [
    {
     "data": {
      "text/plain": "(1650.96, 1988.05, 916.21)"
     },
     "execution_count": 219,
     "metadata": {},
     "output_type": "execute_result"
    }
   ],
   "source": [
    "stocks[\"GOOG\"]"
   ],
   "metadata": {
    "collapsed": false,
    "ExecuteTime": {
     "end_time": "2024-01-11T03:18:32.461673600Z",
     "start_time": "2024-01-11T03:18:32.257614200Z"
    }
   },
   "id": "e82f1dc10f50d0c8"
  },
  {
   "cell_type": "markdown",
   "source": [
    "To reflect a change in the GOOG stock, we can update the tuple value in the dictionary.\n",
    "\n",
    "We can use this index synyax to set a value for any key, regardless of whether the key is in the dictionary.\n",
    "\n",
    "If it is in the dictionary, the old value will be replaced with the new one; otherwise, a new key-value pair will be created."
   ],
   "metadata": {
    "collapsed": false
   },
   "id": "67aa99a677e7368e"
  },
  {
   "cell_type": "markdown",
   "source": [
    "We have been using strings as dictionary keys, but we are not limited to strings.\n",
    "\n",
    "It is common to use strings as keys, especially when we are storing data in a dictionary to gather it together, instead of using an object or dataclass with named properties.\n",
    "\n",
    "But we can also use tuples, numbers, or even objects we have defined ourselves as dictionary keys.\n",
    "\n",
    "The essential ingredient is a `__hash__()` method, which immutable types offer.\n",
    "\n",
    "Here's an example of a dictionary with a variety of keys and values:"
   ],
   "metadata": {
    "collapsed": false
   },
   "id": "5d9a168cdecd3149"
  },
  {
   "cell_type": "code",
   "execution_count": 220,
   "outputs": [],
   "source": [
    "random_keys = {}"
   ],
   "metadata": {
    "collapsed": false,
    "ExecuteTime": {
     "end_time": "2024-01-11T03:29:25.590965400Z",
     "start_time": "2024-01-11T03:29:25.386943300Z"
    }
   },
   "id": "ce4620d821d6f008"
  },
  {
   "cell_type": "code",
   "execution_count": 221,
   "outputs": [],
   "source": [
    "random_keys[\"astring\"] = \"somestring\""
   ],
   "metadata": {
    "collapsed": false,
    "ExecuteTime": {
     "end_time": "2024-01-11T03:29:35.607297900Z",
     "start_time": "2024-01-11T03:29:35.418860400Z"
    }
   },
   "id": "f85ff1def70f58ae"
  },
  {
   "cell_type": "code",
   "execution_count": 222,
   "outputs": [],
   "source": [
    "random_keys[5] = \"aninteger\""
   ],
   "metadata": {
    "collapsed": false,
    "ExecuteTime": {
     "end_time": "2024-01-11T03:29:38.890203200Z",
     "start_time": "2024-01-11T03:29:38.701815300Z"
    }
   },
   "id": "7c090a75b5419398"
  },
  {
   "cell_type": "code",
   "execution_count": 223,
   "outputs": [],
   "source": [
    "random_keys[25.2] = \"floats work too\""
   ],
   "metadata": {
    "collapsed": false,
    "ExecuteTime": {
     "end_time": "2024-01-11T03:29:43.490383900Z",
     "start_time": "2024-01-11T03:29:43.175087200Z"
    }
   },
   "id": "10bb955eaa86e739"
  },
  {
   "cell_type": "code",
   "execution_count": 224,
   "outputs": [],
   "source": [
    "random_keys[(\"abc\", 123)] = \"so do tuples\""
   ],
   "metadata": {
    "collapsed": false,
    "ExecuteTime": {
     "end_time": "2024-01-11T03:29:53.962757100Z",
     "start_time": "2024-01-11T03:29:53.632805900Z"
    }
   },
   "id": "928c5ea0f9bc71f6"
  },
  {
   "cell_type": "code",
   "execution_count": 225,
   "outputs": [],
   "source": [
    "class AnObject:\n",
    "    def __init__(self, avalue):\n",
    "        self.avalue = avalue"
   ],
   "metadata": {
    "collapsed": false,
    "ExecuteTime": {
     "end_time": "2024-01-11T03:30:14.513412400Z",
     "start_time": "2024-01-11T03:30:14.309175200Z"
    }
   },
   "id": "858102aa85ecfff0"
  },
  {
   "cell_type": "code",
   "execution_count": 226,
   "outputs": [],
   "source": [
    "my_object = AnObject(14)"
   ],
   "metadata": {
    "collapsed": false,
    "ExecuteTime": {
     "end_time": "2024-01-11T03:30:16.268594900Z",
     "start_time": "2024-01-11T03:30:16.095731600Z"
    }
   },
   "id": "272a27f80ed3db6"
  },
  {
   "cell_type": "code",
   "execution_count": 227,
   "outputs": [],
   "source": [
    "random_keys[my_object] = \"We can even store objects\""
   ],
   "metadata": {
    "collapsed": false,
    "ExecuteTime": {
     "end_time": "2024-01-11T03:30:41.204610800Z",
     "start_time": "2024-01-11T03:30:40.984242900Z"
    }
   },
   "id": "f018ab9fdb9b06dd"
  },
  {
   "cell_type": "code",
   "execution_count": 228,
   "outputs": [],
   "source": [
    "my_object.avalue = 12"
   ],
   "metadata": {
    "collapsed": false,
    "ExecuteTime": {
     "end_time": "2024-01-11T03:30:45.329422Z",
     "start_time": "2024-01-11T03:30:45.006208500Z"
    }
   },
   "id": "330ddcd12ece7434"
  },
  {
   "cell_type": "code",
   "execution_count": 229,
   "outputs": [
    {
     "ename": "TypeError",
     "evalue": "unhashable type: 'list'",
     "output_type": "error",
     "traceback": [
      "\u001B[1;31m---------------------------------------------------------------------------\u001B[0m",
      "\u001B[1;31mTypeError\u001B[0m                                 Traceback (most recent call last)",
      "\u001B[1;32m~\\AppData\\Local\\Temp\\ipykernel_4192\\162406388.py\u001B[0m in \u001B[0;36m<module>\u001B[1;34m\u001B[0m\n\u001B[1;32m----> 1\u001B[1;33m \u001B[0mrandom_keys\u001B[0m\u001B[1;33m[\u001B[0m\u001B[1;33m[\u001B[0m\u001B[1;36m1\u001B[0m\u001B[1;33m,\u001B[0m \u001B[1;36m2\u001B[0m\u001B[1;33m,\u001B[0m \u001B[1;36m3\u001B[0m\u001B[1;33m]\u001B[0m\u001B[1;33m]\u001B[0m \u001B[1;33m=\u001B[0m \u001B[1;34m\"we can't store lists though\"\u001B[0m\u001B[1;33m\u001B[0m\u001B[1;33m\u001B[0m\u001B[0m\n\u001B[0m",
      "\u001B[1;31mTypeError\u001B[0m: unhashable type: 'list'"
     ]
    }
   ],
   "source": [
    "random_keys[[1, 2, 3]] = \"we can't store lists though\""
   ],
   "metadata": {
    "collapsed": false,
    "ExecuteTime": {
     "end_time": "2024-01-11T03:31:21.644085300Z",
     "start_time": "2024-01-11T03:31:21.339712800Z"
    }
   },
   "id": "2fea51a68996d6cb"
  },
  {
   "cell_type": "markdown",
   "source": [
    "This code shows several different types of keys we can supply to a dictionary. \n",
    "\n",
    "This example also shows one type of object that cannot be used as a key. \n",
    "\n",
    "We've already used lists extensively, and we'll be seeing many more details of them in the next section. \n",
    "\n",
    "Because lists are mutable – they can change at any time (by adding or removing items, for example) – they cannot hash to a single value.\n",
    "\n",
    "We can use code like the following to examine values in the dictionary. This works because the default behaviour of a mapping is to iterate over the keys."
   ],
   "metadata": {
    "collapsed": false
   },
   "id": "5244f92bdf18dd0c"
  },
  {
   "cell_type": "code",
   "execution_count": 235,
   "outputs": [
    {
     "name": "stdout",
     "output_type": "stream",
     "text": [
      "'astring' has value 'somestring'\n",
      "5 has value 'aninteger'\n",
      "25.2 has value 'floats work too'\n",
      "('abc', 123) has value 'so do tuples'\n",
      "<__main__.AnObject object at 0x000001F58A263400> has value 'We can even store objects'\n"
     ]
    }
   ],
   "source": [
    "for key in random_keys:\n",
    "    print(f\"{key!r} has value {random_keys[key]!r}\")"
   ],
   "metadata": {
    "collapsed": false,
    "ExecuteTime": {
     "end_time": "2024-01-11T03:36:40.814986800Z",
     "start_time": "2024-01-11T03:36:40.768105400Z"
    }
   },
   "id": "f20c700d27284a55"
  },
  {
   "cell_type": "markdown",
   "source": [
    "To be usable as a dictionary key, an object must be **hashable**, that is, have a `__hash__()` method to convert the object's state into a unique integer value for rapid lookup in a dictionary or set.\n",
    "\n",
    "The built-in `hash()` function uses the `__hash__()` method of the object's class.\n",
    "\n"
   ],
   "metadata": {
    "collapsed": false
   },
   "id": "4ac0a8136b53e8a0"
  },
  {
   "cell_type": "markdown",
   "source": [
    "This hash is used to find values in a dictionary.\n",
    "\n",
    "For example, stings map to integers based on numeric codes for the characters in the string, while tuples combine hashes of the items inside the tuple.\n",
    "\n",
    "Any two objects that are considered equal(such as strings with the same characters or tuples with the same values) **must** also have the same hash value."
   ],
   "metadata": {
    "collapsed": false
   },
   "id": "34baea2a2f8230e8"
  },
  {
   "cell_type": "markdown",
   "source": [
    "Note that there is an asymmetry between equality and matching hash values.\n",
    "\n",
    "If two strings have the same hash value, they could still be unequal.\n",
    "\n",
    "Think of hash equality as an approxiamtion for an equality test:\n",
    "\n",
    "If the hashes are not equal, do not bother looking at the detailes.\n",
    "\n",
    "If the hashes are equal, invest the time in checking eqch attribute value or each item of the tuple, or each individual character of the string. "
   ],
   "metadata": {
    "collapsed": false
   },
   "id": "c6553e9d93210b35"
  },
  {
   "cell_type": "code",
   "execution_count": 251,
   "outputs": [],
   "source": [
    "x = 2020"
   ],
   "metadata": {
    "collapsed": false,
    "ExecuteTime": {
     "end_time": "2024-01-11T04:05:35.456578100Z",
     "start_time": "2024-01-11T04:05:35.252461800Z"
    }
   },
   "id": "8925fec87b6f1b34"
  },
  {
   "cell_type": "code",
   "execution_count": 252,
   "outputs": [],
   "source": [
    "y = 2305843009213695971"
   ],
   "metadata": {
    "collapsed": false,
    "ExecuteTime": {
     "end_time": "2024-01-11T04:05:35.503870900Z",
     "start_time": "2024-01-11T04:05:35.274626200Z"
    }
   },
   "id": "5b192b2b2dce5a7e"
  },
  {
   "cell_type": "code",
   "execution_count": 253,
   "outputs": [
    {
     "data": {
      "text/plain": "True"
     },
     "execution_count": 253,
     "metadata": {},
     "output_type": "execute_result"
    }
   ],
   "source": [
    "hash(x) == hash(y)"
   ],
   "metadata": {
    "collapsed": false,
    "ExecuteTime": {
     "end_time": "2024-01-11T04:05:35.503870900Z",
     "start_time": "2024-01-11T04:05:35.284139200Z"
    }
   },
   "id": "9c64fc54a487413c"
  },
  {
   "cell_type": "code",
   "execution_count": 254,
   "outputs": [
    {
     "data": {
      "text/plain": "False"
     },
     "execution_count": 254,
     "metadata": {},
     "output_type": "execute_result"
    }
   ],
   "source": [
    "x == y"
   ],
   "metadata": {
    "collapsed": false,
    "ExecuteTime": {
     "end_time": "2024-01-11T04:05:35.503870900Z",
     "start_time": "2024-01-11T04:05:35.299835200Z"
    }
   },
   "id": "361534f241c89951"
  },
  {
   "cell_type": "markdown",
   "source": [
    "When we use these values as keys in a dictionary, a hash collision algorithm will keep them separated.\n",
    "\n",
    "The situation leads to a microscopic slowdown in these rare cases of hash collisions.\n",
    "\n",
    "This is why dictionary lookup is not always immediate: a hash collision might slow down access.\n",
    "\n",
    "**The built-in mutable objects - including lists, dictioanaries and sets - cannot be used as a dictionary key.**\n",
    "\n",
    "**These mutable collections do not provide hash values.**\n",
    "\n",
    "We can however create our own class of objects that are both mutable and provide a hash value.\n",
    "\n",
    "This is unsafe because a change to the object's state can make it difficult to find the key in the dictionary.\n",
    "\n",
    "We can go too far, of course. It is certainly possible to create a class with a mixture of mutable and immutable attributes and confine a customized hash computation to the mutable attributes.\n",
    " \n",
    "Because of the differences in behavior between the mutable and immutable features, this seems like it's really two objects that collaborate, not a single object with mutable and immutable features. \n",
    "\n",
    "We can use the immutable part for dictionary keys and keep the mutable part in the dictionary value.\n",
    "\n",
    "In contrast, there are no limits on the types of objects that can be used as dictionary values. \n",
    "\n",
    "We can use a string key that maps to a list value, for example, or we can have a nested dictionary as a value in another dictionary."
   ],
   "metadata": {
    "collapsed": false
   },
   "id": "161a28e509ac6305"
  },
  {
   "cell_type": "markdown",
   "source": [
    "# DICTIONARY USE CASES"
   ],
   "metadata": {
    "collapsed": false
   },
   "id": "ffe18b832d14f6c2"
  },
  {
   "cell_type": "markdown",
   "source": [
    "Dictionaries are extremely versatile and have numerous uses. Here are two major examples:\n",
    "\n",
    "1-) We can have dictionaries where all the values are different instances of objects with the same type. \n",
    "\n",
    "For example, our stock dictionary would have a type hint of `dict[str, tuple[float, float, float]]`. \n",
    "\n",
    "The string key maps to a three-tuple of values. \n",
    "\n",
    "We use the stock symbol as an index to price details. \n",
    "\n",
    "If we had a more complex Stock class, we might have a dictionary with `dict[str, Stock]` as the type hint for an index into these objects.\n",
    "\n",
    "\n",
    "2-)The second design is to have each key represent some aspect or attribute of a single object; the values often have distinct types. \n",
    "\n",
    "We may, for example, represent a stock with {'name': 'GOOG', 'current': 1245.21, 'range': (1252.64, 1245.18)}. \n",
    "\n",
    "This case clearly overlaps with named tuples, dataclasses, and objects in general. \n",
    "\n",
    "Indeed, there's a special type hint for this kind of dictionary, called a `TypedDict`, that looks like a `NamedTuple` type hint. "
   ],
   "metadata": {
    "collapsed": false
   },
   "id": "a4e19fc395c5d380"
  },
  {
   "cell_type": "markdown",
   "source": [
    "This second example can be confusing; how do we decide how to represent attribute values of an object? We can rank the techniques like this.\n",
    "\n",
    "1-) For a lot of cases, **dataclasses** offer a number of helpful features with less code writing. \n",
    "\n",
    "They can be immutable, or mutable, giving us a wide range of options.\n",
    "\n",
    "2-) For cases where the data is immutable, a **`NamedTuple`** can be slightly more efficient than a frozen dataclass by about 5% – not much. \n",
    "\n",
    "What tips the balance here is an expensive attribute computation. \n",
    "\n",
    "While a `NamedTuple` can have properties, if the computation is very costly and the results are used frequently, it can help to compute it in advance, something a `NamedTuple` isn't good at. \n",
    "\n",
    "3-) **Dictionaries** are ideal when the complete set of keys isn't known in advance. \n",
    "\n",
    "When we're starting a design, we may have throwaway prototypes or proofs of concept using dictionaries. \n",
    "\n",
    "When we try to write unit tests and type hints, we may need to ramp up the formality. \n",
    "\n",
    "In some cases, the domain of possible keys is known, and a `TypedDict` type hint makes sense as a way to characterize the valid keys and value types. "
   ],
   "metadata": {
    "collapsed": false
   },
   "id": "c080634e32531692"
  },
  {
   "cell_type": "markdown",
   "source": [
    "# Using Defaultdict"
   ],
   "metadata": {
    "collapsed": false
   },
   "id": "9aa520e9f18eede4"
  },
  {
   "cell_type": "markdown",
   "source": [],
   "metadata": {
    "collapsed": false
   },
   "id": "8283ca17792d3316"
  }
 ],
 "metadata": {
  "kernelspec": {
   "display_name": "Python 3",
   "language": "python",
   "name": "python3"
  },
  "language_info": {
   "codemirror_mode": {
    "name": "ipython",
    "version": 2
   },
   "file_extension": ".py",
   "mimetype": "text/x-python",
   "name": "python",
   "nbconvert_exporter": "python",
   "pygments_lexer": "ipython2",
   "version": "2.7.6"
  }
 },
 "nbformat": 4,
 "nbformat_minor": 5
}
