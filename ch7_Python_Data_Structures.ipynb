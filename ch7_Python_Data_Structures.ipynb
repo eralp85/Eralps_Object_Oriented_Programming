{
 "cells": [
  {
   "cell_type": "markdown",
   "source": [
    "# PYTHON DATA STRUCTURES"
   ],
   "metadata": {
    "collapsed": false
   },
   "id": "cdd43ea80d1be6e8"
  },
  {
   "cell_type": "markdown",
   "source": [
    "We'll discuss the object-oriented features of  data structures, when they should be used instead of a regular class, and when they should not be used. \n",
    "\n",
    "In particular, we'll be covering the following topics:\n",
    "\n",
    "Tuples and named tuples\n",
    "Dataclasses\n",
    "Dictionaries\n",
    "Lists and sets\n",
    "Three types of queues"
   ],
   "metadata": {
    "collapsed": false
   },
   "id": "28adce95f22f07a1"
  },
  {
   "cell_type": "markdown",
   "source": [
    "# EMPTY OBJECTS\n",
    "\n",
    "Let's start with the most basic Python built-in, one that we've used implicitly many times already, the one (it turns out) we've extended in every class we have created: the object.\n",
    "\n",
    "Technically, we can instantiate an object without writing a subclass, as follows:"
   ],
   "metadata": {
    "collapsed": false
   },
   "id": "d34f4ce8f2a57b08"
  },
  {
   "cell_type": "code",
   "execution_count": 7,
   "outputs": [],
   "source": [
    "o = object()"
   ],
   "metadata": {
    "collapsed": false,
    "ExecuteTime": {
     "end_time": "2024-01-05T03:24:11.402710700Z",
     "start_time": "2024-01-05T03:24:11.042713900Z"
    }
   },
   "id": "828e5a9ffa8e4466"
  },
  {
   "cell_type": "code",
   "execution_count": 8,
   "outputs": [
    {
     "ename": "AttributeError",
     "evalue": "'object' object has no attribute 'x'",
     "output_type": "error",
     "traceback": [
      "\u001B[1;31m---------------------------------------------------------------------------\u001B[0m",
      "\u001B[1;31mAttributeError\u001B[0m                            Traceback (most recent call last)",
      "\u001B[1;32m~\\AppData\\Local\\Temp\\ipykernel_14252\\3592318861.py\u001B[0m in \u001B[0;36m<module>\u001B[1;34m\u001B[0m\n\u001B[1;32m----> 1\u001B[1;33m \u001B[0mo\u001B[0m\u001B[1;33m.\u001B[0m\u001B[0mx\u001B[0m \u001B[1;33m=\u001B[0m \u001B[1;36m100\u001B[0m\u001B[1;33m\u001B[0m\u001B[1;33m\u001B[0m\u001B[0m\n\u001B[0m",
      "\u001B[1;31mAttributeError\u001B[0m: 'object' object has no attribute 'x'"
     ]
    }
   ],
   "source": [
    "o.x = 100"
   ],
   "metadata": {
    "collapsed": false,
    "ExecuteTime": {
     "end_time": "2024-01-05T03:24:11.620804400Z",
     "start_time": "2024-01-05T03:24:11.058338800Z"
    }
   },
   "id": "32c461a4e1db1eb8"
  },
  {
   "cell_type": "markdown",
   "source": [
    "Unfortunately, as you can see, it's not possible to set any attributes on an object that was instantiated directly. \n",
    "\n",
    "This isn't because the Python developers wanted to force us to write our own classes, or anything so sinister. \n",
    "\n",
    "They did this to save memory – a lot of memory.\n",
    "\n",
    "When Python allows an object to have arbitrary attributes, it takes a certain amount of system memory to keep track of what attributes each object has, for storing both the attribute name and its value.\n",
    "\n",
    "Even if no attributes are stored, memory is allocated to make it possible to add attributes.\n",
    "\n",
    "Given the dozens, hundreds or thousands of objects( every class extends the object class) in a typical Python program, this small amount of memory would quickly become a large amount of memory.\n",
    "\n",
    "So, Python disables arbitrary properties on `object` and several other built-ins, by default.\n",
    "\n",
    "It is possible to restrict arbitrary properties on our own classes using __slots__. \n",
    "\n",
    "Slots are part of Chapter 12, Advanced Design Patterns. We'll look at them as a way to save memory for objects that occur many, many times.\n",
    "\n",
    "It is, however, trivial to create an empty object class of our own; we saw it in our earliest example:"
   ],
   "metadata": {
    "collapsed": false
   },
   "id": "6ae0b26ec3b95da0"
  },
  {
   "cell_type": "code",
   "execution_count": 9,
   "outputs": [],
   "source": [
    "class MyObject:\n",
    "    pass"
   ],
   "metadata": {
    "collapsed": false,
    "ExecuteTime": {
     "end_time": "2024-01-05T03:24:21.193749900Z",
     "start_time": "2024-01-05T03:24:20.990635700Z"
    }
   },
   "id": "faee2c8391b88964"
  },
  {
   "cell_type": "markdown",
   "source": [
    "In effect, `class MyObject` is equivalent to `class MyObject(object)`.\n",
    "\n",
    "As seen earlier, it is possible to set attributes on such classes."
   ],
   "metadata": {
    "collapsed": false
   },
   "id": "9468e4aca1d1f365"
  },
  {
   "cell_type": "code",
   "execution_count": 10,
   "outputs": [],
   "source": [
    "m = MyObject()"
   ],
   "metadata": {
    "collapsed": false,
    "ExecuteTime": {
     "end_time": "2024-01-05T03:24:21.224991300Z",
     "start_time": "2024-01-05T03:24:21.006290700Z"
    }
   },
   "id": "379dbf0f2783dd3d"
  },
  {
   "cell_type": "code",
   "execution_count": 11,
   "outputs": [],
   "source": [
    "m.x = \"hihihi\""
   ],
   "metadata": {
    "collapsed": false,
    "ExecuteTime": {
     "end_time": "2024-01-05T03:24:21.224991300Z",
     "start_time": "2024-01-05T03:24:21.021913600Z"
    }
   },
   "id": "134c24879bdd0986"
  },
  {
   "cell_type": "code",
   "execution_count": 12,
   "outputs": [
    {
     "data": {
      "text/plain": "'hihihi'"
     },
     "execution_count": 12,
     "metadata": {},
     "output_type": "execute_result"
    }
   ],
   "source": [
    "m.x"
   ],
   "metadata": {
    "collapsed": false,
    "ExecuteTime": {
     "end_time": "2024-01-05T03:24:21.224991300Z",
     "start_time": "2024-01-05T03:24:21.037535400Z"
    }
   },
   "id": "5c73ce88098713d8"
  },
  {
   "cell_type": "markdown",
   "source": [
    "If we wanted to group an unknown number of attribute values together, we could store them in an empty object like this.\n",
    "\n",
    "The problem with this approach is the lack of an obvious schema that we can use to understand what attributes should be present and what types of values they will have.\n",
    "\n",
    "  Focus of this book is the way classes and objects should only be used when you want to specify both data and behaviors. \n",
    "  \n",
    "Therefore, it is important to decide from the outset whether the data is purely data, or whether it is an object in disguise. \n",
    "\n",
    "Once that design decision is made, the rest of the design can grow from the seed concept."
   ],
   "metadata": {
    "collapsed": false
   },
   "id": "de73fdae9e9c7341"
  },
  {
   "cell_type": "markdown",
   "source": [
    "# TUPLES AND NAMED TUPLES"
   ],
   "metadata": {
    "collapsed": false
   },
   "id": "a40b90be8aafafb7"
  },
  {
   "cell_type": "markdown",
   "source": [
    "Tuples are objects that can store a specific number of other objects in sequence.\n",
    "\n",
    "They are immutable, meaning we cannot add, remove or replace objects on the fly.\n",
    "\n",
    "The primary benefit of tuples' immutability is a tuple of immutable objects (like strings and numbers and other tuples) has a hash value, allowing us to use them as keys in dictionaries and members of sets.\n",
    "\n",
    "Instances of tuple class are used to store data; behaviour cannot be associated with built-in tuple class.\n",
    "\n",
    "If we require behaviour to manipulate a tuple, we have to pass the tuple into a function(or method on an another object) that performs the required behaviour."
   ],
   "metadata": {
    "collapsed": false
   },
   "id": "e5c1822f0477878a"
  },
  {
   "cell_type": "markdown",
   "source": [
    "Tuples overlap with the idea of coordinates or dimensions. \n",
    "\n",
    "A mathematical (x, y) pair or (r, g,b) color are examples of tuples.\n",
    "\n",
    "The order matters, a lot: the color (255, 0, 0) looks nothing like (0, 255, 0).\n",
    "\n",
    "The primary purpose of a tuple is to aggregate different pieces of data together into one container.\n",
    "\n",
    "We create a tuple by separating values with commas, and optionally surrounding them with parentheses.\n",
    "\n",
    "The following two assignments are identical (they record a stock, the current price, the 52-week high, and the 52-week low, for a rather profitable company):"
   ],
   "metadata": {
    "collapsed": false
   },
   "id": "2ae585a110363844"
  },
  {
   "cell_type": "code",
   "execution_count": 13,
   "outputs": [],
   "source": [
    "stock1 = \"AAPL\", 123.52, 53.15, 137.98\n",
    "stock2 = (\"AAPL\", 123.52, 53.15, 137.98)\n"
   ],
   "metadata": {
    "collapsed": false,
    "ExecuteTime": {
     "end_time": "2024-01-05T03:31:24.021450300Z",
     "start_time": "2024-01-05T03:31:23.958949800Z"
    }
   },
   "id": "45df7e3ff453eaf5"
  },
  {
   "cell_type": "markdown",
   "source": [
    "If we are grouping a tuple inside of some other object, such as function call, list comprehension, or generator, the parentheses are required.\n",
    "\n",
    "Otherwise, it would be impossible for the interpreter to know whether it is a tuple or the next function parameter:"
   ],
   "metadata": {
    "collapsed": false
   },
   "id": "62ced565ddf208ee"
  },
  {
   "cell_type": "code",
   "execution_count": 14,
   "outputs": [
    {
     "data": {
      "text/plain": "(74.965, datetime.date(2018, 2, 1))"
     },
     "execution_count": 14,
     "metadata": {},
     "output_type": "execute_result"
    }
   ],
   "source": [
    "import datetime\n",
    "\n",
    "def middle(stock, date):\n",
    "    symbol, current, high, low = stock\n",
    "    return (((high + low) / 2), date)\n",
    "\n",
    "middle((\"MSFT\", 75.00, 75.03, 74.90), datetime.date(2018, 2, 1))"
   ],
   "metadata": {
    "collapsed": false,
    "ExecuteTime": {
     "end_time": "2024-01-05T03:41:02.407887400Z",
     "start_time": "2024-01-05T03:41:02.345461100Z"
    }
   },
   "id": "e7cab712546665ac"
  },
  {
   "cell_type": "markdown",
   "source": [
    "When Python displays a tuple, it uses what is called the **canonical** representation; this will always include `()`'s, making the `()`'s a common practice even when they are not strictly required.\n",
    "\n",
    "The return statement, specifically has redundant `()`'s around the tuple it creates.\n",
    "\n",
    "The degenerate cases include a tuple with only one item, written like thin `(2.718,)`. \n",
    "\n",
    "The extra comma is required here. An empty tuple is `()`."
   ],
   "metadata": {
    "collapsed": false
   },
   "id": "5d8ef0ced0ecffe0"
  },
  {
   "cell_type": "code",
   "execution_count": 15,
   "outputs": [],
   "source": [
    "a = (42,)"
   ],
   "metadata": {
    "collapsed": false,
    "ExecuteTime": {
     "end_time": "2024-01-05T03:57:27.487299600Z",
     "start_time": "2024-01-05T03:57:27.440433200Z"
    }
   },
   "id": "4fa8dd3973ecd14e"
  },
  {
   "cell_type": "code",
   "execution_count": 16,
   "outputs": [
    {
     "data": {
      "text/plain": "(42,)"
     },
     "execution_count": 16,
     "metadata": {},
     "output_type": "execute_result"
    }
   ],
   "source": [
    "a"
   ],
   "metadata": {
    "collapsed": false,
    "ExecuteTime": {
     "end_time": "2024-01-05T03:57:28.884432Z",
     "start_time": "2024-01-05T03:57:28.790696Z"
    }
   },
   "id": "e4bc904d17e2826b"
  },
  {
   "cell_type": "markdown",
   "source": [
    "It is sometimes surprising that the varaible `a` will be a one-tuple.\n",
    "\n",
    "**The trailing comma is what creates an expression list with a single item; this is the value of the tuple**\n",
    "\n",
    "The parentheses are required for two tings:\n",
    "\n",
    "1-) to create an empty tuple\n",
    "2-) to separate a tuple from other expressions.\n",
    "\n",
    "For example, the following code will create nested tupple: "
   ],
   "metadata": {
    "collapsed": false
   },
   "id": "fc6ab5b66f97421b"
  },
  {
   "cell_type": "code",
   "execution_count": 17,
   "outputs": [],
   "source": [
    "b = (42, 3.14), (2.718, 2.618),"
   ],
   "metadata": {
    "collapsed": false,
    "ExecuteTime": {
     "end_time": "2024-01-05T04:02:34.934948800Z",
     "start_time": "2024-01-05T04:02:34.888041Z"
    }
   },
   "id": "ebf62601d767e18b"
  },
  {
   "cell_type": "code",
   "execution_count": 18,
   "outputs": [
    {
     "data": {
      "text/plain": "((42, 3.14), (2.718, 2.618))"
     },
     "execution_count": 18,
     "metadata": {},
     "output_type": "execute_result"
    }
   ],
   "source": [
    "b"
   ],
   "metadata": {
    "collapsed": false,
    "ExecuteTime": {
     "end_time": "2024-01-05T04:02:35.936253Z",
     "start_time": "2024-01-05T04:02:35.858119700Z"
    }
   },
   "id": "f9b379b00694ec4e"
  },
  {
   "cell_type": "markdown",
   "source": [
    "The trailing commas in Python are politely ignored.\n",
    "\n",
    "The `middle()` function also illustrates **tuple unpacking**.\n",
    "\n",
    "The first line inside the function unpacks the `stock` parameter into four different variables.\n",
    "\n",
    "*The tuple has to be exactly the same length as the number of variables, or it will raise an exception.*\n",
    "\n",
    "Unpacking is a very useful feature in Python.\n",
    "\n",
    "A tuple groups related values together to make storing and passing them around simpler.\n",
    "\n",
    "The moment we need to access the pieces, we can unpack them into separate variables.\n",
    "\n",
    "Of course, sometimes we only need access to one of the variables in the tuple.\n",
    "\n",
    "We can use the same syntax that we use for other sequence types(list and strings) to access an individual value."
   ],
   "metadata": {
    "collapsed": false
   },
   "id": "2604b0979243161a"
  },
  {
   "cell_type": "code",
   "execution_count": 19,
   "outputs": [],
   "source": [
    "s = (\"AKBNK\", 36.24, 48.56, 25.65)"
   ],
   "metadata": {
    "collapsed": false,
    "ExecuteTime": {
     "end_time": "2024-01-05T04:24:18.625952300Z",
     "start_time": "2024-01-05T04:24:18.579040Z"
    }
   },
   "id": "d476774236b70abe"
  },
  {
   "cell_type": "code",
   "execution_count": 20,
   "outputs": [],
   "source": [
    "high = s[2]"
   ],
   "metadata": {
    "collapsed": false,
    "ExecuteTime": {
     "end_time": "2024-01-05T04:24:28.142879800Z",
     "start_time": "2024-01-05T04:24:28.095998300Z"
    }
   },
   "id": "ccf6c504bdd206bf"
  },
  {
   "cell_type": "code",
   "execution_count": 21,
   "outputs": [
    {
     "data": {
      "text/plain": "48.56"
     },
     "execution_count": 21,
     "metadata": {},
     "output_type": "execute_result"
    }
   ],
   "source": [
    "high"
   ],
   "metadata": {
    "collapsed": false,
    "ExecuteTime": {
     "end_time": "2024-01-05T04:24:29.526013100Z",
     "start_time": "2024-01-05T04:24:29.479088800Z"
    }
   },
   "id": "412814ed4028f8ea"
  },
  {
   "cell_type": "markdown",
   "source": [
    "We can use slice notation to extract larger pieces of tuples.\n"
   ],
   "metadata": {
    "collapsed": false
   },
   "id": "efb4334b8aa222cb"
  },
  {
   "cell_type": "code",
   "execution_count": 22,
   "outputs": [
    {
     "data": {
      "text/plain": "(36.24, 48.56)"
     },
     "execution_count": 22,
     "metadata": {},
     "output_type": "execute_result"
    }
   ],
   "source": [
    "s[1:3]"
   ],
   "metadata": {
    "collapsed": false,
    "ExecuteTime": {
     "end_time": "2024-01-05T04:25:12.334652400Z",
     "start_time": "2024-01-05T04:25:12.272137500Z"
    }
   },
   "id": "5ad4e789d894b3f5"
  },
  {
   "cell_type": "markdown",
   "source": [
    "These examples, while illustrating how flexible tuples can be, also demonstrate one of their major disadvantages: **readability**.\n",
    "\n",
    "How does someone reading this code know what is in position 2 of a specific tuple?\n",
    "\n",
    "They would have to paw through the code to find where the tuple was packed or unpacked before they could discover what it does.\n",
    "\n",
    "Accessing tuple members directly is fine in some circumstances, but don't make a habit of it. \n",
    "\n",
    "The index values become what we might call magic numbers: numbers that seem to come out of thin air with no apparent meaning within the code. \n",
    "\n",
    "This opacity is the source of many coding errors and leads to hours of frustrated debugging. \n",
    "\n",
    "**Try to use tuples only when you know that all the values are going to be useful at once and it's normally going to be unpacked when it is accessed.**\n",
    " \n",
    "Think of (x, y) coordinate pairs and (r, g, b) colors, where the number of items is fixed, the order matters, and the meaning is clear.\n",
    "\n",
    "One way to provide some useful documentation is to define numerous little helper functions. This can help to clarify the way a tuple is used. Here's an example."
   ],
   "metadata": {
    "collapsed": false
   },
   "id": "63a75b0e0d35e705"
  },
  {
   "cell_type": "code",
   "execution_count": 23,
   "outputs": [],
   "source": [
    "def high(stock):\n",
    "    symbol, current, high, low = stock\n",
    "    return high"
   ],
   "metadata": {
    "collapsed": false,
    "ExecuteTime": {
     "end_time": "2024-01-05T04:30:06.581982800Z",
     "start_time": "2024-01-05T04:30:06.550710600Z"
    }
   },
   "id": "6422456cd2e40706"
  },
  {
   "cell_type": "code",
   "execution_count": 24,
   "outputs": [
    {
     "data": {
      "text/plain": "48.56"
     },
     "execution_count": 24,
     "metadata": {},
     "output_type": "execute_result"
    }
   ],
   "source": [
    "high(s)"
   ],
   "metadata": {
    "collapsed": false,
    "ExecuteTime": {
     "end_time": "2024-01-05T04:30:36.246007900Z",
     "start_time": "2024-01-05T04:30:36.121058200Z"
    }
   },
   "id": "10acb1a44900e9ed"
  },
  {
   "cell_type": "markdown",
   "source": [
    "We need to keep these helper functions collected together into a single namespace. \n",
    "\n",
    "Doing this causes us to suspect that a class is better than a tuple with a lot of helper functions. \n",
    "\n",
    "There are other alternatives to clarifying the contents of tuples, the most important of which is the typing.NamedTuple class."
   ],
   "metadata": {
    "collapsed": false
   },
   "id": "3b8e527f0ba862a8"
  },
  {
   "cell_type": "markdown",
   "source": [
    "# NAMED TUPLES VIA typing.NamedTuple"
   ],
   "metadata": {
    "collapsed": false
   },
   "id": "b5347825e735e1aa"
  },
  {
   "cell_type": "markdown",
   "source": [
    "What do we do when we want to group values together but know we're frequently going to need to access them individually? \n",
    "\n",
    "1-) We could use an empty object instance, as discussed previously. We can assign arbitrary attributes to this object. \n",
    "\n",
    "But without a good definition of what's allowed and what types are expected, we'll have trouble understanding this.\n",
    "\n",
    "2-) We could use a dictionary. This can work out nicely, and we can formalize the acceptable list of keys for the dictionary with the typing.TypedDict hint.\n",
    "\n",
    "3-) We can use a @dataclass, the subject of the next section in this chapter.\n",
    "\n",
    "4-) We can also provide names to the positions of a tuple. While we're at it, we can also define methods for these named tuples, making them super helpful.\n",
    "\n"
   ],
   "metadata": {
    "collapsed": false
   },
   "id": "7d75f346a794d931"
  }
 ],
 "metadata": {
  "kernelspec": {
   "display_name": "Python 3",
   "language": "python",
   "name": "python3"
  },
  "language_info": {
   "codemirror_mode": {
    "name": "ipython",
    "version": 2
   },
   "file_extension": ".py",
   "mimetype": "text/x-python",
   "name": "python",
   "nbconvert_exporter": "python",
   "pygments_lexer": "ipython2",
   "version": "2.7.6"
  }
 },
 "nbformat": 4,
 "nbformat_minor": 5
}
