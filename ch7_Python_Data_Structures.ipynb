{
 "cells": [
  {
   "cell_type": "markdown",
   "source": [
    "# PYTHON DATA STRUCTURES"
   ],
   "metadata": {
    "collapsed": false
   },
   "id": "cdd43ea80d1be6e8"
  },
  {
   "cell_type": "markdown",
   "source": [
    "We'll discuss the object-oriented features of  data structures, when they should be used instead of a regular class, and when they should not be used. \n",
    "\n",
    "In particular, we'll be covering the following topics:\n",
    "\n",
    "Tuples and named tuples\n",
    "Dataclasses\n",
    "Dictionaries\n",
    "Lists and sets\n",
    "Three types of queues"
   ],
   "metadata": {
    "collapsed": false
   },
   "id": "28adce95f22f07a1"
  },
  {
   "cell_type": "markdown",
   "source": [
    "# EMPTY OBJECTS\n",
    "\n",
    "Let's start with the most basic Python built-in, one that we've used implicitly many times already, the one (it turns out) we've extended in every class we have created: the object.\n",
    "\n",
    "Technically, we can instantiate an object without writing a subclass, as follows:"
   ],
   "metadata": {
    "collapsed": false
   },
   "id": "d34f4ce8f2a57b08"
  },
  {
   "cell_type": "code",
   "execution_count": 63,
   "outputs": [],
   "source": [
    "o = object()"
   ],
   "metadata": {
    "collapsed": false,
    "ExecuteTime": {
     "end_time": "2024-01-08T05:02:01.681545700Z",
     "start_time": "2024-01-08T05:02:00.882128800Z"
    }
   },
   "id": "828e5a9ffa8e4466"
  },
  {
   "cell_type": "code",
   "execution_count": 64,
   "outputs": [
    {
     "ename": "AttributeError",
     "evalue": "'object' object has no attribute 'x'",
     "output_type": "error",
     "traceback": [
      "\u001B[1;31m---------------------------------------------------------------------------\u001B[0m",
      "\u001B[1;31mAttributeError\u001B[0m                            Traceback (most recent call last)",
      "\u001B[1;32m~\\AppData\\Local\\Temp\\ipykernel_4192\\3592318861.py\u001B[0m in \u001B[0;36m<module>\u001B[1;34m\u001B[0m\n\u001B[1;32m----> 1\u001B[1;33m \u001B[0mo\u001B[0m\u001B[1;33m.\u001B[0m\u001B[0mx\u001B[0m \u001B[1;33m=\u001B[0m \u001B[1;36m100\u001B[0m\u001B[1;33m\u001B[0m\u001B[1;33m\u001B[0m\u001B[0m\n\u001B[0m",
      "\u001B[1;31mAttributeError\u001B[0m: 'object' object has no attribute 'x'"
     ]
    }
   ],
   "source": [
    "o.x = 100"
   ],
   "metadata": {
    "collapsed": false,
    "ExecuteTime": {
     "end_time": "2024-01-08T05:02:02.292326100Z",
     "start_time": "2024-01-08T05:02:00.894959100Z"
    }
   },
   "id": "32c461a4e1db1eb8"
  },
  {
   "cell_type": "markdown",
   "source": [
    "Unfortunately, as you can see, it's not possible to set any attributes on an object that was instantiated directly. \n",
    "\n",
    "This isn't because the Python developers wanted to force us to write our own classes, or anything so sinister. \n",
    "\n",
    "They did this to save memory – a lot of memory.\n",
    "\n",
    "When Python allows an object to have arbitrary attributes, it takes a certain amount of system memory to keep track of what attributes each object has, for storing both the attribute name and its value.\n",
    "\n",
    "Even if no attributes are stored, memory is allocated to make it possible to add attributes.\n",
    "\n",
    "Given the dozens, hundreds or thousands of objects( every class extends the object class) in a typical Python program, this small amount of memory would quickly become a large amount of memory.\n",
    "\n",
    "So, Python disables arbitrary properties on `object` and several other built-ins, by default.\n",
    "\n",
    "It is possible to restrict arbitrary properties on our own classes using __slots__. \n",
    "\n",
    "Slots are part of Chapter 12, Advanced Design Patterns. We'll look at them as a way to save memory for objects that occur many, many times.\n",
    "\n",
    "It is, however, trivial to create an empty object class of our own; we saw it in our earliest example:"
   ],
   "metadata": {
    "collapsed": false
   },
   "id": "6ae0b26ec3b95da0"
  },
  {
   "cell_type": "code",
   "execution_count": 94,
   "outputs": [],
   "source": [
    "class MyObject:\n",
    "    pass"
   ],
   "metadata": {
    "collapsed": false,
    "ExecuteTime": {
     "end_time": "2024-01-08T05:02:19.238593100Z",
     "start_time": "2024-01-08T05:02:18.426074Z"
    }
   },
   "id": "faee2c8391b88964"
  },
  {
   "cell_type": "markdown",
   "source": [
    "In effect, `class MyObject` is equivalent to `class MyObject(object)`.\n",
    "\n",
    "As seen earlier, it is possible to set attributes on such classes."
   ],
   "metadata": {
    "collapsed": false
   },
   "id": "9468e4aca1d1f365"
  },
  {
   "cell_type": "code",
   "execution_count": 95,
   "outputs": [],
   "source": [
    "m = MyObject()"
   ],
   "metadata": {
    "collapsed": false,
    "ExecuteTime": {
     "end_time": "2024-01-08T05:02:19.645493800Z",
     "start_time": "2024-01-08T05:02:18.437982Z"
    }
   },
   "id": "379dbf0f2783dd3d"
  },
  {
   "cell_type": "code",
   "execution_count": 96,
   "outputs": [],
   "source": [
    "m.x = \"hihihi\""
   ],
   "metadata": {
    "collapsed": false,
    "ExecuteTime": {
     "end_time": "2024-01-08T05:02:19.645493800Z",
     "start_time": "2024-01-08T05:02:18.455134500Z"
    }
   },
   "id": "134c24879bdd0986"
  },
  {
   "cell_type": "code",
   "execution_count": 97,
   "outputs": [
    {
     "data": {
      "text/plain": "'hihihi'"
     },
     "execution_count": 97,
     "metadata": {},
     "output_type": "execute_result"
    }
   ],
   "source": [
    "m.x"
   ],
   "metadata": {
    "collapsed": false,
    "ExecuteTime": {
     "end_time": "2024-01-08T05:02:19.645493800Z",
     "start_time": "2024-01-08T05:02:18.467186700Z"
    }
   },
   "id": "5c73ce88098713d8"
  },
  {
   "cell_type": "markdown",
   "source": [
    "If we wanted to group an unknown number of attribute values together, we could store them in an empty object like this.\n",
    "\n",
    "The problem with this approach is the lack of an obvious schema that we can use to understand what attributes should be present and what types of values they will have.\n",
    "\n",
    "  Focus of this book is the way classes and objects should only be used when you want to specify both data and behaviors. \n",
    "  \n",
    "Therefore, it is important to decide from the outset whether the data is purely data, or whether it is an object in disguise. \n",
    "\n",
    "Once that design decision is made, the rest of the design can grow from the seed concept."
   ],
   "metadata": {
    "collapsed": false
   },
   "id": "de73fdae9e9c7341"
  },
  {
   "cell_type": "markdown",
   "source": [
    "# TUPLES AND NAMED TUPLES"
   ],
   "metadata": {
    "collapsed": false
   },
   "id": "a40b90be8aafafb7"
  },
  {
   "cell_type": "markdown",
   "source": [
    "Tuples are objects that can store a specific number of other objects in sequence.\n",
    "\n",
    "They are immutable, meaning we cannot add, remove or replace objects on the fly.\n",
    "\n",
    "The primary benefit of tuples' immutability is a tuple of immutable objects (like strings and numbers and other tuples) has a hash value, allowing us to use them as keys in dictionaries and members of sets.\n",
    "\n",
    "Instances of tuple class are used to store data; behaviour cannot be associated with built-in tuple class.\n",
    "\n",
    "If we require behaviour to manipulate a tuple, we have to pass the tuple into a function(or method on an another object) that performs the required behaviour."
   ],
   "metadata": {
    "collapsed": false
   },
   "id": "e5c1822f0477878a"
  },
  {
   "cell_type": "markdown",
   "source": [
    "Tuples overlap with the idea of coordinates or dimensions. \n",
    "\n",
    "A mathematical (x, y) pair or (r, g,b) color are examples of tuples.\n",
    "\n",
    "The order matters, a lot: the color (255, 0, 0) looks nothing like (0, 255, 0).\n",
    "\n",
    "The primary purpose of a tuple is to aggregate different pieces of data together into one container.\n",
    "\n",
    "We create a tuple by separating values with commas, and optionally surrounding them with parentheses.\n",
    "\n",
    "The following two assignments are identical (they record a stock, the current price, the 52-week high, and the 52-week low, for a rather profitable company):"
   ],
   "metadata": {
    "collapsed": false
   },
   "id": "2ae585a110363844"
  },
  {
   "cell_type": "code",
   "execution_count": 98,
   "outputs": [],
   "source": [
    "stock1 = \"AAPL\", 123.52, 53.15, 137.98\n",
    "stock2 = (\"AAPL\", 123.52, 53.15, 137.98)\n"
   ],
   "metadata": {
    "collapsed": false,
    "ExecuteTime": {
     "end_time": "2024-01-08T05:02:19.645493800Z",
     "start_time": "2024-01-08T05:02:18.482846900Z"
    }
   },
   "id": "45df7e3ff453eaf5"
  },
  {
   "cell_type": "markdown",
   "source": [
    "If we are grouping a tuple inside of some other object, such as function call, list comprehension, or generator, the parentheses are required.\n",
    "\n",
    "Otherwise, it would be impossible for the interpreter to know whether it is a tuple or the next function parameter:"
   ],
   "metadata": {
    "collapsed": false
   },
   "id": "62ced565ddf208ee"
  },
  {
   "cell_type": "code",
   "execution_count": 99,
   "outputs": [
    {
     "data": {
      "text/plain": "(74.965, datetime.date(2018, 2, 1))"
     },
     "execution_count": 99,
     "metadata": {},
     "output_type": "execute_result"
    }
   ],
   "source": [
    "import datetime\n",
    "\n",
    "def middle(stock, date):\n",
    "    symbol, current, high, low = stock\n",
    "    return (((high + low) / 2), date)\n",
    "\n",
    "middle((\"MSFT\", 75.00, 75.03, 74.90), datetime.date(2018, 2, 1))"
   ],
   "metadata": {
    "collapsed": false,
    "ExecuteTime": {
     "end_time": "2024-01-08T05:02:19.693830600Z",
     "start_time": "2024-01-08T05:02:18.509113300Z"
    }
   },
   "id": "e7cab712546665ac"
  },
  {
   "cell_type": "markdown",
   "source": [
    "When Python displays a tuple, it uses what is called the **canonical** representation; this will always include `()`'s, making the `()`'s a common practice even when they are not strictly required.\n",
    "\n",
    "The return statement, specifically has redundant `()`'s around the tuple it creates.\n",
    "\n",
    "The degenerate cases include a tuple with only one item, written like thin `(2.718,)`. \n",
    "\n",
    "The extra comma is required here. An empty tuple is `()`."
   ],
   "metadata": {
    "collapsed": false
   },
   "id": "5d8ef0ced0ecffe0"
  },
  {
   "cell_type": "code",
   "execution_count": 100,
   "outputs": [],
   "source": [
    "a = (42,)"
   ],
   "metadata": {
    "collapsed": false,
    "ExecuteTime": {
     "end_time": "2024-01-08T05:02:19.786988700Z",
     "start_time": "2024-01-08T05:02:18.529800200Z"
    }
   },
   "id": "4fa8dd3973ecd14e"
  },
  {
   "cell_type": "code",
   "execution_count": 101,
   "outputs": [
    {
     "data": {
      "text/plain": "(42,)"
     },
     "execution_count": 101,
     "metadata": {},
     "output_type": "execute_result"
    }
   ],
   "source": [
    "a"
   ],
   "metadata": {
    "collapsed": false,
    "ExecuteTime": {
     "end_time": "2024-01-08T05:02:19.866282500Z",
     "start_time": "2024-01-08T05:02:18.545424100Z"
    }
   },
   "id": "e4bc904d17e2826b"
  },
  {
   "cell_type": "markdown",
   "source": [
    "It is sometimes surprising that the varaible `a` will be a one-tuple.\n",
    "\n",
    "**The trailing comma is what creates an expression list with a single item; this is the value of the tuple**\n",
    "\n",
    "The parentheses are required for two tings:\n",
    "\n",
    "1-) to create an empty tuple\n",
    "2-) to separate a tuple from other expressions.\n",
    "\n",
    "For example, the following code will create nested tupple: "
   ],
   "metadata": {
    "collapsed": false
   },
   "id": "fc6ab5b66f97421b"
  },
  {
   "cell_type": "code",
   "execution_count": 102,
   "outputs": [],
   "source": [
    "b = (42, 3.14), (2.718, 2.618),"
   ],
   "metadata": {
    "collapsed": false,
    "ExecuteTime": {
     "end_time": "2024-01-08T05:02:19.882870100Z",
     "start_time": "2024-01-08T05:02:18.567146600Z"
    }
   },
   "id": "ebf62601d767e18b"
  },
  {
   "cell_type": "code",
   "execution_count": 103,
   "outputs": [
    {
     "data": {
      "text/plain": "((42, 3.14), (2.718, 2.618))"
     },
     "execution_count": 103,
     "metadata": {},
     "output_type": "execute_result"
    }
   ],
   "source": [
    "b"
   ],
   "metadata": {
    "collapsed": false,
    "ExecuteTime": {
     "end_time": "2024-01-08T05:02:19.928654200Z",
     "start_time": "2024-01-08T05:02:18.586210300Z"
    }
   },
   "id": "f9b379b00694ec4e"
  },
  {
   "cell_type": "markdown",
   "source": [
    "The trailing commas in Python are politely ignored.\n",
    "\n",
    "The `middle()` function also illustrates **tuple unpacking**.\n",
    "\n",
    "The first line inside the function unpacks the `stock` parameter into four different variables.\n",
    "\n",
    "*The tuple has to be exactly the same length as the number of variables, or it will raise an exception.*\n",
    "\n",
    "Unpacking is a very useful feature in Python.\n",
    "\n",
    "A tuple groups related values together to make storing and passing them around simpler.\n",
    "\n",
    "The moment we need to access the pieces, we can unpack them into separate variables.\n",
    "\n",
    "Of course, sometimes we only need access to one of the variables in the tuple.\n",
    "\n",
    "We can use the same syntax that we use for other sequence types(list and strings) to access an individual value."
   ],
   "metadata": {
    "collapsed": false
   },
   "id": "2604b0979243161a"
  },
  {
   "cell_type": "code",
   "execution_count": 104,
   "outputs": [],
   "source": [
    "s = (\"AKBNK\", 36.24, 48.56, 25.65)"
   ],
   "metadata": {
    "collapsed": false,
    "ExecuteTime": {
     "end_time": "2024-01-08T05:02:19.928654200Z",
     "start_time": "2024-01-08T05:02:18.608515800Z"
    }
   },
   "id": "d476774236b70abe"
  },
  {
   "cell_type": "code",
   "execution_count": 105,
   "outputs": [],
   "source": [
    "high = s[2]"
   ],
   "metadata": {
    "collapsed": false,
    "ExecuteTime": {
     "end_time": "2024-01-08T05:02:19.928654200Z",
     "start_time": "2024-01-08T05:02:18.624141800Z"
    }
   },
   "id": "ccf6c504bdd206bf"
  },
  {
   "cell_type": "code",
   "execution_count": 106,
   "outputs": [
    {
     "data": {
      "text/plain": "48.56"
     },
     "execution_count": 106,
     "metadata": {},
     "output_type": "execute_result"
    }
   ],
   "source": [
    "high"
   ],
   "metadata": {
    "collapsed": false,
    "ExecuteTime": {
     "end_time": "2024-01-08T05:02:19.928654200Z",
     "start_time": "2024-01-08T05:02:18.639768400Z"
    }
   },
   "id": "412814ed4028f8ea"
  },
  {
   "cell_type": "markdown",
   "source": [
    "We can use slice notation to extract larger pieces of tuples.\n"
   ],
   "metadata": {
    "collapsed": false
   },
   "id": "efb4334b8aa222cb"
  },
  {
   "cell_type": "code",
   "execution_count": 107,
   "outputs": [
    {
     "data": {
      "text/plain": "(36.24, 48.56)"
     },
     "execution_count": 107,
     "metadata": {},
     "output_type": "execute_result"
    }
   ],
   "source": [
    "s[1:3]"
   ],
   "metadata": {
    "collapsed": false,
    "ExecuteTime": {
     "end_time": "2024-01-08T05:02:19.975805Z",
     "start_time": "2024-01-08T05:02:18.658588300Z"
    }
   },
   "id": "5ad4e789d894b3f5"
  },
  {
   "cell_type": "markdown",
   "source": [
    "These examples, while illustrating how flexible tuples can be, also demonstrate one of their major disadvantages: **readability**.\n",
    "\n",
    "How does someone reading this code know what is in position 2 of a specific tuple?\n",
    "\n",
    "They would have to paw through the code to find where the tuple was packed or unpacked before they could discover what it does.\n",
    "\n",
    "Accessing tuple members directly is fine in some circumstances, but don't make a habit of it. \n",
    "\n",
    "The index values become what we might call magic numbers: numbers that seem to come out of thin air with no apparent meaning within the code. \n",
    "\n",
    "This opacity is the source of many coding errors and leads to hours of frustrated debugging. \n",
    "\n",
    "**Try to use tuples only when you know that all the values are going to be useful at once and it's normally going to be unpacked when it is accessed.**\n",
    " \n",
    "Think of (x, y) coordinate pairs and (r, g, b) colors, where the number of items is fixed, the order matters, and the meaning is clear.\n",
    "\n",
    "One way to provide some useful documentation is to define numerous little helper functions. This can help to clarify the way a tuple is used. Here's an example."
   ],
   "metadata": {
    "collapsed": false
   },
   "id": "63a75b0e0d35e705"
  },
  {
   "cell_type": "code",
   "execution_count": 108,
   "outputs": [],
   "source": [
    "def high(stock):\n",
    "    symbol, current, high, low = stock\n",
    "    return high"
   ],
   "metadata": {
    "collapsed": false,
    "ExecuteTime": {
     "end_time": "2024-01-08T05:02:20.022703500Z",
     "start_time": "2024-01-08T05:02:18.676856700Z"
    }
   },
   "id": "6422456cd2e40706"
  },
  {
   "cell_type": "code",
   "execution_count": 109,
   "outputs": [
    {
     "data": {
      "text/plain": "48.56"
     },
     "execution_count": 109,
     "metadata": {},
     "output_type": "execute_result"
    }
   ],
   "source": [
    "high(s)"
   ],
   "metadata": {
    "collapsed": false,
    "ExecuteTime": {
     "end_time": "2024-01-08T05:02:20.069623200Z",
     "start_time": "2024-01-08T05:02:18.695432100Z"
    }
   },
   "id": "10acb1a44900e9ed"
  },
  {
   "cell_type": "markdown",
   "source": [
    "We need to keep these helper functions collected together into a single namespace. \n",
    "\n",
    "Doing this causes us to suspect that a class is better than a tuple with a lot of helper functions. \n",
    "\n",
    "There are other alternatives to clarifying the contents of tuples, the most important of which is the typing.NamedTuple class."
   ],
   "metadata": {
    "collapsed": false
   },
   "id": "3b8e527f0ba862a8"
  },
  {
   "cell_type": "markdown",
   "source": [
    "# NAMED TUPLES VIA typing.NamedTuple"
   ],
   "metadata": {
    "collapsed": false
   },
   "id": "b5347825e735e1aa"
  },
  {
   "cell_type": "markdown",
   "source": [
    "What do we do when we want to group values together but know we're frequently going to need to access them individually? \n",
    "\n",
    "1-) We could use an empty object instance, as discussed previously. We can assign arbitrary attributes to this object. \n",
    "\n",
    "But without a good definition of what's allowed and what types are expected, we'll have trouble understanding this.\n",
    "\n",
    "2-) We could use a dictionary. This can work out nicely, and we can formalize the acceptable list of keys for the dictionary with the typing.TypedDict hint.\n",
    "\n",
    "3-) We can use a @dataclass, the subject of the next section in this chapter.\n",
    "\n",
    "4-) We can also provide names to the positions of a tuple. While we're at it, we can also define methods for these named tuples, making them super helpful.\n",
    "\n"
   ],
   "metadata": {
    "collapsed": false
   },
   "id": "7d75f346a794d931"
  },
  {
   "cell_type": "markdown",
   "source": [
    "Named tuples are tuples with attitude. They are a great way to create an immutable grouping of data values.\n",
    "\n",
    "When we define a named tuple, we are creating a subclass of `typing.NamedTuple`, based on a list of names and data types.\n",
    "\n",
    "We do not need to write an `__init__()` method, it is created for us.\n",
    "\n"
   ],
   "metadata": {
    "collapsed": false
   },
   "id": "c7a6d466575e91db"
  },
  {
   "cell_type": "code",
   "execution_count": 110,
   "outputs": [],
   "source": [
    "from typing import NamedTuple\n",
    "\n",
    "class Stock(NamedTuple):\n",
    "    name: str\n",
    "    current: float\n",
    "    high: float\n",
    "    low: float"
   ],
   "metadata": {
    "collapsed": false,
    "ExecuteTime": {
     "end_time": "2024-01-08T05:02:20.168066700Z",
     "start_time": "2024-01-08T05:02:18.702944500Z"
    }
   },
   "id": "f4dd5b7f87315541"
  },
  {
   "cell_type": "markdown",
   "source": [
    "This class will have a number of methods, including `__init__()`, `__hash__()` `__repr__()`and `__eq__`.\n",
    "\n",
    "These will be based on the generic `tupple` processing with the added benefit of names for the various items.\n",
    "\n",
    "There are more methods, including comparison operations.\n",
    "\n",
    "Here's how we can create a tuple of this class. It looks almost like creating a generic tuple:"
   ],
   "metadata": {
    "collapsed": false
   },
   "id": "8ec39f177ebbd328"
  },
  {
   "cell_type": "code",
   "execution_count": 111,
   "outputs": [],
   "source": [
    "hisse = Stock(name=\"GARAN\", current=36.24, high=48.56, low=25.65)"
   ],
   "metadata": {
    "collapsed": false,
    "ExecuteTime": {
     "end_time": "2024-01-08T05:02:20.201163200Z",
     "start_time": "2024-01-08T05:02:18.718588100Z"
    }
   },
   "id": "1ab898bcf7b21bda"
  },
  {
   "cell_type": "code",
   "execution_count": 112,
   "outputs": [
    {
     "data": {
      "text/plain": "'GARAN'"
     },
     "execution_count": 112,
     "metadata": {},
     "output_type": "execute_result"
    }
   ],
   "source": [
    "hisse.name"
   ],
   "metadata": {
    "collapsed": false,
    "ExecuteTime": {
     "end_time": "2024-01-08T05:02:20.274200200Z",
     "start_time": "2024-01-08T05:02:18.737434400Z"
    }
   },
   "id": "1af8e99290169f1b"
  },
  {
   "cell_type": "code",
   "execution_count": 113,
   "outputs": [
    {
     "data": {
      "text/plain": "36.24"
     },
     "execution_count": 113,
     "metadata": {},
     "output_type": "execute_result"
    }
   ],
   "source": [
    "hisse.current"
   ],
   "metadata": {
    "collapsed": false,
    "ExecuteTime": {
     "end_time": "2024-01-08T05:02:20.274200200Z",
     "start_time": "2024-01-08T05:02:18.749969800Z"
    }
   },
   "id": "2b0bab74307f104e"
  },
  {
   "cell_type": "code",
   "execution_count": 114,
   "outputs": [
    {
     "ename": "AttributeError",
     "evalue": "'Stock' object has no attribute 'average'",
     "output_type": "error",
     "traceback": [
      "\u001B[1;31m---------------------------------------------------------------------------\u001B[0m",
      "\u001B[1;31mAttributeError\u001B[0m                            Traceback (most recent call last)",
      "\u001B[1;32m~\\AppData\\Local\\Temp\\ipykernel_4192\\3656781093.py\u001B[0m in \u001B[0;36m<module>\u001B[1;34m\u001B[0m\n\u001B[1;32m----> 1\u001B[1;33m \u001B[0mhisse\u001B[0m\u001B[1;33m.\u001B[0m\u001B[0maverage\u001B[0m\u001B[1;33m\u001B[0m\u001B[1;33m\u001B[0m\u001B[0m\n\u001B[0m",
      "\u001B[1;31mAttributeError\u001B[0m: 'Stock' object has no attribute 'average'"
     ]
    }
   ],
   "source": [
    "hisse.average"
   ],
   "metadata": {
    "collapsed": false,
    "ExecuteTime": {
     "end_time": "2024-01-08T05:02:20.321074300Z",
     "start_time": "2024-01-08T05:02:18.765809100Z"
    }
   },
   "id": "2a79971b2656a852"
  },
  {
   "cell_type": "markdown",
   "source": [
    "The constructor must have exactly the correct number of arguments to create the tuple.\n",
    "\n",
    "Values can be passed in as positional or keyword arguments.\n",
    "\n",
    "It is important to recognize that the names are provided at the class level, but are not actually creating class-level attributes.\n",
    "\n",
    "The class-level names are used to build the `__init__()` method, each instance will have the expected names for the positions within the tuple.\n",
    "\n",
    "There is a clever metaclass-level transformation from what we wrote into the somewhat more complex definition of the resulting class with named, positional items.\n",
    "\n",
    "The resulting instance of our `NamedTuple` subclass, `hisse`, can be packed, unpacked, indexed, sliced and otherwise treated like a normal tuple, but we can also access individual attributes by name as if it were an object."
   ],
   "metadata": {
    "collapsed": false
   },
   "id": "3fac749ef758554c"
  },
  {
   "cell_type": "code",
   "execution_count": 130,
   "outputs": [
    {
     "data": {
      "text/plain": "'GARAN'"
     },
     "execution_count": 130,
     "metadata": {},
     "output_type": "execute_result"
    }
   ],
   "source": [
    "hisse.name"
   ],
   "metadata": {
    "collapsed": false,
    "ExecuteTime": {
     "end_time": "2024-01-08T05:02:36.964839100Z",
     "start_time": "2024-01-08T05:02:36.051580800Z"
    }
   },
   "id": "f334581525bc1b90"
  },
  {
   "cell_type": "code",
   "execution_count": 131,
   "outputs": [
    {
     "data": {
      "text/plain": "48.56"
     },
     "execution_count": 131,
     "metadata": {},
     "output_type": "execute_result"
    }
   ],
   "source": [
    "hisse[2]"
   ],
   "metadata": {
    "collapsed": false,
    "ExecuteTime": {
     "end_time": "2024-01-08T05:02:37.059348100Z",
     "start_time": "2024-01-08T05:02:36.067209300Z"
    }
   },
   "id": "2a785e0252a63492"
  },
  {
   "cell_type": "code",
   "execution_count": 132,
   "outputs": [],
   "source": [
    "symbol, current, high, low = hisse"
   ],
   "metadata": {
    "collapsed": false,
    "ExecuteTime": {
     "end_time": "2024-01-08T05:02:37.106229400Z",
     "start_time": "2024-01-08T05:02:36.082833Z"
    }
   },
   "id": "cb888e55c8e7d505"
  },
  {
   "cell_type": "code",
   "execution_count": 133,
   "outputs": [
    {
     "data": {
      "text/plain": "36.24"
     },
     "execution_count": 133,
     "metadata": {},
     "output_type": "execute_result"
    }
   ],
   "source": [
    "current"
   ],
   "metadata": {
    "collapsed": false,
    "ExecuteTime": {
     "end_time": "2024-01-08T05:02:37.121850Z",
     "start_time": "2024-01-08T05:02:36.102614Z"
    }
   },
   "id": "dd64a02586697279"
  },
  {
   "cell_type": "code",
   "execution_count": 134,
   "outputs": [
    {
     "data": {
      "text/plain": "'GARAN'"
     },
     "execution_count": 134,
     "metadata": {},
     "output_type": "execute_result"
    }
   ],
   "source": [
    "hisse.name"
   ],
   "metadata": {
    "collapsed": false,
    "ExecuteTime": {
     "end_time": "2024-01-08T05:02:37.169085900Z",
     "start_time": "2024-01-08T05:02:36.114121900Z"
    }
   },
   "id": "e2e179e22e8046fb"
  },
  {
   "cell_type": "markdown",
   "source": [
    "Named tuples are perfect for many uses cases.\n",
    "\n",
    "Like strings, tuples and named tuples are immutable, so we cannot modify an attribute once it has been set.\n",
    "\n",
    "For example, the current value of this company's stock is 36.24, but we cannot change it to 76.25."
   ],
   "metadata": {
    "collapsed": false
   },
   "id": "5ca8cc090e3fa052"
  },
  {
   "cell_type": "code",
   "execution_count": 135,
   "outputs": [
    {
     "ename": "AttributeError",
     "evalue": "can't set attribute",
     "output_type": "error",
     "traceback": [
      "\u001B[1;31m---------------------------------------------------------------------------\u001B[0m",
      "\u001B[1;31mAttributeError\u001B[0m                            Traceback (most recent call last)",
      "\u001B[1;32m~\\AppData\\Local\\Temp\\ipykernel_4192\\1159330553.py\u001B[0m in \u001B[0;36m<module>\u001B[1;34m\u001B[0m\n\u001B[1;32m----> 1\u001B[1;33m \u001B[0mhisse\u001B[0m\u001B[1;33m.\u001B[0m\u001B[0mcurrent\u001B[0m \u001B[1;33m=\u001B[0m \u001B[1;36m76.25\u001B[0m\u001B[1;33m\u001B[0m\u001B[1;33m\u001B[0m\u001B[0m\n\u001B[0m",
      "\u001B[1;31mAttributeError\u001B[0m: can't set attribute"
     ]
    }
   ],
   "source": [
    "hisse.current = 76.25"
   ],
   "metadata": {
    "collapsed": false,
    "ExecuteTime": {
     "end_time": "2024-01-08T05:02:37.216141600Z",
     "start_time": "2024-01-08T05:02:36.129762400Z"
    }
   },
   "id": "e2a73a7d77b4f1db"
  },
  {
   "cell_type": "markdown",
   "source": [
    "**The immutability refers only to the attributes of the tuple itself. The tuple can contain mutable elements.** "
   ],
   "metadata": {
    "collapsed": false
   },
   "id": "afe47efbd3dc2cfb"
  },
  {
   "cell_type": "code",
   "execution_count": 151,
   "outputs": [],
   "source": [
    "t = (\"Relayer\", [\"Gates of Delirium\", \"Sound Chaser\"])"
   ],
   "metadata": {
    "collapsed": false,
    "ExecuteTime": {
     "end_time": "2024-01-08T05:02:45.594646900Z",
     "start_time": "2024-01-08T05:02:44.896174800Z"
    }
   },
   "id": "119ea5a5479c34af"
  },
  {
   "cell_type": "code",
   "execution_count": 152,
   "outputs": [],
   "source": [
    "t[1].append(\"To Be Over\")"
   ],
   "metadata": {
    "collapsed": false,
    "ExecuteTime": {
     "end_time": "2024-01-08T05:02:45.604165800Z",
     "start_time": "2024-01-08T05:02:44.915473700Z"
    }
   },
   "id": "f4ddfd51a9ddbbc0"
  },
  {
   "cell_type": "code",
   "execution_count": 153,
   "outputs": [
    {
     "data": {
      "text/plain": "('Relayer', ['Gates of Delirium', 'Sound Chaser', 'To Be Over'])"
     },
     "execution_count": 153,
     "metadata": {},
     "output_type": "execute_result"
    }
   ],
   "source": [
    "t"
   ],
   "metadata": {
    "collapsed": false,
    "ExecuteTime": {
     "end_time": "2024-01-08T05:02:45.635937400Z",
     "start_time": "2024-01-08T05:02:44.930758100Z"
    }
   },
   "id": "87eba2cbf448dfa3"
  },
  {
   "cell_type": "markdown",
   "source": [
    "The object `t` is a tuple, which means it is immutable.\n",
    "\n",
    "The tuple object contains two elements. The value of `t[0]` is the string `\"Relayer\"`, which is immutable.\n",
    "\n",
    "The value of `t[1]` is a list, which is mutable.\n",
    "\n",
    "The mutability of the list is not altered by the immutability of the object `t`, with wihich its associated.\n",
    "\n",
    "A list is mutable, irrespective of context.\n",
    "\n",
    "The tuple, `t` is immutable, even if items withi it are mutable. \n",
    "\n",
    "Because the xample tuple, `t` contains a mutable list, it does not have a hash value. This should not be surprising. \n",
    "\n",
    "The `hash()` computation requires the hash from each item within the collection. \n",
    "\n",
    "Since the list value of `t[1]` cannot produce a hash, the tuple `t` as a whole connot produce a hash either.\n",
    "\n",
    "The presence of the unhashable list object means the tuple – as a whole – is also unhashable.\n",
    "\n"
   ],
   "metadata": {
    "collapsed": false
   },
   "id": "1ff75bb10638dd4f"
  },
  {
   "cell_type": "code",
   "execution_count": 154,
   "outputs": [
    {
     "ename": "TypeError",
     "evalue": "unhashable type: 'list'",
     "output_type": "error",
     "traceback": [
      "\u001B[1;31m---------------------------------------------------------------------------\u001B[0m",
      "\u001B[1;31mTypeError\u001B[0m                                 Traceback (most recent call last)",
      "\u001B[1;32m~\\AppData\\Local\\Temp\\ipykernel_4192\\932297612.py\u001B[0m in \u001B[0;36m<module>\u001B[1;34m\u001B[0m\n\u001B[1;32m----> 1\u001B[1;33m \u001B[0mhash\u001B[0m\u001B[1;33m(\u001B[0m\u001B[0mt\u001B[0m\u001B[1;33m)\u001B[0m\u001B[1;33m\u001B[0m\u001B[1;33m\u001B[0m\u001B[0m\n\u001B[0m",
      "\u001B[1;31mTypeError\u001B[0m: unhashable type: 'list'"
     ]
    }
   ],
   "source": [
    "hash(t)"
   ],
   "metadata": {
    "collapsed": false,
    "ExecuteTime": {
     "end_time": "2024-01-08T05:02:45.682850200Z",
     "start_time": "2024-01-08T05:02:44.945093200Z"
    }
   },
   "id": "c5a3466ede2cdb1d"
  },
  {
   "cell_type": "markdown",
   "source": [
    "We can create methods to compute derived values of the attributes of a named tuple.\n",
    "\n",
    "We can for example, redefine our `Stock` tuple to include the middle computation as a method (or a @property):"
   ],
   "metadata": {
    "collapsed": false
   },
   "id": "40812d5dfc3f28f6"
  },
  {
   "cell_type": "code",
   "execution_count": 173,
   "outputs": [],
   "source": [
    "from typing import NamedTuple\n",
    "\n",
    "class Stock2(NamedTuple):\n",
    "    name: str\n",
    "    current: float\n",
    "    high: float\n",
    "    low: float\n",
    "\n",
    "    def middle(self) -> float:\n",
    "        return (self.high + self.low) / 2"
   ],
   "metadata": {
    "collapsed": false,
    "ExecuteTime": {
     "end_time": "2024-01-08T05:02:52.778358900Z",
     "start_time": "2024-01-08T05:02:52.306572400Z"
    }
   },
   "id": "be1fcddbcb308999"
  },
  {
   "cell_type": "markdown",
   "source": [
    "We cannot change the state but we can compute values derived from the current state.\n",
    "\n",
    "This lets us couple computations directly to the tuple holding the source data.\n",
    "\n"
   ],
   "metadata": {
    "collapsed": false
   },
   "id": "9d87c32298528c87"
  },
  {
   "cell_type": "code",
   "execution_count": 174,
   "outputs": [],
   "source": [
    "s3 = Stock2(\"AKBNK\", 36.24, 48.56, 25.65)"
   ],
   "metadata": {
    "collapsed": false,
    "ExecuteTime": {
     "end_time": "2024-01-08T05:02:52.778358900Z",
     "start_time": "2024-01-08T05:02:52.322242Z"
    }
   },
   "id": "f464d75f495253d"
  },
  {
   "cell_type": "code",
   "execution_count": 175,
   "outputs": [
    {
     "data": {
      "text/plain": "37.105000000000004"
     },
     "execution_count": 175,
     "metadata": {},
     "output_type": "execute_result"
    }
   ],
   "source": [
    "s3.middle()"
   ],
   "metadata": {
    "collapsed": false,
    "ExecuteTime": {
     "end_time": "2024-01-08T05:02:52.778358900Z",
     "start_time": "2024-01-08T05:02:52.338028300Z"
    }
   },
   "id": "b977bfaf11656731"
  },
  {
   "cell_type": "markdown",
   "source": [
    "The `middle()` method is now part of the class definition.\n",
    "\n",
    "The state of a named tuple is fixed when the tuple is created.\n",
    "\n",
    "If we need to be able to change the stored data a `dataclass` may be what we need instead."
   ],
   "metadata": {
    "collapsed": false
   },
   "id": "32de6136c8b5d123"
  },
  {
   "cell_type": "markdown",
   "source": [
    "# DATACLASSES"
   ],
   "metadata": {
    "collapsed": false
   },
   "id": "bf426c98f7f49e84"
  },
  {
   "cell_type": "markdown",
   "source": [
    "Dataclasses let us define ordinary objects with a clean syntax for specifying attributes.\n",
    "\n",
    "They superficially look very similar to named tuples.\n",
    "\n",
    "Here is a dataclass version of our Stock example"
   ],
   "metadata": {
    "collapsed": false
   },
   "id": "5099df5bd7123c9d"
  },
  {
   "cell_type": "code",
   "execution_count": 176,
   "outputs": [],
   "source": [
    "from dataclasses import dataclass\n",
    "\n",
    "@dataclass\n",
    "\n",
    "class Stock3:\n",
    "    symbol: str\n",
    "    current: float\n",
    "    high: float\n",
    "    low: float\n"
   ],
   "metadata": {
    "collapsed": false,
    "ExecuteTime": {
     "end_time": "2024-01-08T05:02:52.847261800Z",
     "start_time": "2024-01-08T05:02:52.369762800Z"
    }
   },
   "id": "51d5c442a3c30bb7"
  },
  {
   "cell_type": "markdown",
   "source": [
    "For this case, the definition is nearly identical to the `NamedTupple` definition.\n",
    "\n",
    "The `dataclass` function is applied as a class decorator, using the `@` operator.\n",
    "\n",
    "This class definition syntax is bot much less verbose than an ordinary class with `__init__()`, but it gives us access to several additional `dataclass` feautres.\n",
    "\n",
    "It is important to recognize that the names are provided at the class level, bıt are not actually creating class-level attributes.\n",
    "\n",
    "The class level names are used to build several methods, including `__init__()` method; each instance will have the expected attributes.\n",
    "\n",
    "The decorator transforms what we wrote into the more complex definition of a class with the expected attributes and parameters to the `__init__()` method.\n",
    "\n",
    "Because dataclass objects can be stateful, mutable objects, there are a number of extra features available.\n",
    "\n",
    "We will start with some basics.\n",
    " "
   ],
   "metadata": {
    "collapsed": false
   },
   "id": "cec53a9665f780bc"
  },
  {
   "cell_type": "code",
   "execution_count": 177,
   "outputs": [],
   "source": [
    "s_dataclass = Stock3(\"YKBNK\", 3.24, 4.56, 2.65)"
   ],
   "metadata": {
    "collapsed": false,
    "ExecuteTime": {
     "end_time": "2024-01-08T05:02:53.014141600Z",
     "start_time": "2024-01-08T05:02:52.369762800Z"
    }
   },
   "id": "36285df4a12bbbdd"
  },
  {
   "cell_type": "markdown",
   "source": [
    "Once instantiated, the stock object can be used like any ordinary class.\n",
    "\n",
    "You can access and update attributes as follows:\n"
   ],
   "metadata": {
    "collapsed": false
   },
   "id": "f0b96ad49ffbccb8"
  },
  {
   "cell_type": "code",
   "execution_count": 178,
   "outputs": [
    {
     "data": {
      "text/plain": "Stock3(symbol='YKBNK', current=3.24, high=4.56, low=2.65)"
     },
     "execution_count": 178,
     "metadata": {},
     "output_type": "execute_result"
    }
   ],
   "source": [
    "s_dataclass"
   ],
   "metadata": {
    "collapsed": false,
    "ExecuteTime": {
     "end_time": "2024-01-08T05:02:53.077307100Z",
     "start_time": "2024-01-08T05:02:52.401390300Z"
    }
   },
   "id": "d2b8aa62437ca115"
  },
  {
   "cell_type": "code",
   "execution_count": 179,
   "outputs": [
    {
     "data": {
      "text/plain": "3.24"
     },
     "execution_count": 179,
     "metadata": {},
     "output_type": "execute_result"
    }
   ],
   "source": [
    "s_dataclass.current"
   ],
   "metadata": {
    "collapsed": false,
    "ExecuteTime": {
     "end_time": "2024-01-08T05:02:53.077307100Z",
     "start_time": "2024-01-08T05:02:52.417048400Z"
    }
   },
   "id": "f9243762575a3e97"
  },
  {
   "cell_type": "code",
   "execution_count": 180,
   "outputs": [],
   "source": [
    "s_dataclass.current = 99.99"
   ],
   "metadata": {
    "collapsed": false,
    "ExecuteTime": {
     "end_time": "2024-01-08T05:02:53.172191500Z",
     "start_time": "2024-01-08T05:02:52.442262700Z"
    }
   },
   "id": "8d04b6a2d7169508"
  },
  {
   "cell_type": "code",
   "execution_count": 181,
   "outputs": [
    {
     "data": {
      "text/plain": "Stock3(symbol='YKBNK', current=99.99, high=4.56, low=2.65)"
     },
     "execution_count": 181,
     "metadata": {},
     "output_type": "execute_result"
    }
   ],
   "source": [
    "s_dataclass"
   ],
   "metadata": {
    "collapsed": false,
    "ExecuteTime": {
     "end_time": "2024-01-08T05:02:53.219463800Z",
     "start_time": "2024-01-08T05:02:52.451382900Z"
    }
   },
   "id": "5af4a0e252dcc6d9"
  },
  {
   "cell_type": "markdown",
   "source": [
    "As with other objects, we can add attributes beyond those formally declared as a part of the dataclass.\n",
    "\n",
    "This is not always the best idea, but its is supported because this is an ordinary mutable object."
   ],
   "metadata": {
    "collapsed": false
   },
   "id": "c3f50e1292b0763e"
  },
  {
   "cell_type": "code",
   "execution_count": 182,
   "outputs": [],
   "source": [
    "s_dataclass.new_attribute = \"OMG\""
   ],
   "metadata": {
    "collapsed": false,
    "ExecuteTime": {
     "end_time": "2024-01-08T05:02:53.219463800Z",
     "start_time": "2024-01-08T05:02:52.465331400Z"
    }
   },
   "id": "99648f1342dd5fad"
  },
  {
   "cell_type": "code",
   "execution_count": 183,
   "outputs": [
    {
     "data": {
      "text/plain": "'OMG'"
     },
     "execution_count": 183,
     "metadata": {},
     "output_type": "execute_result"
    }
   ],
   "source": [
    "s_dataclass.new_attribute"
   ],
   "metadata": {
    "collapsed": false,
    "ExecuteTime": {
     "end_time": "2024-01-08T05:02:53.326732400Z",
     "start_time": "2024-01-08T05:02:52.479978400Z"
    }
   },
   "id": "6491e5cda1a526d6"
  },
  {
   "cell_type": "markdown",
   "source": [
    "Adding attributes is not available for frozen dataclasses, which we will talk about later.\n",
    "\n",
    "At first glance, it seems like dataclasses do not give many benefits over an ordinary class definition with an appropriate `__init__()` method.\n",
    "\n",
    "Here is an ordinary class that is similar to dataclass:"
   ],
   "metadata": {
    "collapsed": false
   },
   "id": "86c55f1864127f3a"
  },
  {
   "cell_type": "code",
   "execution_count": 184,
   "outputs": [],
   "source": [
    "class Stock4:\n",
    "    def __init__(self, name:str, current:float, high:float, low:float) -> None:\n",
    "        self.name = name\n",
    "        self.current = current\n",
    "        self.high = high\n",
    "        self.low = low"
   ],
   "metadata": {
    "collapsed": false,
    "ExecuteTime": {
     "end_time": "2024-01-08T05:02:53.326732400Z",
     "start_time": "2024-01-08T05:02:52.499896500Z"
    }
   },
   "id": "c4451df5a688b85f"
  },
  {
   "cell_type": "code",
   "execution_count": 185,
   "outputs": [],
   "source": [
    "s_ordinary = Stock4(\"KCHOL\", 25.96, 36.56, 15.65)"
   ],
   "metadata": {
    "collapsed": false,
    "ExecuteTime": {
     "end_time": "2024-01-08T05:02:53.327791200Z",
     "start_time": "2024-01-08T05:02:52.511988800Z"
    }
   },
   "id": "373395abb16cb16"
  },
  {
   "cell_type": "markdown",
   "source": [
    "One obvious benefit to a dataclass is we only need to state attribute names once, saving the repetition in the `__init__()` parameters and body.\n",
    "\n",
    "The dataclass also provides a much more useful string representation than we get from the implicit superclass `object`.\n",
    "\n",
    "By default, dataclasses include an equality comparison.\n",
    "\n",
    "This can be turned off in the cases where it does not make sense.\n",
    "\n",
    "The following example compares the manually built class to these dataclass features:"
   ],
   "metadata": {
    "collapsed": false
   },
   "id": "c47f03692f5cbc36"
  },
  {
   "cell_type": "code",
   "execution_count": 186,
   "outputs": [
    {
     "data": {
      "text/plain": "<__main__.Stock4 at 0x1f58a23fd30>"
     },
     "execution_count": 186,
     "metadata": {},
     "output_type": "execute_result"
    }
   ],
   "source": [
    "s_ordinary"
   ],
   "metadata": {
    "collapsed": false,
    "ExecuteTime": {
     "end_time": "2024-01-08T05:02:53.331450100Z",
     "start_time": "2024-01-08T05:02:52.527627900Z"
    }
   },
   "id": "9dfd7bd746fafdca"
  },
  {
   "cell_type": "code",
   "execution_count": 187,
   "outputs": [],
   "source": [
    "s_ordinary_2 = Stock4(\"KCHOL\", 25.96, 36.56, 15.65)"
   ],
   "metadata": {
    "collapsed": false,
    "ExecuteTime": {
     "end_time": "2024-01-08T05:02:53.333796300Z",
     "start_time": "2024-01-08T05:02:52.551036200Z"
    }
   },
   "id": "7d5ed8e9b58cd94d"
  },
  {
   "cell_type": "code",
   "execution_count": 188,
   "outputs": [
    {
     "data": {
      "text/plain": "False"
     },
     "execution_count": 188,
     "metadata": {},
     "output_type": "execute_result"
    }
   ],
   "source": [
    "s_ordinary == s_ordinary_2\n"
   ],
   "metadata": {
    "collapsed": false,
    "ExecuteTime": {
     "end_time": "2024-01-08T05:02:53.334872800Z",
     "start_time": "2024-01-08T05:02:52.598637600Z"
    }
   },
   "id": "98a7bd4b8c82b414"
  },
  {
   "cell_type": "markdown",
   "source": [
    "The class built manually has an awful default representation, and the lac of an equality test can make life difficult.\n",
    "\n",
    "We would prefer the behaviour of the `Stock` class defined with `dataclass`. "
   ],
   "metadata": {
    "collapsed": false
   },
   "id": "ba3dcc5a199941"
  },
  {
   "cell_type": "code",
   "execution_count": 191,
   "outputs": [],
   "source": [
    "stock_dataclass_2 = Stock3(\"YKBNK\", 99.99, 4.56, 2.65)"
   ],
   "metadata": {
    "collapsed": false,
    "ExecuteTime": {
     "end_time": "2024-01-08T05:03:51.853205200Z",
     "start_time": "2024-01-08T05:03:51.784042800Z"
    }
   },
   "id": "f5f568e9e667481d"
  },
  {
   "cell_type": "code",
   "execution_count": 192,
   "outputs": [
    {
     "data": {
      "text/plain": "True"
     },
     "execution_count": 192,
     "metadata": {},
     "output_type": "execute_result"
    }
   ],
   "source": [
    "stock_dataclass_2 == s_dataclass"
   ],
   "metadata": {
    "collapsed": false,
    "ExecuteTime": {
     "end_time": "2024-01-08T05:03:51.900085300Z",
     "start_time": "2024-01-08T05:03:51.790062400Z"
    }
   },
   "id": "24460f02d78a7bb"
  },
  {
   "cell_type": "markdown",
   "source": [
    "Class definitions decorated with `@dataclass` also have many other useful features. \n",
    "\n",
    "For example, you can specify a default value for the attributes of a dataclass. \n",
    "\n",
    "Perhaps the market is currently closed and you don't know what the values for the day are:"
   ],
   "metadata": {
    "collapsed": false
   },
   "id": "de27132cd0f9e27d"
  },
  {
   "cell_type": "code",
   "execution_count": 193,
   "outputs": [],
   "source": [
    "from dataclasses import dataclass\n",
    "\n",
    "@dataclass\n",
    "\n",
    "class StockDefaults:\n",
    "    name: str \n",
    "    current: float = 0.00\n",
    "    high: float = 0.00\n",
    "    low: float = 0.00"
   ],
   "metadata": {
    "collapsed": false,
    "ExecuteTime": {
     "end_time": "2024-01-08T05:23:17.950217900Z",
     "start_time": "2024-01-08T05:23:17.833554200Z"
    }
   },
   "id": "578d8b38073c91e9"
  },
  {
   "cell_type": "markdown",
   "source": [
    "You can construct this class with just the stock name; the rest of the values will take on the defaults. \n",
    "\n",
    "But you can still specify values if you prefer, as follows:"
   ],
   "metadata": {
    "collapsed": false
   },
   "id": "45b190d3918cc8d"
  },
  {
   "cell_type": "code",
   "execution_count": 194,
   "outputs": [],
   "source": [
    "s_defaults = StockDefaults(\"GOOGLE\")"
   ],
   "metadata": {
    "collapsed": false,
    "ExecuteTime": {
     "end_time": "2024-01-08T05:24:20.574942200Z",
     "start_time": "2024-01-08T05:24:20.493386400Z"
    }
   },
   "id": "7085f881a5b74b3f"
  },
  {
   "cell_type": "code",
   "execution_count": 195,
   "outputs": [
    {
     "data": {
      "text/plain": "StockDefaults(name='GOOGLE', current=0.0, high=0.0, low=0.0)"
     },
     "execution_count": 195,
     "metadata": {},
     "output_type": "execute_result"
    }
   ],
   "source": [
    "s_defaults"
   ],
   "metadata": {
    "collapsed": false,
    "ExecuteTime": {
     "end_time": "2024-01-08T05:24:22.418307400Z",
     "start_time": "2024-01-08T05:24:22.246090Z"
    }
   },
   "id": "2f3f806aa92c8fc5"
  },
  {
   "cell_type": "code",
   "execution_count": 196,
   "outputs": [],
   "source": [
    "s_defaults = StockDefaults(\"GOOGLE\", 100.00, 200.00, 50.00)"
   ],
   "metadata": {
    "collapsed": false,
    "ExecuteTime": {
     "end_time": "2024-01-08T05:24:48.175033800Z",
     "start_time": "2024-01-08T05:24:48.064780500Z"
    }
   },
   "id": "6640687bc0f06397"
  },
  {
   "cell_type": "code",
   "execution_count": 197,
   "outputs": [
    {
     "data": {
      "text/plain": "StockDefaults(name='GOOGLE', current=100.0, high=200.0, low=50.0)"
     },
     "execution_count": 197,
     "metadata": {},
     "output_type": "execute_result"
    }
   ],
   "source": [
    "s_defaults"
   ],
   "metadata": {
    "collapsed": false,
    "ExecuteTime": {
     "end_time": "2024-01-08T05:24:51.361682200Z",
     "start_time": "2024-01-08T05:24:51.168862700Z"
    }
   },
   "id": "1c5ff580dbc3fc1a"
  },
  {
   "cell_type": "markdown",
   "source": [
    "If have seen that dataclasses support "
   ],
   "metadata": {
    "collapsed": false
   },
   "id": "ada0256a361241a4"
  }
 ],
 "metadata": {
  "kernelspec": {
   "display_name": "Python 3",
   "language": "python",
   "name": "python3"
  },
  "language_info": {
   "codemirror_mode": {
    "name": "ipython",
    "version": 2
   },
   "file_extension": ".py",
   "mimetype": "text/x-python",
   "name": "python",
   "nbconvert_exporter": "python",
   "pygments_lexer": "ipython2",
   "version": "2.7.6"
  }
 },
 "nbformat": 4,
 "nbformat_minor": 5
}
