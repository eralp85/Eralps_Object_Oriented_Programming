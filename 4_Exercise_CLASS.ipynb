{
 "cells": [
  {
   "cell_type": "markdown",
   "source": [
    "Create a \"Product\" class with the following attributes:\n",
    "\n",
    "product_name\n",
    "brand_name\n",
    "model_name\n",
    "price"
   ],
   "metadata": {
    "collapsed": false
   },
   "id": "2c11057ef976c929"
  },
  {
   "cell_type": "code",
   "execution_count": 1,
   "outputs": [],
   "source": [
    "class Product:\n",
    "    def __init__(self, product_name, brand_name, model_name, price):\n",
    "        self.product_name = product_name\n",
    "        self.brand_name = brand_name\n",
    "        self.model_name = model_name\n",
    "        self.price = price\n"
   ],
   "metadata": {
    "collapsed": false,
    "ExecuteTime": {
     "end_time": "2023-11-10T12:33:43.114824700Z",
     "start_time": "2023-11-10T12:33:43.108738500Z"
    }
   },
   "id": "1a7c908e758a693a"
  },
  {
   "cell_type": "code",
   "execution_count": 2,
   "outputs": [],
   "source": [
    "product1 = Product(\"iPhone 12\", \"Apple\", \"iPhone 12\", 799)\n",
    "product2 = Product(\"iPhone 12 Pro\", \"Apple\", \"iPhone 12 Pro\", 999)\n",
    "product3 = Product(\"iPhone 12 Pro Max\", \"Apple\", \"iPhone 12 Pro Max\", 1099)\n",
    "product4 = Product(\"iPhone 12 Mini\", \"Apple\", \"iPhone 12 Mini\", 699)\n",
    "product5 = Product(\"iPhone SE\", \"Apple\", \"iPhone SE\", 399)\n",
    "product6 = Product(\"iPhone 11\", \"Apple\", \"iPhone 11\", 599)"
   ],
   "metadata": {
    "collapsed": false,
    "ExecuteTime": {
     "end_time": "2023-11-10T12:34:15.106818400Z",
     "start_time": "2023-11-10T12:34:15.090359300Z"
    }
   },
   "id": "28abacdcb7d920a0"
  },
  {
   "cell_type": "code",
   "execution_count": 7,
   "outputs": [
    {
     "name": "stdout",
     "output_type": "stream",
     "text": [
      "iPhone 12 Apple iPhone 12 799\n",
      "iPhone 12 Pro Apple iPhone 12 Pro 999\n",
      "iPhone 12 Pro Max Apple iPhone 12 Pro Max 1099\n",
      "iPhone 12 Mini Apple iPhone 12 Mini 699\n",
      "iPhone SE Apple iPhone SE 399\n",
      "iPhone 11 Apple iPhone 11 599\n"
     ]
    }
   ],
   "source": [
    "products = [product1, product2, product3, product4, product5, product6]\n",
    "\n",
    "for product in products:\n",
    "    print(product.product_name, product.brand_name, product.model_name, product.price)"
   ],
   "metadata": {
    "collapsed": false,
    "ExecuteTime": {
     "end_time": "2023-11-10T12:35:35.679970800Z",
     "start_time": "2023-11-10T12:35:35.553760300Z"
    }
   },
   "id": "a603b98d1dc4e929"
  },
  {
   "cell_type": "code",
   "execution_count": 8,
   "outputs": [
    {
     "data": {
      "text/plain": "'iPhone 12'"
     },
     "execution_count": 8,
     "metadata": {},
     "output_type": "execute_result"
    }
   ],
   "source": [
    "product1.product_name"
   ],
   "metadata": {
    "collapsed": false,
    "ExecuteTime": {
     "end_time": "2023-11-10T12:37:00.323584700Z",
     "start_time": "2023-11-10T12:37:00.256672100Z"
    }
   },
   "id": "78df28f7cf9cd4cd"
  },
  {
   "cell_type": "code",
   "execution_count": null,
   "outputs": [],
   "source": [],
   "metadata": {
    "collapsed": false
   },
   "id": "1143c13e6eaea7f5"
  }
 ],
 "metadata": {
  "kernelspec": {
   "display_name": "Python 3",
   "language": "python",
   "name": "python3"
  },
  "language_info": {
   "codemirror_mode": {
    "name": "ipython",
    "version": 2
   },
   "file_extension": ".py",
   "mimetype": "text/x-python",
   "name": "python",
   "nbconvert_exporter": "python",
   "pygments_lexer": "ipython2",
   "version": "2.7.6"
  }
 },
 "nbformat": 4,
 "nbformat_minor": 5
}
