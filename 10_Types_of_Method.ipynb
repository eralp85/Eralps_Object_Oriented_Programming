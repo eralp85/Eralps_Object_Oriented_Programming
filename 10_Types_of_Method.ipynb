{
 "cells": [
  {
   "cell_type": "markdown",
   "source": [
    "# TYPES OF METHODS\n",
    "\n",
    "## Class Methods\n",
    "\n",
    "Method is like a function that we use in a class.\n",
    "\n",
    "Class method helps us create constructor.\n",
    "\n",
    "When we create a class we have a default syntax for creating constructor.\n",
    "\n",
    "Let's start by creating class. \n",
    "\n"
   ],
   "metadata": {
    "collapsed": false
   },
   "id": "cca0aafe8bfd390b"
  },
  {
   "cell_type": "code",
   "execution_count": 103,
   "outputs": [],
   "source": [
    "import re\n",
    "class Vegetables:\n",
    "    discount = 0.2\n",
    "    def __init__(self, name, price):\n",
    "        self.name = name\n",
    "        self.price = price\n",
    "        \n",
    "    @classmethod\n",
    "    def from_string(cls, string):\n",
    "        pattern = r'name is (\\w+) and price is ([\\d.]+)'\n",
    "        match = re.search(pattern, string)\n",
    "        if match:\n",
    "            name = match.group(1)\n",
    "            price = float(match.group(2))\n",
    "            return cls(name, int(price))\n",
    "        else:\n",
    "            raise ValueError(\"String does not match expected format\")\n",
    "        \n",
    "    def apply_discount(self):\n",
    "        discounted_price = self.price - (self.price * self.discount)\n",
    "        return discounted_price"
   ],
   "metadata": {
    "collapsed": false,
    "ExecuteTime": {
     "end_time": "2023-11-18T08:36:33.545181100Z",
     "start_time": "2023-11-18T08:36:33.095410300Z"
    }
   },
   "id": "6993594b98c3fbe8"
  },
  {
   "cell_type": "code",
   "execution_count": 104,
   "outputs": [],
   "source": [
    "green_1= Vegetables(\"Broccoli\", 2.99)"
   ],
   "metadata": {
    "collapsed": false,
    "ExecuteTime": {
     "end_time": "2023-11-18T08:36:33.555717100Z",
     "start_time": "2023-11-18T08:36:33.140381900Z"
    }
   },
   "id": "bad0d7c7d17c35c"
  },
  {
   "cell_type": "code",
   "execution_count": 105,
   "outputs": [
    {
     "data": {
      "text/plain": "{'name': 'Broccoli', 'price': 2.99}"
     },
     "execution_count": 105,
     "metadata": {},
     "output_type": "execute_result"
    }
   ],
   "source": [
    "green_1.__dict__"
   ],
   "metadata": {
    "collapsed": false,
    "ExecuteTime": {
     "end_time": "2023-11-18T08:36:33.591481900Z",
     "start_time": "2023-11-18T08:36:33.161836800Z"
    }
   },
   "id": "f27fa26c0c0a2050"
  },
  {
   "cell_type": "code",
   "execution_count": 106,
   "outputs": [
    {
     "data": {
      "text/plain": "2.3920000000000003"
     },
     "execution_count": 106,
     "metadata": {},
     "output_type": "execute_result"
    }
   ],
   "source": [
    "green_1.apply_discount()"
   ],
   "metadata": {
    "collapsed": false,
    "ExecuteTime": {
     "end_time": "2023-11-18T08:36:33.596484300Z",
     "start_time": "2023-11-18T08:36:33.208722300Z"
    }
   },
   "id": "2d82d2be2d3dcf2a"
  },
  {
   "cell_type": "code",
   "execution_count": 107,
   "outputs": [],
   "source": [
    "red_1 = Vegetables.from_string('My Vegetables name is RedPepper and price is 3.99')"
   ],
   "metadata": {
    "collapsed": false,
    "ExecuteTime": {
     "end_time": "2023-11-18T08:36:33.597486Z",
     "start_time": "2023-11-18T08:36:33.244185600Z"
    }
   },
   "id": "a556d48af1db5990"
  },
  {
   "cell_type": "code",
   "execution_count": 108,
   "outputs": [
    {
     "data": {
      "text/plain": "{'name': 'RedPepper', 'price': 3}"
     },
     "execution_count": 108,
     "metadata": {},
     "output_type": "execute_result"
    }
   ],
   "source": [
    "red_1.__dict__"
   ],
   "metadata": {
    "collapsed": false,
    "ExecuteTime": {
     "end_time": "2023-11-18T08:36:33.598490Z",
     "start_time": "2023-11-18T08:36:33.270581700Z"
    }
   },
   "id": "43f57c50c0484a85"
  },
  {
   "cell_type": "code",
   "execution_count": 109,
   "outputs": [],
   "source": [
    "red_1.discount = 0.1"
   ],
   "metadata": {
    "collapsed": false,
    "ExecuteTime": {
     "end_time": "2023-11-18T08:36:33.600719200Z",
     "start_time": "2023-11-18T08:36:33.288735100Z"
    }
   },
   "id": "75469879930482d6"
  },
  {
   "cell_type": "code",
   "execution_count": 110,
   "outputs": [
    {
     "data": {
      "text/plain": "{'name': 'RedPepper', 'price': 3, 'discount': 0.1}"
     },
     "execution_count": 110,
     "metadata": {},
     "output_type": "execute_result"
    }
   ],
   "source": [
    "red_1.__dict__"
   ],
   "metadata": {
    "collapsed": false,
    "ExecuteTime": {
     "end_time": "2023-11-18T08:36:33.600719200Z",
     "start_time": "2023-11-18T08:36:33.307447400Z"
    }
   },
   "id": "ab0ed68ed37a0502"
  },
  {
   "cell_type": "markdown",
   "source": [
    "## Static Methods\n",
    "\n",
    "Static methods are methods that we can use without creating an instance of the class.\n",
    "\n",
    "We can use static methods to create utility functions.\n",
    "\n",
    "Syntax for creating static methods is similar to class methods.\n",
    "\n",
    "Let's create a static method to check if a string is a number or not.\n",
    "\n",
    "What is the difference between static and class methods?\n",
    "\n",
    "Static methods don't have access to class attributes. This means that we can't use static methods to create constructors.\n",
    "\n",
    "Class methods have access to class attributes. This means that we can use class methods to create constructors.\n",
    "\n",
    "Memory usage is different. Static methods use less memory than class methods. The reason for this is that class methods have access to class attributes. \n",
    "\n",
    "This means that class methods have to store class attributes in memory. \n",
    "\n",
    "Static methods don't have access to class attributes. This means that static methods don't have to store class attributes in memory."
   ],
   "metadata": {
    "collapsed": false
   },
   "id": "612b1140043ae5d2"
  },
  {
   "cell_type": "code",
   "execution_count": 111,
   "outputs": [],
   "source": [
    "class Cigarettes:\n",
    "    def __init__(self, name, price):\n",
    "        self.name = name\n",
    "        self.price = price\n",
    "        \n",
    "    @staticmethod\n",
    "    def printstatement():\n",
    "        print(\"This is a static method\")"
   ],
   "metadata": {
    "collapsed": false,
    "ExecuteTime": {
     "end_time": "2023-11-18T08:36:33.601725400Z",
     "start_time": "2023-11-18T08:36:33.335751700Z"
    }
   },
   "id": "1c4fe345fda5a3ad"
  },
  {
   "cell_type": "code",
   "execution_count": 112,
   "outputs": [],
   "source": [
    "cig_1 = Cigarettes(\"Marlboro\", 10.99)"
   ],
   "metadata": {
    "collapsed": false,
    "ExecuteTime": {
     "end_time": "2023-11-18T08:36:33.601725400Z",
     "start_time": "2023-11-18T08:36:33.358695Z"
    }
   },
   "id": "45e286b9392b4651"
  },
  {
   "cell_type": "code",
   "execution_count": 113,
   "outputs": [
    {
     "data": {
      "text/plain": "{'name': 'Marlboro', 'price': 10.99}"
     },
     "execution_count": 113,
     "metadata": {},
     "output_type": "execute_result"
    }
   ],
   "source": [
    "cig_1.__dict__"
   ],
   "metadata": {
    "collapsed": false,
    "ExecuteTime": {
     "end_time": "2023-11-18T08:36:33.601725400Z",
     "start_time": "2023-11-18T08:36:33.392313300Z"
    }
   },
   "id": "bdba8503b2a918c6"
  },
  {
   "cell_type": "code",
   "execution_count": 114,
   "outputs": [
    {
     "name": "stdout",
     "output_type": "stream",
     "text": [
      "This is a static method\n"
     ]
    }
   ],
   "source": [
    "cig_1.printstatement()"
   ],
   "metadata": {
    "collapsed": false,
    "ExecuteTime": {
     "end_time": "2023-11-18T08:36:41.498356100Z",
     "start_time": "2023-11-18T08:36:41.443905800Z"
    }
   },
   "id": "9259c85517f82864"
  },
  {
   "cell_type": "code",
   "execution_count": null,
   "outputs": [],
   "source": [],
   "metadata": {
    "collapsed": false
   },
   "id": "92d18e4556ff9430"
  }
 ],
 "metadata": {
  "kernelspec": {
   "display_name": "Python 3",
   "language": "python",
   "name": "python3"
  },
  "language_info": {
   "codemirror_mode": {
    "name": "ipython",
    "version": 2
   },
   "file_extension": ".py",
   "mimetype": "text/x-python",
   "name": "python",
   "nbconvert_exporter": "python",
   "pygments_lexer": "ipython2",
   "version": "2.7.6"
  }
 },
 "nbformat": 4,
 "nbformat_minor": 5
}
