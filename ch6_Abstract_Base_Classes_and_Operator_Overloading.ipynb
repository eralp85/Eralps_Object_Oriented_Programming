{
 "cells": [
  {
   "cell_type": "markdown",
   "source": [
    "# Abstract Base Classes and Operator Overloading"
   ],
   "metadata": {
    "collapsed": false
   },
   "id": "1c4a4d1d97339a18"
  },
  {
   "cell_type": "markdown",
   "source": [
    "We often need to make a distinction between concrete classes that have a compete set of attributes and methods, and an abstract class that is missing some details.\n",
    "\n",
    "This parallels the philosophical idea of abstraction as a way to summarize complexities.\n",
    "\n",
    "We might say that a sailboat and an airplane have a common, abstract relationship of being vehicles, but the details of how they move are distinct.\n",
    "\n",
    "We have two approaches to defining similar things:\n",
    "\n",
    "**Duck Typing:**\n",
    "\n",
    "When two class definitions have the same attributes and methods, then instances of the two classes have the same protocol and can be used interchangeably.\n",
    "\n",
    "We often say, \"when I see a bird that walks like a duck and swims like a duck and quacks like a duck, I call that bird a duck.\"\n",
    "\n",
    "**Inheritance**\n",
    "\n",
    "When two class definitions have common aspects, a subclass can share common features of a superclass.\n",
    "\n",
    "The implementation details of the two classes should be interchangeable when we use the common features defined by superclass.\n",
    "\n",
    "  \n",
    "\n"
   ],
   "metadata": {
    "collapsed": false
   },
   "id": "72df584a45c061c2"
  },
  {
   "cell_type": "markdown",
   "source": [
    "We can take inheritance one step further.\n",
    "\n",
    "We can have a superclass definitions that are abstract: this means they are not directly usable by themselves, but can be used through inheritance to create concrete classes.\n",
    "\n",
    "We have to acknowledge a terminology problem around the term base and superclass.\n",
    "\n",
    "This is confusing because they are synonyms. There are two parallel metaphors here and we flip back and forth between them.\n",
    "\n"
   ],
   "metadata": {
    "collapsed": false
   },
   "id": "26e941cd3d8ca9de"
  },
  {
   "cell_type": "markdown",
   "source": [
    "![Abstract](./abstract.png)\n"
   ],
   "metadata": {
    "collapsed": false
   },
   "id": "1fcadcbeb1c2cfd6"
  },
  {
   "cell_type": "markdown",
   "source": [
    "Our base class, named BaseClass, has a special class, abc.ABC, as a parent class.\n",
    "\n",
    "This provides some special metaclass features that help make sure the concrete classes have replaced the abstractions.\n",
    "\n",
    "The diagram shows an abstract method, `a_method`, which does not have a defined body.\n",
    "\n",
    "A subclass must provide this."
   ],
   "metadata": {
    "collapsed": false
   },
   "id": "3465f50d2a954f85"
  },
  {
   "cell_type": "markdown",
   "source": [
    "# CREATING AN ABSTRACT BASE CLASS"
   ],
   "metadata": {
    "collapsed": false
   },
   "id": "d5fc1ca01e6f823"
  },
  {
   "cell_type": "code",
   "execution_count": null,
   "outputs": [],
   "source": [],
   "metadata": {
    "collapsed": false
   },
   "id": "c73c53cccf29cb5d"
  }
 ],
 "metadata": {
  "kernelspec": {
   "display_name": "Python 3",
   "language": "python",
   "name": "python3"
  },
  "language_info": {
   "codemirror_mode": {
    "name": "ipython",
    "version": 2
   },
   "file_extension": ".py",
   "mimetype": "text/x-python",
   "name": "python",
   "nbconvert_exporter": "python",
   "pygments_lexer": "ipython2",
   "version": "2.7.6"
  }
 },
 "nbformat": 4,
 "nbformat_minor": 5
}
