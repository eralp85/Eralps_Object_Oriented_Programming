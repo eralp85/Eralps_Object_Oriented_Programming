{
 "cells": [
  {
   "cell_type": "markdown",
   "source": [
    "# Abstract Base Classes and Operator Overloading"
   ],
   "metadata": {
    "collapsed": false
   },
   "id": "1c4a4d1d97339a18"
  },
  {
   "cell_type": "markdown",
   "source": [
    "We often need to make a distinction between concrete classes that have a compete set of attributes and methods, and an abstract class that is missing some details.\n",
    "\n",
    "This parallels the philosophical idea of abstraction as a way to summarize complexities.\n",
    "\n",
    "We might say that a sailboat and an airplane have a common, abstract relationship of being vehicles, but the details of how they move are distinct.\n",
    "\n",
    "We have two approaches to defining similar things:\n",
    "\n",
    "**Duck Typing:**\n",
    "\n",
    "When two class definitions have the same attributes and methods, then instances of the two classes have the same protocol and can be used interchangeably.\n",
    "\n",
    "We often say, \"when I see a bird that walks like a duck and swims like a duck and quacks like a duck, I call that bird a duck.\"\n",
    "\n",
    "**Inheritance**\n",
    "\n",
    "When two class definitions have common aspects, a subclass can share common features of a superclass.\n",
    "\n",
    "The implementation details of the two classes should be interchangeable when we use the common features defined by superclass.\n",
    "\n",
    "  \n",
    "\n"
   ],
   "metadata": {
    "collapsed": false
   },
   "id": "72df584a45c061c2"
  },
  {
   "cell_type": "markdown",
   "source": [
    "We can take inheritance one step further.\n",
    "\n",
    "We can have a superclass definitions that are abstract: this means they are not directly usable by themselves, but can be used through inheritance to create concrete classes.\n",
    "\n",
    "We have to acknowledge a terminology problem around the term base and superclass.\n",
    "\n",
    "This is confusing because they are synonyms. There are two parallel metaphors here and we flip back and forth between them.\n",
    "\n"
   ],
   "metadata": {
    "collapsed": false
   },
   "id": "26e941cd3d8ca9de"
  },
  {
   "cell_type": "markdown",
   "source": [
    "![Abstract](./abstract.png)\n"
   ],
   "metadata": {
    "collapsed": false
   },
   "id": "1fcadcbeb1c2cfd6"
  },
  {
   "cell_type": "markdown",
   "source": [
    "Our base class, named BaseClass, has a special class, abc.ABC, as a parent class.\n",
    "\n",
    "This provides some special metaclass features that help make sure the concrete classes have replaced the abstractions.\n",
    "\n",
    "The diagram shows an abstract method, `a_method`, which does not have a defined body.\n",
    "\n",
    "A subclass must provide this."
   ],
   "metadata": {
    "collapsed": false
   },
   "id": "3465f50d2a954f85"
  },
  {
   "cell_type": "markdown",
   "source": [
    "# CREATING AN ABSTRACT BASE CLASS"
   ],
   "metadata": {
    "collapsed": false
   },
   "id": "d5fc1ca01e6f823"
  },
  {
   "cell_type": "markdown",
   "source": [
    "Imagine we are creating a media player wtih third-party plugins.\n",
    "\n",
    "It is advisable to create an abstract base class (ABC) in this case to document what API the third-party plugins should provide.\n",
    "\n",
    "The greneral design is to have a common feature, like `play()`, that applies to a number of classes.\n",
    "\n",
    "We do not want to pick some particular media format to use as a superclass; it seems somehow wrong to claim that some format is foundational and all others are derived from it.\n",
    "\n",
    "We would prefer to define the media player as an abstraction.\n",
    "\n",
    "Each unique kind of media file format can provide a concrete inmplementation of the abstraction.\n",
    "\n",
    "The `àbc` module provides the tools to do this.\n"
   ],
   "metadata": {
    "collapsed": false
   },
   "id": "7d5f709b112bec6b"
  },
  {
   "cell_type": "code",
   "execution_count": 4,
   "outputs": [],
   "source": [
    "import abc\n",
    "\n",
    "class MediaLoader(abc.ABC):\n",
    "    \n",
    "    @abc.abstractmethod\n",
    "    def play(self) -> None:\n",
    "        ...\n",
    "    @property\n",
    "    @abc.abstractmethod\n",
    "    def ext(self) -> str:\n",
    "        ..."
   ],
   "metadata": {
    "collapsed": false,
    "ExecuteTime": {
     "end_time": "2023-12-24T06:57:12.532188Z",
     "start_time": "2023-12-24T06:57:12.485313500Z"
    }
   },
   "id": "9bd9695afb9200b2"
  },
  {
   "cell_type": "markdown",
   "source": [
    "`abc.ABC` class introduces a *metaclass* - a class used to build the concrete class definitions.\n",
    "\n",
    "Python's default metaclass is `type`.\n",
    "\n",
    "The default metaclass does not check for abstract methods when we try to create an instance.\n",
    "\n",
    "The `abc.ABC` class includes an extension to the `type` metaclass to prevent us from creating instances of classes that are not fully defined.\n",
    "\n",
    "Python uses decorators widely to make modifications to genral nature of the method or function.\n",
    "\n",
    "In this case, it provides additional details used by the metaclass that was incldued by the `ABC` class.\n",
    "\n",
    "Becuase we marked a method or property as abstract, any subclass of this class must implement that method or property in order to be useful, concrete implementation.\n",
    "\n",
    "We've used the `@property` decorator on the `ext()` method, also. \n",
    "\n",
    "Our intent for the ext property is to provide a simple class-level variable with a string literal value. I\n",
    "\n",
    "t's helpful to describe this as a `@property` to allow the implementation to choose between a simple variable and a method that implements the property. \n",
    "\n",
    "A simple variable in the concrete class will meet the expectations of the abstract class at runtime and will also help mypy to check the code for consistent use of types. \n",
    "\n",
    "A method could be used as an alternative to a simple attribute variable in case some more sophisticated computation is required.\n",
    "\n",
    "One of the consequences of marking these properties is the class now has a new special attribute, `__abstractmethods__`. \n",
    "\n",
    "This attribute lists all of the names that need to be filled in to create a concrete class:"
   ],
   "metadata": {
    "collapsed": false
   },
   "id": "6250a2975e9f6a9d"
  },
  {
   "cell_type": "code",
   "execution_count": 5,
   "outputs": [
    {
     "data": {
      "text/plain": "frozenset({'ext', 'play'})"
     },
     "execution_count": 5,
     "metadata": {},
     "output_type": "execute_result"
    }
   ],
   "source": [
    "MediaLoader.__abstractmethods__"
   ],
   "metadata": {
    "collapsed": false,
    "ExecuteTime": {
     "end_time": "2023-12-24T06:57:27.332507400Z",
     "start_time": "2023-12-24T06:57:27.285621500Z"
    }
   },
   "id": "391c886c3d7107ad"
  },
  {
   "cell_type": "markdown",
   "source": [
    "See what happens if you implement a subclass? \n",
    "\n",
    "We'll look at an example that doesn't supply concrete implementations for the abstractions. \n",
    "\n",
    "We'll also look at an example that does supply the required attribute:"
   ],
   "metadata": {
    "collapsed": false
   },
   "id": "65d8eebe02e73657"
  },
  {
   "cell_type": "code",
   "execution_count": 6,
   "outputs": [],
   "source": [
    "class Wav(MediaLoader):\n",
    "    pass"
   ],
   "metadata": {
    "collapsed": false,
    "ExecuteTime": {
     "end_time": "2023-12-24T06:59:21.856999400Z",
     "start_time": "2023-12-24T06:59:21.810153500Z"
    }
   },
   "id": "466ad5614e723fb5"
  },
  {
   "cell_type": "code",
   "execution_count": 7,
   "outputs": [
    {
     "ename": "TypeError",
     "evalue": "Can't instantiate abstract class Wav with abstract methods ext, play",
     "output_type": "error",
     "traceback": [
      "\u001B[1;31m---------------------------------------------------------------------------\u001B[0m",
      "\u001B[1;31mTypeError\u001B[0m                                 Traceback (most recent call last)",
      "\u001B[1;32m~\\AppData\\Local\\Temp\\ipykernel_14888\\1570709157.py\u001B[0m in \u001B[0;36m<module>\u001B[1;34m\u001B[0m\n\u001B[1;32m----> 1\u001B[1;33m \u001B[0mx\u001B[0m \u001B[1;33m=\u001B[0m \u001B[0mWav\u001B[0m\u001B[1;33m(\u001B[0m\u001B[1;33m)\u001B[0m\u001B[1;33m\u001B[0m\u001B[1;33m\u001B[0m\u001B[0m\n\u001B[0m",
      "\u001B[1;31mTypeError\u001B[0m: Can't instantiate abstract class Wav with abstract methods ext, play"
     ]
    }
   ],
   "source": [
    "x = Wav()"
   ],
   "metadata": {
    "collapsed": false,
    "ExecuteTime": {
     "end_time": "2023-12-24T06:59:27.017038300Z",
     "start_time": "2023-12-24T06:59:26.938847800Z"
    }
   },
   "id": "3ce9b754dde06a03"
  },
  {
   "cell_type": "code",
   "execution_count": 8,
   "outputs": [],
   "source": [
    "class Ogg(MediaLoader):\n",
    "    ext = '.ogg'\n",
    "    \n",
    "    def play(self):\n",
    "        pass\n",
    "    "
   ],
   "metadata": {
    "collapsed": false,
    "ExecuteTime": {
     "end_time": "2023-12-24T06:59:44.871481900Z",
     "start_time": "2023-12-24T06:59:44.824545Z"
    }
   },
   "id": "5b3349a383990eea"
  },
  {
   "cell_type": "code",
   "execution_count": 9,
   "outputs": [],
   "source": [
    "o = Ogg()"
   ],
   "metadata": {
    "collapsed": false,
    "ExecuteTime": {
     "end_time": "2023-12-24T06:59:52.023819500Z",
     "start_time": "2023-12-24T06:59:51.992570600Z"
    }
   },
   "id": "a7bcdc6162800ff0"
  },
  {
   "cell_type": "markdown",
   "source": [
    "The definition of a `Wav` subclass fails to implement either of the abstract attributes.\n",
    "\n",
    "When we try to create an instance of the `Wav` class, an exception is raised.\n",
    "\n",
    "Because this subclass of `MediaLoader` is still abstract, it is not possible to instantiate the class.\n",
    "\n",
    "The class is still a potentially usefull abstract class, but you would have to subclass it and fill in the abstract placeholders before it can actually do anything.\n",
    "\n",
    "The `Ogg` subclass supplies both attributes, so it can instantiate cleanly.\n",
    "\n",
    "It is true, the body of the `play()` method does not do very much.\n",
    "\n",
    "What is important is that all of the placeholders were filled, making `Ogg` a concrete subclass of the abstract ``MediaLoader` class.\n",
    "\n",
    " "
   ],
   "metadata": {
    "collapsed": false
   },
   "id": "d128dd6b578fb201"
  },
  {
   "cell_type": "markdown",
   "source": [
    "Note that there is a subtle issue with using a class-level variable for the preferred media file extension.\n",
    "\n",
    "Because the `ext` attribute is a varibal, it can be updated.\n",
    "\n",
    "Using `o.ext = '.xyz'` is not expressly prohibited.\n",
    "\n",
    "Python does not have an easy, obvious way to create read-only attributes.\n",
    "\n",
    "We often rely on documentation to explain the consequences of changing the value of the `ext` attribute."
   ],
   "metadata": {
    "collapsed": false
   },
   "id": "e92ef5195437b71b"
  },
  {
   "cell_type": "markdown",
   "source": [
    "This has clear advantages when crating a complex application. The use of abstraction like this makes it very easy for mypy to conclude that a class does (does not) have the required methods and attributes.\n",
    "\n",
    "This also mandates a certain amount of fussy importing to be sure that the module has access to the necessary abstract base classes for an application.\n",
    "\n",
    "One of the advantages of duck typing is the ability to avoid complex imports and still create a useful class that can act polymorphic with peer classes.\n",
    "\n",
    "This advantage is often outweighed by the ability of the `abc.ABC` class definition to support type checking and documentation.\n",
    "\n",
    "the `abc.ABC` class also provides far more useful error messages when something is wrong.\n",
    "\n",
    "One important use cas for the ABCs is the `collections` module.\n",
    "\n",
    "This module defines the built-in generic collections using a sophisticated set of base classes and mixins."
   ],
   "metadata": {
    "collapsed": false
   },
   "id": "610fb98959275793"
  },
  {
   "cell_type": "markdown",
   "source": [
    "# ABCs of Collections"
   ],
   "metadata": {
    "collapsed": false
   },
   "id": "8a5e61e8579862ee"
  },
  {
   "cell_type": "markdown",
   "source": [
    "A really comprehensive use of the abstract base classes in the Python standard library lives in the `collections` module.\n",
    "\n",
    "The collections we use are extensions of the `Collection` abstract class.\n",
    "\n",
    "`Collection` is an extension of an even more fundamental abstraction, `Container`.\n",
    "\n",
    "Since the foundation is the `Container` class, let's inspect it in interpreter to see what method this class requires:\n"
   ],
   "metadata": {
    "collapsed": false
   },
   "id": "feaecfad9d104714"
  },
  {
   "cell_type": "markdown",
   "source": [
    "> import collections.abc as Container\n",
    "> `Container.__abstractmethods__`\n",
    "\n",
    ">> `frozenset({'__contains__'})`\n"
   ],
   "metadata": {
    "collapsed": false
   },
   "id": "57949cf7b60a277"
  },
  {
   "cell_type": "markdown",
   "source": [
    "So, the Container class has exactly one abstract method that needs to be implemented, `__contains__()`. \n",
    "\n",
    "You can issue `help(Container.__contains__)` to see what the function signature should look like:"
   ],
   "metadata": {
    "collapsed": false
   },
   "id": "aa18977c025fd83c"
  },
  {
   "cell_type": "markdown",
   "source": [
    "`help(Container.__contains__)`\n",
    "Help on function `__contains__` in module collections.abc:\n",
    "`__contains__(self, x)`\n"
   ],
   "metadata": {
    "collapsed": false
   },
   "id": "6e8e75dde311d3ea"
  },
  {
   "cell_type": "markdown",
   "source": [
    "We can see that `__contains__()` needs to take a single argument. \n",
    "\n",
    "Unfortunately, the help file doesn't tell us much about what that argument should be, but it's pretty obvious from the name of the ABC and the single method it implements that this argument is the value the user is checking to see whether the container holds.\n",
    "\n",
    "This `__contains__()` special method implements the Python in operator. \n",
    "\n",
    "This method is implemented by set, list, str, tuple, and dict. \n",
    "\n",
    "However, we can also define a silly container that tells us whether a given value is in the set of odd integers:"
   ],
   "metadata": {
    "collapsed": false
   },
   "id": "34d89fadeb29c67"
  },
  {
   "cell_type": "code",
   "execution_count": 21,
   "outputs": [],
   "source": [
    "from collections.abc import Container\n",
    "\n",
    "class OddIntegers:\n",
    "    \n",
    "    def __contains__(self, x: int) -> bool:\n",
    "        return x % 2 != 0"
   ],
   "metadata": {
    "collapsed": false,
    "ExecuteTime": {
     "end_time": "2023-12-24T09:11:03.525581500Z",
     "start_time": "2023-12-24T09:11:03.447457400Z"
    }
   },
   "id": "8d09c1afce63fd76"
  },
  {
   "cell_type": "markdown",
   "source": [
    "We've used the modulo test for oddity. If the remainder of x divided by two is zero, then x was even, otherwise x was odd.\n",
    "\n",
    "Here's the interesting part: we can instantiate an `OddContainer` object and determine that, even though we did not extend `Container`, the class behaves as a `Container` object:"
   ],
   "metadata": {
    "collapsed": false
   },
   "id": "dcaeec5a43a7dd3"
  },
  {
   "cell_type": "code",
   "execution_count": 22,
   "outputs": [
    {
     "data": {
      "text/plain": "True"
     },
     "execution_count": 22,
     "metadata": {},
     "output_type": "execute_result"
    }
   ],
   "source": [
    "odd = OddIntegers()\n",
    "isinstance(odd, Container)"
   ],
   "metadata": {
    "collapsed": false,
    "ExecuteTime": {
     "end_time": "2023-12-24T09:12:31.198900500Z",
     "start_time": "2023-12-24T09:12:31.089490200Z"
    }
   },
   "id": "16812b6982f5f4b"
  },
  {
   "cell_type": "code",
   "execution_count": 23,
   "outputs": [
    {
     "data": {
      "text/plain": "True"
     },
     "execution_count": 23,
     "metadata": {},
     "output_type": "execute_result"
    }
   ],
   "source": [
    "issubclass(OddIntegers, Container)"
   ],
   "metadata": {
    "collapsed": false,
    "ExecuteTime": {
     "end_time": "2023-12-24T09:12:38.687962800Z",
     "start_time": "2023-12-24T09:12:38.625414200Z"
    }
   },
   "id": "d12ac021bea387db"
  },
  {
   "cell_type": "markdown",
   "source": [
    "And that is why duck typing is way more awesome than classical polymorphism. \n",
    "\n",
    "We can create is-a relationships without the overhead of writing the code to set up inheritance (or worse, multiple inheritance).\n",
    "\n",
    "One cool thing about the Container ABC is that any class that implements it gets to use the `in` keyword for free. \n",
    "\n",
    "In fact, `in` is just syntax sugar that delegates to the `__contains__()` method. \n",
    "\n",
    "Any class that has a `__contains__()` method is a Container and can therefore be queried by the `in` keyword. For example:"
   ],
   "metadata": {
    "collapsed": false
   },
   "id": "587c80f40b1f3fee"
  },
  {
   "cell_type": "code",
   "execution_count": 24,
   "outputs": [
    {
     "data": {
      "text/plain": "True"
     },
     "execution_count": 24,
     "metadata": {},
     "output_type": "execute_result"
    }
   ],
   "source": [
    "odd = OddIntegers()\n",
    "\n",
    "1 in odd"
   ],
   "metadata": {
    "collapsed": false,
    "ExecuteTime": {
     "end_time": "2023-12-24T09:14:20.024600200Z",
     "start_time": "2023-12-24T09:14:19.977702400Z"
    }
   },
   "id": "f5143a81721a8adc"
  },
  {
   "cell_type": "code",
   "execution_count": 25,
   "outputs": [
    {
     "data": {
      "text/plain": "False"
     },
     "execution_count": 25,
     "metadata": {},
     "output_type": "execute_result"
    }
   ],
   "source": [
    "2 in odd\n"
   ],
   "metadata": {
    "collapsed": false,
    "ExecuteTime": {
     "end_time": "2023-12-24T09:14:22.364486100Z",
     "start_time": "2023-12-24T09:14:22.255119Z"
    }
   },
   "id": "389aa00b69e07827"
  },
  {
   "cell_type": "code",
   "execution_count": 26,
   "outputs": [
    {
     "data": {
      "text/plain": "True"
     },
     "execution_count": 26,
     "metadata": {},
     "output_type": "execute_result"
    }
   ],
   "source": [
    "3 in odd"
   ],
   "metadata": {
    "collapsed": false,
    "ExecuteTime": {
     "end_time": "2023-12-24T09:14:24.874925600Z",
     "start_time": "2023-12-24T09:14:24.812352400Z"
    }
   },
   "id": "79803a3bd492a4a5"
  },
  {
   "cell_type": "code",
   "execution_count": 27,
   "outputs": [
    {
     "data": {
      "text/plain": "False"
     },
     "execution_count": 27,
     "metadata": {},
     "output_type": "execute_result"
    }
   ],
   "source": [
    "4 in odd"
   ],
   "metadata": {
    "collapsed": false,
    "ExecuteTime": {
     "end_time": "2023-12-24T09:14:27.368121800Z",
     "start_time": "2023-12-24T09:14:27.305527200Z"
    }
   },
   "id": "f103649e855d159b"
  },
  {
   "cell_type": "markdown",
   "source": [
    "The real value here is the ability to create new kinds of collections that are completely compatible with Python's built-in generic collections. \n",
    "\n",
    "We could, for example, create a dictionary that uses a binary tree structure to retain keys instead of a hashed lookup. \n",
    "\n",
    "We'd start with the `Mapping` abstract base class definitions, but change the algorithms that support methods like `__getitem__()`, `__setitem__()`, and `__delitem__()`.\n",
    "\n",
    "Python's duck typing works (in part) via the `isinstance()` and `issubclass()` built-in functions. \n",
    "\n",
    "These functions are used to determine class relationships. \n",
    "\n",
    "They rely on two internal methods that classes can provide: `__instancecheck__()` and `__subclasscheck__()`. \n",
    "\n",
    "An ABC class can provide a `__subclasshook__()` method, which is used by the `__subclasscheck__`()method to assert that a given class is a proper subclass of the abstract base class. \n",
    "\n",
    "The details are a bit beyond this book; consider this a signpost pointing out the path that needs to be followed when creating novel classes that need to live side by side with built-in classes."
   ],
   "metadata": {
    "collapsed": false
   },
   "id": "f9744e2fe2962f42"
  },
  {
   "cell_type": "markdown",
   "source": [
    "# ABSTRACT BASE CLASSES and TYPE HINTS"
   ],
   "metadata": {
    "collapsed": false
   },
   "id": "fc698ec80ec97cc4"
  },
  {
   "cell_type": "markdown",
   "source": [
    "The concept of an abstract base class is closely tied to the idea of a generic class.\n",
    "\n",
    "An abstract base class is often generic with respect to some detail that is supplied by a concrete implementation.\n",
    "\n",
    "Most of Python's generic classes – classes like list, dict, and set – can be used as type hints, and these hints can be parameterized to narrow the domain. \n",
    "\n",
    "There's a world of difference between `list[Any]` and `list[int]`; the value `[\"a\", 42, 3.14]` is valid for the first type hint, but invalid for the other. \n",
    "\n",
    "This concept of parameterizing the generic type to make it more specific often applies to abstract classes, also.\n",
    "\n",
    "For this to work, you will often need to incorporate `from __future__ import annotations` at the top of your module.\n",
    "\n",
    "This is a new feature in Python 3.7 that allows you to use forward references in type hints.\n",
    "\n",
    "This modifies the behaviour of Python to permit function and variable annotations to parameterize these standard collections.\n",
    "\n",
    "**NOTE**\n",
    "\n",
    "**Generic** classes and abstract classes are not the same thing. The two concepts overlap but are distinct.\n",
    "\n",
    "Generic classes have an implicit relationship with `Any`. This often needs to be narrowed using type parameters, like `list[int]`.\n",
    "\n",
    "The list class is concrete, and when we want to extend it, we will need to plug in a ccalss name to replace the `Any` type.\n",
    "\n",
    "The Python interpreter does not use generic class hints in any way, they are only ckeced by static analysis tools such as mypy.\n",
    "\n",
    "**Abstract** classes have placeholders instead of one or more methods. \n",
    "\n",
    "These placeholder methods require a design decision that supplies a concrete implementation.\n",
    "\n",
    "These classes are not completely defined. When we extend it, we will need to provide a concrete method implementation.\n",
    "\n",
    "If we do not provide the missing methods, the interpreter will raise a runtime exception when we try to create an instance of an abstract class."
   ],
   "metadata": {
    "collapsed": false
   },
   "id": "8a4d6b533e6ab19f"
  },
  {
   "cell_type": "markdown",
   "source": [
    "Some classes can be both abstract and generic. As noted above, the type parameter helps mypy understand our intention but is not required. \n",
    "\n",
    "The concrete implementation is required.\n",
    "\n",
    "Another concept that is adjacent to abstract classes is the **protocol**.\n",
    "\n",
    "This is the essence of how duck typing works: when two classes have the same batch methods, they both adhere to a common protocol.\n",
    "\n",
    "Any time we see classes with similar methods, there is a common protocol; this may be formalized with a type hint."
   ],
   "metadata": {
    "collapsed": false
   },
   "id": "1db486b8afc0b0be"
  },
  {
   "cell_type": "markdown",
   "source": [
    "Consider objects that can be hashed.\n",
    "\n",
    "Immutable classes implement the `__hash__()` method, including strings, integers and tuples.\n",
    "\n",
    "Generally, mutable classes do not implement the `__hash__()` method, this includes lists, sets, and dictionaries.\n",
    "\n",
    "If we attempt to write a type hint like `dict[list[int], list[str]]`, mypy will complain that the `list[int]` cannot be used as a key.\n",
    "\n",
    "It cannot be a key because the given type, `list[int]`, does not implement the `Hashable` protocol.\n",
    "\n",
    "At runtime, the attempt to create a dictionary item with a mutable key will fail for the same reason: a list does not implement the required method.\n",
    "\n"
   ],
   "metadata": {
    "collapsed": false
   },
   "id": "9798fb74a15ad6bb"
  },
  {
   "cell_type": "markdown",
   "source": [
    "# THE collections.abc MODULE"
   ],
   "metadata": {
    "collapsed": false
   },
   "id": "cb5b9df871f9792f"
  },
  {
   "cell_type": "markdown",
   "source": [
    "One porminent use of abstract bassse classes is in the `collections.abc` module.\n",
    "\n",
    "This module provides a bstract base calss definitions for Python's built in collections.\n",
    "\n",
    "This is how `list`, `set` and `dict` (and a few other) can be built from individual component definitions.\n",
    "\n",
    "We can use the definitions to build our own unique data structures in ways that overlap with built-in structures.\n",
    "\n",
    "We can also use the definitions when we want to write a type hint for a specific feature of a data structure, without being overly specific about alternative implementations that might also be acceptable.\n",
    "\n",
    "The definitions in the `collections.abc` do not include `list`, `set` and `dict`.\n",
    "\n",
    "Instead, the module provides definitions like `MutableSequence`, `MutableSet`, and `MutableMapping`, which are abstract base classes for which `list`, `set` and `dict` classes we use are the concrete implementations.\n",
    "\n",
    "Let's follow the various aspects of the definition of `Mapping` bact to their origins.\n",
    "\n",
    "Python's built-in `dict` class is a concrete implementation of the `MutableMapping` abstract base class.\n",
    "\n",
    "The abstraction comes from the idea of mapping a key to a value.\n",
    "\n",
    "The `MutableMapping` class depends on the `Mapping` definition, an immutable, frozed dictionary, potentially optimized for lookups.\n",
    "\n",
    "Let's follow the relationships among these abstractions.\n",
    "\n",
    "Here's a diagram that shows the relationships among the various classes:"
   ],
   "metadata": {
    "collapsed": false
   },
   "id": "f251746750614f5e"
  },
  {
   "cell_type": "markdown",
   "source": [
    "![MutableMapping](./MutableMapping.png)"
   ],
   "metadata": {
    "collapsed": false
   },
   "id": "7fd6f159079c4b37"
  },
  {
   "cell_type": "markdown",
   "source": [
    "Starting in the middle, we can see the `Mapping` definition depends on the `Collectionclass` definition. \n",
    "\n",
    "The definition of the Collection abstract class, in turn, depends on three other abstract base classes: `Sized`, `Iterable`, and `Container`. \n",
    "\n",
    "Each of these abstractions demands specific methods.\n",
    "\n",
    "If we're going to create a lookup-only dictionary – a concrete `Mapping` implementation – we'll need to implement at least the following methods:\n",
    "\n",
    "The `Sized` abstraction requires an implementation for the `__len__()` method. \n",
    "\n",
    "This lets an instance of our class respond to the `len()` function with a useful answer.\n",
    "\n",
    "\n",
    "The `Iterable` abstraction requires an implementation for the `__iter__()` method.\n",
    " \n",
    "This lets an object work with the for statement and the `iter()` function. \n",
    "\n",
    "The `Container` abstraction requires an implementation for the `__contains__() `method. \n",
    "\n",
    "This permits the in and not in operators to work.\n",
    "\n",
    "\n",
    "The `Collection` abstraction combines Sized, Iterable, and Container without introducing additional abstract methods.\n",
    "\n",
    "The `Mapping` abstraction, based on Collection, requires, among other things, `__getitem__()`, `__iter__()`, and` __len__()`. \n",
    "\n",
    "It has a default definition for `__contains__()`, based on whatever `__iter__()` method we provide. \n",
    "\n",
    "The Mapping definition will provide a few other methods, also.\n",
    "\n",
    "This list of methods comes directly from the abstract relationships in the base classes. \n",
    "\n",
    "By building our new dictionary-like immutable class from these abstractions, we can be sure that our class will collaborate seamlessly with other Python generic classes."
   ],
   "metadata": {
    "collapsed": false
   },
   "id": "890ffa28b23e514d"
  }
 ],
 "metadata": {
  "kernelspec": {
   "display_name": "Python 3",
   "language": "python",
   "name": "python3"
  },
  "language_info": {
   "codemirror_mode": {
    "name": "ipython",
    "version": 2
   },
   "file_extension": ".py",
   "mimetype": "text/x-python",
   "name": "python",
   "nbconvert_exporter": "python",
   "pygments_lexer": "ipython2",
   "version": "2.7.6"
  }
 },
 "nbformat": 4,
 "nbformat_minor": 5
}
