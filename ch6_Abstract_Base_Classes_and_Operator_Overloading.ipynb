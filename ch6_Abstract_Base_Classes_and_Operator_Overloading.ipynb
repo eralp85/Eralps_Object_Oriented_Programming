{
 "cells": [
  {
   "cell_type": "markdown",
   "source": [
    "# Abstract Base Classes and Operator Overloading"
   ],
   "metadata": {
    "collapsed": false
   },
   "id": "1c4a4d1d97339a18"
  },
  {
   "cell_type": "markdown",
   "source": [
    "We often need to make a distinction between concrete classes that have a compete set of attributes and methods, and an abstract class that is missing some details.\n",
    "\n",
    "This parallels the philosophical idea of abstraction as a way to summarize complexities.\n",
    "\n",
    "We might say that a sailboat and an airplane have a common, abstract relationship of being vehicles, but the details of how they move are distinct.\n",
    "\n",
    "We have two approaches to defining similar things:\n",
    "\n",
    "**Duck Typing:**\n",
    "\n",
    "When two class definitions have the same attributes and methods, then instances of the two classes have the same protocol and can be used interchangeably.\n",
    "\n",
    "We often say, \"when I see a bird that walks like a duck and swims like a duck and quacks like a duck, I call that bird a duck.\"\n",
    "\n",
    "**Inheritance**\n",
    "\n",
    "When two class definitions have common aspects, a subclass can share common features of a superclass.\n",
    "\n",
    "The implementation details of the two classes should be interchangeable when we use the common features defined by superclass.\n",
    "\n",
    "  \n",
    "\n"
   ],
   "metadata": {
    "collapsed": false
   },
   "id": "72df584a45c061c2"
  },
  {
   "cell_type": "markdown",
   "source": [
    "We can take inheritance one step further.\n",
    "\n",
    "We can have a superclass definitions that are abstract: this means they are not directly usable by themselves, but can be used through inheritance to create concrete classes.\n",
    "\n",
    "We have to acknowledge a terminology problem around the term base and superclass.\n",
    "\n",
    "This is confusing because they are synonyms. There are two parallel metaphors here and we flip back and forth between them.\n",
    "\n"
   ],
   "metadata": {
    "collapsed": false
   },
   "id": "26e941cd3d8ca9de"
  },
  {
   "cell_type": "markdown",
   "source": [
    "![Abstract](./abstract.png)\n"
   ],
   "metadata": {
    "collapsed": false
   },
   "id": "1fcadcbeb1c2cfd6"
  },
  {
   "cell_type": "markdown",
   "source": [
    "Our base class, named BaseClass, has a special class, abc.ABC, as a parent class.\n",
    "\n",
    "This provides some special metaclass features that help make sure the concrete classes have replaced the abstractions.\n",
    "\n",
    "The diagram shows an abstract method, `a_method`, which does not have a defined body.\n",
    "\n",
    "A subclass must provide this."
   ],
   "metadata": {
    "collapsed": false
   },
   "id": "3465f50d2a954f85"
  },
  {
   "cell_type": "markdown",
   "source": [
    "# CREATING AN ABSTRACT BASE CLASS"
   ],
   "metadata": {
    "collapsed": false
   },
   "id": "d5fc1ca01e6f823"
  },
  {
   "cell_type": "markdown",
   "source": [
    "Imagine we are creating a media player wtih third-party plugins.\n",
    "\n",
    "It is advisable to create an abstract base class (ABC) in this case to document what API the third-party plugins should provide.\n",
    "\n",
    "The greneral design is to have a common feature, like `play()`, that applies to a number of classes.\n",
    "\n",
    "We do not want to pick some particular media format to use as a superclass; it seems somehow wrong to claim that some format is foundational and all others are derived from it.\n",
    "\n",
    "We would prefer to define the media player as an abstraction.\n",
    "\n",
    "Each unique kind of media file format can provide a concrete inmplementation of the abstraction.\n",
    "\n",
    "The `àbc` module provides the tools to do this.\n"
   ],
   "metadata": {
    "collapsed": false
   },
   "id": "7d5f709b112bec6b"
  },
  {
   "cell_type": "code",
   "execution_count": 144,
   "outputs": [],
   "source": [
    "import abc\n",
    "\n",
    "class MediaLoader(abc.ABC):\n",
    "    \n",
    "    @abc.abstractmethod\n",
    "    def play(self) -> None:\n",
    "        ...\n",
    "    @property\n",
    "    @abc.abstractmethod\n",
    "    def ext(self) -> str:\n",
    "        ..."
   ],
   "metadata": {
    "collapsed": false,
    "ExecuteTime": {
     "end_time": "2024-01-03T03:29:04.712789500Z",
     "start_time": "2024-01-03T03:29:03.639925200Z"
    }
   },
   "id": "9bd9695afb9200b2"
  },
  {
   "cell_type": "markdown",
   "source": [
    "`abc.ABC` class introduces a *metaclass* - a class used to build the concrete class definitions.\n",
    "\n",
    "Python's default metaclass is `type`.\n",
    "\n",
    "The default metaclass does not check for abstract methods when we try to create an instance.\n",
    "\n",
    "The `abc.ABC` class includes an extension to the `type` metaclass to prevent us from creating instances of classes that are not fully defined.\n",
    "\n",
    "Python uses decorators widely to make modifications to genral nature of the method or function.\n",
    "\n",
    "In this case, it provides additional details used by the metaclass that was incldued by the `ABC` class.\n",
    "\n",
    "Becuase we marked a method or property as abstract, any subclass of this class must implement that method or property in order to be useful, concrete implementation.\n",
    "\n",
    "We've used the `@property` decorator on the `ext()` method, also. \n",
    "\n",
    "Our intent for the ext property is to provide a simple class-level variable with a string literal value. I\n",
    "\n",
    "t's helpful to describe this as a `@property` to allow the implementation to choose between a simple variable and a method that implements the property. \n",
    "\n",
    "A simple variable in the concrete class will meet the expectations of the abstract class at runtime and will also help mypy to check the code for consistent use of types. \n",
    "\n",
    "A method could be used as an alternative to a simple attribute variable in case some more sophisticated computation is required.\n",
    "\n",
    "One of the consequences of marking these properties is the class now has a new special attribute, `__abstractmethods__`. \n",
    "\n",
    "This attribute lists all of the names that need to be filled in to create a concrete class:"
   ],
   "metadata": {
    "collapsed": false
   },
   "id": "6250a2975e9f6a9d"
  },
  {
   "cell_type": "code",
   "execution_count": 145,
   "outputs": [
    {
     "data": {
      "text/plain": "frozenset({'ext', 'play'})"
     },
     "execution_count": 145,
     "metadata": {},
     "output_type": "execute_result"
    }
   ],
   "source": [
    "MediaLoader.__abstractmethods__"
   ],
   "metadata": {
    "collapsed": false,
    "ExecuteTime": {
     "end_time": "2024-01-03T03:29:04.823191800Z",
     "start_time": "2024-01-03T03:29:03.655552900Z"
    }
   },
   "id": "391c886c3d7107ad"
  },
  {
   "cell_type": "markdown",
   "source": [
    "See what happens if you implement a subclass? \n",
    "\n",
    "We'll look at an example that doesn't supply concrete implementations for the abstractions. \n",
    "\n",
    "We'll also look at an example that does supply the required attribute:"
   ],
   "metadata": {
    "collapsed": false
   },
   "id": "65d8eebe02e73657"
  },
  {
   "cell_type": "code",
   "execution_count": 146,
   "outputs": [],
   "source": [
    "class Wav(MediaLoader):\n",
    "    pass"
   ],
   "metadata": {
    "collapsed": false,
    "ExecuteTime": {
     "end_time": "2024-01-03T03:29:04.823191800Z",
     "start_time": "2024-01-03T03:29:03.671214700Z"
    }
   },
   "id": "466ad5614e723fb5"
  },
  {
   "cell_type": "code",
   "execution_count": 147,
   "outputs": [
    {
     "ename": "TypeError",
     "evalue": "Can't instantiate abstract class Wav with abstract methods ext, play",
     "output_type": "error",
     "traceback": [
      "\u001B[1;31m---------------------------------------------------------------------------\u001B[0m",
      "\u001B[1;31mTypeError\u001B[0m                                 Traceback (most recent call last)",
      "\u001B[1;32m~\\AppData\\Local\\Temp\\ipykernel_14888\\1570709157.py\u001B[0m in \u001B[0;36m<module>\u001B[1;34m\u001B[0m\n\u001B[1;32m----> 1\u001B[1;33m \u001B[0mx\u001B[0m \u001B[1;33m=\u001B[0m \u001B[0mWav\u001B[0m\u001B[1;33m(\u001B[0m\u001B[1;33m)\u001B[0m\u001B[1;33m\u001B[0m\u001B[1;33m\u001B[0m\u001B[0m\n\u001B[0m",
      "\u001B[1;31mTypeError\u001B[0m: Can't instantiate abstract class Wav with abstract methods ext, play"
     ]
    }
   ],
   "source": [
    "x = Wav()"
   ],
   "metadata": {
    "collapsed": false,
    "ExecuteTime": {
     "end_time": "2024-01-03T03:29:04.838891200Z",
     "start_time": "2024-01-03T03:29:03.686845300Z"
    }
   },
   "id": "3ce9b754dde06a03"
  },
  {
   "cell_type": "code",
   "execution_count": 160,
   "outputs": [],
   "source": [
    "class Ogg(MediaLoader):\n",
    "    ext = '.ogg'\n",
    "    \n",
    "    def play(self):\n",
    "        pass\n",
    "    "
   ],
   "metadata": {
    "collapsed": false,
    "ExecuteTime": {
     "end_time": "2024-01-03T03:29:18.443454100Z",
     "start_time": "2024-01-03T03:29:18.412198200Z"
    }
   },
   "id": "5b3349a383990eea"
  },
  {
   "cell_type": "code",
   "execution_count": 161,
   "outputs": [],
   "source": [
    "o = Ogg()"
   ],
   "metadata": {
    "collapsed": false,
    "ExecuteTime": {
     "end_time": "2024-01-03T03:29:34.961802800Z",
     "start_time": "2024-01-03T03:29:34.914923500Z"
    }
   },
   "id": "a7bcdc6162800ff0"
  },
  {
   "cell_type": "markdown",
   "source": [
    "The definition of a `Wav` subclass fails to implement either of the abstract attributes.\n",
    "\n",
    "When we try to create an instance of the `Wav` class, an exception is raised.\n",
    "\n",
    "Because this subclass of `MediaLoader` is still abstract, it is not possible to instantiate the class.\n",
    "\n",
    "The class is still a potentially usefull abstract class, but you would have to subclass it and fill in the abstract placeholders before it can actually do anything.\n",
    "\n",
    "The `Ogg` subclass supplies both attributes, so it can instantiate cleanly.\n",
    "\n",
    "It is true, the body of the `play()` method does not do very much.\n",
    "\n",
    "What is important is that all of the placeholders were filled, making `Ogg` a concrete subclass of the abstract ``MediaLoader` class.\n",
    "\n",
    " "
   ],
   "metadata": {
    "collapsed": false
   },
   "id": "d128dd6b578fb201"
  },
  {
   "cell_type": "markdown",
   "source": [
    "Note that there is a subtle issue with using a class-level variable for the preferred media file extension.\n",
    "\n",
    "Because the `ext` attribute is a varibal, it can be updated.\n",
    "\n",
    "Using `o.ext = '.xyz'` is not expressly prohibited.\n",
    "\n",
    "Python does not have an easy, obvious way to create read-only attributes.\n",
    "\n",
    "We often rely on documentation to explain the consequences of changing the value of the `ext` attribute."
   ],
   "metadata": {
    "collapsed": false
   },
   "id": "e92ef5195437b71b"
  },
  {
   "cell_type": "markdown",
   "source": [
    "This has clear advantages when crating a complex application. The use of abstraction like this makes it very easy for mypy to conclude that a class does (does not) have the required methods and attributes.\n",
    "\n",
    "This also mandates a certain amount of fussy importing to be sure that the module has access to the necessary abstract base classes for an application.\n",
    "\n",
    "One of the advantages of duck typing is the ability to avoid complex imports and still create a useful class that can act polymorphic with peer classes.\n",
    "\n",
    "This advantage is often outweighed by the ability of the `abc.ABC` class definition to support type checking and documentation.\n",
    "\n",
    "the `abc.ABC` class also provides far more useful error messages when something is wrong.\n",
    "\n",
    "One important use cas for the ABCs is the `collections` module.\n",
    "\n",
    "This module defines the built-in generic collections using a sophisticated set of base classes and mixins."
   ],
   "metadata": {
    "collapsed": false
   },
   "id": "610fb98959275793"
  },
  {
   "cell_type": "markdown",
   "source": [
    "# ABCs of Collections"
   ],
   "metadata": {
    "collapsed": false
   },
   "id": "8a5e61e8579862ee"
  },
  {
   "cell_type": "markdown",
   "source": [
    "A really comprehensive use of the abstract base classes in the Python standard library lives in the `collections` module.\n",
    "\n",
    "The collections we use are extensions of the `Collection` abstract class.\n",
    "\n",
    "`Collection` is an extension of an even more fundamental abstraction, `Container`.\n",
    "\n",
    "Since the foundation is the `Container` class, let's inspect it in interpreter to see what method this class requires:\n"
   ],
   "metadata": {
    "collapsed": false
   },
   "id": "feaecfad9d104714"
  },
  {
   "cell_type": "markdown",
   "source": [
    "> import collections.abc as Container\n",
    "> `Container.__abstractmethods__`\n",
    "\n",
    ">> `frozenset({'__contains__'})`\n"
   ],
   "metadata": {
    "collapsed": false
   },
   "id": "57949cf7b60a277"
  },
  {
   "cell_type": "markdown",
   "source": [
    "So, the Container class has exactly one abstract method that needs to be implemented, `__contains__()`. \n",
    "\n",
    "You can issue `help(Container.__contains__)` to see what the function signature should look like:"
   ],
   "metadata": {
    "collapsed": false
   },
   "id": "aa18977c025fd83c"
  },
  {
   "cell_type": "markdown",
   "source": [
    "`help(Container.__contains__)`\n",
    "Help on function `__contains__` in module collections.abc:\n",
    "`__contains__(self, x)`\n"
   ],
   "metadata": {
    "collapsed": false
   },
   "id": "6e8e75dde311d3ea"
  },
  {
   "cell_type": "markdown",
   "source": [
    "We can see that `__contains__()` needs to take a single argument. \n",
    "\n",
    "Unfortunately, the help file doesn't tell us much about what that argument should be, but it's pretty obvious from the name of the ABC and the single method it implements that this argument is the value the user is checking to see whether the container holds.\n",
    "\n",
    "This `__contains__()` special method implements the Python in operator. \n",
    "\n",
    "This method is implemented by set, list, str, tuple, and dict. \n",
    "\n",
    "However, we can also define a silly container that tells us whether a given value is in the set of odd integers:"
   ],
   "metadata": {
    "collapsed": false
   },
   "id": "34d89fadeb29c67"
  },
  {
   "cell_type": "code",
   "execution_count": 162,
   "outputs": [],
   "source": [
    "from collections.abc import Container\n",
    "\n",
    "class OddIntegers:\n",
    "    \n",
    "    def __contains__(self, x: int) -> bool:\n",
    "        return x % 2 != 0"
   ],
   "metadata": {
    "collapsed": false,
    "ExecuteTime": {
     "end_time": "2024-01-03T03:29:44.523171400Z",
     "start_time": "2024-01-03T03:29:44.130607700Z"
    }
   },
   "id": "8d09c1afce63fd76"
  },
  {
   "cell_type": "markdown",
   "source": [
    "We've used the modulo test for oddity. If the remainder of x divided by two is zero, then x was even, otherwise x was odd.\n",
    "\n",
    "Here's the interesting part: we can instantiate an `OddContainer` object and determine that, even though we did not extend `Container`, the class behaves as a `Container` object:"
   ],
   "metadata": {
    "collapsed": false
   },
   "id": "dcaeec5a43a7dd3"
  },
  {
   "cell_type": "code",
   "execution_count": 163,
   "outputs": [
    {
     "data": {
      "text/plain": "True"
     },
     "execution_count": 163,
     "metadata": {},
     "output_type": "execute_result"
    }
   ],
   "source": [
    "odd = OddIntegers()\n",
    "isinstance(odd, Container)"
   ],
   "metadata": {
    "collapsed": false,
    "ExecuteTime": {
     "end_time": "2024-01-03T03:29:44.906867900Z",
     "start_time": "2024-01-03T03:29:44.161927400Z"
    }
   },
   "id": "16812b6982f5f4b"
  },
  {
   "cell_type": "code",
   "execution_count": 164,
   "outputs": [
    {
     "data": {
      "text/plain": "True"
     },
     "execution_count": 164,
     "metadata": {},
     "output_type": "execute_result"
    }
   ],
   "source": [
    "issubclass(OddIntegers, Container)"
   ],
   "metadata": {
    "collapsed": false,
    "ExecuteTime": {
     "end_time": "2024-01-03T03:29:44.906867900Z",
     "start_time": "2024-01-03T03:29:44.193182400Z"
    }
   },
   "id": "d12ac021bea387db"
  },
  {
   "cell_type": "markdown",
   "source": [
    "And that is why duck typing is way more awesome than classical polymorphism. \n",
    "\n",
    "We can create is-a relationships without the overhead of writing the code to set up inheritance (or worse, multiple inheritance).\n",
    "\n",
    "One cool thing about the Container ABC is that any class that implements it gets to use the `in` keyword for free. \n",
    "\n",
    "In fact, `in` is just syntax sugar that delegates to the `__contains__()` method. \n",
    "\n",
    "Any class that has a `__contains__()` method is a Container and can therefore be queried by the `in` keyword. For example:"
   ],
   "metadata": {
    "collapsed": false
   },
   "id": "587c80f40b1f3fee"
  },
  {
   "cell_type": "code",
   "execution_count": 165,
   "outputs": [
    {
     "data": {
      "text/plain": "True"
     },
     "execution_count": 165,
     "metadata": {},
     "output_type": "execute_result"
    }
   ],
   "source": [
    "odd = OddIntegers()\n",
    "\n",
    "1 in odd"
   ],
   "metadata": {
    "collapsed": false,
    "ExecuteTime": {
     "end_time": "2024-01-03T03:29:44.915890400Z",
     "start_time": "2024-01-03T03:29:44.209305300Z"
    }
   },
   "id": "f5143a81721a8adc"
  },
  {
   "cell_type": "code",
   "execution_count": 166,
   "outputs": [
    {
     "data": {
      "text/plain": "False"
     },
     "execution_count": 166,
     "metadata": {},
     "output_type": "execute_result"
    }
   ],
   "source": [
    "2 in odd\n"
   ],
   "metadata": {
    "collapsed": false,
    "ExecuteTime": {
     "end_time": "2024-01-03T03:29:44.915890400Z",
     "start_time": "2024-01-03T03:29:44.224944500Z"
    }
   },
   "id": "389aa00b69e07827"
  },
  {
   "cell_type": "code",
   "execution_count": 167,
   "outputs": [
    {
     "data": {
      "text/plain": "True"
     },
     "execution_count": 167,
     "metadata": {},
     "output_type": "execute_result"
    }
   ],
   "source": [
    "3 in odd"
   ],
   "metadata": {
    "collapsed": false,
    "ExecuteTime": {
     "end_time": "2024-01-03T03:29:44.915890400Z",
     "start_time": "2024-01-03T03:29:44.240572700Z"
    }
   },
   "id": "79803a3bd492a4a5"
  },
  {
   "cell_type": "code",
   "execution_count": 168,
   "outputs": [
    {
     "data": {
      "text/plain": "False"
     },
     "execution_count": 168,
     "metadata": {},
     "output_type": "execute_result"
    }
   ],
   "source": [
    "4 in odd"
   ],
   "metadata": {
    "collapsed": false,
    "ExecuteTime": {
     "end_time": "2024-01-03T03:29:44.915890400Z",
     "start_time": "2024-01-03T03:29:44.256198Z"
    }
   },
   "id": "f103649e855d159b"
  },
  {
   "cell_type": "markdown",
   "source": [
    "The real value here is the ability to create new kinds of collections that are completely compatible with Python's built-in generic collections. \n",
    "\n",
    "We could, for example, create a dictionary that uses a binary tree structure to retain keys instead of a hashed lookup. \n",
    "\n",
    "We'd start with the `Mapping` abstract base class definitions, but change the algorithms that support methods like `__getitem__()`, `__setitem__()`, and `__delitem__()`.\n",
    "\n",
    "Python's duck typing works (in part) via the `isinstance()` and `issubclass()` built-in functions. \n",
    "\n",
    "These functions are used to determine class relationships. \n",
    "\n",
    "They rely on two internal methods that classes can provide: `__instancecheck__()` and `__subclasscheck__()`. \n",
    "\n",
    "An ABC class can provide a `__subclasshook__()` method, which is used by the `__subclasscheck__`()method to assert that a given class is a proper subclass of the abstract base class. \n",
    "\n",
    "The details are a bit beyond this book; consider this a signpost pointing out the path that needs to be followed when creating novel classes that need to live side by side with built-in classes."
   ],
   "metadata": {
    "collapsed": false
   },
   "id": "f9744e2fe2962f42"
  },
  {
   "cell_type": "markdown",
   "source": [
    "# ABSTRACT BASE CLASSES and TYPE HINTS"
   ],
   "metadata": {
    "collapsed": false
   },
   "id": "fc698ec80ec97cc4"
  },
  {
   "cell_type": "markdown",
   "source": [
    "The concept of an abstract base class is closely tied to the idea of a generic class.\n",
    "\n",
    "An abstract base class is often generic with respect to some detail that is supplied by a concrete implementation.\n",
    "\n",
    "Most of Python's generic classes – classes like list, dict, and set – can be used as type hints, and these hints can be parameterized to narrow the domain. \n",
    "\n",
    "There's a world of difference between `list[Any]` and `list[int]`; the value `[\"a\", 42, 3.14]` is valid for the first type hint, but invalid for the other. \n",
    "\n",
    "This concept of parameterizing the generic type to make it more specific often applies to abstract classes, also.\n",
    "\n",
    "For this to work, you will often need to incorporate `from __future__ import annotations` at the top of your module.\n",
    "\n",
    "This is a new feature in Python 3.7 that allows you to use forward references in type hints.\n",
    "\n",
    "This modifies the behaviour of Python to permit function and variable annotations to parameterize these standard collections.\n",
    "\n",
    "**NOTE**\n",
    "\n",
    "**Generic** classes and abstract classes are not the same thing. The two concepts overlap but are distinct.\n",
    "\n",
    "Generic classes have an implicit relationship with `Any`. This often needs to be narrowed using type parameters, like `list[int]`.\n",
    "\n",
    "The list class is concrete, and when we want to extend it, we will need to plug in a ccalss name to replace the `Any` type.\n",
    "\n",
    "The Python interpreter does not use generic class hints in any way, they are only ckeced by static analysis tools such as mypy.\n",
    "\n",
    "**Abstract** classes have placeholders instead of one or more methods. \n",
    "\n",
    "These placeholder methods require a design decision that supplies a concrete implementation.\n",
    "\n",
    "These classes are not completely defined. When we extend it, we will need to provide a concrete method implementation.\n",
    "\n",
    "If we do not provide the missing methods, the interpreter will raise a runtime exception when we try to create an instance of an abstract class."
   ],
   "metadata": {
    "collapsed": false
   },
   "id": "8a4d6b533e6ab19f"
  },
  {
   "cell_type": "markdown",
   "source": [
    "Some classes can be both abstract and generic. As noted above, the type parameter helps mypy understand our intention but is not required. \n",
    "\n",
    "The concrete implementation is required.\n",
    "\n",
    "Another concept that is adjacent to abstract classes is the **protocol**.\n",
    "\n",
    "This is the essence of how duck typing works: when two classes have the same batch methods, they both adhere to a common protocol.\n",
    "\n",
    "Any time we see classes with similar methods, there is a common protocol; this may be formalized with a type hint."
   ],
   "metadata": {
    "collapsed": false
   },
   "id": "1db486b8afc0b0be"
  },
  {
   "cell_type": "markdown",
   "source": [
    "Consider objects that can be hashed.\n",
    "\n",
    "Immutable classes implement the `__hash__()` method, including strings, integers and tuples.\n",
    "\n",
    "Generally, mutable classes do not implement the `__hash__()` method, this includes lists, sets, and dictionaries.\n",
    "\n",
    "If we attempt to write a type hint like `dict[list[int], list[str]]`, mypy will complain that the `list[int]` cannot be used as a key.\n",
    "\n",
    "It cannot be a key because the given type, `list[int]`, does not implement the `Hashable` protocol.\n",
    "\n",
    "At runtime, the attempt to create a dictionary item with a mutable key will fail for the same reason: a list does not implement the required method.\n",
    "\n"
   ],
   "metadata": {
    "collapsed": false
   },
   "id": "9798fb74a15ad6bb"
  },
  {
   "cell_type": "markdown",
   "source": [
    "# THE collections.abc MODULE"
   ],
   "metadata": {
    "collapsed": false
   },
   "id": "cb5b9df871f9792f"
  },
  {
   "cell_type": "markdown",
   "source": [
    "One porminent use of abstract bassse classes is in the `collections.abc` module.\n",
    "\n",
    "This module provides a bstract base calss definitions for Python's built in collections.\n",
    "\n",
    "This is how `list`, `set` and `dict` (and a few other) can be built from individual component definitions.\n",
    "\n",
    "We can use the definitions to build our own unique data structures in ways that overlap with built-in structures.\n",
    "\n",
    "We can also use the definitions when we want to write a type hint for a specific feature of a data structure, without being overly specific about alternative implementations that might also be acceptable.\n",
    "\n",
    "The definitions in the `collections.abc` do not include `list`, `set` and `dict`.\n",
    "\n",
    "Instead, the module provides definitions like `MutableSequence`, `MutableSet`, and `MutableMapping`, which are abstract base classes for which `list`, `set` and `dict` classes we use are the concrete implementations.\n",
    "\n",
    "Let's follow the various aspects of the definition of `Mapping` bact to their origins.\n",
    "\n",
    "Python's built-in `dict` class is a concrete implementation of the `MutableMapping` abstract base class.\n",
    "\n",
    "The abstraction comes from the idea of mapping a key to a value.\n",
    "\n",
    "The `MutableMapping` class depends on the `Mapping` definition, an immutable, frozed dictionary, potentially optimized for lookups.\n",
    "\n",
    "Let's follow the relationships among these abstractions.\n",
    "\n",
    "Here's a diagram that shows the relationships among the various classes:"
   ],
   "metadata": {
    "collapsed": false
   },
   "id": "f251746750614f5e"
  },
  {
   "cell_type": "markdown",
   "source": [
    "![MutableMapping](./MutableMapping.png)"
   ],
   "metadata": {
    "collapsed": false
   },
   "id": "7fd6f159079c4b37"
  },
  {
   "cell_type": "markdown",
   "source": [
    "Starting in the middle, we can see the `Mapping` definition depends on the `Collectionclass` definition. \n",
    "\n",
    "The definition of the Collection abstract class, in turn, depends on three other abstract base classes: `Sized`, `Iterable`, and `Container`. \n",
    "\n",
    "Each of these abstractions demands specific methods.\n",
    "\n",
    "If we're going to create a lookup-only dictionary – a concrete `Mapping` implementation – we'll need to implement at least the following methods:\n",
    "\n",
    "The `Sized` abstraction requires an implementation for the `__len__()` method. \n",
    "\n",
    "This lets an instance of our class respond to the `len()` function with a useful answer.\n",
    "\n",
    "\n",
    "The `Iterable` abstraction requires an implementation for the `__iter__()` method.\n",
    " \n",
    "This lets an object work with the for statement and the `iter()` function. \n",
    "\n",
    "The `Container` abstraction requires an implementation for the `__contains__() `method. \n",
    "\n",
    "This permits the in and not in operators to work.\n",
    "\n",
    "\n",
    "The `Collection` abstraction combines Sized, Iterable, and Container without introducing additional abstract methods.\n",
    "\n",
    "The `Mapping` abstraction, based on Collection, requires, among other things, `__getitem__()`, `__iter__()`, and` __len__()`. \n",
    "\n",
    "It has a default definition for `__contains__()`, based on whatever `__iter__()` method we provide. \n",
    "\n",
    "The Mapping definition will provide a few other methods, also.\n",
    "\n",
    "This list of methods comes directly from the abstract relationships in the base classes. \n",
    "\n",
    "By building our new dictionary-like immutable class from these abstractions, we can be sure that our class will collaborate seamlessly with other Python generic classes.\n",
    "\n",
    "When we look at the documentation in `https://docs.python.org/3.9/library/collections.abc.html`, we see abstract class definitions and the definitions they depend on.\n",
    "\n",
    "There is a lattice of dependencies showing overlap among the class definitions.\n",
    "\n",
    "It is this overlap that allows us to use a `for` statement to iterate through every kind of collection that implements the `Iterable` abstract base class.\n"
   ],
   "metadata": {
    "collapsed": false
   },
   "id": "890ffa28b23e514d"
  },
  {
   "cell_type": "markdown",
   "source": [
    "\n",
    "Let's define out own immutable `Mapping` object implementation by extending the abstract classes.\n",
    "\n",
    "The goal is to be able to load our dictionary-like mapping once with keys and values, and use it to map the keys to their values.\n",
    "\n",
    "Since we are not going to allow any updates, we can apply a variety of algorithms to make it very fast as well as very compact. "
   ],
   "metadata": {
    "collapsed": false
   },
   "id": "ebe4d227b896d729"
  },
  {
   "cell_type": "markdown",
   "source": [
    "We are going to create a dictionary like mapping from some key to an object of any possible type.\n",
    "\n",
    "We have defined the key with the type `Comparable` because we want to be able to compare the keys and sort them into order.\n",
    "\n",
    "Searching through a list in order is often more efficient than searching through a list in random order.\n",
    "\n",
    "We will look at the core of `Lookup` class definition first. We will returnt to the `Comparable` class definition after solidifying the essentials of a new kind of mapping from keys to values.\n",
    "\n",
    "When we look at ways we can construct a dictionary, we see that a dictionary can be built two different kinds of data structures. \n",
    "\n",
    "The two data structures are exemplified by following:"
   ],
   "metadata": {
    "collapsed": false
   },
   "id": "9c936942eee73b7c"
  },
  {
   "cell_type": "code",
   "execution_count": 169,
   "outputs": [
    {
     "data": {
      "text/plain": "True"
     },
     "execution_count": 169,
     "metadata": {},
     "output_type": "execute_result"
    }
   ],
   "source": [
    "x = dict({'a': 42, 'b': 7, 'c': 6})\n",
    "\n",
    "y = dict([('a', 42), ('b', 7), ('c', 6)])\n",
    "\n",
    "x == y"
   ],
   "metadata": {
    "collapsed": false,
    "ExecuteTime": {
     "end_time": "2024-01-03T03:29:44.931529300Z",
     "start_time": "2024-01-03T03:29:44.271826500Z"
    }
   },
   "id": "e5fb21a14538439f"
  },
  {
   "cell_type": "markdown",
   "source": [
    "We can build a mapping from an existing mapping, or we can build a mapping from a sequence of two-tuples with keys and values.\n",
    "\n",
    "This means there are two seperate definitions for the `__init__()` method.\n",
    "\n",
    "1- `def __init__(self, source: BaseMapping) -> None:`\n",
    "\n",
    "2- `def __init__(self, source: Iterable[tupple[Comparable, Any]]) -> None:`\n",
    "\n",
    "These two definitions have distinct type hints.\n",
    "\n",
    "To make it clear to mypy, we need to provide overloaded method definitions.\n",
    "\n",
    "This is done with a special decoration from the `typing` module, `@overload`.\n",
    "\n",
    "We'll provide two method definitions with the two alternatives; after these, we'll provide the real method definition that does the useful work. \n",
    "\n",
    "Because these are type hints, they're not required. They're wordy, and they help us be sure we've got a sensible implementation.\n",
    "\n",
    "Here is the first part of the `Lookup` class definition.\n",
    "\n",
    "We will break this into pieces because the `__init__()` method needs to cover these two cases defined by the alternative overloads:"
   ],
   "metadata": {
    "collapsed": false
   },
   "id": "fac41422e7780362"
  },
  {
   "cell_type": "code",
   "execution_count": 170,
   "outputs": [
    {
     "ename": "SyntaxError",
     "evalue": "invalid syntax. Perhaps you forgot a comma? (2079397366.py, line 46)",
     "output_type": "error",
     "traceback": [
      "\u001B[1;36m  File \u001B[1;32m\"C:\\Users\\ERALP\\AppData\\Local\\Temp\\ipykernel_14888\\2079397366.py\"\u001B[1;36m, line \u001B[1;32m46\u001B[0m\n\u001B[1;33m    source: Union[Iterable[              tuple[Comparable, Any]]\u001B[0m\n\u001B[1;37m                  ^\u001B[0m\n\u001B[1;31mSyntaxError\u001B[0m\u001B[1;31m:\u001B[0m invalid syntax. Perhaps you forgot a comma?\n"
     ]
    }
   ],
   "source": [
    "from __future__ import annotations\n",
    "from collections import abc \n",
    "from typing import Protocol, Any, overload, Union\n",
    "import bisect\n",
    "from typing import Iterator, Iterable, Sequence, Mapping \n",
    "\n",
    "from typing import Protocol, Any\n",
    "class Comparable(Protocol):\n",
    "    def __eq__(self, other: Any) -> bool: ...\n",
    "    def __ne__(self, other: Any) -> bool: ...\n",
    "    def __le__(self, other: Any) -> bool: ...\n",
    "    def __lt__(self, other: Any) -> bool: ...\n",
    "    def __ge__(self, other: Any) -> bool: ...\n",
    "    def __gt__(self, other: Any) -> bool: ...\n",
    "\n",
    "def __len__(self) -> int:\n",
    "        return len(self.key_list)\n",
    "    \n",
    "def __iter__(self) -> Iterator[Comparable]:\n",
    "        return iter(self.key_list)\n",
    "    \n",
    "def __contains__(self, key: object) -> bool:\n",
    "        index = bisect.bisect_left(self.key_list, key)\n",
    "        return key == self.key_list[index]\n",
    "    \n",
    "def __getitem__(self, key: Comparable) -> Any:\n",
    "        index = bisect.bisect_left(self.key_list, key)\n",
    "        if key == self.key_list[index]:\n",
    "            return self.value_list[index]\n",
    "        raise KeyError(key)    \n",
    "\n",
    "\n",
    "BaseMapping = abc.Mapping[Comparable, Any]\n",
    "class Lookup(BaseMapping):\n",
    "    @overload\n",
    "    def __init__(\n",
    "          self, \n",
    "          source: Iterable[tuple[Comparable, Any]]\n",
    "    ) -> None:\n",
    "        ...\n",
    "    @overload\n",
    "    def __init__(self, source: BaseMapping) -> None:\n",
    "        ...\n",
    "    def __init__(\n",
    "          self, \n",
    "          source: Union[Iterable[              tuple[Comparable, Any]]\n",
    "              BaseMapping, None] = None):\n",
    "    \n",
    "        sorted_pairs: Sequence[tuple[Comparable, Any]]\n",
    "        if isinstance(source, Sequence):\n",
    "            sorted_pairs = sorted(source)\n",
    "        elif isinstance(source, abc.Mapping):\n",
    "            sorted_pairs = sorted(source.items())\n",
    "        else:\n",
    "            sorted_pairs = []\n",
    "        self.key_list = [p[0] for p in sorted_pairs]\n",
    "        self.value_list = [p[1] for p in sorted_pairs]\n"
   ],
   "metadata": {
    "collapsed": false,
    "ExecuteTime": {
     "end_time": "2024-01-03T03:29:45.010059300Z",
     "start_time": "2024-01-03T03:29:44.334787600Z"
    }
   },
   "id": "173987287ada0929"
  },
  {
   "cell_type": "markdown",
   "source": [
    "The `__init__()` method needs to handle three cases for loading a mapping. \n",
    "\n",
    "This means building the values from a sequence of pairs, or building the values from another mapping object, or creating an empty sequence of values. \n",
    "\n",
    "We need to separate the keys from the values and put them into two parallel lists. \n",
    "\n",
    "A sorted list of keys can be rapidly searched to find a match. \n",
    "\n",
    "The sorted list of values is returned when we get a key's value from the mapping.\n",
    "\n",
    "Here are the imports needed:\n",
    "\n",
    "from `__future__` import annotations\n",
    "from collections import abc\n",
    "from typing import Protocol, Any, overload, Union\n",
    "import bisect\n",
    "from typing import Iterator, Iterable, Sequence, Mapping\n",
    "\n",
    "Here are the other abstract methods that are defined by the @abstractmethod decorator. We provide the following concrete implementations:\n"
   ],
   "metadata": {
    "collapsed": false
   },
   "id": "8304027d69a81360"
  },
  {
   "cell_type": "code",
   "execution_count": 179,
   "outputs": [
    {
     "ename": "NameError",
     "evalue": "name 'Iterator' is not defined",
     "output_type": "error",
     "traceback": [
      "\u001B[1;31m---------------------------------------------------------------------------\u001B[0m",
      "\u001B[1;31mNameError\u001B[0m                                 Traceback (most recent call last)",
      "\u001B[1;32m~\\AppData\\Local\\Temp\\ipykernel_14888\\2395809414.py\u001B[0m in \u001B[0;36m<module>\u001B[1;34m\u001B[0m\n\u001B[0;32m      2\u001B[0m     \u001B[1;32mreturn\u001B[0m \u001B[0mlen\u001B[0m\u001B[1;33m(\u001B[0m\u001B[0mself\u001B[0m\u001B[1;33m.\u001B[0m\u001B[0mkey_list\u001B[0m\u001B[1;33m)\u001B[0m\u001B[1;33m\u001B[0m\u001B[1;33m\u001B[0m\u001B[0m\n\u001B[0;32m      3\u001B[0m \u001B[1;33m\u001B[0m\u001B[0m\n\u001B[1;32m----> 4\u001B[1;33m \u001B[1;32mdef\u001B[0m \u001B[0m__iter__\u001B[0m\u001B[1;33m(\u001B[0m\u001B[0mself\u001B[0m\u001B[1;33m)\u001B[0m \u001B[1;33m->\u001B[0m \u001B[0mIterator\u001B[0m\u001B[1;33m[\u001B[0m\u001B[0mComparable\u001B[0m\u001B[1;33m]\u001B[0m\u001B[1;33m:\u001B[0m\u001B[1;33m\u001B[0m\u001B[1;33m\u001B[0m\u001B[0m\n\u001B[0m\u001B[0;32m      5\u001B[0m     \u001B[1;32mreturn\u001B[0m \u001B[0miter\u001B[0m\u001B[1;33m(\u001B[0m\u001B[0mself\u001B[0m\u001B[1;33m.\u001B[0m\u001B[0mkey_list\u001B[0m\u001B[1;33m)\u001B[0m\u001B[1;33m\u001B[0m\u001B[1;33m\u001B[0m\u001B[0m\n\u001B[0;32m      6\u001B[0m \u001B[1;33m\u001B[0m\u001B[0m\n",
      "\u001B[1;31mNameError\u001B[0m: name 'Iterator' is not defined"
     ]
    }
   ],
   "source": [
    "    def __len__(self) -> int:\n",
    "        return len(self.key_list)\n",
    "    \n",
    "    def __iter__(self) -> Iterator[Comparable]:\n",
    "        return iter(self.key_list)\n",
    "    \n",
    "    def __contains__(self, key: object) -> bool:\n",
    "        index = bisect.bisect_left(self.key_list, key)\n",
    "        return key == self.key_list[index]\n",
    "    \n",
    "    def __getitem__(self, key: Comparable) -> Any:\n",
    "        index = bisect.bisect_left(self.key_list, key)\n",
    "        if key == self.key_list[index]:\n",
    "            return self.value_list[index]\n",
    "        raise KeyError(key)\n"
   ],
   "metadata": {
    "collapsed": false,
    "ExecuteTime": {
     "end_time": "2024-01-03T03:30:20.962104700Z",
     "start_time": "2024-01-03T03:30:20.632515100Z"
    }
   },
   "id": "8d8ec6085ddb3409"
  },
  {
   "cell_type": "markdown",
   "source": [
    "The `__len__()`, `__iter__()`, and `__contains__`() methods are required by the Sized, Iterable, and Container abstract classes. \n",
    "\n",
    "The Collection abstract class combines the other three without introducing any new abstract methods.\n",
    "\n",
    "The `__getitem__()` is required to be a Mapping. Without it, we can't retrieve an individual value for a given key.\n",
    "\n",
    "The use of the bisect module is one way to find a specific value rapidly in a sorted list of keys. \n",
    "\n",
    "The `bisect.bisect_left()` function finds the spot where a key belongs in a list. \n",
    "\n",
    "If the key is there, we can return the value to which it maps. If the key is not there, we can raise the KeyError exception.\n",
    "\n",
    "Note that the `__contains__()` definition has the object class as the type hint, unlike the other methods. \n",
    "\n",
    "This is required because Python's in operation needs to support any kind of object, even ones that don't obviously support the Comparable protocol.\n",
    "\n",
    "------------------------------------------------"
   ],
   "metadata": {
    "collapsed": false
   },
   "id": "84cc9f90cbc420ed"
  },
  {
   "cell_type": "markdown",
   "source": [
    "The general approach to using abstract classes is this:\n",
    "\n",
    "1- Find a class that does most of what you need.\n",
    "\n",
    "\n",
    "2- Identify the methods in the collections.abc definitions that are marked as abstract. The documentation often gives a lot of information, but you'll also have to look at the source.\n",
    "\n",
    "3- Subclass the abstract class, filling in the missing methods.\n",
    "\n",
    "4- While it can help to make a checklist of the methods, there are tools to help with this. Creating a unit test means you need to create an instance of your new class. If you haven't defined all the abstract methods, this will raise an exception. Using mypy will also spot abstract methods that aren't properly defined in the concrete subclass.\n",
    "\n",
    "\n",
    "This is a powerful way to reuse code when we choose the abstractions well; a person can form a mental model of the class without knowing all of the details. \n",
    "\n",
    "It's also a powerful way to create closely related classes that can easily be examined by mypy. \n",
    "\n",
    "Beyond those two advantages, the formality of marking a method as abstract gives us a runtime assurance that the concrete subclass really does implement all the required methods.\n",
    "\n",
    "Now that we've seen how to use an abstract base class, let's look at defining a new abstraction."
   ],
   "metadata": {
    "collapsed": false
   },
   "id": "8ed66f34bb6ca20a"
  },
  {
   "cell_type": "markdown",
   "source": [
    "# CREATING YOUR OWN ABSTRACT BASE CLASS"
   ],
   "metadata": {
    "collapsed": false
   },
   "id": "e9ebe9f2ac5df039"
  },
  {
   "cell_type": "markdown",
   "source": [
    "We have two general paths to create classes.\n",
    "\n",
    "'e can leverage duck typing or we can define common abstractions. \n",
    "\n",
    "When we leverage duck typing, we can formalize the related types by creating a type hint using a protocol definition to enumerate the common methods, or a `Union[]` to enumerate the common types.\n",
    "\n",
    "There are an almost unlimited number of influencing factors that suggest one or the other approach. \n",
    "\n",
    "While duck typing offers the most flexibility, we may sacrifice the ability to use mypy. \n",
    "\n",
    "An abstract base class definition can be wordy and potentially confusing.\n",
    "\n",
    "We'll tackle a small problem. \n",
    "\n",
    "We want to build a simulation of games that involve polyhedral dice. \n",
    "\n",
    "These are the dice including four, six, eight, twelve, and twenty sides. The six-sided dice are conventional cubes. Some sets of dice include 10-sided dice, which are cool, but aren't – technically – a regular polyhedron; they're two sets of five \"kite-shaped\" faces.\n",
    "\n",
    "One question that comes up is how best to simulate rolls of these different shaped dice. \n",
    "\n",
    "There are three readily available sources of random data in Python: the random module, the os module, and the secrets module. \n",
    "\n",
    "If we turn to third-party modules, we can add in cryptographic libraries like pynacl, which offer yet more random number capabilities.\n",
    "\n",
    "Rather than bake the choice of random number generator into a class, we can define an abstract class that has the general features of a die. \n",
    "\n",
    "A concrete subclass can supply the missing randomization capability. \n",
    "\n",
    "The random module has a very flexible generator. \n",
    "\n",
    "The os module's capability is limited, but involves using an entropy collector to increase randomness. Flexibility and high entropy are generally combined by cryptographic generators.\n",
    "\n",
    "To create our dice-rolling abstraction, we'll need the abc module. \n",
    "\n",
    "This is distinct from the collections.abc module. The abc module has the foundational definitions for abstract classes:"
   ],
   "metadata": {
    "collapsed": false
   },
   "id": "81438595981dac1a"
  },
  {
   "cell_type": "code",
   "execution_count": 191,
   "outputs": [],
   "source": [
    "import abc\n",
    "import random\n",
    "\n",
    "class Die(abc.ABC):\n",
    "  \n",
    "    def __init__(self) -> None:\n",
    "        self.face: int\n",
    "        self.roll()\n",
    "        \n",
    "    @abc.abstractmethod\n",
    "    def roll(self) -> None:\n",
    "        ...\n",
    "    \n",
    "    def __repr__(self) -> str:\n",
    "        return f\"{self.face}\""
   ],
   "metadata": {
    "collapsed": false,
    "ExecuteTime": {
     "end_time": "2024-01-03T03:30:31.756815600Z",
     "start_time": "2024-01-03T03:30:31.568379800Z"
    }
   },
   "id": "64607b3e0753cb08"
  },
  {
   "cell_type": "markdown",
   "source": [
    "We've defined a class that inherits from the abc.ABC class. \n",
    "\n",
    "*Using ABC as the parent class assures us that any attempt to create an instance of the Die class directly will raise a TypeError exception.* \n",
    "\n",
    "This is a runtime exception; it's also checked by mypy.\n",
    "\n",
    "We've marked a method, roll(), as abstract with the @abc.abstract decorator. \n",
    "\n",
    "This isn't a very complex method, but any subclass should match this abstract definition. This is only checked by mypy. \n",
    "\n",
    "Of course, if we make a mess of the concrete implementation, things are likely to break at runtime. Consider this mess of code:\n",
    "\n",
    "class Bad(Dice):\n",
    "    def roll(self, a:int , b: int) -> float:\n",
    "        return (a+b)/2\n",
    "        \n",
    "This will raise a TypeError exception at runtime. \n",
    "\n",
    "The problem is caused by the base class `__init__()` not providing the a and b parameters to this strange-looking roll() method. \n",
    "\n",
    "This is valid Python code, but it doesn't make sense in this context. \n",
    "\n",
    "The method will also generate mypy errors, providing ample warning the method definition doesn't match the abstraction.\n",
    "\n",
    "Here's what two proper extensions to the Die class look like:"
   ],
   "metadata": {
    "collapsed": false
   },
   "id": "64794dfef1df06cf"
  },
  {
   "cell_type": "code",
   "execution_count": 192,
   "outputs": [],
   "source": [
    "class D4(Die):\n",
    "    def roll(self) -> None:\n",
    "        self.face = random.choice(1, 2, 3, 4)\n",
    "        \n",
    "class D6(Die):\n",
    "    def roll(self) -> None:\n",
    "        self.face = random.randint(1, 6)"
   ],
   "metadata": {
    "collapsed": false,
    "ExecuteTime": {
     "end_time": "2024-01-03T03:30:31.835390400Z",
     "start_time": "2024-01-03T03:30:31.584054400Z"
    }
   },
   "id": "bb46082d3e3f5a94"
  },
  {
   "cell_type": "markdown",
   "source": [
    "We've provided methods that provide a suitable definition for the abstract placeholder in the Die class. \n",
    "\n",
    "They use vastly different approaches to selecting a random value. \n",
    "\n",
    "The four-sided die uses random.choice(). \n",
    "\n",
    "The six-sided die – the common cube most people know – uses random.randint().\n",
    "\n",
    "Let's go a step further and create another abstract class. This one will represent a handful of dice. \n",
    "\n",
    "Again, we have a number of candidate solutions, and we can use an abstract class to defer the final design choices.\n",
    "\n",
    "The interesting part of this design is the differences in the rules for games with handfuls of dice. \n",
    "\n",
    "In some games, the rules require the player to roll all the dice. \n",
    "\n",
    "The rules for a lot of games with two dice require the player to roll both dice. \n",
    "\n",
    "In other games, the rules allow players to save dice, and re-roll selected dice. I\n",
    "\n",
    "n some games, like Yacht, the players are allowed at most two re-rolls. \n",
    "\n",
    "In other games, like Zilch, they are allowed to re-roll until they elect to save their score or roll something invalid and lose all their points, scoring zilch (hence the name).\n",
    "\n",
    "These are dramatically different rules that apply to a simple list of Die instances. Here's a class that leaves the roll implementation as an abstraction:"
   ],
   "metadata": {
    "collapsed": false
   },
   "id": "8835edfe08f27d33"
  },
  {
   "cell_type": "code",
   "execution_count": 193,
   "outputs": [],
   "source": [
    "from typing import Type\n",
    "import abc\n",
    "import random\n",
    "\n",
    "class Dice(abc.ABC):\n",
    "    \n",
    "    def __init__(self, n: int, die_class: Type[Die]) -> None:\n",
    "        self.dice = [die_class() for _ in range(n)]\n",
    "    @abc.abstractmethod\n",
    "    def roll(self) -> None:\n",
    "        ...\n",
    "    @property\n",
    "    def total(self) -> int:\n",
    "        return sum(d.face for d in self.dice)\n"
   ],
   "metadata": {
    "collapsed": false,
    "ExecuteTime": {
     "end_time": "2024-01-03T03:30:31.882331200Z",
     "start_time": "2024-01-03T03:30:31.599631100Z"
    }
   },
   "id": "afcc10e6baabe52a"
  },
  {
   "cell_type": "markdown",
   "source": [
    "The `__init__()` method expects an integer, n, and the class used to create Die instances, named die_class. \n",
    "\n",
    "The type hint is `Type[Die]`, telling mypy to be on the lookout for any subclass of the abstract base class Die. \n",
    "\n",
    "We don't expect an instance of any of the Die subclasses; we expect the class object itself. \n",
    "\n",
    "We'd expect to see SomeDice(6, D6) to create a list of six instances of the D6 class.\n",
    "\n",
    "We've defined the collection of Die instances as a list because that seems simple. Some games will identify dice by their position when saving some dice and rerolling the remainder of the dice, and the integer list indices seem useful for that.\n",
    "\n",
    "This subclass implements the roll-all-the-dice rule:"
   ],
   "metadata": {
    "collapsed": false
   },
   "id": "715b698d62f81cc8"
  },
  {
   "cell_type": "code",
   "execution_count": 194,
   "outputs": [],
   "source": [
    "class SimpleDice(Dice):\n",
    "    def roll(self) -> None:\n",
    "        for d in self.dice:\n",
    "            d.roll()\n"
   ],
   "metadata": {
    "collapsed": false,
    "ExecuteTime": {
     "end_time": "2024-01-03T03:30:31.909435100Z",
     "start_time": "2024-01-03T03:30:31.615707500Z"
    }
   },
   "id": "87218312099aaeab"
  },
  {
   "cell_type": "markdown",
   "source": [
    "Each time the application evaluates roll(), all the dice are updated."
   ],
   "metadata": {
    "collapsed": false
   },
   "id": "ca4843bc8c17532b"
  },
  {
   "cell_type": "code",
   "execution_count": 195,
   "outputs": [],
   "source": [
    "sd = SimpleDice(6, D6)\n",
    "sd.roll()"
   ],
   "metadata": {
    "collapsed": false,
    "ExecuteTime": {
     "end_time": "2024-01-03T03:30:31.945236500Z",
     "start_time": "2024-01-03T03:30:31.631400400Z"
    }
   },
   "id": "12c05035d7ebd188"
  },
  {
   "cell_type": "code",
   "execution_count": 196,
   "outputs": [
    {
     "data": {
      "text/plain": "17"
     },
     "execution_count": 196,
     "metadata": {},
     "output_type": "execute_result"
    }
   ],
   "source": [
    "sd.total"
   ],
   "metadata": {
    "collapsed": false,
    "ExecuteTime": {
     "end_time": "2024-01-03T03:30:31.945236500Z",
     "start_time": "2024-01-03T03:30:31.646984400Z"
    }
   },
   "id": "13e07bca3629e22e"
  },
  {
   "cell_type": "markdown",
   "source": [
    "Here's another subclass that provides a dramatically different set of methods. Some of these fill in the spaces left by abstract methods. Others, however, are unique to the subclass:"
   ],
   "metadata": {
    "collapsed": false
   },
   "id": "82dd063e3a98d691"
  },
  {
   "cell_type": "code",
   "execution_count": 197,
   "outputs": [],
   "source": [
    "\n",
    "\n",
    "from typing import Set, Iterable\n",
    "\n",
    "\n",
    "class YachtDice(Dice):\n",
    "    def __init__(self) -> None:\n",
    "        super().__init__(5, D6)\n",
    "        self.saved: Set[int] = set()\n",
    "    def saving(self, positions: Iterable[int]) -> \"YachtDice\":\n",
    "        if not all(0 <= n < 6 for n in positions):\n",
    "            raise ValueError(\"Invalid position\")\n",
    "        self.saved = set(positions)\n",
    "        return self\n",
    "    def roll(self) -> None:\n",
    "        for n, d in enumerate(self.dice):\n",
    "            if n not in self.saved:\n",
    "                d.roll()\n",
    "        self.saved = set()\n"
   ],
   "metadata": {
    "collapsed": false,
    "ExecuteTime": {
     "end_time": "2024-01-03T03:30:31.945236500Z",
     "start_time": "2024-01-03T03:30:31.662635600Z"
    }
   },
   "id": "97a0f1fc264a532b"
  },
  {
   "cell_type": "markdown",
   "source": [
    "We've created a set of saved positions. This is initially empty. \n",
    "\n",
    "We can use the saving() method to provide an iterable collection of integers as positions to save. It works like this:"
   ],
   "metadata": {
    "collapsed": false
   },
   "id": "999cafbfffce27ac"
  },
  {
   "cell_type": "code",
   "execution_count": 198,
   "outputs": [],
   "source": [
    "sd = YachtDice()\n",
    "\n",
    "sd.roll()\n"
   ],
   "metadata": {
    "collapsed": false,
    "ExecuteTime": {
     "end_time": "2024-01-03T03:30:31.945236500Z",
     "start_time": "2024-01-03T03:30:31.678223600Z"
    }
   },
   "id": "5444c75c2ceeb1f5"
  },
  {
   "cell_type": "code",
   "execution_count": 199,
   "outputs": [
    {
     "data": {
      "text/plain": "[1, 5, 5, 1, 5]"
     },
     "execution_count": 199,
     "metadata": {},
     "output_type": "execute_result"
    }
   ],
   "source": [
    "sd.dice"
   ],
   "metadata": {
    "collapsed": false,
    "ExecuteTime": {
     "end_time": "2024-01-03T03:30:31.945236500Z",
     "start_time": "2024-01-03T03:30:31.693851700Z"
    }
   },
   "id": "ce2073aca62e1559"
  },
  {
   "cell_type": "code",
   "execution_count": 200,
   "outputs": [],
   "source": [
    "sd.saving([0, 2, 4]).roll()"
   ],
   "metadata": {
    "collapsed": false,
    "ExecuteTime": {
     "end_time": "2024-01-03T03:30:31.945236500Z",
     "start_time": "2024-01-03T03:30:31.709902100Z"
    }
   },
   "id": "59ac758fc69ceffb"
  },
  {
   "cell_type": "code",
   "execution_count": 201,
   "outputs": [
    {
     "data": {
      "text/plain": "[1, 1, 5, 1, 5]"
     },
     "execution_count": 201,
     "metadata": {},
     "output_type": "execute_result"
    }
   ],
   "source": [
    "sd.dice"
   ],
   "metadata": {
    "collapsed": false,
    "ExecuteTime": {
     "end_time": "2024-01-03T03:30:31.960862500Z",
     "start_time": "2024-01-03T03:30:31.725564700Z"
    }
   },
   "id": "29436eeb76987947"
  },
  {
   "cell_type": "markdown",
   "source": [
    "In both cases, the Die class and the Dice class, it's not clear that the abc.\n",
    "\n",
    "ABC base class and the presence of an `@abc.abstractmethod` decoration is dramatically better than providing a concrete base class with a common set of default definitions.\n",
    "\n",
    "In some languages, the abstraction-based definition is required. \n",
    "\n",
    "In Python, because of duck typing, abstraction is optional. \n",
    "\n",
    "In cases where it clarifies the design intent, use it. \n",
    "\n",
    "In cases where it seems fussy and little more than overhead, set it aside.\n",
    "\n",
    "Because it's used to define the collections, we'll often use the `collection.abc` names in type hints to describe the protocols objects must follow. \n",
    "\n",
    "In less common cases, we'll leverage the collections.abc abstractions to create our own unique collections."
   ],
   "metadata": {
    "collapsed": false
   },
   "id": "18f873f4d3e794b1"
  },
  {
   "cell_type": "markdown",
   "source": [
    "# DEMYSTIFYING the MAGIC"
   ],
   "metadata": {
    "collapsed": false
   },
   "id": "2accda33c2168ad1"
  },
  {
   "cell_type": "markdown",
   "source": [
    "We have used abstract base classes and it is clear they are doing a lot of work.\n",
    "\n",
    "Let's look inside the class to see some of what's going on:"
   ],
   "metadata": {
    "collapsed": false
   },
   "id": "41ef1085867674b2"
  },
  {
   "cell_type": "markdown",
   "source": [
    "from dice import Die\n",
    "\n",
    "Die.__abstractmethods__\n",
    "frozenset({'roll'})\n",
    "\n",
    "\n",
    "Die.roll.__isabstractmethod__\n",
    "True\n"
   ],
   "metadata": {
    "collapsed": false
   },
   "id": "99381104b4ab6451"
  },
  {
   "cell_type": "markdown",
   "source": [
    "Abstract method, `roll()`, is tracked in a specially named attribute, `__abstractmethods__` of the class.\n",
    "\n",
    "This suggests what the `@abc.abstractmethod` decorator is doing.\n",
    "\n",
    "This decorator sets `__isabstractmethod__` to mark the method.\n",
    "\n",
    "When Python finally builds the class from the various methods and attributes, the list of abstractions is also collected to create a class-level set of moethods that must be implemented.\n",
    "\n",
    "Any subclass that extends `Die` will also inherit this `__abstractmethods__` set.\n",
    "\n",
    "When methods are defined inside the subclass, names are removed from the set as Python builds the class from the definitions.\n",
    "\n",
    "We can only create instances of a class where the set of abstract methods in the class is empty.\n",
    "\n",
    "Central to this is the way classes are created: \n",
    "\n",
    "**A class builds objects.**\n",
    "\n",
    "This is the essence of most of object-oriented programming. But what is a class?\n",
    "\n",
    "- A class is another object with two very limited jobs: it has the special methods used to create and manage instances of the class, and it also acts as a container for the method definitions for objects of the class\n",
    "\n",
    "- We think of building class objects with the `class` statement, which leaves open the question of how the `class ` statement builds the `class` object.\n",
    "\n",
    "- The `type` class is the internal object that builds our application classes. When we enter the code for a class, the details of construction are actually the responsibility of methods of the `type` class.\n",
    "\n",
    "- After `type` has created our application class, our class then creates the application objects that solve our problem."
   ],
   "metadata": {
    "collapsed": false
   },
   "id": "afcf0a8865f775da"
  },
  {
   "cell_type": "markdown",
   "source": [
    "**The `type` object is called the metaclass, the class used to build classes.**\n",
    "\n",
    "This means every class object is an instance of `type`.\n",
    "\n",
    "Most of the time, we are perfectly happy with letting a class statement be handled bt the `type` metaclass, so our application code can run.\n",
    "\n",
    "There is one place, however, where we might want to change how `type` works.\n",
    "\n",
    "Because `type` is itself a class, it can be extended.\n",
    "\n",
    "A class `abc.ABCMeta` extends the `type` class to check for methods decorated with `@abstractmethod`.\n",
    "\n",
    "When we extend `abc.ABC`, we are creating a new class that uses the `ABCMeta` metaclass.\n",
    "\n",
    "We can see this in the value of the special `__mro__` attribute of the `ABCMeta` class; this attribute lists the classes used for resolving method names **(MRO is Method Resolution Order)**. \n",
    "\n",
    "This special attribute lists the following classes to be searched for a given attribute: the `abc.ABCMeta` class, the type class, and finally the object class.\n",
    "\n",
    "We can use the ABCMeta metaclass explicitly when we create a new class, if we want:\n"
   ],
   "metadata": {
    "collapsed": false
   },
   "id": "57f90f6db4efe85d"
  },
  {
   "cell_type": "code",
   "execution_count": 203,
   "outputs": [],
   "source": [
    "class DieM(metaclass=abc.ABCMeta):\n",
    "    def __init__(self) -> None:\n",
    "        self.face: int\n",
    "        self.roll()\n",
    "    @abc.abstractmethod\n",
    "    def roll(self) -> None:\n",
    "        ...\n"
   ],
   "metadata": {
    "collapsed": false,
    "ExecuteTime": {
     "end_time": "2024-01-03T03:58:45.423533600Z",
     "start_time": "2024-01-03T03:58:45.313681500Z"
    }
   },
   "id": "39cf6236e1a848b"
  },
  {
   "cell_type": "markdown",
   "source": [
    "Now that we've seen how classes are built, we can consider other things we can do when creating and extending classes. \n",
    "\n",
    "Python exposes the binding between the syntactic operators, like the `/` operator, and the methods of the implementing class. \n",
    "\n",
    "This allows the `float` and `int` classes to do different things with the `/` operator, but it can also be used for quite different purposes. "
   ],
   "metadata": {
    "collapsed": false
   },
   "id": "51357fc181c685f6"
  },
  {
   "cell_type": "markdown",
   "source": [
    "# OPERATOR OVERLOADING\n",
    "\n",
    "Python's operators `+`, `/`, `-`, `*`, and so on, are implemented by special methods on classes.\n",
    "\n",
    "We can apply Python operators more widely than the built-in numbers and collection types.\n",
    "\n",
    "Doing this can be called **overloading** the operators: letting them work with more than  the build-in types.\n",
    "\n",
    "Looking back at the The `collections.abc` module section, earlier in this chapter, we dropped a hint about how Python connects some built-in features with our classes. \n",
    "\n",
    "When we look at the `collections.abc.Collection` class, it is the abstract base class for all `Sized`, `Iterable`, `Containers`; it requires three methods that enable two built-in functions and one built-in operator:\n",
    "\n",
    "- `__len()__` method is used by the built-in len() function.\n",
    "\n",
    "- -The `__iter__()` method is used by the built-in `iter()` function, which means it's used by the `for` statement.\n",
    "\n",
    "- The `__contains__()` method is used by the built-in `in` operator. This operator is implemented by methods of built-in classes.\n",
    "\n",
    "It's not wrong to imagine the built-in len() function has this definition:"
   ],
   "metadata": {
    "collapsed": false
   },
   "id": "419a750864a83d24"
  },
  {
   "cell_type": "code",
   "execution_count": 205,
   "outputs": [],
   "source": [
    "from typing import Sized\n",
    "\n",
    "\n",
    "def len(object: Sized) -> int:\n",
    "    return object.__len__()\n"
   ],
   "metadata": {
    "collapsed": false,
    "ExecuteTime": {
     "end_time": "2024-01-03T04:12:51.359428100Z",
     "start_time": "2024-01-03T04:12:51.265634600Z"
    }
   },
   "id": "e6938a3538e02e21"
  },
  {
   "cell_type": "markdown",
   "source": [
    "When we ask for `len(x)`, it's doing the same thing as `x.__len__()`, but is shorter, easier to read, and easier to remember. \n",
    "\n",
    "Similarly, `iter(y)` is effectively `y.__iter__()`. And an expression like `z in S` is evaluated as if it was `S.__contains__(z)`.\n",
    "\n",
    "And yes, with a few exceptions, all of Python works this way. \n",
    "\n",
    "We write pleasant, easy-to-read expressions that are transformed into special methods. \n",
    "\n",
    "**The only exceptions are the logic operations: and, or, not, and if-else. These don't map directly to special method definitions**.\n",
    "\n",
    "Because almost all of Python relies on the special methods, it means we can change their behavior to add features. \n",
    "\n",
    "We can overload the operators with new data types. \n",
    "\n",
    "One prominent example of this is in the pathlib module:"
   ],
   "metadata": {
    "collapsed": false
   },
   "id": "a6ab8fc5a66f2f05"
  },
  {
   "cell_type": "markdown",
   "source": [
    "    from pathlib import Path\n",
    "    home = Path.home()\n",
    "    home / \"miniconda3\" / \"envs\"\n",
    "PosixPath('/Users/slott/miniconda3/envs')\n"
   ],
   "metadata": {
    "collapsed": false
   },
   "id": "9768fe8962fb10b"
  },
  {
   "cell_type": "markdown",
   "source": [
    "What does not vary is that the `/` operator is used to connect a `Path` object with string objects to create a new `Path` object.\n",
    "\n",
    "The `/` operator is implemented bt the `__truediv__()` and `__rtruediv__()`methods.\n",
    "\n",
    "In order to make operations commutative, Python has two places to look for an implementation.\n",
    "\n",
    "Given an expression of `A` op `B`, where op is any of the Python operators like `__add__` for `+`, Python does the following checks for special methods to implement the operator:\n",
    "\n",
    "1- There is a special case when `B` is proper subclass of `A`. \n",
    "\n",
    "In those rare cases, the order is reversed so `B.__r` op `__(A)` can be tried before any of the others. This lets the subclass `B` override an operation from superclass `A`.\n",
    "\n",
    "2- Try `A.__` op `__(B)`. If this returns a value that's not the special `NotImplemented` value, this is the result. \n",
    "\n",
    "For a Path object expression like `home / \"miniconda3\"`, this is effectively `home.__truediv__(\"miniconda3\")`. \n",
    "\n",
    "A new Path object is built from the old Path object and the string.\n",
    "\n",
    "3- Try `B.__r` op `__(A)`. This might ne the `__radd__()` method for the reverse addition implementation.\n",
    "\n",
    "If this method returns a value other than `NotImplemented` value, this is the result.\n",
    "\n",
    "Note that the operand ordering is reversed.  \n",
    "\n",
    "For commutative operations, like addition and multiplication, this does not matter. \n",
    "\n",
    "For non-commutative operations, like subtraction and division, the change in ordering needs to be reflected in the implementation."
   ],
   "metadata": {
    "collapsed": false
   },
   "id": "d55d1443ac763c45"
  },
  {
   "cell_type": "markdown",
   "source": [
    "Let's return to our handful of dice example. \n",
    "\n",
    "We can implement a `+` operator to add a `Die` instance to a collection of `Dice`. \n",
    "\n",
    "We'll start with a base definition of a class that contains a heterogenous handful of different kinds of dice. \n",
    "\n",
    "Check the previous `Dice` class, which assumed homogenous dice. \n",
    "\n",
    "This isn't an abstract class; it has a definition of `roll` that re-rolls all the dice. \n",
    "\n",
    "We'll start with some basics and then incorporate the `__add__()` special method:"
   ],
   "metadata": {
    "collapsed": false
   },
   "id": "64ed63f0ebe2082f"
  },
  {
   "cell_type": "code",
   "execution_count": 210,
   "outputs": [],
   "source": [
    "from typing import Type, Any\n",
    "import abc\n",
    "\n",
    "\n",
    "class DDice:\n",
    "    def __init__(self, *die_class: Type[Die]) -> None:\n",
    "        self.dice = [dc() for dc in die_class]\n",
    "        self.adjust: int = 0\n",
    "    def plus(self, adjust: int = 0) -> \"DDice\":\n",
    "        self.adjust = adjust\n",
    "        return self\n",
    "    def roll(self) -> None:\n",
    "        for d in self.dice:\n",
    "            d.roll()\n",
    "    @property\n",
    "    def total(self) -> int:\n",
    "        return sum(d.face for d in self.dice) + self.adjust\n"
   ],
   "metadata": {
    "collapsed": false,
    "ExecuteTime": {
     "end_time": "2024-01-03T05:27:52.296237500Z",
     "start_time": "2024-01-03T05:27:52.231755300Z"
    }
   },
   "id": "381ae3f4130a6fc9"
  },
  {
   "cell_type": "markdown",
   "source": [
    "This shouldn't be much of a surprise. It looks a lot like the `Dice` class defined above. \n",
    "\n",
    "We've added an `adjust` attribute set by the `plus()` method so we can use DDice(D6, D6, D6).plus(2). \n",
    "\n",
    "It fits better with some tabletop role-playing games (TTRPGs).\n",
    "\n",
    "Also, recall that we provide the types of the dice to the DDice class, not instances of the dice. \n",
    "\n",
    "We use the class object, D6, not a Die instance, created by an expression like D6(). \n",
    "\n",
    "The instances of the classes are created by DDice in the `__init__()` method.\n",
    "\n",
    "Here's the cool part: we can use the plus operator with DDice objects, Die classes, and integers to define a complex roll of the dice:"
   ],
   "metadata": {
    "collapsed": false
   },
   "id": "7befcfdef59772fb"
  },
  {
   "cell_type": "code",
   "execution_count": 211,
   "outputs": [],
   "source": [
    "def __add__(self, die_class: Any) -> \"DDice\":\n",
    "    if isinstance(die_class, type) and issubclass(die_class, Die):\n",
    "        new_classes = [type(d) for d in self.dice] + [die_class]\n",
    "        new = DDice(*new_classes).plus(self.adjust)\n",
    "        return new\n",
    "    elif isinstance(die_class, int):\n",
    "        new_classes = [type(d) for d in self.dice]\n",
    "        new = DDice(*new_classes).plus(die_class)\n",
    "        return new\n",
    "    else:\n",
    "        return NotImplemented\n",
    "def __radd__(self, die_class: Any) -> \"DDice\":\n",
    "    if isinstance(die_class, type) and issubclass(die_class, Die):\n",
    "        new_classes = [die_class] + [type(d) for d in self.dice]\n",
    "        new = DDice(*new_classes).plus(self.adjust)\n",
    "        return new\n",
    "    elif isinstance(die_class, int):\n",
    "        new_classes = [type(d) for d in self.dice]\n",
    "        new = DDice(*new_classes).plus(die_class)\n",
    "        return new\n",
    "    else:\n",
    "        return NotImplemented\n"
   ],
   "metadata": {
    "collapsed": false,
    "ExecuteTime": {
     "end_time": "2024-01-03T05:28:03.160498700Z",
     "start_time": "2024-01-03T05:28:03.097549200Z"
    }
   },
   "id": "3193c90085ba076"
  },
  {
   "cell_type": "markdown",
   "source": [
    "These two methods are similar in many ways. We check for three separate kinds of `+` operations:\n",
    "\n",
    "If the argument value, `die_class`, is a type, and it's a subclass of the `Die` class, then we're adding another `Die` object to a `DDice` collection. \n",
    "\n",
    "It's an expression like DDice(D6) + D6 + D6. The semantics of most operator implementations is to create a new object from the previous objects.\n",
    "\n",
    "If the argument value is an integer, then we're adding an adjustment to a set of dice. \n",
    "\n",
    "This is something like DDice(D6, D6, D6) + 2.\n",
    "\n",
    "If the argument value is neither a subclass of `Die` nor an integer, then something else is going on, and this class doesn't have an implementation. \n",
    "\n",
    "This may be some kind of bug, or it might be that the other class involved in the operation can provide an implementation; returning NotImplemented gives the other object a chance at performing the operation.\n",
    "\n",
    "\n",
    "Because we've provided `__radd__()` as well as `__add__()`, these operations are commutative. We can use expressions like D6 + DDice(D6) + D6 and 2 + DDice(D6, D6).\n",
    "\n",
    "We need to make specific `isinstance()` checks because Python operators are completely generic, and the expected type hint must be `Any`. \n",
    "\n",
    "We can only narrow down the applicable types through runtime checks. \n",
    "\n",
    "The mypy program is astute about following the branching logic to confirm that an integer object was properly used in an integer context.\n",
    "\n",
    "\"But wait,\" you say. \"My favorite game has rules that call for 3d6+2.\" This is shorthand for rolling three six-sided dice and adding two to the result. \n",
    "\n",
    "In many TTRPGs, this kind of abbreviation is used to summarize the dice.\n",
    "\n",
    "Can we add multiplication to do this? There's no reason why not. \n",
    "\n",
    "For multiplication, we only need to worry about integers. D6 * D6 isn't used in any of the rules, but 3*D6matches the text of most TTRPG rules nicely:"
   ],
   "metadata": {
    "collapsed": false
   },
   "id": "66088ad030ecb7e3"
  },
  {
   "cell_type": "code",
   "execution_count": 213,
   "outputs": [],
   "source": [
    "def __mul__(self, n: Any) -> \"DDice\":\n",
    "    if isinstance(n, int):\n",
    "        new_classes = [type(d) for d in self.dice for _ in range(n)]\n",
    "        return DDice(*new_classes).plus(self.adjust)\n",
    "    else:\n",
    "        return NotImplemented\n",
    "def __rmul__(self, n: Any) -> \"DDice\":\n",
    "    if isinstance(n, int):\n",
    "        new_classes = [type(d) for d in self.dice for _ in range(n)]\n",
    "        return DDice(*new_classes).plus(self.adjust)\n",
    "    else:\n",
    "        return NotImplemented\n"
   ],
   "metadata": {
    "collapsed": false,
    "ExecuteTime": {
     "end_time": "2024-01-03T05:28:59.065682900Z",
     "start_time": "2024-01-03T05:28:58.988107400Z"
    }
   },
   "id": "81b7421b2112e634"
  },
  {
   "cell_type": "markdown",
   "source": [
    "These two methods follow a similar design pattern to the` __add__()` and `__radd__()` methods. \n",
    "\n",
    "For each existing Die subclass, we'll create several instances of the class.\n",
    " \n",
    "This lets us use `3 * DDice(D6) + 2` as an expression to define a dice-rolling rule. \n",
    "\n",
    "The Python operator precedence rules still apply, so the 3 * DDice(D6) portion is evaluated first.\n",
    "\n",
    "Python's use of the various `__op__()` and `__rop__()` methods works out extremely well for applying the various operators to objects that are immutable: strings, numbers, and tuples being the primary examples. \n",
    "\n",
    "Our handful of dice presents a bit of a head-scratcher because the state of the individual dice can change. \n",
    "\n",
    "What's important is that we treat the composition of the hand as immutable. \n",
    "\n",
    "Each operation on a DDice object creates a new DDice instance.\n",
    "\n",
    "What about mutable objects? \n",
    "\n",
    "When we write an assignment statement like `some_list += [some_item]`, we're mutating the value of the `some_list` object. \n",
    "\n",
    "The `+=` statement does the same thing as the more complex expression `some_list.extend([some_item])`. \n",
    "\n",
    "Python supports this with operators with names like `__iadd__()` and `__imul__()`. \n",
    "\n",
    "These are \"in-place\" operations, designed to mutate objects.\n",
    "\n",
    "For example, consider:"
   ],
   "metadata": {
    "collapsed": false
   },
   "id": "746d45e038fb949e"
  },
  {
   "cell_type": "markdown",
   "source": [
    "y = DDice(D6, D6)\n",
    "\n",
    "y += D6"
   ],
   "metadata": {
    "collapsed": false
   },
   "id": "f41e8d8af14ff132"
  },
  {
   "cell_type": "markdown",
   "source": [
    "This can be processed one of two ways:\n",
    "\n",
    "If DDice implements `__iadd__()`, this becomes `y.__iadd__(D6)`. The object can mutate itself in place.\n",
    "\n",
    "If DDice does not implement `__iadd__()`, this is `y = y.__add__(D6)`. \n",
    "\n",
    "The object creates a new, immutable object, and that's given the old object's variable name. \n",
    "\n",
    "This lets us do things like `string_variable += \".\"`. \n",
    "\n",
    "Under the hood, string_variable is not mutated; it's replaced.\n",
    "\n",
    "If it makes sense for an object to be mutable, we can support in-place mutation of a DDice object with this method:\n"
   ],
   "metadata": {
    "collapsed": false
   },
   "id": "41fbf8f50c27a96"
  },
  {
   "cell_type": "code",
   "execution_count": 216,
   "outputs": [],
   "source": [
    "def __iadd__(self, die_class: Any) -> \"DDice\":\n",
    "    if isinstance(die_class, type) and issubclass(die_class, Die):\n",
    "        self.dice += [die_class()]\n",
    "        return self\n",
    "    elif isinstance(die_class, int):\n",
    "        self.adjust += die_class\n",
    "        return self\n",
    "    else:\n",
    "        return NotImplemented\n"
   ],
   "metadata": {
    "collapsed": false,
    "ExecuteTime": {
     "end_time": "2024-01-03T05:30:18.269079200Z",
     "start_time": "2024-01-03T05:30:18.080731800Z"
    }
   },
   "id": "639c8a08739b0f83"
  },
  {
   "cell_type": "markdown",
   "source": [
    "The __iadd__() method appends to the internal collection of dice. \n",
    "\n",
    "It follows rules similar to the __add__() methods: when a class is provided, an instance is created, and it's added to the `self.dice `list; if an integer is provided, it's added to the `self.adjust` value.\n",
    "\n",
    "We can now perform incremental changes to a single dice-rolling rule. \n",
    "\n",
    "We can mutate the state of a single DDice object using assignment statements. \n",
    "\n",
    "Because the object mutates, we aren't creating a lot of copies of the object. The creation of complex dice looks like this:"
   ],
   "metadata": {
    "collapsed": false
   },
   "id": "37bc2a59b5eed63b"
  },
  {
   "cell_type": "markdown",
   "source": [
    " y = DDice(D6, D6)\n",
    " y += D6\n",
    " y += 2\n"
   ],
   "metadata": {
    "collapsed": false
   },
   "id": "b14a40e74e0c2f50"
  },
  {
   "cell_type": "markdown",
   "source": [
    "This builds the 3d6+2 dice roller in incremental pieces.\n",
    "\n",
    "The use of the internal special method names allows for seamless integration with other Python features. \n",
    "\n",
    "We can build classes using collections.abc that fit with existing collections. \n",
    "\n",
    "We can override the methods implementing the Python operators to create easy-to-use syntax.\n",
    "\n",
    "We can leverage the special method names to add features to Python's built-in generic collections."
   ],
   "metadata": {
    "collapsed": false
   },
   "id": "dbc2f25832380ab2"
  },
  {
   "cell_type": "markdown",
   "source": [
    "# EXTENDING THE BUILT-IN \n",
    "\n"
   ],
   "metadata": {
    "collapsed": false
   },
   "id": "abba6bf350f23c24"
  },
  {
   "cell_type": "markdown",
   "source": [],
   "metadata": {
    "collapsed": false
   },
   "id": "a35a234f48c35e99"
  }
 ],
 "metadata": {
  "kernelspec": {
   "display_name": "Python 3",
   "language": "python",
   "name": "python3"
  },
  "language_info": {
   "codemirror_mode": {
    "name": "ipython",
    "version": 2
   },
   "file_extension": ".py",
   "mimetype": "text/x-python",
   "name": "python",
   "nbconvert_exporter": "python",
   "pygments_lexer": "ipython2",
   "version": "2.7.6"
  }
 },
 "nbformat": 4,
 "nbformat_minor": 5
}
