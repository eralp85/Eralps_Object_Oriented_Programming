{
 "cells": [
  {
   "cell_type": "markdown",
   "source": [
    "# METHOD EXERCISE\n"
   ],
   "metadata": {
    "collapsed": false
   },
   "id": "42ab8a3004c8ded6"
  },
  {
   "cell_type": "code",
   "execution_count": 163,
   "outputs": [],
   "source": [
    "class Date:\n",
    "    # Constructor / Init Method\n",
    "    def __init__(self, year, month, day):\n",
    "        self.year = year\n",
    "        self.month = month\n",
    "        self.day = day\n",
    "    \n",
    "    # Instance Method (passes only self)\n",
    "    def arrange_value_into_Date(self):\n",
    "        date = str(self.day) + \"/\" + str(self.month) + \"/\" + str(self.year)\n",
    "        return date\n",
    "    \n",
    "    # Class Method (passes cls)\n",
    "    @classmethod\n",
    "    def get_data_from_string(cls, string):\n",
    "        import re\n",
    "        data = re.findall(\"\\d{2}/\\d{2}/\\d{4}\",string)[0]\n",
    "        list_date = data.replace(\"/\", \"-\").split(\"-\")\n",
    "        year = list_date[0]\n",
    "        month = list_date[1]\n",
    "        date = list_date[2]\n",
    "        return cls(date, month, year)\n",
    "    \n",
    "    @staticmethod #Static Method (passes nothing)\n",
    "    def setDatePattern(string):\n",
    "        list1 = string.replace(\"/\", \"-\").split(\"-\")\n",
    "        date_update= list1[2] + \"-\" + list1[1] + \"-\" + list1[0]\n",
    "        return date_update\n",
    "    "
   ],
   "metadata": {
    "collapsed": false,
    "ExecuteTime": {
     "end_time": "2023-11-18T09:50:32.586197900Z",
     "start_time": "2023-11-18T09:50:32.398697500Z"
    }
   },
   "id": "e33a9a4d368b6972"
  },
  {
   "cell_type": "code",
   "execution_count": 164,
   "outputs": [],
   "source": [
    "date1 = Date(2019, 10, 30)"
   ],
   "metadata": {
    "collapsed": false,
    "ExecuteTime": {
     "end_time": "2023-11-18T09:50:32.586197900Z",
     "start_time": "2023-11-18T09:50:32.414327300Z"
    }
   },
   "id": "fa8946f75f36483"
  },
  {
   "cell_type": "code",
   "execution_count": 165,
   "outputs": [
    {
     "data": {
      "text/plain": "{'year': 2019, 'month': 10, 'day': 30}"
     },
     "execution_count": 165,
     "metadata": {},
     "output_type": "execute_result"
    }
   ],
   "source": [
    "date1.__dict__"
   ],
   "metadata": {
    "collapsed": false,
    "ExecuteTime": {
     "end_time": "2023-11-18T09:50:32.586197900Z",
     "start_time": "2023-11-18T09:50:32.429949200Z"
    }
   },
   "id": "c87af68b17601649"
  },
  {
   "cell_type": "code",
   "execution_count": 166,
   "outputs": [
    {
     "data": {
      "text/plain": "'30/10/2019'"
     },
     "execution_count": 166,
     "metadata": {},
     "output_type": "execute_result"
    }
   ],
   "source": [
    "date1.arrange_value_into_Date()"
   ],
   "metadata": {
    "collapsed": false,
    "ExecuteTime": {
     "end_time": "2023-11-18T09:50:32.586197900Z",
     "start_time": "2023-11-18T09:50:32.445585Z"
    }
   },
   "id": "5b66f989866f4b4d"
  },
  {
   "cell_type": "code",
   "execution_count": 167,
   "outputs": [],
   "source": [
    "date2 = Date.get_data_from_string(\"Today is 19/10/1985\")"
   ],
   "metadata": {
    "collapsed": false,
    "ExecuteTime": {
     "end_time": "2023-11-18T09:50:32.586197900Z",
     "start_time": "2023-11-18T09:50:32.461200100Z"
    }
   },
   "id": "b625eb71728b4d79"
  },
  {
   "cell_type": "code",
   "execution_count": 168,
   "outputs": [
    {
     "data": {
      "text/plain": "{'year': '1985', 'month': '10', 'day': '19'}"
     },
     "execution_count": 168,
     "metadata": {},
     "output_type": "execute_result"
    }
   ],
   "source": [
    "date2.__dict__"
   ],
   "metadata": {
    "collapsed": false,
    "ExecuteTime": {
     "end_time": "2023-11-18T09:50:32.586197900Z",
     "start_time": "2023-11-18T09:50:32.476824Z"
    }
   },
   "id": "af284109001afa2b"
  },
  {
   "cell_type": "code",
   "execution_count": 169,
   "outputs": [
    {
     "data": {
      "text/plain": "'19/10/1985'"
     },
     "execution_count": 169,
     "metadata": {},
     "output_type": "execute_result"
    }
   ],
   "source": [
    "date2.arrange_value_into_Date()"
   ],
   "metadata": {
    "collapsed": false,
    "ExecuteTime": {
     "end_time": "2023-11-18T09:50:32.586197900Z",
     "start_time": "2023-11-18T09:50:32.492459200Z"
    }
   },
   "id": "135531202a3a495b"
  },
  {
   "cell_type": "code",
   "execution_count": 174,
   "outputs": [],
   "source": [
    "date3 = Date.get_data_from_string(\"dogum gunum 19/10/1985\")"
   ],
   "metadata": {
    "collapsed": false,
    "ExecuteTime": {
     "end_time": "2023-11-18T09:51:12.782962Z",
     "start_time": "2023-11-18T09:51:12.746791700Z"
    }
   },
   "id": "88a49e1992e28e36"
  },
  {
   "cell_type": "code",
   "execution_count": 171,
   "outputs": [
    {
     "data": {
      "text/plain": "'19/10/1985'"
     },
     "execution_count": 171,
     "metadata": {},
     "output_type": "execute_result"
    }
   ],
   "source": [
    "date3.arrange_value_into_Date()"
   ],
   "metadata": {
    "collapsed": false,
    "ExecuteTime": {
     "end_time": "2023-11-18T09:50:32.586197900Z",
     "start_time": "2023-11-18T09:50:32.523718500Z"
    }
   },
   "id": "bdb542ea62db063d"
  },
  {
   "cell_type": "code",
   "execution_count": 172,
   "outputs": [
    {
     "data": {
      "text/plain": "{'year': '1985', 'month': '10', 'day': '19'}"
     },
     "execution_count": 172,
     "metadata": {},
     "output_type": "execute_result"
    }
   ],
   "source": [
    "date3.__dict__"
   ],
   "metadata": {
    "collapsed": false,
    "ExecuteTime": {
     "end_time": "2023-11-18T09:50:32.586197900Z",
     "start_time": "2023-11-18T09:50:32.539332Z"
    }
   },
   "id": "525277a347f3b640"
  },
  {
   "cell_type": "code",
   "execution_count": 173,
   "outputs": [
    {
     "data": {
      "text/plain": "'1985-10-19'"
     },
     "execution_count": 173,
     "metadata": {},
     "output_type": "execute_result"
    }
   ],
   "source": [
    "date3.setDatePattern(date3.arrange_value_into_Date())"
   ],
   "metadata": {
    "collapsed": false,
    "ExecuteTime": {
     "end_time": "2023-11-18T09:50:32.586197900Z",
     "start_time": "2023-11-18T09:50:32.554971100Z"
    }
   },
   "id": "b26a2ad02458f0cc"
  },
  {
   "cell_type": "code",
   "execution_count": 173,
   "outputs": [],
   "source": [],
   "metadata": {
    "collapsed": false,
    "ExecuteTime": {
     "end_time": "2023-11-18T09:50:32.617448600Z",
     "start_time": "2023-11-18T09:50:32.570574800Z"
    }
   },
   "id": "fcd522828fa8cd40"
  }
 ],
 "metadata": {
  "kernelspec": {
   "display_name": "Python 3",
   "language": "python",
   "name": "python3"
  },
  "language_info": {
   "codemirror_mode": {
    "name": "ipython",
    "version": 2
   },
   "file_extension": ".py",
   "mimetype": "text/x-python",
   "name": "python",
   "nbconvert_exporter": "python",
   "pygments_lexer": "ipython2",
   "version": "2.7.6"
  }
 },
 "nbformat": 4,
 "nbformat_minor": 5
}
