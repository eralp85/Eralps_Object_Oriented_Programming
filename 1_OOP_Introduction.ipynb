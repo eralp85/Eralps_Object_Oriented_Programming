{
 "cells": [
  {
   "cell_type": "markdown",
   "source": [
    "# OBJECT ORIENTED PROGRAMMING\n",
    "\n",
    "What is OOP?\n",
    "\n",
    "Object Oriented Programming is the way of programming in an efficient, intelligent and structured way.\n",
    "\n",
    "OOP breaks the program on the basis of objects in it.\n",
    "\n",
    "Object can be defined as an attributes and methods.\n",
    "\n",
    "We put relevant functions of the app in a bunch of blocks (we call them classes).\n",
    "\n",
    "We place objects into the classes.\n",
    "\n",
    "Object-oriented programming (OOP) is a programming paradigm based on the concept of \"objects\", which can contain data and code: data in the form of fields (often known as attributes or properties), and code, in the form of procedures (often known as methods).\n",
    "\n"
   ],
   "metadata": {
    "collapsed": false
   },
   "id": "27c0b87625909f6c"
  },
  {
   "cell_type": "markdown",
   "source": [
    "Here are the core concepts of OOP:\n",
    "\n",
    "**Classes and Objects**: A class is a blueprint for creating objects (a particular data structure), providing initial values for state (member variables or attributes), and implementations of behavior (member functions or methods). An object is an instance of a class.\n",
    "\n",
    "**Encapsulation**: This is the bundling of data with the methods that operate on that data, or the restriction of direct access to some of an object's components, which means that the internal representation of an object can't be seen from outside of the objects definition. Access to the data and methods is tightly controlled by an interface.\n",
    "\n",
    "**Abstraction**: OOP allows for the creation of complex abstract data types by hiding all the complex logic away from the user. The user interacts with the interface that is simple to understand and use, while the complex details are hidden behind.\n",
    "\n",
    "**Inheritance**: This is a way to form new classes using classes that have already been defined. It helps in reusing the code and establishing a relationship between different classes.\n",
    "\n",
    "**Polymorphism**: It allows for the use of a single interface to represent different underlying forms (data types). This means that a single function can operate on different kinds of objects and can behave differently based on the object that it is operating on."
   ],
   "metadata": {
    "collapsed": false
   },
   "id": "bbf4e1410f98e6df"
  },
  {
   "cell_type": "markdown",
   "source": [
    "Why do we use OOP?\n",
    "\n",
    "\n",
    "- It provides a clear modular structure for programs.\n",
    "\n",
    "- It is good for defining abstract data types.\n",
    "Implementation details are hidden from other modules and other modules has a clearly defined interface.\n",
    "\n",
    "- It is easy to maintain and modify existing code as new objects can be created with small differences to existing ones.\n",
    "\n",
    "- It provides a good framework for code libraries where supplied software components can be easily adapted and modified by the programmer."
   ],
   "metadata": {
    "collapsed": false
   },
   "id": "b8f5f3da832656b7"
  },
  {
   "cell_type": "markdown",
   "source": [
    "## What is Class?\n",
    "\n",
    "Class is a place where all our functions, messages are placed.\n",
    "\n",
    "That class will create an object, meaning that it will create an instance.\n",
    "\n",
    "In short, **class** is a blueprint which can be uses as multiple instances as possible.\n",
    "\n",
    "A class is essentially a template or blueprint for creating objects. It defines a type in terms of data (attributes) and behavior (methods).\n",
    "\n",
    "Attributes are the variables that hold data specific to the object. These can represent properties of the object, such as size, shape, color, etc.\n",
    "\n",
    "Methods are functions that are defined within a class and can only be used with instances of that class. They perform operations using the attributes of the objects and can also modify the object's state.\n",
    "\n",
    "A class does not take up any space until it is instantiated into an object, and multiple objects can be created from a single class.\n",
    "\n"
   ],
   "metadata": {
    "collapsed": false
   },
   "id": "8fe43692a2cd8335"
  },
  {
   "cell_type": "markdown",
   "source": [
    "## What is an Object?\n",
    "\n",
    "Objects:\n",
    "\n",
    "An object is an instance of a class. When a class is defined, no memory is allocated until an object is created from the class, either directly or through subclasses.\n",
    "\n",
    "Each object has its own set of attributes and the ability to execute methods defined by its class.\n",
    "\n",
    "Objects can interact with each other through methods, change their own attributes, and initiate actions.\n"
   ],
   "metadata": {
    "collapsed": false
   },
   "id": "d826f7f9364a7e4a"
  },
  {
   "cell_type": "code",
   "execution_count": null,
   "outputs": [],
   "source": [],
   "metadata": {
    "collapsed": false,
    "ExecuteTime": {
     "end_time": "2023-11-09T20:28:31.730931200Z",
     "start_time": "2023-11-09T20:28:31.724260500Z"
    }
   },
   "id": "d386494f69e6335f"
  }
 ],
 "metadata": {
  "kernelspec": {
   "display_name": "Python 3",
   "language": "python",
   "name": "python3"
  },
  "language_info": {
   "codemirror_mode": {
    "name": "ipython",
    "version": 2
   },
   "file_extension": ".py",
   "mimetype": "text/x-python",
   "name": "python",
   "nbconvert_exporter": "python",
   "pygments_lexer": "ipython2",
   "version": "2.7.6"
  }
 },
 "nbformat": 4,
 "nbformat_minor": 5
}
