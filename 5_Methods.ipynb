{
 "cells": [
  {
   "cell_type": "markdown",
   "source": [
    "# METHODS\n",
    "\n",
    "In OOP, we use methods a lot.\n",
    "\n",
    "Methods are functions that are defined inside a class. They are used to perform operations with the attributes of our objects.\n",
    "\n",
    "Methods are essential in encapsulation concept of the OOP paradigm. They are essential to divide responsibilities in programming, especially in large applications.\n",
    "\n",
    "You can basically think of methods as functions acting on an Object that take the Object itself into account through its `self` argument.\n",
    "\n",
    "Let's think outside of OOP for methods.\n",
    "\n",
    "Lets create a list L1."
   ],
   "metadata": {
    "collapsed": false
   },
   "id": "a79b62bd48918933"
  },
  {
   "cell_type": "code",
   "execution_count": 3,
   "outputs": [],
   "source": [
    "L1 = [1,2,3,4,5]"
   ],
   "metadata": {
    "collapsed": false,
    "ExecuteTime": {
     "end_time": "2023-11-10T14:50:38.697077900Z",
     "start_time": "2023-11-10T14:50:38.687002400Z"
    }
   },
   "id": "201394410f9d52be"
  },
  {
   "cell_type": "markdown",
   "source": [
    "If we want to exclude the last element of the list, we can use the `pop` method of the list object.\n",
    "\n",
    "List is class and L1 is object.\n",
    "\n",
    "pop is a method of the list class.\n",
    "\n",
    "Pop performs some kind of action on the list object.\n",
    "\n",
    "Therefore, when we have a function within a class, we call it a method.\n",
    "\n",
    "\n"
   ],
   "metadata": {
    "collapsed": false
   },
   "id": "252c785254d2071c"
  },
  {
   "cell_type": "code",
   "execution_count": 4,
   "outputs": [
    {
     "data": {
      "text/plain": "5"
     },
     "execution_count": 4,
     "metadata": {},
     "output_type": "execute_result"
    }
   ],
   "source": [
    "list.pop(L1)"
   ],
   "metadata": {
    "collapsed": false,
    "ExecuteTime": {
     "end_time": "2023-11-10T14:50:40.766427300Z",
     "start_time": "2023-11-10T14:50:40.750779900Z"
    }
   },
   "id": "d3967c4fd2f1b9ac"
  },
  {
   "cell_type": "markdown",
   "source": [
    "L1 is the list of numbers, and we are calling the pop method of the list class on L1.\n",
    "\n",
    "in here pop() is a method, because when we use it with an object, it performs an action on that object. Pop() excludes the number from the list."
   ],
   "metadata": {
    "collapsed": false
   },
   "id": "b850e70e5ab4f865"
  },
  {
   "cell_type": "code",
   "execution_count": 5,
   "outputs": [
    {
     "data": {
      "text/plain": "4"
     },
     "execution_count": 5,
     "metadata": {},
     "output_type": "execute_result"
    }
   ],
   "source": [
    "L1.pop()"
   ],
   "metadata": {
    "collapsed": false,
    "ExecuteTime": {
     "end_time": "2023-11-13T10:05:33.348024200Z",
     "start_time": "2023-11-13T10:05:33.325897Z"
    }
   },
   "id": "f84e4c2f35db9146"
  },
  {
   "cell_type": "markdown",
   "source": [
    "# CREATING METHODS\n",
    "\n",
    "Lets create a method for our class.\n"
   ],
   "metadata": {
    "collapsed": false
   },
   "id": "28b519ba1b722c11"
  },
  {
   "cell_type": "code",
   "execution_count": 6,
   "outputs": [],
   "source": [
    "class Student:\n",
    "    # Call constructer.\n",
    "    def __init__(self, name, age, grade):\n",
    "        self.name = name\n",
    "        self.age = age\n",
    "        self.grade = grade\n",
    "        \n",
    "        \n",
    "        "
   ],
   "metadata": {
    "collapsed": false,
    "ExecuteTime": {
     "end_time": "2023-11-13T10:08:15.622839400Z",
     "start_time": "2023-11-13T10:08:15.586535700Z"
    }
   },
   "id": "5cd8b4ef8d820296"
  },
  {
   "cell_type": "code",
   "execution_count": 7,
   "outputs": [],
   "source": [
    "# Lets create an object\n",
    "\n",
    "s1 = Student(\"John\", 23, 90)\n",
    "s2 = Student(\"Mike\", 22, 80)"
   ],
   "metadata": {
    "collapsed": false,
    "ExecuteTime": {
     "end_time": "2023-11-13T10:10:00.926482Z",
     "start_time": "2023-11-13T10:10:00.898961800Z"
    }
   },
   "id": "143f57dd9f181eac"
  },
  {
   "cell_type": "code",
   "execution_count": 8,
   "outputs": [
    {
     "data": {
      "text/plain": "'John'"
     },
     "execution_count": 8,
     "metadata": {},
     "output_type": "execute_result"
    }
   ],
   "source": [
    "s1.name"
   ],
   "metadata": {
    "collapsed": false,
    "ExecuteTime": {
     "end_time": "2023-11-13T10:10:03.871143900Z",
     "start_time": "2023-11-13T10:10:03.799060200Z"
    }
   },
   "id": "d6e76e41fa3c8835"
  },
  {
   "cell_type": "markdown",
   "source": [
    "In order to create method we should define it inside the class after the constructer.\n",
    "\n",
    "Creating a method is also similar to creating a function.\n",
    "\n",
    "We use `def` keyword and give a name to our method.\n",
    "\n",
    "Parameters of the method are also similar to the parameters of the function.\n",
    "\n",
    "The only difference is that we should also give `self` as a parameter to the method."
   ],
   "metadata": {
    "collapsed": false
   },
   "id": "21a1bc7a5d0398d2"
  },
  {
   "cell_type": "code",
   "execution_count": 9,
   "outputs": [],
   "source": [
    "class Student:\n",
    "    # Call constructer.\n",
    "    def __init__(self, name, age, grade):\n",
    "        self.name = name\n",
    "        self.age = age\n",
    "        self.grade = grade\n",
    "        \n",
    "    def result(self):\n",
    "        if self.grade >= 50:\n",
    "            return \"Passed\"\n",
    "        else:\n",
    "            return \"Failed\""
   ],
   "metadata": {
    "collapsed": false,
    "ExecuteTime": {
     "end_time": "2023-11-13T11:14:22.372505500Z",
     "start_time": "2023-11-13T11:14:22.348915800Z"
    }
   },
   "id": "9ae53a13ad557bb4"
  },
  {
   "cell_type": "code",
   "execution_count": 10,
   "outputs": [],
   "source": [
    "s1 = Student(\"John\", 23, 90)\n",
    "s2 = Student(\"Mike\", 22, 40)"
   ],
   "metadata": {
    "collapsed": false,
    "ExecuteTime": {
     "end_time": "2023-11-13T11:14:31.736609700Z",
     "start_time": "2023-11-13T11:14:31.686435300Z"
    }
   },
   "id": "b4b7674aaeba80cd"
  },
  {
   "cell_type": "code",
   "execution_count": 11,
   "outputs": [
    {
     "data": {
      "text/plain": "'Passed'"
     },
     "execution_count": 11,
     "metadata": {},
     "output_type": "execute_result"
    }
   ],
   "source": [
    "s1.result()"
   ],
   "metadata": {
    "collapsed": false,
    "ExecuteTime": {
     "end_time": "2023-11-13T11:14:41.302492500Z",
     "start_time": "2023-11-13T11:14:41.222394700Z"
    }
   },
   "id": "679dbe77709c4bda"
  },
  {
   "cell_type": "code",
   "execution_count": 12,
   "outputs": [
    {
     "data": {
      "text/plain": "'Failed'"
     },
     "execution_count": 12,
     "metadata": {},
     "output_type": "execute_result"
    }
   ],
   "source": [
    "s2.result()"
   ],
   "metadata": {
    "collapsed": false,
    "ExecuteTime": {
     "end_time": "2023-11-13T11:14:43.251108900Z",
     "start_time": "2023-11-13T11:14:43.157624200Z"
    }
   },
   "id": "11d79a0cf756d6e8"
  },
  {
   "cell_type": "code",
   "execution_count": null,
   "outputs": [],
   "source": [],
   "metadata": {
    "collapsed": false
   },
   "id": "70a936bb68dad86c"
  }
 ],
 "metadata": {
  "kernelspec": {
   "display_name": "Python 3",
   "language": "python",
   "name": "python3"
  },
  "language_info": {
   "codemirror_mode": {
    "name": "ipython",
    "version": 2
   },
   "file_extension": ".py",
   "mimetype": "text/x-python",
   "name": "python",
   "nbconvert_exporter": "python",
   "pygments_lexer": "ipython2",
   "version": "2.7.6"
  }
 },
 "nbformat": 4,
 "nbformat_minor": 5
}
