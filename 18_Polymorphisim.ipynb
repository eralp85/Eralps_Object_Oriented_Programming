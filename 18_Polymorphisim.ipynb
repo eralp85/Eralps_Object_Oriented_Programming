{
 "cells": [
  {
   "cell_type": "markdown",
   "source": [
    "# POLYMORPHISM (Poly = Many, Morph = Forms)\n",
    "\n",
    "Polymorphism is the ability of an object to take on many forms. The most common use of polymorphism in OOP occurs when a parent class reference is used to refer to a child class object.\n",
    "\n",
    "Polymorphism enables objects of different classes to be used interchangeably, while still providing a common interface.\n",
    " \n",
    "In other words, polymorphism allows you to define one interface and have multiple implementations."
   ],
   "metadata": {
    "collapsed": false
   },
   "id": "a083f7114801eff7"
  },
  {
   "cell_type": "code",
   "execution_count": 3,
   "outputs": [],
   "source": [
    "class Phone:\n",
    "    def __init__(self, brand, model_name, price):\n",
    "        self.brand = brand\n",
    "        self.model_name = model_name\n",
    "        self._price = max(price, 0)\n",
    "        \n",
    "    def full_name(self):\n",
    "        return f\"{self.brand} {self.model_name}\"\n",
    "        "
   ],
   "metadata": {
    "collapsed": false,
    "ExecuteTime": {
     "end_time": "2023-11-18T19:30:21.383316800Z",
     "start_time": "2023-11-18T19:30:21.328059400Z"
    }
   },
   "id": "70216e07ac210f57"
  },
  {
   "cell_type": "code",
   "execution_count": 4,
   "outputs": [],
   "source": [
    "class Smartphone(Phone):\n",
    "    def __init__(self, brand, model_name, price, ram, internal_memory, rear_camera):\n",
    "\n",
    "        super().__init__(brand, model_name, price)\n",
    "        self.ram = ram\n",
    "        self.internal_memory = internal_memory\n",
    "        self.rear_camera = rear_camera\n",
    "        "
   ],
   "metadata": {
    "collapsed": false,
    "ExecuteTime": {
     "end_time": "2023-11-18T19:30:21.392165100Z",
     "start_time": "2023-11-18T19:30:21.344311700Z"
    }
   },
   "id": "cf91ff647ec9e9a7"
  },
  {
   "cell_type": "code",
   "execution_count": 6,
   "outputs": [],
   "source": [
    "class FlagshipPhone(Smartphone):\n",
    "    def __init__(self, brand, model_name, price, ram, internal_memory, rear_camera, front_camera):\n",
    "        super().__init__(brand, model_name, price, ram, internal_memory, rear_camera)\n",
    "        self.front_camera = front_camera"
   ],
   "metadata": {
    "collapsed": false,
    "ExecuteTime": {
     "end_time": "2023-11-18T19:30:24.895469300Z",
     "start_time": "2023-11-18T19:30:24.876137900Z"
    }
   },
   "id": "fcd399b30c60f9b7"
  },
  {
   "cell_type": "code",
   "execution_count": null,
   "outputs": [],
   "source": [],
   "metadata": {
    "collapsed": false
   },
   "id": "41009c3d382d0b66"
  }
 ],
 "metadata": {
  "kernelspec": {
   "display_name": "Python 3",
   "language": "python",
   "name": "python3"
  },
  "language_info": {
   "codemirror_mode": {
    "name": "ipython",
    "version": 2
   },
   "file_extension": ".py",
   "mimetype": "text/x-python",
   "name": "python",
   "nbconvert_exporter": "python",
   "pygments_lexer": "ipython2",
   "version": "2.7.6"
  }
 },
 "nbformat": 4,
 "nbformat_minor": 5
}
