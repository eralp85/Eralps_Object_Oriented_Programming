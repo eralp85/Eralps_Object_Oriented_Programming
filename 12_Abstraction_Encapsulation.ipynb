{
 "cells": [
  {
   "cell_type": "markdown",
   "source": [
    "# ABSTRACTION AND ENCAPSULATION\n",
    "\n",
    "Let's consider a scenario where we hired two developers and give them a different task.\n",
    "\n",
    "Developer 1 is working at method 1 and developer 2 is working at method 2. We do not want developers to see each other's code.\n",
    "\n",
    "Let's assume developer 1 wants to use developer 2's method. We do not want developer 1 to see the code of developer 2's method.\n",
    "\n",
    "How can we do this?\n",
    "\n",
    "Abstraction hides functionality of the code. Developer does not need to know how the method works. He just needs to know how to use it.\n",
    "\n",
    "He can use it with class name and method name.\n",
    "We download from internet just by clicking download button. We do not need to know how the download function works.\n",
    "\n",
    "Abstract classes are classes that contain one or more abstract methods. An abstract method is a method that is declared, but contains no implementation. \n",
    "\n",
    "Abstract classes may not be instantiated, and require subclasses to provide implementations for the abstract methods. \n",
    "\n",
    "Subclasses of an abstract class in Python are not required to implement abstract methods of the parent class.\n",
    "\n",
    "Encapsulation is the packing of data and functions into a single component.\n",
    "\n",
    "Encapsulation is used to hide the values or state of a structured data object inside a class, preventing unauthorized parties' direct access to them.\n",
    "\n",
    "In short, encapsulation is a concept in which we place all the attributes, objects and methods within a class with which they are related. "
   ],
   "metadata": {
    "collapsed": false
   },
   "id": "3103917921b6fc78"
  },
  {
   "cell_type": "code",
   "execution_count": 15,
   "outputs": [],
   "source": [
    "# ENCAPSULATION\n",
    "\n",
    "class Phone:\n",
    "    def __init__(self,brand,model_name,price):\n",
    "        self.brand = brand\n",
    "        self.model_name = model_name\n",
    "        self.price = price\n",
    "    \n",
    "    @staticmethod    \n",
    "    def make_a_call(phone_number):\n",
    "        print(f\"calling {phone_number} ...\")\n",
    "        \n",
    "    def full_name(self):\n",
    "        return f\"{self.brand} {self.model_name}\""
   ],
   "metadata": {
    "collapsed": false,
    "ExecuteTime": {
     "end_time": "2023-11-18T16:10:01.288940Z",
     "start_time": "2023-11-18T16:10:01.273246500Z"
    }
   },
   "id": "a94fd0173db34b7d"
  },
  {
   "cell_type": "code",
   "execution_count": 16,
   "outputs": [],
   "source": [
    "phone1 = Phone('Nokia','1100',4000)"
   ],
   "metadata": {
    "collapsed": false,
    "ExecuteTime": {
     "end_time": "2023-11-18T16:10:01.304550Z",
     "start_time": "2023-11-18T16:10:01.288940Z"
    }
   },
   "id": "192304bcce4a1cdc"
  },
  {
   "cell_type": "code",
   "execution_count": 17,
   "outputs": [
    {
     "data": {
      "text/plain": "{'brand': 'Nokia', 'model_name': '1100', 'price': 4000}"
     },
     "execution_count": 17,
     "metadata": {},
     "output_type": "execute_result"
    }
   ],
   "source": [
    "phone1.__dict__"
   ],
   "metadata": {
    "collapsed": false,
    "ExecuteTime": {
     "end_time": "2023-11-18T16:10:01.351404400Z",
     "start_time": "2023-11-18T16:10:01.304550Z"
    }
   },
   "id": "cc53e82a1f6cc5e3"
  },
  {
   "cell_type": "code",
   "execution_count": 18,
   "outputs": [
    {
     "name": "stdout",
     "output_type": "stream",
     "text": [
      "calling 5448578301 ...\n"
     ]
    }
   ],
   "source": [
    "phone1.make_a_call(5448578301)"
   ],
   "metadata": {
    "collapsed": false,
    "ExecuteTime": {
     "end_time": "2023-11-18T16:10:01.398263200Z",
     "start_time": "2023-11-18T16:10:01.335776400Z"
    }
   },
   "id": "729bec07acc6eb69"
  },
  {
   "cell_type": "code",
   "execution_count": 19,
   "outputs": [
    {
     "data": {
      "text/plain": "'Nokia 1100'"
     },
     "execution_count": 19,
     "metadata": {},
     "output_type": "execute_result"
    }
   ],
   "source": [
    "phone1.full_name()"
   ],
   "metadata": {
    "collapsed": false,
    "ExecuteTime": {
     "end_time": "2023-11-18T16:10:01.398263200Z",
     "start_time": "2023-11-18T16:10:01.351404400Z"
    }
   },
   "id": "b54b49a54c3ab52b"
  },
  {
   "cell_type": "code",
   "execution_count": 19,
   "outputs": [],
   "source": [],
   "metadata": {
    "collapsed": false,
    "ExecuteTime": {
     "end_time": "2023-11-18T16:10:01.398263200Z",
     "start_time": "2023-11-18T16:10:01.367020600Z"
    }
   },
   "id": "7d041f1533d71ea3"
  }
 ],
 "metadata": {
  "kernelspec": {
   "display_name": "Python 3",
   "language": "python",
   "name": "python3"
  },
  "language_info": {
   "codemirror_mode": {
    "name": "ipython",
    "version": 2
   },
   "file_extension": ".py",
   "mimetype": "text/x-python",
   "name": "python",
   "nbconvert_exporter": "python",
   "pygments_lexer": "ipython2",
   "version": "2.7.6"
  }
 },
 "nbformat": 4,
 "nbformat_minor": 5
}
