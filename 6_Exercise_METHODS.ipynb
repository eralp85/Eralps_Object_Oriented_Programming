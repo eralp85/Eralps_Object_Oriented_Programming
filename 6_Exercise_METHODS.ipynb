{
 "cells": [
  {
   "cell_type": "markdown",
   "source": [
    "# EXERCISE\n",
    "\n",
    "   ## 1. Exercise\n",
    "   We will not pass any arguments or parameters to the function or method. \n",
    "   \n"
   ],
   "metadata": {
    "collapsed": false
   },
   "id": "217f51a3a8110d58"
  },
  {
   "cell_type": "code",
   "execution_count": 84,
   "outputs": [],
   "source": [
    "class Student():\n",
    "    def __init__(self, name, grade):\n",
    "        self.name = name\n",
    "        self.grade = grade\n",
    "    \n",
    "    def result(self):\n",
    "        if self.grade >= 50:\n",
    "            return \"Passed\"\n",
    "        else:\n",
    "            return \"Failed\"\n"
   ],
   "metadata": {
    "collapsed": false,
    "ExecuteTime": {
     "end_time": "2023-11-15T12:16:24.597755700Z",
     "start_time": "2023-11-15T12:16:24.513004100Z"
    }
   },
   "id": "b2dddab5746dc46e"
  },
  {
   "cell_type": "code",
   "execution_count": 85,
   "outputs": [],
   "source": [
    "s1 = Student(\"Eralp\", 95)\n",
    "s2 = Student(\"John\", 45)\n",
    "s3 = Student(\"Jane\", 35)\n",
    "s4 = Student(\"Jack\", 85)\n",
    "s5 = Student(\"Jill\", 75)"
   ],
   "metadata": {
    "collapsed": false,
    "ExecuteTime": {
     "end_time": "2023-11-15T12:16:24.717139400Z",
     "start_time": "2023-11-15T12:16:24.544309200Z"
    }
   },
   "id": "c481a9b3ae8b9391"
  },
  {
   "cell_type": "code",
   "execution_count": 86,
   "outputs": [
    {
     "data": {
      "text/plain": "'Eralp'"
     },
     "execution_count": 86,
     "metadata": {},
     "output_type": "execute_result"
    }
   ],
   "source": [
    "s1.name"
   ],
   "metadata": {
    "collapsed": false,
    "ExecuteTime": {
     "end_time": "2023-11-15T12:16:24.717139400Z",
     "start_time": "2023-11-15T12:16:24.544309200Z"
    }
   },
   "id": "f943ccd68b24e916"
  },
  {
   "cell_type": "code",
   "execution_count": 87,
   "outputs": [
    {
     "data": {
      "text/plain": "'Failed'"
     },
     "execution_count": 87,
     "metadata": {},
     "output_type": "execute_result"
    }
   ],
   "source": [
    "s2.result()"
   ],
   "metadata": {
    "collapsed": false,
    "ExecuteTime": {
     "end_time": "2023-11-15T12:16:24.717139400Z",
     "start_time": "2023-11-15T12:16:24.575599300Z"
    }
   },
   "id": "77d54896b75787e2"
  },
  {
   "cell_type": "code",
   "execution_count": 88,
   "outputs": [],
   "source": [
    "math_class = [s1, s2, s3, s4, s5]"
   ],
   "metadata": {
    "collapsed": false,
    "ExecuteTime": {
     "end_time": "2023-11-15T12:16:24.732739Z",
     "start_time": "2023-11-15T12:16:24.607287200Z"
    }
   },
   "id": "140b7fe37f719ed"
  },
  {
   "cell_type": "code",
   "execution_count": 89,
   "outputs": [
    {
     "name": "stdout",
     "output_type": "stream",
     "text": [
      "['John', 'Jane']\n",
      "['Eralp', 'Jack', 'Jill']\n"
     ]
    }
   ],
   "source": [
    "math_fail = []\n",
    "math_pass = []\n",
    "for student in math_class:\n",
    "    if student.result() == \"Failed\":\n",
    "        math_fail.append(student.name)\n",
    "    else:\n",
    "        math_pass.append(student.name)\n",
    "print(math_fail)\n",
    "print(math_pass)\n",
    "\n",
    "    "
   ],
   "metadata": {
    "collapsed": false,
    "ExecuteTime": {
     "end_time": "2023-11-15T12:16:24.732739Z",
     "start_time": "2023-11-15T12:16:24.622931900Z"
    }
   },
   "id": "3aa499a1a93105ab"
  },
  {
   "cell_type": "markdown",
   "source": [
    "## 2. Exercise\n",
    "\n",
    "We will have a list of product and if we want to give discount to all of them, we will use a function.\n"
   ],
   "metadata": {
    "collapsed": false
   },
   "id": "9694d2fd9ca004a7"
  },
  {
   "cell_type": "code",
   "execution_count": 90,
   "outputs": [],
   "source": [
    "class Product:\n",
    "    def __init__(self, name, price):\n",
    "        self.name = name\n",
    "        self.price = price\n",
    "        \n",
    "    def discount(self, discount_amount):\n",
    "        discount_amount = self.price * (discount_amount / 100)\n",
    "        final_price = self.price - discount_amount\n",
    "        return int(final_price)\n",
    "\n",
    "        "
   ],
   "metadata": {
    "collapsed": false,
    "ExecuteTime": {
     "end_time": "2023-11-15T12:16:24.732739Z",
     "start_time": "2023-11-15T12:16:24.638563600Z"
    }
   },
   "id": "74a7ba94451f1fe3"
  },
  {
   "cell_type": "code",
   "execution_count": 91,
   "outputs": [],
   "source": [
    "laptop = Product(\"Laptop\", 55000)\n",
    "mobile = Product(\"Mobile Phone\", 5000)"
   ],
   "metadata": {
    "collapsed": false,
    "ExecuteTime": {
     "end_time": "2023-11-15T12:16:24.732739Z",
     "start_time": "2023-11-15T12:16:24.654179700Z"
    }
   },
   "id": "7f489761cba98569"
  },
  {
   "cell_type": "code",
   "execution_count": 92,
   "outputs": [
    {
     "data": {
      "text/plain": "55000"
     },
     "execution_count": 92,
     "metadata": {},
     "output_type": "execute_result"
    }
   ],
   "source": [
    "laptop.price"
   ],
   "metadata": {
    "collapsed": false,
    "ExecuteTime": {
     "end_time": "2023-11-15T12:16:24.732739Z",
     "start_time": "2023-11-15T12:16:24.669813200Z"
    }
   },
   "id": "fa9e3d69d4e85ee2"
  },
  {
   "cell_type": "code",
   "execution_count": 93,
   "outputs": [
    {
     "data": {
      "text/plain": "49500"
     },
     "execution_count": 93,
     "metadata": {},
     "output_type": "execute_result"
    }
   ],
   "source": [
    "laptop.discount(10)"
   ],
   "metadata": {
    "collapsed": false,
    "ExecuteTime": {
     "end_time": "2023-11-15T12:16:24.732739Z",
     "start_time": "2023-11-15T12:16:24.685426500Z"
    }
   },
   "id": "333e5432b3e2976b"
  },
  {
   "cell_type": "code",
   "execution_count": 94,
   "outputs": [
    {
     "data": {
      "text/plain": "4500"
     },
     "execution_count": 94,
     "metadata": {},
     "output_type": "execute_result"
    }
   ],
   "source": [
    "mobile.discount(10)"
   ],
   "metadata": {
    "collapsed": false,
    "ExecuteTime": {
     "end_time": "2023-11-15T12:16:24.732739Z",
     "start_time": "2023-11-15T12:16:24.701466Z"
    }
   },
   "id": "bee921561b78d5b2"
  },
  {
   "cell_type": "code",
   "execution_count": 94,
   "outputs": [],
   "source": [],
   "metadata": {
    "collapsed": false,
    "ExecuteTime": {
     "end_time": "2023-11-15T12:16:24.748376500Z",
     "start_time": "2023-11-15T12:16:24.717139400Z"
    }
   },
   "id": "45586430c97ed618"
  }
 ],
 "metadata": {
  "kernelspec": {
   "display_name": "Python 3",
   "language": "python",
   "name": "python3"
  },
  "language_info": {
   "codemirror_mode": {
    "name": "ipython",
    "version": 2
   },
   "file_extension": ".py",
   "mimetype": "text/x-python",
   "name": "python",
   "nbconvert_exporter": "python",
   "pygments_lexer": "ipython2",
   "version": "2.7.6"
  }
 },
 "nbformat": 4,
 "nbformat_minor": 5
}
