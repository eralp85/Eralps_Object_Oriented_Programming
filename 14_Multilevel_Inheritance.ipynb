{
 "cells": [
  {
   "cell_type": "markdown",
   "source": [
    "# MULTILEVEL INHERITANCE\n",
    "\n",
    "Can we drive more than one class from Base Class?\n",
    "\n",
    "What is Multi Level Inheritance?\n",
    "\n",
    "When we have a child and grand child relationship. "
   ],
   "metadata": {
    "collapsed": false
   },
   "id": "eba54eaee9dfe221"
  },
  {
   "cell_type": "code",
   "execution_count": 10,
   "outputs": [],
   "source": [
    "class Phone:\n",
    "    def __init__(self, brand, model, price):\n",
    "        self.brand = brand\n",
    "        self.model = model\n",
    "        self.price = max(price,0)\n",
    "        \n",
    "    @staticmethod\n",
    "    def send_email(e_mail):\n",
    "        print(f\"Sending email to {e_mail}\")\n",
    "        \n",
    "    def full_name(self):\n",
    "        return f\"{self.brand} {self.model}\"\n",
    "        "
   ],
   "metadata": {
    "collapsed": false,
    "ExecuteTime": {
     "end_time": "2023-11-18T15:10:56.477737700Z",
     "start_time": "2023-11-18T15:10:56.342536700Z"
    }
   },
   "id": "868d4913414c4dae"
  },
  {
   "cell_type": "code",
   "execution_count": 11,
   "outputs": [],
   "source": [
    "class Smartphone(Phone):\n",
    "    def __init__(self, brand, model, price, ram, internal_memory, rear_camera):\n",
    "        \n",
    "        super().__init__(brand, model, price)\n",
    "        self.ram = ram\n",
    "        self.internal_memory = internal_memory\n",
    "        self.rear_camera = rear_camera\n",
    "    "
   ],
   "metadata": {
    "collapsed": false,
    "ExecuteTime": {
     "end_time": "2023-11-18T15:10:56.489555100Z",
     "start_time": "2023-11-18T15:10:56.354331200Z"
    }
   },
   "id": "809fec39f05a23d1"
  },
  {
   "cell_type": "code",
   "execution_count": 12,
   "outputs": [],
   "source": [
    "class NotSmartPhone(Phone):\n",
    "    def __init__(self, brand, model, price, color):\n",
    "        \n",
    "        super().__init__(brand, model, price)\n",
    "        self.color = color"
   ],
   "metadata": {
    "collapsed": false,
    "ExecuteTime": {
     "end_time": "2023-11-18T15:10:56.492557Z",
     "start_time": "2023-11-18T15:10:56.371521600Z"
    }
   },
   "id": "cea4f0870f508614"
  },
  {
   "cell_type": "code",
   "execution_count": 13,
   "outputs": [],
   "source": [
    "class FlagshipPhone(Smartphone):\n",
    "    def __init__(self, brand, model, price, ram, internal_memory, rear_camera, front_camera):\n",
    "        \n",
    "        super().__init__(brand, model, price, ram, internal_memory, rear_camera)\n",
    "        self.front_camera = front_camera"
   ],
   "metadata": {
    "collapsed": false,
    "ExecuteTime": {
     "end_time": "2023-11-18T15:10:56.492557Z",
     "start_time": "2023-11-18T15:10:56.387114800Z"
    }
   },
   "id": "5be933a66664f0d6"
  },
  {
   "cell_type": "code",
   "execution_count": 14,
   "outputs": [],
   "source": [
    "f_phone = FlagshipPhone(\"Apple\", \"iPhone 12\", 120000, \"6 GB\", \"128 GB\", \"12 MP\", \"12 MP\")"
   ],
   "metadata": {
    "collapsed": false,
    "ExecuteTime": {
     "end_time": "2023-11-18T15:10:56.492557Z",
     "start_time": "2023-11-18T15:10:56.401516100Z"
    }
   },
   "id": "50c9f56d3019954a"
  },
  {
   "cell_type": "code",
   "execution_count": 15,
   "outputs": [
    {
     "data": {
      "text/plain": "'Apple iPhone 12'"
     },
     "execution_count": 15,
     "metadata": {},
     "output_type": "execute_result"
    }
   ],
   "source": [
    "f_phone.full_name()"
   ],
   "metadata": {
    "collapsed": false,
    "ExecuteTime": {
     "end_time": "2023-11-18T15:10:56.492557Z",
     "start_time": "2023-11-18T15:10:56.418237900Z"
    }
   },
   "id": "f3b4a357d82a9769"
  },
  {
   "cell_type": "code",
   "execution_count": 16,
   "outputs": [
    {
     "data": {
      "text/plain": "{'brand': 'Apple',\n 'model': 'iPhone 12',\n 'price': 120000,\n 'ram': '6 GB',\n 'internal_memory': '128 GB',\n 'rear_camera': '12 MP',\n 'front_camera': '12 MP'}"
     },
     "execution_count": 16,
     "metadata": {},
     "output_type": "execute_result"
    }
   ],
   "source": [
    "f_phone.__dict__"
   ],
   "metadata": {
    "collapsed": false,
    "ExecuteTime": {
     "end_time": "2023-11-18T15:10:56.493593700Z",
     "start_time": "2023-11-18T15:10:56.435950300Z"
    }
   },
   "id": "997942b949594191"
  },
  {
   "cell_type": "code",
   "execution_count": 17,
   "outputs": [
    {
     "data": {
      "text/plain": "'Apple iPhone 12'"
     },
     "execution_count": 17,
     "metadata": {},
     "output_type": "execute_result"
    }
   ],
   "source": [
    "f_phone.full_name()"
   ],
   "metadata": {
    "collapsed": false,
    "ExecuteTime": {
     "end_time": "2023-11-18T15:13:04.333046600Z",
     "start_time": "2023-11-18T15:13:04.290526800Z"
    }
   },
   "id": "680334937b66d7ba"
  },
  {
   "cell_type": "code",
   "execution_count": null,
   "outputs": [],
   "source": [],
   "metadata": {
    "collapsed": false
   },
   "id": "c0f0915c7d1a0baa"
  }
 ],
 "metadata": {
  "kernelspec": {
   "display_name": "Python 3",
   "language": "python",
   "name": "python3"
  },
  "language_info": {
   "codemirror_mode": {
    "name": "ipython",
    "version": 2
   },
   "file_extension": ".py",
   "mimetype": "text/x-python",
   "name": "python",
   "nbconvert_exporter": "python",
   "pygments_lexer": "ipython2",
   "version": "2.7.6"
  }
 },
 "nbformat": 4,
 "nbformat_minor": 5
}
