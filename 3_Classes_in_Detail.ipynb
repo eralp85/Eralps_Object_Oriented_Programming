{
 "cells": [
  {
   "cell_type": "markdown",
   "source": [
    "# CLASSES in DETAIL\n",
    "\n",
    "\"__init__\" is a special method in Python classes. It is called a constructor. It is called when an object is created from the class and it allows the class to initialize the attributes of the class. \n",
    "\n",
    "\"self\" is the first argument of every method in a class. It is a reference to the object itself. It is used to access variables that belongs to the class.\n",
    "\n",
    "You can use any other name instead of \"self\" but by convention it is always \"self\".\n",
    "\n",
    "When you create objects after def __init__(self, name, age):, you need to pass arguments to match the number of parameters in the __init__ method.\n",
    "\n",
    "The name that you call the object with is the name after the \"self.\" in the __init__ method.\n",
    "\n"
   ],
   "metadata": {
    "collapsed": false
   },
   "id": "2233141ebca40f7f"
  },
  {
   "cell_type": "code",
   "execution_count": 34,
   "outputs": [],
   "source": [
    "#For Example:\n",
    "\n",
    "class Student:\n",
    "    def __init__(self, name, age):\n",
    "        self.name = name\n",
    "        self.age = age"
   ],
   "metadata": {
    "collapsed": false,
    "ExecuteTime": {
     "end_time": "2023-11-10T12:47:51.150082700Z",
     "start_time": "2023-11-10T12:47:51.058589800Z"
    }
   },
   "id": "7592c3a51cfe655a"
  },
  {
   "cell_type": "code",
   "execution_count": 35,
   "outputs": [],
   "source": [
    "stundent1 = Student(\"John\", 21)\n",
    "stundent2 = Student(\"Mary\", 22)"
   ],
   "metadata": {
    "collapsed": false,
    "ExecuteTime": {
     "end_time": "2023-11-10T12:47:51.219295Z",
     "start_time": "2023-11-10T12:47:51.062951700Z"
    }
   },
   "id": "1e4806e27c996626"
  },
  {
   "cell_type": "code",
   "execution_count": 36,
   "outputs": [
    {
     "name": "stdout",
     "output_type": "stream",
     "text": [
      "John\n",
      "22\n"
     ]
    }
   ],
   "source": [
    "print(stundent1.name) \n",
    "print(stundent2.age)"
   ],
   "metadata": {
    "collapsed": false,
    "ExecuteTime": {
     "end_time": "2023-11-10T12:47:51.219295Z",
     "start_time": "2023-11-10T12:47:51.104587700Z"
    }
   },
   "id": "74ec9981820b5182"
  },
  {
   "cell_type": "markdown",
   "source": [
    "The parameter student1.name comes from self.name = name in the __init__ method.\n",
    "\n",
    "If you change self.name to self.student_name, then when you call the object, you need to use the new name.\n"
   ],
   "metadata": {
    "collapsed": false
   },
   "id": "c49a79ff6d85db59"
  },
  {
   "cell_type": "code",
   "execution_count": 37,
   "outputs": [],
   "source": [
    "#For Example:\n",
    "\n",
    "class Student:\n",
    "    def __init__(self, name, age):\n",
    "        self.student_name = name\n",
    "        self.abc = age\n",
    " "
   ],
   "metadata": {
    "collapsed": false,
    "ExecuteTime": {
     "end_time": "2023-11-10T12:47:51.219295Z",
     "start_time": "2023-11-10T12:47:51.122190300Z"
    }
   },
   "id": "7b0ae545f7154694"
  },
  {
   "cell_type": "code",
   "execution_count": 38,
   "outputs": [],
   "source": [
    "student3 = Student(\"Eralp\", 21)\n",
    "student4 = Student(\"Sevval\", 27)"
   ],
   "metadata": {
    "collapsed": false,
    "ExecuteTime": {
     "end_time": "2023-11-10T12:47:51.219295Z",
     "start_time": "2023-11-10T12:47:51.124220700Z"
    }
   },
   "id": "8e1f8f5e76e45fc9"
  },
  {
   "cell_type": "code",
   "execution_count": 39,
   "outputs": [
    {
     "name": "stdout",
     "output_type": "stream",
     "text": [
      "Sevval\n",
      "27\n"
     ]
    }
   ],
   "source": [
    "print(student4.student_name)\n",
    "print(student4.abc)\n"
   ],
   "metadata": {
    "collapsed": false,
    "ExecuteTime": {
     "end_time": "2023-11-10T12:47:51.219295Z",
     "start_time": "2023-11-10T12:47:51.155615700Z"
    }
   },
   "id": "5acfac65df3c68c5"
  },
  {
   "cell_type": "markdown",
   "source": [
    "We can also add newly generated attributes to an object. For example, we can add a new attribute called age_in_months to the objects student5 and student6.\n",
    "\n",
    "We do not need to add age_in_months to the __init__ method. We can add it after the object is created."
   ],
   "metadata": {
    "collapsed": false
   },
   "id": "3623858b69ee573c"
  },
  {
   "cell_type": "code",
   "execution_count": 40,
   "outputs": [],
   "source": [
    "#For Example:\n",
    "\n",
    "class Student:\n",
    "    def __init__(self, name, age):\n",
    "        self.name = name\n",
    "        self.age = age\n",
    "        self.name_length = len(name)\n",
    "        self.age_in_months = age * 12"
   ],
   "metadata": {
    "collapsed": false,
    "ExecuteTime": {
     "end_time": "2023-11-10T12:47:51.219295Z",
     "start_time": "2023-11-10T12:47:51.185848300Z"
    }
   },
   "id": "851692e7a6604e3d"
  },
  {
   "cell_type": "code",
   "execution_count": 41,
   "outputs": [],
   "source": [
    "student5 = Student(\"Serdar\", 34)\n",
    "student6 = Student(\"Nana\", 30)"
   ],
   "metadata": {
    "collapsed": false,
    "ExecuteTime": {
     "end_time": "2023-11-10T12:47:51.219295Z",
     "start_time": "2023-11-10T12:47:51.199384300Z"
    }
   },
   "id": "bb75ef00541b454a"
  },
  {
   "cell_type": "code",
   "execution_count": 42,
   "outputs": [
    {
     "data": {
      "text/plain": "408"
     },
     "execution_count": 42,
     "metadata": {},
     "output_type": "execute_result"
    }
   ],
   "source": [
    "student5.age_in_months"
   ],
   "metadata": {
    "collapsed": false,
    "ExecuteTime": {
     "end_time": "2023-11-10T12:47:51.219295Z",
     "start_time": "2023-11-10T12:47:51.209284100Z"
    }
   },
   "id": "683831a1472f9e27"
  },
  {
   "cell_type": "code",
   "execution_count": 43,
   "outputs": [
    {
     "data": {
      "text/plain": "4"
     },
     "execution_count": 43,
     "metadata": {},
     "output_type": "execute_result"
    }
   ],
   "source": [
    "student6.name_length"
   ],
   "metadata": {
    "collapsed": false,
    "ExecuteTime": {
     "end_time": "2023-11-10T12:47:51.266776400Z",
     "start_time": "2023-11-10T12:47:51.219295Z"
    }
   },
   "id": "d6d57a6c89517a0d"
  },
  {
   "cell_type": "code",
   "execution_count": 43,
   "outputs": [],
   "source": [],
   "metadata": {
    "collapsed": false,
    "ExecuteTime": {
     "end_time": "2023-11-10T12:47:51.391866500Z",
     "start_time": "2023-11-10T12:47:51.238951700Z"
    }
   },
   "id": "e5f73f2a4cd4721a"
  }
 ],
 "metadata": {
  "kernelspec": {
   "display_name": "Python 3",
   "language": "python",
   "name": "python3"
  },
  "language_info": {
   "codemirror_mode": {
    "name": "ipython",
    "version": 2
   },
   "file_extension": ".py",
   "mimetype": "text/x-python",
   "name": "python",
   "nbconvert_exporter": "python",
   "pygments_lexer": "ipython2",
   "version": "2.7.6"
  }
 },
 "nbformat": 4,
 "nbformat_minor": 5
}
