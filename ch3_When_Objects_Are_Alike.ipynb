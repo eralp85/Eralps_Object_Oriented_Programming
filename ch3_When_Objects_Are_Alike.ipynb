{
 "cells": [
  {
   "cell_type": "markdown",
   "source": [
    "# WHEN OBJECTS ARE ALIKE\n",
    "\n",
    "In the programming world, duplicate code is considered evil.\n",
    " \n",
    "We should not have multiple copies of the same, or similar, code in different places. \n",
    "\n",
    "When we fix a bug in one copy and fail to fix the same bug in another copy, we've caused no end of problems for ourselves.\n",
    "\n"
   ],
   "metadata": {
    "collapsed": false
   },
   "id": "1ff8fc52c18e461"
  },
  {
   "cell_type": "markdown",
   "source": [
    "## INHERITANCE\n",
    "\n",
    "Technically every class we create uses inheritance.\n",
    "\n",
    "All Python classes are subclasses of the special class named `object`.\n",
    "\n",
    "If we don't explicitly inherit from a different class, our classes will automatically inherit from object.\n",
    "\n",
    "All classes automatically inherit from object if we don't explicitly provide a different superclass (parent class).\n",
    "\n",
    " Inheritance requires a minimal amount of extra syntax over a basic class definition. \n",
    " \n",
    "Simply include the name of the parent class inside parentheses between the class name and the colon that follows.\n",
    " \n",
    "This is all we have to do to tell Python that the new class should be derived from the given superclass."
   ],
   "metadata": {
    "collapsed": false
   },
   "id": "7717a5b8541b893b"
  },
  {
   "cell_type": "markdown",
   "source": [
    "### How To Apply Inheritance\n",
    "\n",
    "The simplest and most obvious use of inheritance is to add functionality to an existing class.\n",
    "\n",
    "Let's start with a contact manager that tracks names and email addresses.\n",
    "\n",
    "The `contact` class is responsible for maintaining global list of all contacts ever seen in a class variable, and for initializing the name and address for an individual contact:"
   ],
   "metadata": {
    "collapsed": false
   },
   "id": "cd2d7995f30ddde9"
  },
  {
   "cell_type": "code",
   "execution_count": 61,
   "outputs": [],
   "source": [
    "class Contact:\n",
    "    \n",
    "    all_contacts: list[\"Contact\"] = []\n",
    "    \n",
    "    def __init__(self, name: str = \"\" , email: str= \"\" ) -> None:\n",
    "        self.name = name\n",
    "        self.email = email\n",
    "        Contact.all_contacts.append(self)\n",
    "        \n",
    "    def __repr__(self) -> str:\n",
    "        return (\n",
    "            f\"{self.__class__.__name__}(\"\n",
    "            f\"{self.name!r}, {self.email!r}\"\n",
    "            f\")\"\n",
    "      )\n",
    "        \n",
    "        \n",
    "    "
   ],
   "metadata": {
    "collapsed": false,
    "ExecuteTime": {
     "end_time": "2023-12-07T22:05:41.169241400Z",
     "start_time": "2023-12-07T22:05:40.918934800Z"
    }
   },
   "id": "b69620c2ea1296fe"
  },
  {
   "cell_type": "markdown",
   "source": [
    "This example introduces us to class variables.\n",
    "\n",
    "The `all_contacts` list,because it is part of the class definition, is shared by all instances of this class.\n",
    "\n",
    "This means that there is only one `Contact.all_contacts` list.\n",
    "\n",
    "We can also access it as `self.all_contacts` from within any method on an instance of the `Contact` class.\n",
    "\n",
    "If a field cannot be found on the object via `self`, then it will be found on the class and will thus refer to the same single list.\n",
    "\n",
    "\n"
   ],
   "metadata": {
    "collapsed": false
   },
   "id": "8d930a0554908135"
  },
  {
   "cell_type": "markdown",
   "source": [
    "#### PRO-TIP\n",
    "\n",
    "Be careful with the `self`-based reference.\n",
    "\n",
    "It can only provide access to an existing class-based variable.\n",
    "\n",
    "If you evert attempt to set the variable using `self.all_contacts`, you will actually be creating a new instance variable associated just with that object.\n",
    "\n",
    "The class variable will still be unchanged and accesible as `Contact.all_contacts`"
   ],
   "metadata": {
    "collapsed": false
   },
   "id": "f064b81024e9944f"
  },
  {
   "cell_type": "code",
   "execution_count": 62,
   "outputs": [],
   "source": [
    "c_1 = Contact(\"Sevval\", \"sevvalunver@gmail.com\")\n",
    "c_2 = Contact(\"Serdar\", \"serdarunver@gmail.com\")"
   ],
   "metadata": {
    "collapsed": false,
    "ExecuteTime": {
     "end_time": "2023-12-07T22:05:41.325496Z",
     "start_time": "2023-12-07T22:05:40.934535800Z"
    }
   },
   "id": "eff299df69a10583"
  },
  {
   "cell_type": "code",
   "execution_count": 63,
   "outputs": [
    {
     "data": {
      "text/plain": "[Contact('Sevval', 'sevvalunver@gmail.com'),\n Contact('Serdar', 'serdarunver@gmail.com')]"
     },
     "execution_count": 63,
     "metadata": {},
     "output_type": "execute_result"
    }
   ],
   "source": [
    "Contact.all_contacts"
   ],
   "metadata": {
    "collapsed": false,
    "ExecuteTime": {
     "end_time": "2023-12-07T22:05:41.372353700Z",
     "start_time": "2023-12-07T22:05:40.950161600Z"
    }
   },
   "id": "23b1a199c8bbbba6"
  },
  {
   "cell_type": "markdown",
   "source": [
    "This is a simple class that allows us to track a couple of pieces of data about each contact. \n",
    "\n",
    "But what if some of our contacts are also suppliers that we need to order supplies from? \n",
    "\n",
    "We could add an `order` method to the Contact class, but that would allow people to accidentally order things from contacts who are customers or family friends. \n",
    "\n",
    "Instead, let's create a new `Supplier` class that acts like our `Contact` class, but has an additional `order` method that accepts a yet-to-be-defined `Order` object:"
   ],
   "metadata": {
    "collapsed": false
   },
   "id": "a39bb09a7382a498"
  },
  {
   "cell_type": "code",
   "execution_count": 64,
   "outputs": [],
   "source": [
    "class Supplier(Contact):\n",
    "    \n",
    "    def order(self, order: \"Order\") -> None:\n",
    "        print(\n",
    "            \"If this were a real system we would send \"\n",
    "            f\"'{order}' order to '{self.name}'\"\n",
    "        )"
   ],
   "metadata": {
    "collapsed": false,
    "ExecuteTime": {
     "end_time": "2023-12-07T22:05:41.387976700Z",
     "start_time": "2023-12-07T22:05:40.965791200Z"
    }
   },
   "id": "34645ea83d186590"
  },
  {
   "cell_type": "markdown",
   "source": [
    "If we test this class in our trusty interpreter, we see that all contacts, including suppliers, accept a name and email address in their ``__init__`` method, but that only `suppliers` instance have an `order` method:"
   ],
   "metadata": {
    "collapsed": false
   },
   "id": "db0aaadd1579f2db"
  },
  {
   "cell_type": "code",
   "execution_count": 65,
   "outputs": [],
   "source": [
    "c = Contact(\"Some Body\", \"somebody@somename.com\")\n",
    "s = Supplier(\"Sup Plier\", \"supplier@example.com\")"
   ],
   "metadata": {
    "collapsed": false,
    "ExecuteTime": {
     "end_time": "2023-12-07T22:05:41.387976700Z",
     "start_time": "2023-12-07T22:05:40.981413100Z"
    }
   },
   "id": "fa1f498905be16a4"
  },
  {
   "cell_type": "code",
   "execution_count": 66,
   "outputs": [
    {
     "name": "stdout",
     "output_type": "stream",
     "text": [
      "Some Body somebody@somename.com Sup Plier supplier@example.com\n"
     ]
    }
   ],
   "source": [
    "print(c.name, c.email, s.name, s.email)"
   ],
   "metadata": {
    "collapsed": false,
    "ExecuteTime": {
     "end_time": "2023-12-07T22:05:41.419229200Z",
     "start_time": "2023-12-07T22:05:40.997034700Z"
    }
   },
   "id": "3182c1c0b25af1ef"
  },
  {
   "cell_type": "code",
   "execution_count": 67,
   "outputs": [
    {
     "name": "stdout",
     "output_type": "stream",
     "text": [
      "[Contact('Sevval', 'sevvalunver@gmail.com'),\n",
      " Contact('Serdar', 'serdarunver@gmail.com'),\n",
      " Contact('Some Body', 'somebody@somename.com'),\n",
      " Supplier('Sup Plier', 'supplier@example.com')]\n"
     ]
    }
   ],
   "source": [
    "from pprint import pprint\n",
    "pprint(c.all_contacts)"
   ],
   "metadata": {
    "collapsed": false,
    "ExecuteTime": {
     "end_time": "2023-12-07T22:05:41.419229200Z",
     "start_time": "2023-12-07T22:05:41.012660300Z"
    }
   },
   "id": "dff45766e360ec53"
  },
  {
   "cell_type": "code",
   "execution_count": 68,
   "outputs": [
    {
     "ename": "AttributeError",
     "evalue": "'Contact' object has no attribute 'order'",
     "output_type": "error",
     "traceback": [
      "\u001B[1;31m---------------------------------------------------------------------------\u001B[0m",
      "\u001B[1;31mAttributeError\u001B[0m                            Traceback (most recent call last)",
      "\u001B[1;32m~\\AppData\\Local\\Temp\\ipykernel_19112\\1636282762.py\u001B[0m in \u001B[0;36m<module>\u001B[1;34m\u001B[0m\n\u001B[1;32m----> 1\u001B[1;33m \u001B[0mc\u001B[0m\u001B[1;33m.\u001B[0m\u001B[0morder\u001B[0m\u001B[1;33m(\u001B[0m\u001B[1;34m\"I need pliers\"\u001B[0m\u001B[1;33m)\u001B[0m\u001B[1;33m\u001B[0m\u001B[1;33m\u001B[0m\u001B[0m\n\u001B[0m",
      "\u001B[1;31mAttributeError\u001B[0m: 'Contact' object has no attribute 'order'"
     ]
    }
   ],
   "source": [
    "c.order(\"I need pliers\")"
   ],
   "metadata": {
    "collapsed": false,
    "ExecuteTime": {
     "end_time": "2023-12-07T22:05:41.434853500Z",
     "start_time": "2023-12-07T22:05:41.028287300Z"
    }
   },
   "id": "8e168ec9ca75e5fb"
  },
  {
   "cell_type": "code",
   "execution_count": 72,
   "outputs": [
    {
     "name": "stdout",
     "output_type": "stream",
     "text": [
      "If this were a real system we would send 'I need pliers' order to 'Sup Plier'\n"
     ]
    }
   ],
   "source": [
    "s.order(\"I need pliers\")"
   ],
   "metadata": {
    "collapsed": false,
    "ExecuteTime": {
     "end_time": "2023-12-07T22:06:30.842487Z",
     "start_time": "2023-12-07T22:06:30.764312500Z"
    }
   },
   "id": "9bfbb6702fb1b758"
  },
  {
   "cell_type": "markdown",
   "source": [
    "Supplier class can do everything a Contact can do (including adding itself to the list of Contact.all_contacts), but it also has an additional method that allows us to place orders.\n",
    "\n",
    "If we used `self.all_contacts` then this would not collect all objects into the `Contact` class, but would put `Supplier` instances into `Supplier.all_contacts`. "
   ],
   "metadata": {
    "collapsed": false
   },
   "id": "5bec39642fc25440"
  },
  {
   "cell_type": "markdown",
   "source": [
    "## Extending Built-Ins\n",
    "\n",
    "One interesting use of inheritance is adding functionality to built-in types (classes).\n",
    "\n",
    "In the `Contact` class seen earlier, we are adding contacts to a list of all contacts.\n",
    "\n",
    "What if we wanted to search that list by name?\n",
    "\n",
    "We could add a metgod on the `Contact` class to do that, but it feels like this method actually belongs to the list itself.\n",
    "\n",
    "We need to import `annotations` module from `__future__` package.\n"
   ],
   "metadata": {
    "collapsed": false
   },
   "id": "2155d88856ef7fe0"
  },
  {
   "cell_type": "code",
   "execution_count": 73,
   "outputs": [],
   "source": [
    "from __future__ import annotations\n",
    "\n",
    "class ContactList(list[\"Contact\"]):\n",
    "    \n",
    "    def search(self, name: str) -> list[\"Contact\"]:\n",
    "        \"\"\"Return all contacts that contain the search value in their name.\"\"\"\n",
    "        matching_contacts: list[\"Contact\"] = []\n",
    "        for contact in self:\n",
    "            if name in contact.name:\n",
    "                matching_contacts.append(contact)\n",
    "        return matching_contacts\n",
    "    \n",
    "class Contact:\n",
    "    \n",
    "        all_contacts: ContactList = ContactList()\n",
    "        \n",
    "        def __init__(self, name: str = \"\", email: str = \"\") -> None:\n",
    "            self.name = name\n",
    "            self.email = email\n",
    "            Contact.all_contacts.append(self)\n",
    "            \n",
    "        def __repr__(self) -> str:\n",
    "            return (\n",
    "                f\"{self.__class__.__name__}(\"\n",
    "                f\"{self.name!r}, {self.email!r}\"\n",
    "                f\")\"\n",
    "            )"
   ],
   "metadata": {
    "collapsed": false,
    "ExecuteTime": {
     "end_time": "2023-12-07T22:06:34.948084400Z",
     "start_time": "2023-12-07T22:06:34.916835400Z"
    }
   },
   "id": "2665a7ca3f8e92d4"
  },
  {
   "cell_type": "code",
   "execution_count": 74,
   "outputs": [],
   "source": [
    "c1 = Contact(\"John A\", \"johna@example.com\")\n",
    "c2 = Contact(\"John B\", \"johnb@example.com\")\n",
    "c3 = Contact(\"Jenna C\", \"cutty@example.com\")"
   ],
   "metadata": {
    "collapsed": false,
    "ExecuteTime": {
     "end_time": "2023-12-07T22:06:45.958764300Z",
     "start_time": "2023-12-07T22:06:45.927510600Z"
    }
   },
   "id": "b7b668d3df880c83"
  },
  {
   "cell_type": "code",
   "execution_count": 75,
   "outputs": [
    {
     "data": {
      "text/plain": "['John A', 'John B']"
     },
     "execution_count": 75,
     "metadata": {},
     "output_type": "execute_result"
    }
   ],
   "source": [
    "[c.name for c in Contact.all_contacts.search(\"John\")]"
   ],
   "metadata": {
    "collapsed": false,
    "ExecuteTime": {
     "end_time": "2023-12-07T22:06:48.580470400Z",
     "start_time": "2023-12-07T22:06:48.502348Z"
    }
   },
   "id": "a240b45f4fb70a45"
  },
  {
   "cell_type": "markdown",
   "source": [
    "Instead of instatiating a gneric list as our class variable, we create a new `ContactList` class that extends the built-in `list` class."
   ],
   "metadata": {
    "collapsed": false
   },
   "id": "68c779bc774d2f63"
  },
  {
   "cell_type": "markdown",
   "source": [
    "As a second example, we can extend the `dict` class, which is a collection of keys and their associated values.\n",
    "\n",
    "We can create instances of dictionaries using `{}` syntax.\n",
    "\n",
    "An extended class that tracts the longest ket it has seen:"
   ],
   "metadata": {
    "collapsed": false
   },
   "id": "cca11c3f7f4a4c2a"
  },
  {
   "cell_type": "code",
   "execution_count": 76,
   "outputs": [],
   "source": [
    "class LongNameDict(dict[str, int]):\n",
    "    \n",
    "    def longest_key(self) -> Optional[str]:\n",
    "        longest = None\n",
    "        for key in self:\n",
    "            if longest is None or len(key) > len(longest):\n",
    "                longest = key\n",
    "        return longest"
   ],
   "metadata": {
    "collapsed": false,
    "ExecuteTime": {
     "end_time": "2023-12-07T22:06:53.812829400Z",
     "start_time": "2023-12-07T22:06:53.599125800Z"
    }
   },
   "id": "49c0a2b4135e8d89"
  },
  {
   "cell_type": "markdown",
   "source": [
    "The hint for the class narrowed the generic dict to a more specific dict[str, int]; the keys are of type str and the values are of type int.\n",
    " \n",
    "This helps mypy reason about the longest_key() method. Since the keys are supposed to be str-type objects, the statement for key in self: will iterate over str objects. \n",
    "\n",
    "The result will be a str, or possibly None. That's why the result is described as `Optional[str]`."
   ],
   "metadata": {
    "collapsed": false
   },
   "id": "f9922cd7a2cc470c"
  },
  {
   "cell_type": "markdown",
   "source": [
    "We're going to be working with strings and integer values. Perhaps the strings are usernames, and the integer values are the number of articles they've read on a website.\n",
    " \n",
    "In addition to the core username and reading history, we also need to know the longest name so we can format a table of scores with the right size display box."
   ],
   "metadata": {
    "collapsed": false
   },
   "id": "6b2bb6f5891e42cc"
  },
  {
   "cell_type": "code",
   "execution_count": 77,
   "outputs": [],
   "source": [
    "articles_read = LongNameDict()\n",
    "\n",
    "articles_read[\"Doug\"] = 34\n",
    "articles_read[\"Anne\"] = 11\n",
    "articles_read[\"Boris\"] = 42"
   ],
   "metadata": {
    "collapsed": false,
    "ExecuteTime": {
     "end_time": "2023-12-07T22:06:53.875313500Z",
     "start_time": "2023-12-07T22:06:53.614840300Z"
    }
   },
   "id": "2fdca125c43b5f62"
  },
  {
   "cell_type": "code",
   "execution_count": 78,
   "outputs": [
    {
     "data": {
      "text/plain": "'Boris'"
     },
     "execution_count": 78,
     "metadata": {},
     "output_type": "execute_result"
    }
   ],
   "source": [
    "articles_read.longest_key()"
   ],
   "metadata": {
    "collapsed": false,
    "ExecuteTime": {
     "end_time": "2023-12-07T22:06:53.875313500Z",
     "start_time": "2023-12-07T22:06:53.630337800Z"
    }
   },
   "id": "98d4566bca32d683"
  },
  {
   "cell_type": "markdown",
   "source": [
    "Most built-in types can be similarly extended. These built-in types fall into several interesting families, with separate kinds of type hints:"
   ],
   "metadata": {
    "collapsed": false
   },
   "id": "e2eec1b576e2f5a5"
  },
  {
   "cell_type": "markdown",
   "source": [
    "### 1-) Generic Collections:\n",
    "\n",
    "`set`,`list`,`dict`.\n",
    "\n",
    "These use type hints like `set[something]`, `list[something]`, and `dict[key,value]` to narrow the hint from purely generic to something more specific that the application will actually use.\n",
    "\n",
    "To use the generic types as annotations, a `from __future__ import annotations` is required.\n",
    "\n",
    "### 2-)\n",
    "\n",
    "The `typing.NamedTuple` definition lets us define new kinds of immutable tuples and provide useful names for the members.\n",
    "\n",
    "### 3-)\n",
    "\n",
    "Python has type hints for file-related I/O objects. A new kind of file can use a type hint of `typing.TextIO` or `typing.BinaryIO` to describe built-file file operations.\n",
    "\n",
    "### 4-)\n",
    "\n",
    "It's possible to create new types of strings by extending `typing.Text`. For the most part, the built-in `str` class does everything we need.\n",
    "\n",
    "### 5-)\n",
    "\n",
    "New numeric types often start with the `numbers` module as a source for built-in numeric functionality."
   ],
   "metadata": {
    "collapsed": false
   },
   "id": "fcd58f7adcfdad9c"
  },
  {
   "cell_type": "markdown",
   "source": [
    "## Overriding and Super\n",
    "\n",
    "Our `Contact` class allows only a name and an email address. This may be sufficient for most contacts, but what if we want to add a phone number for our close friends?\n",
    "\n",
    "We could do this easily by setting a `phone` attribute on the contact after it is constructed.\n",
    "\n",
    "But if we want to make this third variable available on initialization, we have to override the `__init__` method from the superclass.\n",
    "\n",
    "Overriding means altering or replacing a method of the superclass with a new method in the subclass.\n",
    "\n",
    "No special syntax is needed to do this; the subclass's newly created method is automatically called instead of the superclass's method."
   ],
   "metadata": {
    "collapsed": false
   },
   "id": "1aa1fcbf06be97a6"
  },
  {
   "cell_type": "code",
   "execution_count": 79,
   "outputs": [],
   "source": [
    "class Friend(Contact):\n",
    "    \n",
    "    def __init__(self, name: str = \"\", email: str = \"\", phone: str = \"\") -> None:\n",
    "        self.name = name\n",
    "        self.email = email\n",
    "        self.phone = phone"
   ],
   "metadata": {
    "collapsed": false,
    "ExecuteTime": {
     "end_time": "2023-12-07T22:06:53.890947500Z",
     "start_time": "2023-12-07T22:06:53.645961100Z"
    }
   },
   "id": "8bbbb6ee7440f727"
  },
  {
   "cell_type": "markdown",
   "source": [
    "Our Contact and Friend classes have duplicate code to set up the name and email properties; this can make code maintenance complicated, as we have to update the code in two or more places. \n",
    "\n",
    "More alarmingly, our Friend class is neglecting to add itself to the all_contacts list we have created on the Contact class. \n",
    "\n",
    "Finally, looking forward, if we add a feature to the Contact class, we'd like it to also be part of the Friend class."
   ],
   "metadata": {
    "collapsed": false
   },
   "id": "539896f04eb8408c"
  },
  {
   "cell_type": "markdown",
   "source": [
    "What we really need is a way to execute the original __init__() method on the Contact class from inside our new class. \n",
    "\n",
    "This is what the super() function does; it returns the object as if it was actually an instance of the parent class, allowing us to call the parent method directly:\n"
   ],
   "metadata": {
    "collapsed": false
   },
   "id": "f38301237b5cde7d"
  },
  {
   "cell_type": "code",
   "execution_count": 80,
   "outputs": [],
   "source": [
    "class Friend(Contact):\n",
    "    \n",
    "    def __init__(self, name: str = \"\", email: str = \"\", phone: str = \"\") -> None:\n",
    "        super().__init__(name, email)\n",
    "        self.phone = phone"
   ],
   "metadata": {
    "collapsed": false,
    "ExecuteTime": {
     "end_time": "2023-12-07T22:06:53.922188600Z",
     "start_time": "2023-12-07T22:06:53.661587Z"
    }
   },
   "id": "fed83f8142481a3e"
  },
  {
   "cell_type": "markdown",
   "source": [
    "This example first binds the instance to the parent class using `super()` and calls `__init__()` on that object, passing in the expected arguments.\n",
    "\n",
    "It then does its own initialization, namely, setting the `phone` attribute, which is unique to the `Friend` class.\n",
    "\n",
    "The `Contact` class provided a definition for the `__repr__()` method to produce a string representation of the object.\n",
    "\n",
    "Our class did not override the `__repr__()` method inherited from the superclass."
   ],
   "metadata": {
    "collapsed": false
   },
   "id": "ddcfcd187ad12f5e"
  },
  {
   "cell_type": "code",
   "execution_count": 81,
   "outputs": [],
   "source": [
    "f = Friend(\"Sevvalism26\", \"ss@example\", \"12345\")"
   ],
   "metadata": {
    "collapsed": false,
    "ExecuteTime": {
     "end_time": "2023-12-07T22:06:53.922188600Z",
     "start_time": "2023-12-07T22:06:53.677277200Z"
    }
   },
   "id": "df1a20469f091d9d"
  },
  {
   "cell_type": "code",
   "execution_count": 84,
   "outputs": [
    {
     "data": {
      "text/plain": "[Contact('John A', 'johna@example.com'),\n Contact('John B', 'johnb@example.com'),\n Contact('Jenna C', 'cutty@example.com'),\n Friend('Sevvalism26', 'ss@example')]"
     },
     "execution_count": 84,
     "metadata": {},
     "output_type": "execute_result"
    }
   ],
   "source": [
    "Contact.all_contacts"
   ],
   "metadata": {
    "collapsed": false,
    "ExecuteTime": {
     "end_time": "2023-12-07T22:07:12.857395900Z",
     "start_time": "2023-12-07T22:07:12.826092900Z"
    }
   },
   "id": "e54acc63779ea570"
  },
  {
   "cell_type": "markdown",
   "source": [
    "The details shown for a Friend instance don't include the new attribute. \n",
    "\n",
    "It's easy to overlook the special method definitions when thinking about class design.\n",
    "\n",
    "A super() call can be made inside any method. Therefore, all methods can be modified via overriding and calls to super(). \n",
    "\n",
    "The call to super() can also be made at any point in the method; we don't have to make the call as the first line. \n",
    "\n",
    "For example, we may need to manipulate or validate incoming parameters before forwarding them to the superclass. "
   ],
   "metadata": {
    "collapsed": false
   },
   "id": "8ea9e7c860dfe288"
  },
  {
   "cell_type": "markdown",
   "source": [
    "# Multiple Inheritance\n",
    "\n",
    "Multiple inheritance in principle is simple: a subclass that inherits from more than one parent class can access functionality from both of them.\n",
    "\n",
    "In practice, it requires some care to be sure any method overrides are fully understood."
   ],
   "metadata": {
    "collapsed": false
   },
   "id": "c9fd8ebca7294679"
  },
  {
   "cell_type": "markdown",
   "source": [
    "The simplest and most useful form of multiple inheritance follows a design pattern called the **mixin**.\n",
    "\n",
    "A mixin class definition is not intended to exist on its own; but is meant to be inherited by some other class to provide extra functionality.\n",
    "\n",
    "For example, let's say we wanted to add functionality to our `Contact` class that allows sending an email to `self.email`.\n",
    "\n",
    "Sending mail is a common task that we might want to use on many other classes. So, we can write a simple mixin class that provides this functionality:\n"
   ],
   "metadata": {
    "collapsed": false
   },
   "id": "f7edb8eece9ec6d3"
  },
  {
   "cell_type": "code",
   "execution_count": 85,
   "outputs": [],
   "source": [
    "from typing import Protocol\n",
    "\n",
    "\n",
    "class Emailable(Protocol):\n",
    "    email: str\n",
    "    \n",
    "class MailSender(Emailable):\n",
    "    \n",
    "    def send_mail(self, message: str) -> None:\n",
    "        print(f\"Sending mail to {self.email}\")\n",
    "        # Add e-mail logic here"
   ],
   "metadata": {
    "collapsed": false,
    "ExecuteTime": {
     "end_time": "2023-12-07T22:07:38.793091600Z",
     "start_time": "2023-12-07T22:07:38.730575200Z"
    }
   },
   "id": "69701c1b881bcaba"
  },
  {
   "cell_type": "markdown",
   "source": [
    "The `MailSender` class does not do anything special.\n",
    "\n",
    "We have two classes because we are describing two things: aspects of the host class for a mixin, and new aspects the mixin provides to the host.\n",
    "\n",
    "We needed to create a hint, `Emailable`, to describe the kinds of classes or `MailSender` mixin expects to work with.\n",
    "\n",
    "This kind of type hint is called a `Protocol`.\n",
    "\n",
    "`Protocols` generally have methods and can also have a class-level attribute names with type hints but not full assignment statements.\n",
    "\n",
    "A protocol tells that any class (or Subclass) of `Emailable` object must support an `email` attribute of type `str`.\n",
    "\n",
    "Note that we are relying on Python's name resolution rules.\n",
    "\n",
    "The name `self.email` can be resolved as either an instance variable, or a class-level variable, `Emailable.email`, or a property.\n",
    "\n",
    "The mypy tool will check all the classes mixed in with `MailSender` for instance- or class-level definitions. \n",
    "\n",
    "We only need to provide the name of the attribute at the class level, with a type hint to make it clear to mypy that the mixin does not define the attribute – the class into which it's mixed will provide the `email` attribute.\n",
    "\n",
    "Because of Python's duck typing rules, we can use the `MailSender` mixin with any class that has an `email` attribute defined. \n",
    "\n",
    "A class with which `MailSender` is mixed doesn't have to be a formal subclass of `Emailable`; it only has to provide the required attribute.\n",
    "\n",
    "For brevity, we didn't include the actual email logic here; if you're interested in studying how it's done, see the `smtplib` module in the Python standard library.\n",
    "\n",
    "The `MailSender` class does allow us to define a new class that describes both a `Contact` and a `MailSender`, using multiple inheritance:"
   ],
   "metadata": {
    "collapsed": false
   },
   "id": "e242a807ac70135e"
  },
  {
   "cell_type": "code",
   "execution_count": 86,
   "outputs": [],
   "source": [
    "class EmailableContact(Contact, MailSender):\n",
    "    pass\n"
   ],
   "metadata": {
    "collapsed": false,
    "ExecuteTime": {
     "end_time": "2023-12-07T22:07:43.479296700Z",
     "start_time": "2023-12-07T22:07:43.447976800Z"
    }
   },
   "id": "facb2c016078d403"
  },
  {
   "cell_type": "markdown",
   "source": [
    "The syntax for multiple inheritance looks like a parameter list in the class definition. \n",
    "\n",
    "Instead of including one base class inside the parentheses, we include two (or more), separated by a comma. \n",
    "\n",
    "When it's done well, it's common for the resulting class to have no unique features of its own. \n",
    "\n",
    "It's a combination of mixins, and the body of the class definition is often nothing more than the pass placeholder.\n",
    "\n",
    "We can test this new hybrid to see the mixin at work:"
   ],
   "metadata": {
    "collapsed": false
   },
   "id": "7516a046583ccd42"
  },
  {
   "cell_type": "code",
   "execution_count": 87,
   "outputs": [],
   "source": [
    "e = EmailableContact(\"John Smith\", \"jognb@sloop.net\")"
   ],
   "metadata": {
    "collapsed": false,
    "ExecuteTime": {
     "end_time": "2023-12-07T22:07:46.113389200Z",
     "start_time": "2023-12-07T22:07:46.066512200Z"
    }
   },
   "id": "7b52b015500c3eb"
  },
  {
   "cell_type": "code",
   "execution_count": 88,
   "outputs": [
    {
     "data": {
      "text/plain": "[Contact('John A', 'johna@example.com'),\n Contact('John B', 'johnb@example.com'),\n Contact('Jenna C', 'cutty@example.com'),\n Friend('Sevvalism26', 'ss@example'),\n EmailableContact('John Smith', 'jognb@sloop.net')]"
     },
     "execution_count": 88,
     "metadata": {},
     "output_type": "execute_result"
    }
   ],
   "source": [
    "Contact.all_contacts"
   ],
   "metadata": {
    "collapsed": false,
    "ExecuteTime": {
     "end_time": "2023-12-07T22:07:47.959755700Z",
     "start_time": "2023-12-07T22:07:47.928506400Z"
    }
   },
   "id": "46bca1d86271e52a"
  },
  {
   "cell_type": "code",
   "execution_count": 89,
   "outputs": [
    {
     "name": "stdout",
     "output_type": "stream",
     "text": [
      "Sending mail to jognb@sloop.net\n"
     ]
    }
   ],
   "source": [
    "e.send_mail(\"Hello, test e-mail here\")"
   ],
   "metadata": {
    "collapsed": false,
    "ExecuteTime": {
     "end_time": "2023-12-07T22:08:33.372384300Z",
     "start_time": "2023-12-07T22:08:33.309871700Z"
    }
   },
   "id": "a4792a597c2d9259"
  },
  {
   "cell_type": "markdown",
   "source": [
    "The `Contact` initializer is still adding the new contact to the `all_contacts` list, and the mixin is able to send mail to `self.email`, so we know that everything is working."
   ],
   "metadata": {
    "collapsed": false
   },
   "id": "cdb2e6ac1c7687c9"
  },
  {
   "cell_type": "markdown",
   "source": [
    "let's consider some other options we had for this example, rather than using a mixin:\n",
    "\n",
    "We could have used single inheritance and added the `send_mail` function to a subclass of `Contact`. \n",
    "\n",
    "The disadvantage here is that the email functionality then has to be duplicated for any unrelated classes that need an email. \n",
    "\n",
    "For example, if we had email information in the payments part of our application, unrelated to these contacts, and we wanted a `send_mail()` method, we'd have to duplicate the code.\n",
    "\n",
    "We can create a standalone Python function for sending an email, and just call that function with the correct email address supplied as a parameter when the email needs to be sent (this is a very common choice). \n",
    "\n",
    "Because the function is not part of a class, it's harder to be sure that proper encapsulation is being used.\n",
    "\n",
    "We could explore a few ways of using composition instead of inheritance. \n",
    "\n",
    "For example, `EmailableContact` could have a `MailSender` object as a property instead of inheriting from it. \n",
    "\n",
    "This leads to a more complex `MailSender` class because it now has to stand alone. It also leads to a more complex `EmailableContact` class because it has to associate a `MailSender` instance with each `Contact`.\n",
    "\n",
    "\n",
    "We could try to monkey patch (we'll briefly cover monkey patching in Chapter 13, Testing Object-Oriented Programs) the `Contact` class to have a `send_mail` method after the class has been created. \n",
    "\n",
    "This is done by defining a function that accepts the `self` argument, and setting it as an attribute on an existing class. \n",
    "\n",
    "This is fine for creating a unit test fixture, but terrible for the application itself.\n"
   ],
   "metadata": {
    "collapsed": false
   },
   "id": "1a8f6b3b150188d3"
  }
 ],
 "metadata": {
  "kernelspec": {
   "display_name": "Python 3",
   "language": "python",
   "name": "python3"
  },
  "language_info": {
   "codemirror_mode": {
    "name": "ipython",
    "version": 2
   },
   "file_extension": ".py",
   "mimetype": "text/x-python",
   "name": "python",
   "nbconvert_exporter": "python",
   "pygments_lexer": "ipython2",
   "version": "2.7.6"
  }
 },
 "nbformat": 4,
 "nbformat_minor": 5
}
