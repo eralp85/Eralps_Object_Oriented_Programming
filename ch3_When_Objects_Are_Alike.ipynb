{
 "cells": [
  {
   "cell_type": "markdown",
   "source": [
    "# WHEN OBJECTS ARE ALIKE\n",
    "\n",
    "In the programming world, duplicate code is considered evil.\n",
    " \n",
    "We should not have multiple copies of the same, or similar, code in different places. \n",
    "\n",
    "When we fix a bug in one copy and fail to fix the same bug in another copy, we've caused no end of problems for ourselves.\n",
    "\n"
   ],
   "metadata": {
    "collapsed": false
   },
   "id": "1ff8fc52c18e461"
  },
  {
   "cell_type": "markdown",
   "source": [
    "## INHERITANCE\n",
    "\n",
    "Technically every class we create uses inheritance.\n",
    "\n",
    "All Python classes are subclasses of the special class named `object`.\n",
    "\n",
    "If we don't explicitly inherit from a different class, our classes will automatically inherit from object.\n",
    "\n",
    "All classes automatically inherit from object if we don't explicitly provide a different superclass (parent class).\n",
    "\n",
    " Inheritance requires a minimal amount of extra syntax over a basic class definition. \n",
    " \n",
    "Simply include the name of the parent class inside parentheses between the class name and the colon that follows.\n",
    " \n",
    "This is all we have to do to tell Python that the new class should be derived from the given superclass."
   ],
   "metadata": {
    "collapsed": false
   },
   "id": "7717a5b8541b893b"
  },
  {
   "cell_type": "markdown",
   "source": [
    "### How To Apply Inheritance\n",
    "\n",
    "The simplest and most obvious use of inheritance is to add functionality to an existing class.\n",
    "\n",
    "Let's start with a contact manager that tracks names and email addresses.\n",
    "\n",
    "The `contact` class is responsible for maintaining global list of all contacts ever seen in a class variable, and for initializing the name and address for an individual contact:"
   ],
   "metadata": {
    "collapsed": false
   },
   "id": "cd2d7995f30ddde9"
  },
  {
   "cell_type": "code",
   "execution_count": 5,
   "outputs": [],
   "source": [
    "class Contact:\n",
    "    \n",
    "    all_contacts: list[\"Contact\"] = []\n",
    "    \n",
    "    def __init__(self, name: str = \"\" , email: str= \"\" ) -> None:\n",
    "        self.name = name\n",
    "        self.email = email\n",
    "        Contact.all_contacts.append(self)\n",
    "        \n",
    "    def __repr__(self) -> str:\n",
    "        return (\n",
    "            f\"{self.__class__.__name__}(\"\n",
    "            f\"{self.name!r}, {self.email!r}\"\n",
    "            f\")\"\n",
    "      )\n",
    "        \n",
    "        \n",
    "    "
   ],
   "metadata": {
    "collapsed": false,
    "ExecuteTime": {
     "end_time": "2023-12-03T19:23:57.207708100Z",
     "start_time": "2023-12-03T19:23:57.188642500Z"
    }
   },
   "id": "b69620c2ea1296fe"
  },
  {
   "cell_type": "markdown",
   "source": [
    "This example introduces us to class variables.\n",
    "\n",
    "The `all_contacts` list,because it is part of the class definition, is shared by all instances of this class.\n",
    "\n",
    "This means that there is only one `Contact.all_contacts` list.\n",
    "\n",
    "We can also access it as `self.all_contacts` from within any method on an instance of the `Contact` class.\n",
    "\n",
    "If a field cannot be found on the object via `self`, then it will be found on the class and will thus refer to the same single list.\n",
    "\n",
    "\n"
   ],
   "metadata": {
    "collapsed": false
   },
   "id": "8d930a0554908135"
  },
  {
   "cell_type": "markdown",
   "source": [
    "#### PRO-TIP\n",
    "\n",
    "Be careful with the `self`-based reference.\n",
    "\n",
    "It can only provide access to an existing class-based variable.\n",
    "\n",
    "If you evert attempt to set the variable using `self.all_contacts`, you will actually be creating a new instance variable associated just with that object.\n",
    "\n",
    "The class variable will still be unchanged and accesible as `Contact.all_contacts`"
   ],
   "metadata": {
    "collapsed": false
   },
   "id": "f064b81024e9944f"
  },
  {
   "cell_type": "code",
   "execution_count": 6,
   "outputs": [],
   "source": [
    "c_1 = Contact(\"Sevval\", \"sevvalunver@gmail.com\")\n",
    "c_2 = Contact(\"Serdar\", \"serdarunver@gmail.com\")"
   ],
   "metadata": {
    "collapsed": false,
    "ExecuteTime": {
     "end_time": "2023-12-03T19:37:39.820145100Z",
     "start_time": "2023-12-03T19:37:39.772703800Z"
    }
   },
   "id": "eff299df69a10583"
  },
  {
   "cell_type": "code",
   "execution_count": 7,
   "outputs": [
    {
     "data": {
      "text/plain": "[Contact('Sevval', 'sevvalunver@gmail.com'),\n Contact('Serdar', 'serdarunver@gmail.com')]"
     },
     "execution_count": 7,
     "metadata": {},
     "output_type": "execute_result"
    }
   ],
   "source": [
    "Contact.all_contacts"
   ],
   "metadata": {
    "collapsed": false,
    "ExecuteTime": {
     "end_time": "2023-12-03T19:37:46.007403300Z",
     "start_time": "2023-12-03T19:37:45.897600300Z"
    }
   },
   "id": "23b1a199c8bbbba6"
  },
  {
   "cell_type": "markdown",
   "source": [
    "This is a simple class that allows us to track a couple of pieces of data about each contact. \n",
    "\n",
    "But what if some of our contacts are also suppliers that we need to order supplies from? \n",
    "\n",
    "We could add an `order` method to the Contact class, but that would allow people to accidentally order things from contacts who are customers or family friends. \n",
    "\n",
    "Instead, let's create a new `Supplier` class that acts like our `Contact` class, but has an additional `order` method that accepts a yet-to-be-defined `Order` object:"
   ],
   "metadata": {
    "collapsed": false
   },
   "id": "a39bb09a7382a498"
  },
  {
   "cell_type": "code",
   "execution_count": 8,
   "outputs": [],
   "source": [
    "class Supplier(Contact):\n",
    "    \n",
    "    def order(self, order: \"Order\") -> None:\n",
    "        print(\n",
    "            \"If this were a real system we would send \"\n",
    "            f\"'{order}' order to '{self.name}'\"\n",
    "        )"
   ],
   "metadata": {
    "collapsed": false,
    "ExecuteTime": {
     "end_time": "2023-12-03T19:56:52.637944Z",
     "start_time": "2023-12-03T19:56:52.586253400Z"
    }
   },
   "id": "34645ea83d186590"
  },
  {
   "cell_type": "markdown",
   "source": [
    "If we test this class in our trusty interpreter, we see that all contacts, including suppliers, accept a name and email address in their ``__init__`` method, but that only `suppliers` instance have an `order` method:"
   ],
   "metadata": {
    "collapsed": false
   },
   "id": "db0aaadd1579f2db"
  },
  {
   "cell_type": "code",
   "execution_count": 9,
   "outputs": [],
   "source": [
    "c = Contact(\"Some Body\", \"somebody@somename.com\")\n",
    "s = Supplier(\"Sup Plier\", \"supplier@example.com\")"
   ],
   "metadata": {
    "collapsed": false,
    "ExecuteTime": {
     "end_time": "2023-12-03T19:59:40.083182800Z",
     "start_time": "2023-12-03T19:59:40.033338800Z"
    }
   },
   "id": "fa1f498905be16a4"
  },
  {
   "cell_type": "code",
   "execution_count": 10,
   "outputs": [
    {
     "name": "stdout",
     "output_type": "stream",
     "text": [
      "Some Body somebody@somename.com Sup Plier supplier@example.com\n"
     ]
    }
   ],
   "source": [
    "print(c.name, c.email, s.name, s.email)"
   ],
   "metadata": {
    "collapsed": false,
    "ExecuteTime": {
     "end_time": "2023-12-03T19:59:54.985238400Z",
     "start_time": "2023-12-03T19:59:54.938037300Z"
    }
   },
   "id": "3182c1c0b25af1ef"
  },
  {
   "cell_type": "code",
   "execution_count": 11,
   "outputs": [
    {
     "name": "stdout",
     "output_type": "stream",
     "text": [
      "[Contact('Sevval', 'sevvalunver@gmail.com'),\n",
      " Contact('Serdar', 'serdarunver@gmail.com'),\n",
      " Contact('Some Body', 'somebody@somename.com'),\n",
      " Supplier('Sup Plier', 'supplier@example.com')]\n"
     ]
    }
   ],
   "source": [
    "from pprint import pprint\n",
    "pprint(c.all_contacts)"
   ],
   "metadata": {
    "collapsed": false,
    "ExecuteTime": {
     "end_time": "2023-12-03T20:00:15.277656800Z",
     "start_time": "2023-12-03T20:00:15.077917300Z"
    }
   },
   "id": "dff45766e360ec53"
  },
  {
   "cell_type": "code",
   "execution_count": 12,
   "outputs": [
    {
     "ename": "AttributeError",
     "evalue": "'Contact' object has no attribute 'order'",
     "output_type": "error",
     "traceback": [
      "\u001B[1;31m---------------------------------------------------------------------------\u001B[0m",
      "\u001B[1;31mAttributeError\u001B[0m                            Traceback (most recent call last)",
      "\u001B[1;32m~\\AppData\\Local\\Temp\\ipykernel_12736\\1636282762.py\u001B[0m in \u001B[0;36m<module>\u001B[1;34m\u001B[0m\n\u001B[1;32m----> 1\u001B[1;33m \u001B[0mc\u001B[0m\u001B[1;33m.\u001B[0m\u001B[0morder\u001B[0m\u001B[1;33m(\u001B[0m\u001B[1;34m\"I need pliers\"\u001B[0m\u001B[1;33m)\u001B[0m\u001B[1;33m\u001B[0m\u001B[1;33m\u001B[0m\u001B[0m\n\u001B[0m",
      "\u001B[1;31mAttributeError\u001B[0m: 'Contact' object has no attribute 'order'"
     ]
    }
   ],
   "source": [
    "c.order(\"I need pliers\")"
   ],
   "metadata": {
    "collapsed": false,
    "ExecuteTime": {
     "end_time": "2023-12-03T20:00:47.241245400Z",
     "start_time": "2023-12-03T20:00:47.116328700Z"
    }
   },
   "id": "8e168ec9ca75e5fb"
  },
  {
   "cell_type": "code",
   "execution_count": 13,
   "outputs": [
    {
     "name": "stdout",
     "output_type": "stream",
     "text": [
      "If this were a real system we would send 'I need pliers' order to 'Sup Plier'\n"
     ]
    }
   ],
   "source": [
    "s.order(\"I need pliers\")"
   ],
   "metadata": {
    "collapsed": false,
    "ExecuteTime": {
     "end_time": "2023-12-03T20:00:49.805558900Z",
     "start_time": "2023-12-03T20:00:49.679188200Z"
    }
   },
   "id": "9bfbb6702fb1b758"
  },
  {
   "cell_type": "markdown",
   "source": [
    "Supplier class can do everything a Contact can do (including adding itself to the list of Contact.all_contacts), but it also has an additional method that allows us to place orders.\n",
    "\n",
    "If we used `self.all_contacts` then this would not collect all objects into the `Contact` class, but would put `Supplier` instances into `Supplier.all_contacts`. "
   ],
   "metadata": {
    "collapsed": false
   },
   "id": "5bec39642fc25440"
  },
  {
   "cell_type": "markdown",
   "source": [
    "## Extending Built-Ins\n",
    "\n",
    "\n"
   ],
   "metadata": {
    "collapsed": false
   },
   "id": "2155d88856ef7fe0"
  }
 ],
 "metadata": {
  "kernelspec": {
   "display_name": "Python 3",
   "language": "python",
   "name": "python3"
  },
  "language_info": {
   "codemirror_mode": {
    "name": "ipython",
    "version": 2
   },
   "file_extension": ".py",
   "mimetype": "text/x-python",
   "name": "python",
   "nbconvert_exporter": "python",
   "pygments_lexer": "ipython2",
   "version": "2.7.6"
  }
 },
 "nbformat": 4,
 "nbformat_minor": 5
}
