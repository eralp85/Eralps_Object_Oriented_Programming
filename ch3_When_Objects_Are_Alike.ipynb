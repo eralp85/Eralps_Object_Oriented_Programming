{
 "cells": [
  {
   "cell_type": "markdown",
   "source": [
    "# WHEN OBJECTS ARE ALIKE\n",
    "\n",
    "In the programming world, duplicate code is considered evil.\n",
    " \n",
    "We should not have multiple copies of the same, or similar, code in different places. \n",
    "\n",
    "When we fix a bug in one copy and fail to fix the same bug in another copy, we've caused no end of problems for ourselves.\n",
    "\n"
   ],
   "metadata": {
    "collapsed": false
   },
   "id": "1ff8fc52c18e461"
  },
  {
   "cell_type": "markdown",
   "source": [
    "## INHERITANCE\n",
    "\n",
    "Technically every class we create uses inheritance.\n",
    "\n",
    "All Python classes are subclasses of the special class named `object`.\n",
    "\n",
    "If we don't explicitly inherit from a different class, our classes will automatically inherit from object.\n",
    "\n",
    "All classes automatically inherit from object if we don't explicitly provide a different superclass (parent class).\n",
    "\n",
    " Inheritance requires a minimal amount of extra syntax over a basic class definition. \n",
    " \n",
    "Simply include the name of the parent class inside parentheses between the class name and the colon that follows.\n",
    " \n",
    "This is all we have to do to tell Python that the new class should be derived from the given superclass."
   ],
   "metadata": {
    "collapsed": false
   },
   "id": "7717a5b8541b893b"
  },
  {
   "cell_type": "markdown",
   "source": [
    "### How To Apply Inheritance\n",
    "\n",
    "The simplest and most obvious use of inheritance is to add functionality to an existing class.\n",
    "\n",
    "Let's start with a contact manager that tracks names and email addresses.\n",
    "\n",
    "The `contact` class is responsible for maintaining global list of all contacts ever seen in a class variable, and for initializing the name and address for an individual contact:"
   ],
   "metadata": {
    "collapsed": false
   },
   "id": "cd2d7995f30ddde9"
  },
  {
   "cell_type": "code",
   "execution_count": 1,
   "outputs": [],
   "source": [
    "class Contact:\n",
    "    \n",
    "    all_contacts: list[\"Contact\"] = []\n",
    "    \n",
    "    def __init__(self, name: str = \"\" , email: str= \"\" ) -> None:\n",
    "        self.name = name\n",
    "        self.email = email\n",
    "        Contact.all_contacts.append(self)\n",
    "        \n",
    "    def __repr__(self) -> str:\n",
    "        return (\n",
    "            f\"{self.__class__.__name__}(\"\n",
    "            f\"{self.name!r}, {self.email!r}\"\n",
    "            f\")\"\n",
    "      )\n",
    "        \n",
    "        \n",
    "    "
   ],
   "metadata": {
    "collapsed": false,
    "ExecuteTime": {
     "start_time": "2023-12-17T04:59:03.235774100Z"
    }
   },
   "id": "b69620c2ea1296fe"
  },
  {
   "cell_type": "markdown",
   "source": [
    "This example introduces us to class variables.\n",
    "\n",
    "The `all_contacts` list,because it is part of the class definition, is shared by all instances of this class.\n",
    "\n",
    "This means that there is only one `Contact.all_contacts` list.\n",
    "\n",
    "We can also access it as `self.all_contacts` from within any method on an instance of the `Contact` class.\n",
    "\n",
    "If a field cannot be found on the object via `self`, then it will be found on the class and will thus refer to the same single list.\n",
    "\n",
    "\n"
   ],
   "metadata": {
    "collapsed": false
   },
   "id": "8d930a0554908135"
  },
  {
   "cell_type": "markdown",
   "source": [
    "#### PRO-TIP\n",
    "\n",
    "Be careful with the `self`-based reference.\n",
    "\n",
    "It can only provide access to an existing class-based variable.\n",
    "\n",
    "If you evert attempt to set the variable using `self.all_contacts`, you will actually be creating a new instance variable associated just with that object.\n",
    "\n",
    "The class variable will still be unchanged and accesible as `Contact.all_contacts`"
   ],
   "metadata": {
    "collapsed": false
   },
   "id": "f064b81024e9944f"
  },
  {
   "cell_type": "code",
   "execution_count": 2,
   "outputs": [],
   "source": [
    "c_1 = Contact(\"Sevval\", \"sevvalunver@gmail.com\")\n",
    "c_2 = Contact(\"Serdar\", \"serdarunver@gmail.com\")"
   ],
   "metadata": {
    "collapsed": false,
    "ExecuteTime": {
     "start_time": "2023-12-17T04:59:03.265835400Z"
    }
   },
   "id": "eff299df69a10583"
  },
  {
   "cell_type": "code",
   "execution_count": 3,
   "outputs": [
    {
     "data": {
      "text/plain": "[Contact('Sevval', 'sevvalunver@gmail.com'),\n Contact('Serdar', 'serdarunver@gmail.com')]"
     },
     "execution_count": 3,
     "metadata": {},
     "output_type": "execute_result"
    }
   ],
   "source": [
    "Contact.all_contacts"
   ],
   "metadata": {
    "collapsed": false,
    "ExecuteTime": {
     "start_time": "2023-12-17T04:59:03.299796300Z"
    }
   },
   "id": "23b1a199c8bbbba6"
  },
  {
   "cell_type": "markdown",
   "source": [
    "This is a simple class that allows us to track a couple of pieces of data about each contact. \n",
    "\n",
    "But what if some of our contacts are also suppliers that we need to order supplies from? \n",
    "\n",
    "We could add an `order` method to the Contact class, but that would allow people to accidentally order things from contacts who are customers or family friends. \n",
    "\n",
    "Instead, let's create a new `Supplier` class that acts like our `Contact` class, but has an additional `order` method that accepts a yet-to-be-defined `Order` object:"
   ],
   "metadata": {
    "collapsed": false
   },
   "id": "a39bb09a7382a498"
  },
  {
   "cell_type": "code",
   "execution_count": 4,
   "outputs": [],
   "source": [
    "class Supplier(Contact):\n",
    "    \n",
    "    def order(self, order: \"Order\") -> None:\n",
    "        print(\n",
    "            \"If this were a real system we would send \"\n",
    "            f\"'{order}' order to '{self.name}'\"\n",
    "        )"
   ],
   "metadata": {
    "collapsed": false,
    "ExecuteTime": {
     "start_time": "2023-12-17T04:59:03.327280300Z"
    }
   },
   "id": "34645ea83d186590"
  },
  {
   "cell_type": "markdown",
   "source": [
    "If we test this class in our trusty interpreter, we see that all contacts, including suppliers, accept a name and email address in their ``__init__`` method, but that only `suppliers` instance have an `order` method:"
   ],
   "metadata": {
    "collapsed": false
   },
   "id": "db0aaadd1579f2db"
  },
  {
   "cell_type": "code",
   "execution_count": 5,
   "outputs": [],
   "source": [
    "c = Contact(\"Some Body\", \"somebody@somename.com\")\n",
    "s = Supplier(\"Sup Plier\", \"supplier@example.com\")"
   ],
   "metadata": {
    "collapsed": false,
    "ExecuteTime": {
     "start_time": "2023-12-17T04:59:03.344782900Z"
    }
   },
   "id": "fa1f498905be16a4"
  },
  {
   "cell_type": "code",
   "execution_count": 6,
   "outputs": [
    {
     "name": "stdout",
     "output_type": "stream",
     "text": [
      "Some Body somebody@somename.com Sup Plier supplier@example.com\n"
     ]
    }
   ],
   "source": [
    "print(c.name, c.email, s.name, s.email)"
   ],
   "metadata": {
    "collapsed": false,
    "ExecuteTime": {
     "start_time": "2023-12-17T04:59:03.371617300Z"
    }
   },
   "id": "3182c1c0b25af1ef"
  },
  {
   "cell_type": "code",
   "execution_count": 7,
   "outputs": [
    {
     "name": "stdout",
     "output_type": "stream",
     "text": [
      "[Contact('Sevval', 'sevvalunver@gmail.com'),\n",
      " Contact('Serdar', 'serdarunver@gmail.com'),\n",
      " Contact('Some Body', 'somebody@somename.com'),\n",
      " Supplier('Sup Plier', 'supplier@example.com')]\n"
     ]
    }
   ],
   "source": [
    "from pprint import pprint\n",
    "pprint(c.all_contacts)"
   ],
   "metadata": {
    "collapsed": false,
    "ExecuteTime": {
     "start_time": "2023-12-17T04:59:03.420974200Z"
    }
   },
   "id": "dff45766e360ec53"
  },
  {
   "cell_type": "code",
   "execution_count": 8,
   "outputs": [
    {
     "ename": "AttributeError",
     "evalue": "'Contact' object has no attribute 'order'",
     "output_type": "error",
     "traceback": [
      "\u001B[1;31m---------------------------------------------------------------------------\u001B[0m",
      "\u001B[1;31mAttributeError\u001B[0m                            Traceback (most recent call last)",
      "\u001B[1;32m~\\AppData\\Local\\Temp\\ipykernel_17380\\1636282762.py\u001B[0m in \u001B[0;36m<module>\u001B[1;34m\u001B[0m\n\u001B[1;32m----> 1\u001B[1;33m \u001B[0mc\u001B[0m\u001B[1;33m.\u001B[0m\u001B[0morder\u001B[0m\u001B[1;33m(\u001B[0m\u001B[1;34m\"I need pliers\"\u001B[0m\u001B[1;33m)\u001B[0m\u001B[1;33m\u001B[0m\u001B[1;33m\u001B[0m\u001B[0m\n\u001B[0m",
      "\u001B[1;31mAttributeError\u001B[0m: 'Contact' object has no attribute 'order'"
     ]
    }
   ],
   "source": [
    "c.order(\"I need pliers\")"
   ],
   "metadata": {
    "collapsed": false,
    "ExecuteTime": {
     "start_time": "2023-12-17T04:59:03.454420300Z"
    }
   },
   "id": "8e168ec9ca75e5fb"
  },
  {
   "cell_type": "code",
   "execution_count": null,
   "outputs": [],
   "source": [
    "s.order(\"I need pliers\")"
   ],
   "metadata": {
    "collapsed": false,
    "ExecuteTime": {
     "start_time": "2023-12-17T04:59:03.879892600Z"
    }
   },
   "id": "9bfbb6702fb1b758"
  },
  {
   "cell_type": "markdown",
   "source": [
    "Supplier class can do everything a Contact can do (including adding itself to the list of Contact.all_contacts), but it also has an additional method that allows us to place orders.\n",
    "\n",
    "If we used `self.all_contacts` then this would not collect all objects into the `Contact` class, but would put `Supplier` instances into `Supplier.all_contacts`. "
   ],
   "metadata": {
    "collapsed": false
   },
   "id": "5bec39642fc25440"
  },
  {
   "cell_type": "markdown",
   "source": [
    "## Extending Built-Ins\n",
    "\n",
    "One interesting use of inheritance is adding functionality to built-in types (classes).\n",
    "\n",
    "In the `Contact` class seen earlier, we are adding contacts to a list of all contacts.\n",
    "\n",
    "What if we wanted to search that list by name?\n",
    "\n",
    "We could add a metgod on the `Contact` class to do that, but it feels like this method actually belongs to the list itself.\n",
    "\n",
    "We need to import `annotations` module from `__future__` package.\n"
   ],
   "metadata": {
    "collapsed": false
   },
   "id": "2155d88856ef7fe0"
  },
  {
   "cell_type": "code",
   "execution_count": null,
   "outputs": [],
   "source": [
    "from __future__ import annotations\n",
    "\n",
    "class ContactList(list[\"Contact\"]):\n",
    "    \n",
    "    def search(self, name: str) -> list[\"Contact\"]:\n",
    "        \"\"\"Return all contacts that contain the search value in their name.\"\"\"\n",
    "        matching_contacts: list[\"Contact\"] = []\n",
    "        for contact in self:\n",
    "            if name in contact.name:\n",
    "                matching_contacts.append(contact)\n",
    "        return matching_contacts\n",
    "    \n",
    "class Contact:\n",
    "    \n",
    "        all_contacts: ContactList = ContactList()\n",
    "        \n",
    "        def __init__(self, name: str = \"\", email: str = \"\") -> None:\n",
    "            self.name = name\n",
    "            self.email = email\n",
    "            Contact.all_contacts.append(self)\n",
    "            \n",
    "        def __repr__(self) -> str:\n",
    "            return (\n",
    "                f\"{self.__class__.__name__}(\"\n",
    "                f\"{self.name!r}, {self.email!r}\"\n",
    "                f\")\"\n",
    "            )"
   ],
   "metadata": {
    "collapsed": false,
    "ExecuteTime": {
     "start_time": "2023-12-17T04:59:03.884879700Z"
    }
   },
   "id": "2665a7ca3f8e92d4"
  },
  {
   "cell_type": "code",
   "execution_count": null,
   "outputs": [],
   "source": [
    "c1 = Contact(\"John A\", \"johna@example.com\")\n",
    "c2 = Contact(\"John B\", \"johnb@example.com\")\n",
    "c3 = Contact(\"Jenna C\", \"cutty@example.com\")"
   ],
   "metadata": {
    "collapsed": false,
    "ExecuteTime": {
     "start_time": "2023-12-17T04:59:03.892018900Z"
    }
   },
   "id": "b7b668d3df880c83"
  },
  {
   "cell_type": "code",
   "execution_count": null,
   "outputs": [],
   "source": [
    "[c.name for c in Contact.all_contacts.search(\"John\")]"
   ],
   "metadata": {
    "collapsed": false,
    "ExecuteTime": {
     "start_time": "2023-12-17T04:59:03.898216600Z"
    }
   },
   "id": "a240b45f4fb70a45"
  },
  {
   "cell_type": "markdown",
   "source": [
    "Instead of instatiating a gneric list as our class variable, we create a new `ContactList` class that extends the built-in `list` class."
   ],
   "metadata": {
    "collapsed": false
   },
   "id": "68c779bc774d2f63"
  },
  {
   "cell_type": "markdown",
   "source": [
    "As a second example, we can extend the `dict` class, which is a collection of keys and their associated values.\n",
    "\n",
    "We can create instances of dictionaries using `{}` syntax.\n",
    "\n",
    "An extended class that tracts the longest ket it has seen:"
   ],
   "metadata": {
    "collapsed": false
   },
   "id": "cca11c3f7f4a4c2a"
  },
  {
   "cell_type": "code",
   "execution_count": null,
   "outputs": [],
   "source": [
    "class LongNameDict(dict[str, int]):\n",
    "    \n",
    "    def longest_key(self) -> Optional[str]:\n",
    "        longest = None\n",
    "        for key in self:\n",
    "            if longest is None or len(key) > len(longest):\n",
    "                longest = key\n",
    "        return longest"
   ],
   "metadata": {
    "collapsed": false,
    "ExecuteTime": {
     "start_time": "2023-12-17T04:59:03.905586500Z"
    }
   },
   "id": "49c0a2b4135e8d89"
  },
  {
   "cell_type": "markdown",
   "source": [
    "The hint for the class narrowed the generic dict to a more specific dict[str, int]; the keys are of type str and the values are of type int.\n",
    " \n",
    "This helps mypy reason about the longest_key() method. Since the keys are supposed to be str-type objects, the statement for key in self: will iterate over str objects. \n",
    "\n",
    "The result will be a str, or possibly None. That's why the result is described as `Optional[str]`."
   ],
   "metadata": {
    "collapsed": false
   },
   "id": "f9922cd7a2cc470c"
  },
  {
   "cell_type": "markdown",
   "source": [
    "We're going to be working with strings and integer values. Perhaps the strings are usernames, and the integer values are the number of articles they've read on a website.\n",
    " \n",
    "In addition to the core username and reading history, we also need to know the longest name so we can format a table of scores with the right size display box."
   ],
   "metadata": {
    "collapsed": false
   },
   "id": "6b2bb6f5891e42cc"
  },
  {
   "cell_type": "code",
   "execution_count": null,
   "outputs": [],
   "source": [
    "articles_read = LongNameDict()\n",
    "\n",
    "articles_read[\"Doug\"] = 34\n",
    "articles_read[\"Anne\"] = 11\n",
    "articles_read[\"Boris\"] = 42"
   ],
   "metadata": {
    "collapsed": false,
    "ExecuteTime": {
     "start_time": "2023-12-17T04:59:03.911271500Z"
    }
   },
   "id": "2fdca125c43b5f62"
  },
  {
   "cell_type": "code",
   "execution_count": null,
   "outputs": [],
   "source": [
    "articles_read.longest_key()"
   ],
   "metadata": {
    "collapsed": false,
    "ExecuteTime": {
     "start_time": "2023-12-17T04:59:03.918402300Z"
    }
   },
   "id": "98d4566bca32d683"
  },
  {
   "cell_type": "markdown",
   "source": [
    "Most built-in types can be similarly extended. These built-in types fall into several interesting families, with separate kinds of type hints:"
   ],
   "metadata": {
    "collapsed": false
   },
   "id": "e2eec1b576e2f5a5"
  },
  {
   "cell_type": "markdown",
   "source": [
    "### 1-) Generic Collections:\n",
    "\n",
    "`set`,`list`,`dict`.\n",
    "\n",
    "These use type hints like `set[something]`, `list[something]`, and `dict[key,value]` to narrow the hint from purely generic to something more specific that the application will actually use.\n",
    "\n",
    "To use the generic types as annotations, a `from __future__ import annotations` is required.\n",
    "\n",
    "### 2-)\n",
    "\n",
    "The `typing.NamedTuple` definition lets us define new kinds of immutable tuples and provide useful names for the members.\n",
    "\n",
    "### 3-)\n",
    "\n",
    "Python has type hints for file-related I/O objects. A new kind of file can use a type hint of `typing.TextIO` or `typing.BinaryIO` to describe built-file file operations.\n",
    "\n",
    "### 4-)\n",
    "\n",
    "It's possible to create new types of strings by extending `typing.Text`. For the most part, the built-in `str` class does everything we need.\n",
    "\n",
    "### 5-)\n",
    "\n",
    "New numeric types often start with the `numbers` module as a source for built-in numeric functionality."
   ],
   "metadata": {
    "collapsed": false
   },
   "id": "fcd58f7adcfdad9c"
  },
  {
   "cell_type": "markdown",
   "source": [
    "## Overriding and Super\n",
    "\n",
    "Our `Contact` class allows only a name and an email address. This may be sufficient for most contacts, but what if we want to add a phone number for our close friends?\n",
    "\n",
    "We could do this easily by setting a `phone` attribute on the contact after it is constructed.\n",
    "\n",
    "But if we want to make this third variable available on initialization, we have to override the `__init__` method from the superclass.\n",
    "\n",
    "Overriding means altering or replacing a method of the superclass with a new method in the subclass.\n",
    "\n",
    "No special syntax is needed to do this; the subclass's newly created method is automatically called instead of the superclass's method."
   ],
   "metadata": {
    "collapsed": false
   },
   "id": "1aa1fcbf06be97a6"
  },
  {
   "cell_type": "code",
   "execution_count": null,
   "outputs": [],
   "source": [
    "class Friend(Contact):\n",
    "    \n",
    "    def __init__(self, name: str = \"\", email: str = \"\", phone: str = \"\") -> None:\n",
    "        self.name = name\n",
    "        self.email = email\n",
    "        self.phone = phone"
   ],
   "metadata": {
    "collapsed": false,
    "ExecuteTime": {
     "start_time": "2023-12-17T04:59:03.925655900Z"
    }
   },
   "id": "8bbbb6ee7440f727"
  },
  {
   "cell_type": "markdown",
   "source": [
    "Our Contact and Friend classes have duplicate code to set up the name and email properties; this can make code maintenance complicated, as we have to update the code in two or more places. \n",
    "\n",
    "More alarmingly, our Friend class is neglecting to add itself to the all_contacts list we have created on the Contact class. \n",
    "\n",
    "Finally, looking forward, if we add a feature to the Contact class, we'd like it to also be part of the Friend class."
   ],
   "metadata": {
    "collapsed": false
   },
   "id": "539896f04eb8408c"
  },
  {
   "cell_type": "markdown",
   "source": [
    "What we really need is a way to execute the original __init__() method on the Contact class from inside our new class. \n",
    "\n",
    "This is what the super() function does; it returns the object as if it was actually an instance of the parent class, allowing us to call the parent method directly:\n"
   ],
   "metadata": {
    "collapsed": false
   },
   "id": "f38301237b5cde7d"
  },
  {
   "cell_type": "code",
   "execution_count": null,
   "outputs": [],
   "source": [
    "class Friend(Contact):\n",
    "    \n",
    "    def __init__(self, name: str = \"\", email: str = \"\", phone: str = \"\") -> None:\n",
    "        super().__init__(name, email)\n",
    "        self.phone = phone"
   ],
   "metadata": {
    "collapsed": false,
    "ExecuteTime": {
     "start_time": "2023-12-17T04:59:03.933786300Z"
    }
   },
   "id": "fed83f8142481a3e"
  },
  {
   "cell_type": "markdown",
   "source": [
    "This example first binds the instance to the parent class using `super()` and calls `__init__()` on that object, passing in the expected arguments.\n",
    "\n",
    "It then does its own initialization, namely, setting the `phone` attribute, which is unique to the `Friend` class.\n",
    "\n",
    "The `Contact` class provided a definition for the `__repr__()` method to produce a string representation of the object.\n",
    "\n",
    "Our class did not override the `__repr__()` method inherited from the superclass."
   ],
   "metadata": {
    "collapsed": false
   },
   "id": "ddcfcd187ad12f5e"
  },
  {
   "cell_type": "code",
   "execution_count": null,
   "outputs": [],
   "source": [
    "f = Friend(\"Sevvalism26\", \"ss@example\", \"12345\")"
   ],
   "metadata": {
    "collapsed": false,
    "ExecuteTime": {
     "start_time": "2023-12-17T04:59:03.940984500Z"
    }
   },
   "id": "df1a20469f091d9d"
  },
  {
   "cell_type": "code",
   "execution_count": null,
   "outputs": [],
   "source": [
    "Contact.all_contacts"
   ],
   "metadata": {
    "collapsed": false,
    "ExecuteTime": {
     "start_time": "2023-12-17T04:59:03.949173Z"
    }
   },
   "id": "e54acc63779ea570"
  },
  {
   "cell_type": "markdown",
   "source": [
    "The details shown for a Friend instance don't include the new attribute. \n",
    "\n",
    "It's easy to overlook the special method definitions when thinking about class design.\n",
    "\n",
    "A super() call can be made inside any method. Therefore, all methods can be modified via overriding and calls to super(). \n",
    "\n",
    "The call to super() can also be made at any point in the method; we don't have to make the call as the first line. \n",
    "\n",
    "For example, we may need to manipulate or validate incoming parameters before forwarding them to the superclass. "
   ],
   "metadata": {
    "collapsed": false
   },
   "id": "8ea9e7c860dfe288"
  },
  {
   "cell_type": "markdown",
   "source": [
    "# Multiple Inheritance\n",
    "\n",
    "Multiple inheritance in principle is simple: a subclass that inherits from more than one parent class can access functionality from both of them.\n",
    "\n",
    "In practice, it requires some care to be sure any method overrides are fully understood."
   ],
   "metadata": {
    "collapsed": false
   },
   "id": "c9fd8ebca7294679"
  },
  {
   "cell_type": "markdown",
   "source": [
    "The simplest and most useful form of multiple inheritance follows a design pattern called the **mixin**.\n",
    "\n",
    "A mixin class definition is not intended to exist on its own; but is meant to be inherited by some other class to provide extra functionality.\n",
    "\n",
    "For example, let's say we wanted to add functionality to our `Contact` class that allows sending an email to `self.email`.\n",
    "\n",
    "Sending mail is a common task that we might want to use on many other classes. So, we can write a simple mixin class that provides this functionality:\n"
   ],
   "metadata": {
    "collapsed": false
   },
   "id": "f7edb8eece9ec6d3"
  },
  {
   "cell_type": "code",
   "execution_count": null,
   "outputs": [],
   "source": [
    "from typing import Protocol\n",
    "\n",
    "\n",
    "class Emailable(Protocol):\n",
    "    email: str\n",
    "    \n",
    "class MailSender(Emailable):\n",
    "    \n",
    "    def send_mail(self, message: str) -> None:\n",
    "        print(f\"Sending mail to {self.email}\")\n",
    "        # Add e-mail logic here"
   ],
   "metadata": {
    "collapsed": false,
    "ExecuteTime": {
     "start_time": "2023-12-17T04:59:03.956419600Z"
    }
   },
   "id": "69701c1b881bcaba"
  },
  {
   "cell_type": "markdown",
   "source": [
    "The `MailSender` class does not do anything special.\n",
    "\n",
    "We have two classes because we are describing two things: aspects of the host class for a mixin, and new aspects the mixin provides to the host.\n",
    "\n",
    "We needed to create a hint, `Emailable`, to describe the kinds of classes or `MailSender` mixin expects to work with.\n",
    "\n",
    "This kind of type hint is called a `Protocol`.\n",
    "\n",
    "`Protocols` generally have methods and can also have a class-level attribute names with type hints but not full assignment statements.\n",
    "\n",
    "A protocol tells that any class (or Subclass) of `Emailable` object must support an `email` attribute of type `str`.\n",
    "\n",
    "Note that we are relying on Python's name resolution rules.\n",
    "\n",
    "The name `self.email` can be resolved as either an instance variable, or a class-level variable, `Emailable.email`, or a property.\n",
    "\n",
    "The mypy tool will check all the classes mixed in with `MailSender` for instance- or class-level definitions. \n",
    "\n",
    "We only need to provide the name of the attribute at the class level, with a type hint to make it clear to mypy that the mixin does not define the attribute – the class into which it's mixed will provide the `email` attribute.\n",
    "\n",
    "Because of Python's duck typing rules, we can use the `MailSender` mixin with any class that has an `email` attribute defined. \n",
    "\n",
    "A class with which `MailSender` is mixed doesn't have to be a formal subclass of `Emailable`; it only has to provide the required attribute.\n",
    "\n",
    "For brevity, we didn't include the actual email logic here; if you're interested in studying how it's done, see the `smtplib` module in the Python standard library.\n",
    "\n",
    "The `MailSender` class does allow us to define a new class that describes both a `Contact` and a `MailSender`, using multiple inheritance:"
   ],
   "metadata": {
    "collapsed": false
   },
   "id": "e242a807ac70135e"
  },
  {
   "cell_type": "code",
   "execution_count": null,
   "outputs": [],
   "source": [
    "class EmailableContact(Contact, MailSender):\n",
    "    pass\n"
   ],
   "metadata": {
    "collapsed": false,
    "ExecuteTime": {
     "start_time": "2023-12-17T04:59:03.964606900Z"
    }
   },
   "id": "facb2c016078d403"
  },
  {
   "cell_type": "markdown",
   "source": [
    "The syntax for multiple inheritance looks like a parameter list in the class definition. \n",
    "\n",
    "Instead of including one base class inside the parentheses, we include two (or more), separated by a comma. \n",
    "\n",
    "When it's done well, it's common for the resulting class to have no unique features of its own. \n",
    "\n",
    "It's a combination of mixins, and the body of the class definition is often nothing more than the pass placeholder.\n",
    "\n",
    "We can test this new hybrid to see the mixin at work:"
   ],
   "metadata": {
    "collapsed": false
   },
   "id": "7516a046583ccd42"
  },
  {
   "cell_type": "code",
   "execution_count": null,
   "outputs": [],
   "source": [
    "e = EmailableContact(\"John Smith\", \"jognb@sloop.net\")"
   ],
   "metadata": {
    "collapsed": false,
    "ExecuteTime": {
     "start_time": "2023-12-17T04:59:03.971814900Z"
    }
   },
   "id": "7b52b015500c3eb"
  },
  {
   "cell_type": "code",
   "execution_count": null,
   "outputs": [],
   "source": [
    "Contact.all_contacts"
   ],
   "metadata": {
    "collapsed": false,
    "ExecuteTime": {
     "start_time": "2023-12-17T04:59:03.979024200Z"
    }
   },
   "id": "46bca1d86271e52a"
  },
  {
   "cell_type": "code",
   "execution_count": null,
   "outputs": [],
   "source": [
    "e.send_mail(\"Hello, test e-mail here\")"
   ],
   "metadata": {
    "collapsed": false,
    "ExecuteTime": {
     "start_time": "2023-12-17T04:59:03.985137300Z"
    }
   },
   "id": "a4792a597c2d9259"
  },
  {
   "cell_type": "markdown",
   "source": [
    "The `Contact` initializer is still adding the new contact to the `all_contacts` list, and the mixin is able to send mail to `self.email`, so we know that everything is working."
   ],
   "metadata": {
    "collapsed": false
   },
   "id": "cdb2e6ac1c7687c9"
  },
  {
   "cell_type": "markdown",
   "source": [
    "let's consider some other options we had for this example, rather than using a mixin:\n",
    "\n",
    "We could have used single inheritance and added the `send_mail` function to a subclass of `Contact`. \n",
    "\n",
    "The disadvantage here is that the email functionality then has to be duplicated for any unrelated classes that need an email. \n",
    "\n",
    "For example, if we had email information in the payments part of our application, unrelated to these contacts, and we wanted a `send_mail()` method, we'd have to duplicate the code.\n",
    "\n",
    "We can create a standalone Python function for sending an email, and just call that function with the correct email address supplied as a parameter when the email needs to be sent (this is a very common choice). \n",
    "\n",
    "Because the function is not part of a class, it's harder to be sure that proper encapsulation is being used.\n",
    "\n",
    "We could explore a few ways of using composition instead of inheritance. \n",
    "\n",
    "For example, `EmailableContact` could have a `MailSender` object as a property instead of inheriting from it. \n",
    "\n",
    "This leads to a more complex `MailSender` class because it now has to stand alone. It also leads to a more complex `EmailableContact` class because it has to associate a `MailSender` instance with each `Contact`.\n",
    "\n",
    "\n",
    "We could try to monkey patch (we'll briefly cover monkey patching in Chapter 13, Testing Object-Oriented Programs) the `Contact` class to have a `send_mail` method after the class has been created. \n",
    "\n",
    "This is done by defining a function that accepts the `self` argument, and setting it as an attribute on an existing class. \n",
    "\n",
    "This is fine for creating a unit test fixture, but terrible for the application itself.\n"
   ],
   "metadata": {
    "collapsed": false
   },
   "id": "1a8f6b3b150188d3"
  },
  {
   "cell_type": "markdown",
   "source": [
    "Multiple inheritance works alright when we are mixing methods from different classes, but it can be problamatic when we have to call methods on the superclass.\n",
    "\n",
    "When there are multiple superclasses, how do we know which one's methods to call?\n",
    "\n",
    "What is the rule for selecting the appropriate superclass method?\n",
    "\n",
    "Let's explore these questions by adding address to Friend Class:\n",
    "\n",
    "Approaches that we can take are:\n",
    "\n",
    "1-) \n",
    "An address is a collection of strings representing the street, city, country, and other related details of the contact. \n",
    "\n",
    "We could pass each of these strings as a parameter into the `Friend` class's `__init__()` method. \n",
    "\n",
    "We could also store these strings in a generic tuple or dictionary. These options work well when the address information doesn't need new methods.\n",
    "\n",
    "2-) \n",
    "Another option would be to create our own `Address` class to hold those strings together, and then pass an instance of this class into the `__init__()` method in our Friend class. \n",
    "\n",
    "The advantage of this solution is that we can add behavior (say, a method to give directions or to print a map) to the data instead of just storing it statically. This is an example of composition.\n",
    " \n",
    "The \"has-a\" relationship of composition is a perfectly viable solution to this problem and allows us to reuse Address classes in other entities, such as buildings, businesses, or organizations. \n",
    "\n",
    "3-)\n",
    "\n",
    "A third course of action is a cooperative multiple inheritance design. While this can be made to work, it doesn't pass muster with mypy. \n",
    "\n",
    "The reason, we'll see, is some potential ambiguity that's difficult to describe with the available type hints.\n",
    "\n",
    "----------------------------------------------------------------------------------------------------------------------------\n",
    "\n",
    "\n",
    "\n"
   ],
   "metadata": {
    "collapsed": false
   },
   "id": "8d04e6aa559e82f4"
  },
  {
   "cell_type": "markdown",
   "source": [
    "The objective here is to add a new class to hold an address.\n",
    "\n",
    "We will call this new class `AddresHolder` instead of Address because inheritance defiens an \" is-a\" relationship, and an address is not a contact."
   ],
   "metadata": {
    "collapsed": false
   },
   "id": "bf85880d88a64294"
  },
  {
   "cell_type": "code",
   "execution_count": null,
   "outputs": [],
   "source": [
    "class AddressHolder:\n",
    "    \n",
    "    def __init__(self, street: str, city: str, state: str, code: str) -> None:\n",
    "        self.street = street\n",
    "        self.city = city\n",
    "        self.state = state\n",
    "        self.code = code"
   ],
   "metadata": {
    "collapsed": false,
    "ExecuteTime": {
     "start_time": "2023-12-17T04:59:03.990272Z"
    }
   },
   "id": "19fabed055e0719c"
  },
  {
   "cell_type": "markdown",
   "source": [
    "## The Diamond Problem\n",
    "\n",
    "We can use multiple inheritance to add thiss class as a parent of our existing `Friend` class.\n",
    "\n",
    "The tricky part is that we now have two parent `__init__()` methods, both of which needed to be called.\n",
    "\n",
    "And they need to be called wtih different arguments.\n",
    "\n",
    "We could start with a naive approach for the `Friend` class:"
   ],
   "metadata": {
    "collapsed": false
   },
   "id": "82bf6348381b406"
  },
  {
   "cell_type": "code",
   "execution_count": null,
   "outputs": [],
   "source": [
    "class Friend(Contact, AddressHolder):\n",
    "    \n",
    "    def __init__(\n",
    "        self,\n",
    "        name: str = \"\",\n",
    "        email: str = \"\",\n",
    "        phone: str = \"\",\n",
    "        street: str = \"\",\n",
    "        city: str = \"\",\n",
    "        state: str = \"\",\n",
    "        code: str = \"\",\n",
    "    ) -> None:\n",
    "        Contact.__init__(self, name, email)\n",
    "        AddressHolder.__init__(self, street, city, state, code)\n",
    "        self.phone = phone"
   ],
   "metadata": {
    "collapsed": false,
    "ExecuteTime": {
     "start_time": "2023-12-17T04:59:03.997296300Z"
    }
   },
   "id": "2a07eb9b1e89624d"
  },
  {
   "cell_type": "markdown",
   "source": [
    "In above example, we directly call the `__init__()` function on each of the superclasses and explicitly pass the `self` argument.\n",
    "\n",
    "This example technically works, we can access the different variables directly on the class.\n",
    "\n",
    "But there are few problems with this approach.\n",
    "\n",
    "First, it is possible for a superclass to remain uninitialized if we neglect to explicitly call the initializer.\n",
    "\n",
    "That would not be a problem for this example but it could cause hard to debug program crashes in common scenarios.\n",
    "\n"
   ],
   "metadata": {
    "collapsed": false
   },
   "id": "c4d402a81948673"
  },
  {
   "cell_type": "markdown",
   "source": [
    "More insidious possiblity is a superclass being called multiple times because of the organization of the class hierarchy."
   ],
   "metadata": {
    "collapsed": false
   },
   "id": "523aeaa9c743a9da"
  },
  {
   "cell_type": "markdown",
   "source": [
    "![UML1](./uml1.png)"
   ],
   "metadata": {
    "collapsed": false
   },
   "id": "1726f8981fcf81e3"
  },
  {
   "cell_type": "markdown",
   "source": [
    "The `__init__()` method from the `Friend` class calls the `__init__()` method on the `Contact` class, which implicitly initializes the `object` superclass.\n",
    "\n",
    "The `Friend` class then calls `__init__()` on the `AddressHolder` , which implicitly initializes the object superclass again.\n",
    "\n",
    "This means the parent class has been set up twice.\n",
    "\n",
    "With the `object` class, that's relatively harmless, but in some sitations, it could bring disaster.\n",
    "\n",
    "Base class should onlşy be called once. Once , yes, but when?\n",
    "\n",
    "Do we call `Friend`, then `Contact`, then `object`, then `AddressHolder`?\n",
    "\n",
    "Or `Friend` then `Contact`, then `AddressHolder`, then `object`?\n",
    "\n",
    "Let's contrive an example to illustrate the problem:"
   ],
   "metadata": {
    "collapsed": false
   },
   "id": "e1c45b6d7ca6f953"
  },
  {
   "cell_type": "markdown",
   "source": [
    "![UML2](./uml2.png)"
   ],
   "metadata": {
    "collapsed": false
   },
   "id": "27705b2a88be31d8"
  },
  {
   "cell_type": "markdown",
   "source": [
    "We have a base class `BaseClass` that has a method named `call_me()`.\n",
    "\n",
    "Two subclasses, `LeftSubclass` and `RightSubclass`, inherit from `BaseClass`.\n",
    "\n",
    "Finally, we have two subclasses of both `LeftSubclass` and `RightSubclass` named `Subclass`\\ extends the `BaseClass`\\ and each overrides the `call_me()` method with different implementation.\n",
    "\n",
    "Then, another subclass extends both of these using multiple inheritance with a fourth, distinct implementation of the `call_me()` method. \n",
    "\n",
    "This is called **diamond inheritance** because of the diamond shape of the class diagram."
   ],
   "metadata": {
    "collapsed": false
   },
   "id": "6f6314815384d8be"
  },
  {
   "cell_type": "code",
   "execution_count": null,
   "outputs": [],
   "source": [
    "class BaseClass:\n",
    "    num_base_calls = 0\n",
    "    def call_me(self) -> None:\n",
    "        print(\"Calling method on BaseClass\")\n",
    "        self.num_base_calls += 1\n",
    "class LeftSubclass(BaseClass):\n",
    "    num_left_calls = 0\n",
    "    def call_me(self) -> None:\n",
    "        BaseClass.call_me(self)\n",
    "        print(\"Calling method on LeftSubclass\")\n",
    "        self.num_left_calls += 1\n",
    "class RightSubclass(BaseClass):\n",
    "    num_right_calls = 0\n",
    "    def call_me(self) -> None:\n",
    "        BaseClass.call_me(self)\n",
    "        print(\"Calling method on RightSubclass\")\n",
    "        self.num_right_calls += 1\n",
    "class Subclass(LeftSubclass, RightSubclass):\n",
    "    num_sub_calls = 0\n",
    "    def call_me(self) -> None:\n",
    "        LeftSubclass.call_me(self)\n",
    "        RightSubclass.call_me(self)\n",
    "        print(\"Calling method on Subclass\")\n",
    "        self.num_sub_calls += 1\n"
   ],
   "metadata": {
    "collapsed": false,
    "ExecuteTime": {
     "start_time": "2023-12-17T04:59:04.005279100Z"
    }
   },
   "id": "d4da2efd8f651fa8"
  },
  {
   "cell_type": "markdown",
   "source": [
    "This example ensures that each overriden `call_me()` method directly calls the parent method wtih the same name.\n",
    "\n",
    "It let's us know each time a method is called by printing the information to the screen.\n",
    "\n",
    "It also creates a distinct instance variable to show how many times it has been called.\n",
    "\n",
    "If we instantiate one Subclass object and call the call_me() method on it once, we get the following output:"
   ],
   "metadata": {
    "collapsed": false
   },
   "id": "34caa841f48add7a"
  },
  {
   "cell_type": "code",
   "execution_count": null,
   "outputs": [],
   "source": [
    "s = Subclass()\n",
    "s.call_me()"
   ],
   "metadata": {
    "collapsed": false,
    "ExecuteTime": {
     "start_time": "2023-12-17T04:59:04.010818700Z"
    }
   },
   "id": "e9d0893d5298d49d"
  },
  {
   "cell_type": "code",
   "execution_count": null,
   "outputs": [],
   "source": [
    "print(s.num_sub_calls,\n",
    "      s.num_left_calls,\n",
    "      s.num_right_calls,\n",
    "      s.num_base_calls)"
   ],
   "metadata": {
    "collapsed": false,
    "ExecuteTime": {
     "start_time": "2023-12-17T04:59:04.015822400Z"
    }
   },
   "id": "5a20b03bf5121ec"
  },
  {
   "cell_type": "markdown",
   "source": [
    "Thus, we can see the base class's `call_me()` method being called twice. \n",
    "\n",
    "This could lead to some pernicious bugs if that method is doing actual work, such as depositing into a bank account, twice."
   ],
   "metadata": {
    "collapsed": false
   },
   "id": "cff4d69e45734659"
  },
  {
   "cell_type": "markdown",
   "source": [
    "Python's Method Resolution Order (MRO) algorithm transforms the diamond into a flat, linear tuple.\n",
    "\n",
    "We can see the results of this in the `__mro__` attribute of a class. \n",
    "\n",
    "The linear version of this diamond is the sequence Subclass, LeftSubclass, RightSubClass, BaseClass, object. \n",
    "\n",
    "What's important here is that Subclass lists LeftSubclass before RightSubClass, imposing an ordering on the classes in the diamond.\n",
    "\n",
    "The thing to keep in mind with multiple inheritance is that we often want to call the next method in the MRO sequence, not necessarily a method of the parent class. \n",
    "\n",
    "The `super()` function locates the name in the MRO sequence. Indeed, `super()` was originally developed to make complicated forms of multiple inheritance possible.\n",
    "\n",
    "Here is the same code written using `super()`.\n",
    " \n",
    "We've renamed some of the classes, adding an _S to make it clear this is the version using `super()`: "
   ],
   "metadata": {
    "collapsed": false
   },
   "id": "1634eb5cf864c16a"
  },
  {
   "cell_type": "code",
   "execution_count": null,
   "outputs": [],
   "source": [
    "class BaseClass:\n",
    "    num_base_calls = 0\n",
    "    def call_me(self):\n",
    "        print(\"Calling method on Base Class\")\n",
    "        self.num_base_calls += 1\n",
    "class LeftSubclass_S(BaseClass):\n",
    "    num_left_calls = 0\n",
    "    def call_me(self) -> None:\n",
    "        super().call_me()\n",
    "        print(\"Calling method on LeftSubclass_S\")\n",
    "        self.num_left_calls += 1\n",
    "class RightSubclass_S(BaseClass):\n",
    "    num_right_calls = 0\n",
    "    def call_me(self) -> None:\n",
    "        super().call_me()\n",
    "        print(\"Calling method on RightSubclass_S\")\n",
    "        self.num_right_calls += 1\n",
    "class Subclass_S(LeftSubclass_S, RightSubclass_S):\n",
    "    num_sub_calls = 0\n",
    "    def call_me(self) -> None:\n",
    "        super().call_me()\n",
    "        print(\"Calling method on Subclass_S\")\n",
    "        self.num_sub_calls += 1\n"
   ],
   "metadata": {
    "collapsed": false,
    "ExecuteTime": {
     "start_time": "2023-12-17T04:59:04.020910800Z"
    }
   },
   "id": "86df115b6049fb68"
  },
  {
   "cell_type": "markdown",
   "source": [
    "The change is pretty minor; we only replaced the naive direct calls with calls to super(). \n",
    "\n",
    "The Subclass_S class, at the bottom of the diamond, only calls super() once rather than having to make the calls for both the left and right. \n",
    "\n",
    "The change is easy enough, but look at the difference when we execute it:"
   ],
   "metadata": {
    "collapsed": false
   },
   "id": "6bd3bbf0490dbb45"
  },
  {
   "cell_type": "code",
   "execution_count": null,
   "outputs": [],
   "source": [
    "ss = Subclass_S()\n",
    "ss.call_me()"
   ],
   "metadata": {
    "collapsed": false,
    "ExecuteTime": {
     "start_time": "2023-12-17T04:59:04.027142900Z"
    }
   },
   "id": "ec419e5fcb6c4afe"
  },
  {
   "cell_type": "code",
   "execution_count": null,
   "outputs": [],
   "source": [
    "print(\n",
    "ss.num_sub_calls,\n",
    "ss.num_left_calls,\n",
    "ss.num_right_calls,\n",
    "ss.num_base_calls\n",
    ")\n"
   ],
   "metadata": {
    "collapsed": false,
    "ExecuteTime": {
     "start_time": "2023-12-17T04:59:04.032310500Z"
    }
   },
   "id": "4bb2a9cf7da0fd13"
  },
  {
   "cell_type": "markdown",
   "source": [
    "This output looks good: our base method is only being called once. We can see how this works by looking at the `__mro__` attribute of the class:"
   ],
   "metadata": {
    "collapsed": false
   },
   "id": "6466079cac0de193"
  },
  {
   "cell_type": "code",
   "execution_count": null,
   "outputs": [],
   "source": [
    "from pprint import pprint\n",
    "\n",
    "pprint(Subclass_S.__mro__)"
   ],
   "metadata": {
    "collapsed": false,
    "ExecuteTime": {
     "start_time": "2023-12-17T04:59:04.037443900Z"
    }
   },
   "id": "ef9ae5c4a5019180"
  },
  {
   "cell_type": "markdown",
   "source": [
    "The order of the classes shows what order `super()` will use. \n",
    "\n",
    "The last class in the tuple is generally the built-in `object` class. \n",
    "\n",
    "As noted earlier in this chapter, it's the implicit superclass of all classes.\n",
    "\n",
    "This shows what `super()` is actually doing. \n",
    "\n",
    "Since the print statements are executed after the `super` calls, the printed output is in the order each method is actually executed. \n",
    "\n",
    "Let's look at the output from back to front to see who is calling what:\n",
    "\n",
    "------------------------------------"
   ],
   "metadata": {
    "collapsed": false
   },
   "id": "1c14d7870a9a193f"
  },
  {
   "cell_type": "markdown",
   "source": [
    "We start with the Subclass_S.call_me() method. This evaluates super().call_me(). The MRO shows LeftSubclass_S as next.\n",
    "\n",
    "We begin evaluation of the LeftSubclass_S.call_me() method. This evaluates super().call_me(). The MRO puts RightSubclass_S as next. This is not a superclass; it's adjacent in the class diamond.\n",
    "\n",
    "The evaluation of the RightSubclass_S.call_me() method, super().call_me(). This leads to BaseClass.\n",
    "\n",
    "TheBaseClass.call_me() method finishes its processing: printing a message and setting an instance variable, self.num_base_calls, to BaseClass.num_base_calls + 1.\n",
    "\n",
    "Then, the RightSubclass_S.call_me() method can finish, printing a message and setting an instance variable, self.num_right_calls.\n",
    "\n",
    "Then, the LeftSubclass_S.call_me() method will finish by printing a message and setting an instance variable, self.num_left_calls.\n",
    "\n",
    "This serves to set the stage for Subclass_S to finish its call_me() method processing. It writes a message, sets an instance variable, and rests, happy and successful.\n",
    "\n",
    "--------------"
   ],
   "metadata": {
    "collapsed": false
   },
   "id": "c85da297e47a2b38"
  },
  {
   "cell_type": "markdown",
   "source": [
    "Pay particular attention to this: \n",
    "\n",
    "The super call is not calling the method on the superclass of LeftSubclass_S (which is BaseClass). \n",
    "\n",
    "Rather, it is calling RightSubclass_S, even though it is not a direct parent of LeftSubclass_S! \n",
    "\n",
    "This is the next class in the MRO, not the parent method. \n",
    "\n",
    "RightSubclass_S then calls BaseClass and the super() calls have ensured each method in the class hierarchy is executed once."
   ],
   "metadata": {
    "collapsed": false
   },
   "id": "670cc80188396a40"
  },
  {
   "cell_type": "markdown",
   "source": [
    "## DIFFERENT SETS OF ARGUMENTS"
   ],
   "metadata": {
    "collapsed": false
   },
   "id": "78fa12d9195c0264"
  },
  {
   "cell_type": "markdown",
   "source": [
    "This is going to make things complicated as we return to our `Friend` class example.\n",
    "\n",
    "In the `__init__()` method of the `Friend` class, we were originally delegating initialization to the `__init__()` methods of both parent classes, wtih different sets of arguments."
   ],
   "metadata": {
    "collapsed": false
   },
   "id": "dfe6a573c5beff2e"
  },
  {
   "cell_type": "code",
   "execution_count": null,
   "outputs": [],
   "source": [
    "Contact.__init__(self, name, email)"
   ],
   "metadata": {
    "collapsed": false,
    "ExecuteTime": {
     "start_time": "2023-12-17T04:59:04.044559600Z"
    }
   },
   "id": "3369b4228db55856"
  },
  {
   "cell_type": "code",
   "execution_count": null,
   "outputs": [],
   "source": [
    "AddressHolder.__init__(self, street, city, state, code)"
   ],
   "metadata": {
    "collapsed": false,
    "ExecuteTime": {
     "start_time": "2023-12-17T04:59:04.049724400Z"
    }
   },
   "id": "67670abcaf0988b7"
  },
  {
   "cell_type": "markdown",
   "source": [
    "How can we manage different sets of arguments when using `super()`? \n",
    "\n",
    "We only really have access to the next class in the MRO sequence. \n",
    "\n",
    "Because of this, we need a way to pass the extra arguments through the constructors so that subsequent calls to `super()`, from other mixin classes, receive the right arguments.\n",
    "\n",
    "It works like this. The first call to `super()` provides arguments to the first class of the MRO, passing the name and email arguments to `Contact.__init__()`. \n",
    "\n",
    "Then, when `Contact.__init__()` calls `super()`, it needs to be able to pass the address-related arguments to the method of the next class in the MRO, which is `AddressHolder.__init__()`.\n",
    "\n",
    "This problem often manifests itself anytime we want to call superclass methods with the same name, but with different sets of arguments. \n",
    "\n",
    "Collisions often arise around the special method names. Of these, the most common example is having a different set of arguments to various `__init__()` methods, as we're doing here.\n",
    "\n",
    "There's no magical Python feature to handle cooperation among classes with divergent `__init__()` parameters. \n",
    "\n",
    "Consequently, this requires some care to design our class parameter lists. \n",
    "\n",
    "The cooperative multiple inheritance approach is to accept keyword arguments for any parameters that are not required by every subclass implementation. \n",
    "\n",
    "A method must pass the unexpected arguments on to its `super()` call, in case they are necessary to later methods in the MRO sequence of classes.\n",
    "\n",
    "While this works and works well, it's difficult to describe with type hints. \n",
    "\n",
    "Python's function parameter syntax provides a tool we can use to do this, but it makes the overall code look cumbersome. \n",
    "\n",
    "Have a look at a version of the Friend multiple inheritance code:"
   ],
   "metadata": {
    "collapsed": false
   },
   "id": "e2faf1bc296275e2"
  },
  {
   "cell_type": "code",
   "execution_count": null,
   "outputs": [],
   "source": [
    "class Contact:\n",
    "    all_contacts = ContactList()\n",
    "    def __init__(self, /, name: str = \"\", email: str = \"\", **kwargs: Any) -> None:\n",
    "        super().__init__(**kwargs)  # type: ignore [call-arg]\n",
    "        self.name = name\n",
    "        self.email = email\n",
    "        self.all_contacts.append(self)\n",
    "    def __repr__(self) -> str:\n",
    "        return f\"{self.__class__.__name__}(\" f\"{self.name!r}, {self.email!r}\" f\")\"\n",
    "class AddressHolder:\n",
    "    def __init__(\n",
    "        self,\n",
    "        /,\n",
    "        street: str = \"\",\n",
    "        city: str = \"\",\n",
    "        state: str = \"\",\n",
    "        code: str = \"\",\n",
    "        **kwargs: Any,\n",
    "    ) -> None:\n",
    "        super().__init__(**kwargs)  # type: ignore [call-arg]\n",
    "        self.street = street\n",
    "        self.city = city\n",
    "        self.state = state\n",
    "        self.code = code\n",
    "class Friend(Contact, AddressHolder):\n",
    "    def __init__(self, /, phone: str = \"\", **kwargs: Any) -> None:\n",
    "        super().__init__(**kwargs)\n",
    "        self.phone = phone\n"
   ],
   "metadata": {
    "collapsed": false,
    "ExecuteTime": {
     "start_time": "2023-12-17T04:59:04.056909900Z"
    }
   },
   "id": "43ec25e5be243a81"
  },
  {
   "cell_type": "markdown",
   "source": [
    "We've added the `**kwargs` parameter, which collects all additional keyword argument values into a dictionary. \n",
    "\n",
    "When called with `Contact(name=\"this\", email=\"that\", street=\"something\")`, the `street` argument is put into the `kwargs` dictionary; these extra parameters are passed up to the next class with the `super()` call.\n",
    " \n",
    "The special parameter / separates parameters that could be provided by position in the call from parameters that require a keyword to associate them with an argument value. \n",
    "\n",
    "We've given all string parameters an empty string as a default value, also."
   ],
   "metadata": {
    "collapsed": false
   },
   "id": "5484e8b49338f6d5"
  },
  {
   "cell_type": "markdown",
   "source": [
    "If you aren't familiar with the `**kwargs` syntax, it basically collects any keyword arguments passed into the method that were not explicitly listed in the parameter list. \n",
    "\n",
    "These arguments are stored in a dictionary named `kwargs` (we can call the variable whatever we like, but convention suggests kw or kwargs). \n",
    "\n",
    "When we call a method, for example, `super().__init__()`, with `**kwargs` as an argument value, it unpacks the dictionary and passes the results to the method as keyword arguments. "
   ],
   "metadata": {
    "collapsed": false
   },
   "id": "4d0042d6294b2e"
  },
  {
   "cell_type": "markdown",
   "source": [
    "Multiple inheritance following the mixin pattern often works out very nicely. \n",
    "\n",
    "The idea is to have additional methods defined in mixin classes, but to keep all of the attributes centralized in a host class hierarchy. \n",
    "\n",
    "This can avoid the complexity of cooperative initialization.\n",
    "\n",
    "Design using composition also often works better than complex multiple inheritance. \n",
    "\n",
    "The inheritance paradigm depends on a clear \"is-a\" relationship between classes. \n",
    "\n",
    "Multiple inheritance folds in other relationships that aren't as clear. \n",
    "\n",
    "We can say that an \"Email is a kind of Contact,\" for example. But it doesn't seem as clear that we can say \"A Customer is an Email.\" \n",
    "\n",
    "We might say \"A Customer has an Email address\" or \"A Customer is contacted via Email,\" using \"has an\" or \"is contacted by\" instead of a direct \"is-a\" relationship."
   ],
   "metadata": {
    "collapsed": false
   },
   "id": "2daab15809bed6e"
  },
  {
   "cell_type": "markdown",
   "source": [
    "# Polymorphism"
   ],
   "metadata": {
    "collapsed": false
   },
   "id": "90206c82d418b061"
  },
  {
   "cell_type": "markdown",
   "source": [
    "It is a showy name describing a simple concept: \n",
    "\n",
    "different behaviors happen depending on which subclass is being used, without having to explicitly know what the subclass actually is.\n",
    "\n",
    "We should be able to substitute any subclass for its superclass.\n",
    "\n",
    "As an example, imagine a program that plays audio files. \n",
    "\n",
    "A media player might need to load an AudioFile object and then play it. \n",
    "\n",
    "We can put a play() method on the object, which is responsible for decompressing or extracting the audio and routing it to the sound card and speakers. \n",
    "\n",
    "The act of playing an AudioFile could feasibly be as simple as:\n",
    "\n",
    "However, the process of decompressing and extracting an audio file is very different for different types of files. \n",
    "\n",
    "While .wav files are stored uncompressed, .mp3, .wma, and .ogg files all utilize totally different compression algorithms.\n",
    "\n",
    "We can use inheritance with polymorphism to simplify the design. \n",
    "\n",
    "Each type of file can be represented by a different subclass of AudioFile, for example, WavFile and MP3File. \n",
    "\n",
    "Each of these would have a play() method that would be implemented differently for each file to ensure that the correct extraction procedure is followed. \n",
    "\n",
    "The media player object would never need to know which subclass of AudioFile it is referring to; it just calls play() and polymorphically lets the object take care of the actual details of playing."
   ],
   "metadata": {
    "collapsed": false
   },
   "id": "3efb80684412a163"
  },
  {
   "cell_type": "markdown",
   "source": [
    "Polymorphism is one of the most important reasons to use inheritance in many object-oriented contexts. \n",
    "\n",
    "Because any objects that supply the correct interface can be used interchangeably in Python, it reduces the need for polymorphic common superclasses. \n",
    "\n",
    "Inheritance can still be useful for sharing code, but if all that is being shared is the public interface, duck typing is all that is required.\n",
    "\n",
    "This reduced need for inheritance also reduces the need for multiple inheritance; often, when multiple inheritance appears to be a valid solution, we can just use duck typing to mimic one of the multiple superclasses."
   ],
   "metadata": {
    "collapsed": false
   },
   "id": "d559f1a40bfc4376"
  }
 ],
 "metadata": {
  "kernelspec": {
   "display_name": "Python 3",
   "language": "python",
   "name": "python3"
  },
  "language_info": {
   "codemirror_mode": {
    "name": "ipython",
    "version": 2
   },
   "file_extension": ".py",
   "mimetype": "text/x-python",
   "name": "python",
   "nbconvert_exporter": "python",
   "pygments_lexer": "ipython2",
   "version": "2.7.6"
  }
 },
 "nbformat": 4,
 "nbformat_minor": 5
}
