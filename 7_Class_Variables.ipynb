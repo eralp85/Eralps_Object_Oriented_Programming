{
 "cells": [
  {
   "cell_type": "markdown",
   "source": [
    "# CLASS VARIABLES\n",
    "\n",
    "Class variables are variables that we use in class level. We can access them with class name or object name.\n",
    "\n",
    "\n",
    "\n",
    "Class variables solves two issues:\n",
    "\n",
    "When you create a class or object you have to assign arguments many times in code. With class variables we can do it shortly.\n",
    "\n",
    "Class variables help us not to consume memory because of repetition of same arguments. \n"
   ],
   "metadata": {
    "collapsed": false
   },
   "id": "eff53d60289fdebf"
  },
  {
   "cell_type": "code",
   "execution_count": 265,
   "outputs": [],
   "source": [
    "class Employee:\n",
    "    department = \"Human Resources\"\n",
    "    def __init__(self, name, age, salary):\n",
    "        self.name = name\n",
    "        self.age = age\n",
    "        self.salary = salary\n",
    "        #self.department = department\n",
    "        self.department = Employee.department\n",
    "    "
   ],
   "metadata": {
    "collapsed": false,
    "ExecuteTime": {
     "end_time": "2023-11-15T19:43:11.267967200Z",
     "start_time": "2023-11-15T19:43:11.078279400Z"
    }
   },
   "id": "6754209bdb417bce"
  },
  {
   "cell_type": "code",
   "execution_count": 266,
   "outputs": [],
   "source": [
    "# We can create an object from Employee class\n",
    "    \n",
    "employee1 = Employee(\"John\", 25, 3000)\n",
    "employee2 = Employee(\"Emma\", 30, 4000)\n",
    "employee3 = Employee(\"Jack\", 35, 5000)\n",
    "employee4 = Employee(\"Olivia\", 40, 6000)"
   ],
   "metadata": {
    "collapsed": false,
    "ExecuteTime": {
     "end_time": "2023-11-15T19:43:11.428100900Z",
     "start_time": "2023-11-15T19:43:11.089929400Z"
    }
   },
   "id": "6df1a4083666b7c3"
  },
  {
   "cell_type": "code",
   "execution_count": 267,
   "outputs": [
    {
     "data": {
      "text/plain": "'Human Resources'"
     },
     "execution_count": 267,
     "metadata": {},
     "output_type": "execute_result"
    }
   ],
   "source": [
    "employee1.department"
   ],
   "metadata": {
    "collapsed": false,
    "ExecuteTime": {
     "end_time": "2023-11-15T19:43:11.613081700Z",
     "start_time": "2023-11-15T19:43:11.108070900Z"
    }
   },
   "id": "616fa95f16a5e494"
  },
  {
   "cell_type": "code",
   "execution_count": 268,
   "outputs": [
    {
     "data": {
      "text/plain": "'Human Resources'"
     },
     "execution_count": 268,
     "metadata": {},
     "output_type": "execute_result"
    }
   ],
   "source": [
    "employee2.department"
   ],
   "metadata": {
    "collapsed": false,
    "ExecuteTime": {
     "end_time": "2023-11-15T19:43:11.642879Z",
     "start_time": "2023-11-15T19:43:11.119528300Z"
    }
   },
   "id": "4694b6be9b2f954f"
  },
  {
   "cell_type": "markdown",
   "source": [
    "We can add new attribute to a specific object. This attribute will be valid only for this object. This is called instance variable.\n",
    "\n"
   ],
   "metadata": {
    "collapsed": false
   },
   "id": "a93f218b2fef8b9d"
  },
  {
   "cell_type": "code",
   "execution_count": 269,
   "outputs": [],
   "source": [
    "class mobile:\n",
    "    def __init__(self, brand, model, price):\n",
    "        self.brand = brand\n",
    "        self.model = model\n",
    "        self.price = price\n"
   ],
   "metadata": {
    "collapsed": false,
    "ExecuteTime": {
     "end_time": "2023-11-15T19:43:11.642879Z",
     "start_time": "2023-11-15T19:43:11.137949100Z"
    }
   },
   "id": "1e2020f30425eb92"
  },
  {
   "cell_type": "code",
   "execution_count": 270,
   "outputs": [],
   "source": [
    "mobile1 = mobile(\"Apple\", \"iPhone 12\", 1000)\n",
    "mobile2 = mobile(\"Samsung\", \"Galaxy S20\", 800)\n"
   ],
   "metadata": {
    "collapsed": false,
    "ExecuteTime": {
     "end_time": "2023-11-15T19:43:11.642879Z",
     "start_time": "2023-11-15T19:43:11.158219600Z"
    }
   },
   "id": "fd769823224b0a19"
  },
  {
   "cell_type": "code",
   "execution_count": 271,
   "outputs": [
    {
     "data": {
      "text/plain": "'Apple'"
     },
     "execution_count": 271,
     "metadata": {},
     "output_type": "execute_result"
    }
   ],
   "source": [
    "mobile1.brand"
   ],
   "metadata": {
    "collapsed": false,
    "ExecuteTime": {
     "end_time": "2023-11-15T19:43:11.642879Z",
     "start_time": "2023-11-15T19:43:11.173258900Z"
    }
   },
   "id": "a2af88b01ba56194"
  },
  {
   "cell_type": "code",
   "execution_count": 272,
   "outputs": [
    {
     "data": {
      "text/plain": "800"
     },
     "execution_count": 272,
     "metadata": {},
     "output_type": "execute_result"
    }
   ],
   "source": [
    "mobile2.price"
   ],
   "metadata": {
    "collapsed": false,
    "ExecuteTime": {
     "end_time": "2023-11-15T19:43:11.642879Z",
     "start_time": "2023-11-15T19:43:11.183312500Z"
    }
   },
   "id": "6eed37e9ba9761d6"
  },
  {
   "cell_type": "code",
   "execution_count": 273,
   "outputs": [
    {
     "data": {
      "text/plain": "{'brand': 'Apple', 'model': 'iPhone 12', 'price': 1000}"
     },
     "execution_count": 273,
     "metadata": {},
     "output_type": "execute_result"
    }
   ],
   "source": [
    "mobile1.__dict__"
   ],
   "metadata": {
    "collapsed": false,
    "ExecuteTime": {
     "end_time": "2023-11-15T19:43:11.647893100Z",
     "start_time": "2023-11-15T19:43:11.199067700Z"
    }
   },
   "id": "5323c75a38f13db2"
  },
  {
   "cell_type": "code",
   "execution_count": 274,
   "outputs": [
    {
     "data": {
      "text/plain": "{'brand': 'Samsung', 'model': 'Galaxy S20', 'price': 800}"
     },
     "execution_count": 274,
     "metadata": {},
     "output_type": "execute_result"
    }
   ],
   "source": [
    "mobile2.__dict__"
   ],
   "metadata": {
    "collapsed": false,
    "ExecuteTime": {
     "end_time": "2023-11-15T19:43:11.667920200Z",
     "start_time": "2023-11-15T19:43:11.217864500Z"
    }
   },
   "id": "b0154235d3f63fa"
  },
  {
   "cell_type": "code",
   "execution_count": 275,
   "outputs": [],
   "source": [
    "mobile1.wifi = \"yes\""
   ],
   "metadata": {
    "collapsed": false,
    "ExecuteTime": {
     "end_time": "2023-11-15T19:43:11.667920200Z",
     "start_time": "2023-11-15T19:43:11.230783800Z"
    }
   },
   "id": "395223afb59eb8f"
  },
  {
   "cell_type": "code",
   "execution_count": 276,
   "outputs": [
    {
     "data": {
      "text/plain": "{'brand': 'Apple', 'model': 'iPhone 12', 'price': 1000, 'wifi': 'yes'}"
     },
     "execution_count": 276,
     "metadata": {},
     "output_type": "execute_result"
    }
   ],
   "source": [
    "mobile1.__dict__"
   ],
   "metadata": {
    "collapsed": false,
    "ExecuteTime": {
     "end_time": "2023-11-15T19:43:11.672971100Z",
     "start_time": "2023-11-15T19:43:11.247896900Z"
    }
   },
   "id": "be1e3ad84fbed213"
  },
  {
   "cell_type": "code",
   "execution_count": 277,
   "outputs": [
    {
     "data": {
      "text/plain": "{'brand': 'Samsung', 'model': 'Galaxy S20', 'price': 800}"
     },
     "execution_count": 277,
     "metadata": {},
     "output_type": "execute_result"
    }
   ],
   "source": [
    "mobile2.__dict__"
   ],
   "metadata": {
    "collapsed": false,
    "ExecuteTime": {
     "end_time": "2023-11-15T19:43:11.698290100Z",
     "start_time": "2023-11-15T19:43:11.267967200Z"
    }
   },
   "id": "a0e98f1f60aeb3db"
  },
  {
   "cell_type": "code",
   "execution_count": 278,
   "outputs": [],
   "source": [
    "mobileList = [mobile1, mobile2]"
   ],
   "metadata": {
    "collapsed": false,
    "ExecuteTime": {
     "end_time": "2023-11-15T19:43:11.698290100Z",
     "start_time": "2023-11-15T19:43:11.298251Z"
    }
   },
   "id": "78e790f3276edc71"
  },
  {
   "cell_type": "markdown",
   "source": [
    "## EXERCISE\n",
    "\n",
    "What will happen if we want to have a different class variable and different instance variable?\n",
    "\n",
    "I will create a shoe class with name and price.\n",
    "\n",
    "I will apply 20% discount to all shoes. But will apply 30% discount to only one shoe.\n",
    " "
   ],
   "metadata": {
    "collapsed": false
   },
   "id": "fd768bf4c78eb1dc"
  },
  {
   "cell_type": "code",
   "execution_count": 279,
   "outputs": [],
   "source": [
    "class shoes():\n",
    "    discount = 0.2\n",
    "    def __init__(self, name, price):\n",
    "        self.name = name\n",
    "        self.price = price\n",
    "    def applyDiscount(self):    \n",
    "        self.discount = self.discount\n",
    "        self.price = self.price - (self.price * self.discount)\n",
    "        return self.price"
   ],
   "metadata": {
    "collapsed": false,
    "ExecuteTime": {
     "end_time": "2023-11-15T19:43:11.698290100Z",
     "start_time": "2023-11-15T19:43:11.310360600Z"
    }
   },
   "id": "34e401b533e2d230"
  },
  {
   "cell_type": "code",
   "execution_count": 280,
   "outputs": [],
   "source": [
    "shoe1 = shoes(\"Nike\", 100)\n",
    "shoe2 = shoes(\"Adidas\", 200)\n",
    "shoe3 = shoes(\"Puma\", 300)"
   ],
   "metadata": {
    "collapsed": false,
    "ExecuteTime": {
     "end_time": "2023-11-15T19:43:11.698290100Z",
     "start_time": "2023-11-15T19:43:11.327854Z"
    }
   },
   "id": "656dc674897b1ca7"
  },
  {
   "cell_type": "code",
   "execution_count": 281,
   "outputs": [
    {
     "data": {
      "text/plain": "80.0"
     },
     "execution_count": 281,
     "metadata": {},
     "output_type": "execute_result"
    }
   ],
   "source": [
    "shoe1.applyDiscount()"
   ],
   "metadata": {
    "collapsed": false,
    "ExecuteTime": {
     "end_time": "2023-11-15T19:43:12.005766900Z",
     "start_time": "2023-11-15T19:43:11.628261200Z"
    }
   },
   "id": "3d9f4af90daaf011"
  },
  {
   "cell_type": "code",
   "execution_count": 282,
   "outputs": [
    {
     "data": {
      "text/plain": "160.0"
     },
     "execution_count": 282,
     "metadata": {},
     "output_type": "execute_result"
    }
   ],
   "source": [
    "shoe2.applyDiscount()"
   ],
   "metadata": {
    "collapsed": false,
    "ExecuteTime": {
     "end_time": "2023-11-15T19:43:12.007813300Z",
     "start_time": "2023-11-15T19:43:11.658187300Z"
    }
   },
   "id": "83bce6273b1f99d5"
  },
  {
   "cell_type": "markdown",
   "source": [
    "What will happen if I want to apply 30% discount to shoe3?"
   ],
   "metadata": {
    "collapsed": false
   },
   "id": "6d69611866b15792"
  },
  {
   "cell_type": "code",
   "execution_count": 283,
   "outputs": [],
   "source": [
    "shoe3.discount = 0.5"
   ],
   "metadata": {
    "collapsed": false,
    "ExecuteTime": {
     "end_time": "2023-11-15T19:43:12.021449100Z",
     "start_time": "2023-11-15T19:43:11.672971100Z"
    }
   },
   "id": "3b9e1db546bbd009"
  },
  {
   "cell_type": "code",
   "execution_count": 284,
   "outputs": [
    {
     "data": {
      "text/plain": "{'name': 'Puma', 'price': 300, 'discount': 0.5}"
     },
     "execution_count": 284,
     "metadata": {},
     "output_type": "execute_result"
    }
   ],
   "source": [
    "shoe3.__dict__"
   ],
   "metadata": {
    "collapsed": false,
    "ExecuteTime": {
     "end_time": "2023-11-15T19:43:12.038194Z",
     "start_time": "2023-11-15T19:43:11.690753300Z"
    }
   },
   "id": "6380ad0460990e02"
  },
  {
   "cell_type": "code",
   "execution_count": 285,
   "outputs": [
    {
     "data": {
      "text/plain": "{'name': 'Nike', 'price': 80.0, 'discount': 0.2}"
     },
     "execution_count": 285,
     "metadata": {},
     "output_type": "execute_result"
    }
   ],
   "source": [
    "shoe1.__dict__"
   ],
   "metadata": {
    "collapsed": false,
    "ExecuteTime": {
     "end_time": "2023-11-15T19:43:12.038194Z",
     "start_time": "2023-11-15T19:43:11.717943800Z"
    }
   },
   "id": "df8a84fc08132c9d"
  },
  {
   "cell_type": "code",
   "execution_count": 286,
   "outputs": [
    {
     "data": {
      "text/plain": "{'name': 'Adidas', 'price': 160.0, 'discount': 0.2}"
     },
     "execution_count": 286,
     "metadata": {},
     "output_type": "execute_result"
    }
   ],
   "source": [
    "shoe2.__dict__"
   ],
   "metadata": {
    "collapsed": false,
    "ExecuteTime": {
     "end_time": "2023-11-15T19:43:12.038194Z",
     "start_time": "2023-11-15T19:43:11.758195600Z"
    }
   },
   "id": "36a05b788b5e2e4a"
  },
  {
   "cell_type": "code",
   "execution_count": 287,
   "outputs": [
    {
     "data": {
      "text/plain": "150.0"
     },
     "execution_count": 287,
     "metadata": {},
     "output_type": "execute_result"
    }
   ],
   "source": [
    "shoe3.applyDiscount()"
   ],
   "metadata": {
    "collapsed": false,
    "ExecuteTime": {
     "end_time": "2023-11-15T19:43:12.038194Z",
     "start_time": "2023-11-15T19:43:11.778033800Z"
    }
   },
   "id": "ddb9b98f51d598ec"
  },
  {
   "cell_type": "code",
   "execution_count": 288,
   "outputs": [
    {
     "data": {
      "text/plain": "64.0"
     },
     "execution_count": 288,
     "metadata": {},
     "output_type": "execute_result"
    }
   ],
   "source": [
    "shoe1.applyDiscount()"
   ],
   "metadata": {
    "collapsed": false,
    "ExecuteTime": {
     "end_time": "2023-11-15T19:43:12.038194Z",
     "start_time": "2023-11-15T19:43:11.790943900Z"
    }
   },
   "id": "87501dcd0a15dbd"
  },
  {
   "cell_type": "markdown",
   "source": [
    "## LETS add more variables to our class like serial number."
   ],
   "metadata": {
    "collapsed": false
   },
   "id": "9ef24972a1bd5212"
  },
  {
   "cell_type": "code",
   "execution_count": 289,
   "outputs": [],
   "source": [
    "class shoessports():\n",
    "    discount = 0.2\n",
    "    serial = 0\n",
    "    def __init__(self, name, price):\n",
    "        shoessports.serial += 1\n",
    "        self.serial = shoessports.serial\n",
    "        self.name = name\n",
    "        self.price = price\n",
    "        \n",
    "    def applyDiscount(self):    \n",
    "        self.discount = self.discount\n",
    "        self.price = self.price - (self.price * self.discount)\n",
    "        return self.price"
   ],
   "metadata": {
    "collapsed": false,
    "ExecuteTime": {
     "end_time": "2023-11-15T19:43:12.038194Z",
     "start_time": "2023-11-15T19:43:11.808069500Z"
    }
   },
   "id": "a90265a8217df817"
  },
  {
   "cell_type": "code",
   "execution_count": 290,
   "outputs": [],
   "source": [
    "shoes99 = shoessports(\"HM\", 100)\n",
    "shoes98 = shoessports(\"Lewis\", 200)\n",
    "shoes97 = shoessports(\"Zara\", 300)\n"
   ],
   "metadata": {
    "collapsed": false,
    "ExecuteTime": {
     "end_time": "2023-11-15T19:43:12.038194Z",
     "start_time": "2023-11-15T19:43:11.818055600Z"
    }
   },
   "id": "422ce24c307732f4"
  },
  {
   "cell_type": "code",
   "execution_count": 291,
   "outputs": [
    {
     "data": {
      "text/plain": "{'serial': 1, 'name': 'HM', 'price': 100}"
     },
     "execution_count": 291,
     "metadata": {},
     "output_type": "execute_result"
    }
   ],
   "source": [
    "shoes99.__dict__"
   ],
   "metadata": {
    "collapsed": false,
    "ExecuteTime": {
     "end_time": "2023-11-15T19:43:12.063014600Z",
     "start_time": "2023-11-15T19:43:11.843268700Z"
    }
   },
   "id": "a057aa21811d0760"
  },
  {
   "cell_type": "code",
   "execution_count": 292,
   "outputs": [
    {
     "data": {
      "text/plain": "{'serial': 2, 'name': 'Lewis', 'price': 200}"
     },
     "execution_count": 292,
     "metadata": {},
     "output_type": "execute_result"
    }
   ],
   "source": [
    "shoes98.__dict__"
   ],
   "metadata": {
    "collapsed": false,
    "ExecuteTime": {
     "end_time": "2023-11-15T19:43:12.063014600Z",
     "start_time": "2023-11-15T19:43:11.868070800Z"
    }
   },
   "id": "8e305e4489d4694"
  },
  {
   "cell_type": "code",
   "execution_count": 293,
   "outputs": [
    {
     "data": {
      "text/plain": "{'serial': 3, 'name': 'Zara', 'price': 300}"
     },
     "execution_count": 293,
     "metadata": {},
     "output_type": "execute_result"
    }
   ],
   "source": [
    "shoes97.__dict__"
   ],
   "metadata": {
    "collapsed": false,
    "ExecuteTime": {
     "end_time": "2023-11-15T19:43:12.063014600Z",
     "start_time": "2023-11-15T19:43:11.887867Z"
    }
   },
   "id": "3888e6c43aa15c03"
  },
  {
   "cell_type": "code",
   "execution_count": 293,
   "outputs": [],
   "source": [],
   "metadata": {
    "collapsed": false,
    "ExecuteTime": {
     "end_time": "2023-11-15T19:43:12.068029200Z",
     "start_time": "2023-11-15T19:43:11.903043700Z"
    }
   },
   "id": "90f7236aa1b4ad87"
  }
 ],
 "metadata": {
  "kernelspec": {
   "display_name": "Python 3",
   "language": "python",
   "name": "python3"
  },
  "language_info": {
   "codemirror_mode": {
    "name": "ipython",
    "version": 2
   },
   "file_extension": ".py",
   "mimetype": "text/x-python",
   "name": "python",
   "nbconvert_exporter": "python",
   "pygments_lexer": "ipython2",
   "version": "2.7.6"
  }
 },
 "nbformat": 4,
 "nbformat_minor": 5
}
