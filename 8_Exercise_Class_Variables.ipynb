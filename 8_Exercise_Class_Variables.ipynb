{
 "cells": [
  {
   "cell_type": "markdown",
   "source": [
    "# CLASS VARIABLES EXERCISES\n",
    "\n",
    "## Exercise 1\n",
    "\n",
    "Define a Circle class with 2 methods:\n",
    "\n",
    "Circle circumference\n",
    "Circle area"
   ],
   "metadata": {
    "collapsed": false
   },
   "id": "a8cc6560d94517c7"
  },
  {
   "cell_type": "code",
   "execution_count": 10,
   "outputs": [],
   "source": [
    "class Circle:\n",
    "    pi = 3.14\n",
    "    def __init__(self, radius):\n",
    "        self.radius = radius\n",
    "    \n",
    "    def circumference(self):\n",
    "        return 2 * Circle.pi * self.radius\n",
    "    \n",
    "    def area(self):\n",
    "        return Circle.pi * self.radius ** 2"
   ],
   "metadata": {
    "collapsed": false,
    "ExecuteTime": {
     "end_time": "2023-11-15T14:24:30.591830400Z",
     "start_time": "2023-11-15T14:24:30.514803600Z"
    }
   },
   "id": "787a78180e172095"
  },
  {
   "cell_type": "code",
   "execution_count": 11,
   "outputs": [],
   "source": [
    "circle1 = Circle(5)\n",
    "circle2 = Circle(10)"
   ],
   "metadata": {
    "collapsed": false,
    "ExecuteTime": {
     "end_time": "2023-11-15T14:24:30.593376300Z",
     "start_time": "2023-11-15T14:24:30.530459600Z"
    }
   },
   "id": "e0b6acdfbc81daf1"
  },
  {
   "cell_type": "code",
   "execution_count": 12,
   "outputs": [
    {
     "data": {
      "text/plain": "31.400000000000002"
     },
     "execution_count": 12,
     "metadata": {},
     "output_type": "execute_result"
    }
   ],
   "source": [
    "circle1.circumference()\n"
   ],
   "metadata": {
    "collapsed": false,
    "ExecuteTime": {
     "end_time": "2023-11-15T14:24:30.593376300Z",
     "start_time": "2023-11-15T14:24:30.546116700Z"
    }
   },
   "id": "6d8ca872070fd74c"
  },
  {
   "cell_type": "code",
   "execution_count": 13,
   "outputs": [
    {
     "data": {
      "text/plain": "314.0"
     },
     "execution_count": 13,
     "metadata": {},
     "output_type": "execute_result"
    }
   ],
   "source": [
    "circle2.area()"
   ],
   "metadata": {
    "collapsed": false,
    "ExecuteTime": {
     "end_time": "2023-11-15T14:24:30.593376300Z",
     "start_time": "2023-11-15T14:24:30.577294500Z"
    }
   },
   "id": "40c8ae14ba580dac"
  },
  {
   "cell_type": "code",
   "execution_count": 14,
   "outputs": [
    {
     "data": {
      "text/plain": "56.52"
     },
     "execution_count": 14,
     "metadata": {},
     "output_type": "execute_result"
    }
   ],
   "source": [
    "Circle(9).circumference()"
   ],
   "metadata": {
    "collapsed": false,
    "ExecuteTime": {
     "end_time": "2023-11-15T14:27:01.741829Z",
     "start_time": "2023-11-15T14:27:01.724169400Z"
    }
   },
   "id": "5d71251ac0a59a67"
  },
  {
   "cell_type": "code",
   "execution_count": 16,
   "outputs": [
    {
     "data": {
      "text/plain": "314.0"
     },
     "execution_count": 16,
     "metadata": {},
     "output_type": "execute_result"
    }
   ],
   "source": [
    "Circle(10).area()"
   ],
   "metadata": {
    "collapsed": false,
    "ExecuteTime": {
     "end_time": "2023-11-15T14:27:09.967865900Z",
     "start_time": "2023-11-15T14:27:09.945542600Z"
    }
   },
   "id": "62ca7842902bf5f9"
  },
  {
   "cell_type": "code",
   "execution_count": null,
   "outputs": [],
   "source": [],
   "metadata": {
    "collapsed": false
   },
   "id": "1080691b48b66fde"
  }
 ],
 "metadata": {
  "kernelspec": {
   "display_name": "Python 3",
   "language": "python",
   "name": "python3"
  },
  "language_info": {
   "codemirror_mode": {
    "name": "ipython",
    "version": 2
   },
   "file_extension": ".py",
   "mimetype": "text/x-python",
   "name": "python",
   "nbconvert_exporter": "python",
   "pygments_lexer": "ipython2",
   "version": "2.7.6"
  }
 },
 "nbformat": 4,
 "nbformat_minor": 5
}
