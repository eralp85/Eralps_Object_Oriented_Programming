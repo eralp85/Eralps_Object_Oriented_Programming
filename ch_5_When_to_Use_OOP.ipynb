{
 "cells": [
  {
   "cell_type": "markdown",
   "source": [
    "# WHEN TO YOU USE OOP?"
   ],
   "metadata": {
    "collapsed": false
   },
   "id": "f87ab9dd335b8df2"
  },
  {
   "cell_type": "markdown",
   "source": [],
   "metadata": {
    "collapsed": false
   },
   "id": "21d37fd7ad66ddf3"
  }
 ],
 "metadata": {
  "kernelspec": {
   "display_name": "Python 3",
   "language": "python",
   "name": "python3"
  },
  "language_info": {
   "codemirror_mode": {
    "name": "ipython",
    "version": 2
   },
   "file_extension": ".py",
   "mimetype": "text/x-python",
   "name": "python",
   "nbconvert_exporter": "python",
   "pygments_lexer": "ipython2",
   "version": "2.7.6"
  }
 },
 "nbformat": 4,
 "nbformat_minor": 5
}
