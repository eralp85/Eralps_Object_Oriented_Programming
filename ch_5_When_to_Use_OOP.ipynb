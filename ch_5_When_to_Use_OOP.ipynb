{
 "cells": [
  {
   "cell_type": "markdown",
   "source": [
    "# WHEN TO YOU USE OOP?"
   ],
   "metadata": {
    "collapsed": false
   },
   "id": "f87ab9dd335b8df2"
  },
  {
   "cell_type": "markdown",
   "source": [
    "Identifying objects is a very important task in object-oriented analysis and programming.\n",
    "\n",
    "Remember, objects are things that have both data and behaviour.\n",
    "\n",
    "If we are working only with data, we are often better off storing it in a list, set, dictionary or other data structure.\n",
    "\n",
    "On the other hand, if we are working only with behaviour, but no stored data, a simple function is more suitable.\n",
    "\n",
    "*An object, however, has both data and behaviour.*\n",
    "\n",
    "Proficient Python programmers use built-in data structures unless there is an obvious need to define a class.\n",
    "\n",
    "There is no reason to add an extra level of compelxity if it does not help organize our code.\n",
    "\n",
    "On the other hand, the need is not always self-evident.\n",
    "\n",
    "We can often start our programs by storing data in a few variables.\n",
    "\n",
    "As the program expands, we will later find that we are passing the same set of related variables to a set of functions.\n",
    "\n",
    "**This is the time to think about grouping both variables and functions into a class.**\n",
    "\n"
   ],
   "metadata": {
    "collapsed": false
   },
   "id": "21d37fd7ad66ddf3"
  },
  {
   "cell_type": "markdown",
   "source": [
    "For example, if we are desinging a program to model polygons in two-dimensional space, we might start with each polygon represented as a list of points.\n",
    "\n",
    "The points would be modeled as two tubles (x,y) describing where that point is located.\n",
    "\n",
    "This is all data, stored in a set of nested data structures.\n",
    "\n",
    "We can (and often do) start hacking by:\n"
   ],
   "metadata": {
    "collapsed": false
   },
   "id": "1eb5d53cc56f381c"
  },
  {
   "cell_type": "code",
   "execution_count": 1,
   "outputs": [],
   "source": [
    "square = [ (1,1), (1,2), (2,2), (2,1) ]"
   ],
   "metadata": {
    "collapsed": false,
    "ExecuteTime": {
     "end_time": "2023-12-19T03:49:11.656959600Z",
     "start_time": "2023-12-19T03:49:11.625703100Z"
    }
   },
   "id": "ae63ad7aabb264b0"
  },
  {
   "cell_type": "markdown",
   "source": [
    "Now, if we want to calculate the distance around the perimeter of the polygon, we need to sum the distances between each point.\n",
    "\n",
    "To do this, we need a function to calculate the distance between two points."
   ],
   "metadata": {
    "collapsed": false
   },
   "id": "83a4f7176bb839b"
  },
  {
   "cell_type": "code",
   "execution_count": 2,
   "outputs": [],
   "source": [
    "from math import hypot\n",
    "\n",
    "def distance(p1, p2):\n",
    "    return hypot(p1[0]-p2[0], p1[1]-p2[1])\n"
   ],
   "metadata": {
    "collapsed": false,
    "ExecuteTime": {
     "end_time": "2023-12-19T03:51:50.829561600Z",
     "start_time": "2023-12-19T03:51:50.798310700Z"
    }
   },
   "id": "da53fb0bd0d394b9"
  },
  {
   "cell_type": "code",
   "execution_count": 8,
   "outputs": [
    {
     "data": {
      "text/plain": "1.0"
     },
     "execution_count": 8,
     "metadata": {},
     "output_type": "execute_result"
    }
   ],
   "source": [
    "distance(square[0], square[1])\n"
   ],
   "metadata": {
    "collapsed": false,
    "ExecuteTime": {
     "end_time": "2023-12-19T03:53:05.841998900Z",
     "start_time": "2023-12-19T03:53:05.810788100Z"
    }
   },
   "id": "81e8212d783a6203"
  },
  {
   "cell_type": "code",
   "execution_count": 9,
   "outputs": [],
   "source": [
    "def perimeter(polygon):\n",
    "    \n",
    "    pairs = zip(polygon, polygon[1:] + [polygon[0]])\n",
    "    \n",
    "    return sum(distance(p1, p2) for p1, p2 in pairs)"
   ],
   "metadata": {
    "collapsed": false,
    "ExecuteTime": {
     "end_time": "2023-12-19T03:54:40.388605500Z",
     "start_time": "2023-12-19T03:54:40.208913300Z"
    }
   },
   "id": "6afdd555fa627b1b"
  },
  {
   "cell_type": "code",
   "execution_count": 10,
   "outputs": [
    {
     "data": {
      "text/plain": "4.0"
     },
     "execution_count": 10,
     "metadata": {},
     "output_type": "execute_result"
    }
   ],
   "source": [
    "perimeter(square)"
   ],
   "metadata": {
    "collapsed": false,
    "ExecuteTime": {
     "end_time": "2023-12-19T03:54:43.249140800Z",
     "start_time": "2023-12-19T03:54:43.192405800Z"
    }
   },
   "id": "a71a5a5cd57a9e5d"
  },
  {
   "cell_type": "markdown",
   "source": [
    "We can write an object-oriented version in record time. Let's compare them as follows:\n"
   ],
   "metadata": {
    "collapsed": false
   },
   "id": "e77600009db06412"
  },
  {
   "cell_type": "code",
   "execution_count": 13,
   "outputs": [],
   "source": [
    "from math import hypot\n",
    "from typing import List, Tuple, Optional, Iterable\n",
    "\n",
    "\n",
    "class Point:\n",
    "    \n",
    "    def __init__(self, x: float, y: float) -> None:\n",
    "        self.x = x\n",
    "        self.y = y\n",
    "        \n",
    "    def distance(self, other: 'Point') -> float:\n",
    "        return hypot(self.x - other.x, self.y - other.y)\n",
    "    \n",
    "class Polygon:\n",
    "    \n",
    "    def __init__(self, ) -> None:\n",
    "        self.vertices: List[Point] = []\n",
    "        \n",
    "    def add_point(self, point: Point) -> None:\n",
    "        self.vertices.append(point)\n",
    "        \n",
    "    def perimeter(self) -> float:\n",
    "        pairs = zip(self.vertices, self.vertices[1:] + [self.vertices[0]])\n",
    "        \n",
    "        return sum(p1.distance(p2) for p1, p2 in pairs)"
   ],
   "metadata": {
    "collapsed": false,
    "ExecuteTime": {
     "end_time": "2023-12-19T04:05:30.865279100Z",
     "start_time": "2023-12-19T04:05:30.827748800Z"
    }
   },
   "id": "3a92053f8f95e0ea"
  },
  {
   "cell_type": "code",
   "execution_count": 14,
   "outputs": [],
   "source": [
    "square = Polygon()\n",
    "square.add_point(Point(1,1))\n",
    "square.add_point(Point(1,2))\n",
    "square.add_point(Point(2,2))\n",
    "square.add_point(Point(2,1))"
   ],
   "metadata": {
    "collapsed": false,
    "ExecuteTime": {
     "end_time": "2023-12-19T04:06:18.103645100Z",
     "start_time": "2023-12-19T04:06:18.041104100Z"
    }
   },
   "id": "b25c486439b4663d"
  },
  {
   "cell_type": "code",
   "execution_count": 15,
   "outputs": [
    {
     "data": {
      "text/plain": "4.0"
     },
     "execution_count": 15,
     "metadata": {},
     "output_type": "execute_result"
    }
   ],
   "source": [
    "square.perimeter()"
   ],
   "metadata": {
    "collapsed": false,
    "ExecuteTime": {
     "end_time": "2023-12-19T04:06:19.425651500Z",
     "start_time": "2023-12-19T04:06:19.394368600Z"
    }
   },
   "id": "12e01682813f640c"
  },
  {
   "cell_type": "markdown",
   "source": [
    "That's fairly succinct and easy to read, you might think, but let's compare it to the function-based code:\n"
   ],
   "metadata": {
    "collapsed": false
   },
   "id": "8481e9337038b28d"
  },
  {
   "cell_type": "code",
   "execution_count": 17,
   "outputs": [
    {
     "data": {
      "text/plain": "4.0"
     },
     "execution_count": 17,
     "metadata": {},
     "output_type": "execute_result"
    }
   ],
   "source": [
    "square = [(1,1), (1,2), (2,2), (2,1)]\n",
    "perimeter(square)\n",
    "\n"
   ],
   "metadata": {
    "collapsed": false,
    "ExecuteTime": {
     "end_time": "2023-12-19T04:18:40.218459Z",
     "start_time": "2023-12-19T04:18:40.155953500Z"
    }
   },
   "id": "977a251e0a15fa18"
  },
  {
   "cell_type": "markdown",
   "source": [
    "Hmm, maybe the object-oriented API isn't so compact! \n",
    "\n",
    "\n",
    "Code length is not a good indicator of code complexity. \n",
    "\n",
    "Some programmers get hung up on complicated one-liners that do an incredible amount of work in one line of code. \n",
    "\n",
    "This can be a fun exercise, but the result is often unreadable, even to the original author the following day. \n",
    "\n",
    "Minimizing the amount of code can often make a program easier to read, but do not blindly assume this is the case.\n",
    "\n",
    "**No one wins at code golf. Minimizing the volume of code is rarely desirable.**"
   ],
   "metadata": {
    "collapsed": false
   },
   "id": "c6deada931bad7f3"
  },
  {
   "cell_type": "markdown",
   "source": [
    "Luckily, this trade-off isn't necessary. We can make the object-oriented Polygon API as easy to use as the functional implementation. \n",
    "\n",
    "All we have to do is alter our Polygon class so that it can be constructed with multiple points.\n",
    "\n",
    "Let's give it an initializer that accepts a list of Point objects:"
   ],
   "metadata": {
    "collapsed": false
   },
   "id": "6961e01a27f8ad11"
  },
  {
   "cell_type": "code",
   "execution_count": 18,
   "outputs": [],
   "source": [
    "class Polygon_2:\n",
    "    def __init__(self, vertices: Optional[Iterable[Point]] = None) -> None:\n",
    "        self.vertices = list(vertices) if vertices else []\n",
    "    def perimeter(self) -> float:\n",
    "        pairs = zip(\n",
    "            self.vertices, self.vertices[1:] + self.vertices[:1])\n",
    "        return sum(p1.distance(p2) for p1, p2 in pairs)\n"
   ],
   "metadata": {
    "collapsed": false,
    "ExecuteTime": {
     "end_time": "2023-12-19T04:21:03.777064200Z",
     "start_time": "2023-12-19T04:21:03.714661200Z"
    }
   },
   "id": "6620bde55df6110f"
  },
  {
   "cell_type": "markdown",
   "source": [
    "For the perimeter() method, we've used the zip() function to create pairs of vertices, with items drawn from two lists to create a sequence of pairs. \n",
    "\n",
    "One list provided to zip() is the complete sequence of vertices. \n",
    "\n",
    "The other list of vertices starts from vertex 1 (not 0) and ends with the vertex before 1 (that is, vertex 0). \n",
    "\n",
    "For a triangle, this will make three pairs:\n",
    " \n",
    "(v[0], v[1]), (v[1], v[2]), and (v[2], v[0]). \n",
    "\n",
    "We can then compute the distance between the pairs using Point.distance(). \n",
    "\n",
    "Finally, we sum the sequence of distances. This seems to improve things considerably. \n",
    "\n",
    "We can now use this class like the original hacked-in function definitions:"
   ],
   "metadata": {
    "collapsed": false
   },
   "id": "5d70501c8241d9c6"
  },
  {
   "cell_type": "code",
   "execution_count": 19,
   "outputs": [],
   "source": [
    "square = Polygon_2([Point(1,1), Point(1,2), Point(2,2), Point(2,1)])"
   ],
   "metadata": {
    "collapsed": false,
    "ExecuteTime": {
     "end_time": "2023-12-19T04:22:20.104908300Z",
     "start_time": "2023-12-19T04:22:20.058038400Z"
    }
   },
   "id": "28ed8f32ef818210"
  },
  {
   "cell_type": "code",
   "execution_count": 20,
   "outputs": [
    {
     "data": {
      "text/plain": "4.0"
     },
     "execution_count": 20,
     "metadata": {},
     "output_type": "execute_result"
    }
   ],
   "source": [
    "square.perimeter()"
   ],
   "metadata": {
    "collapsed": false,
    "ExecuteTime": {
     "end_time": "2023-12-19T04:22:21.556705100Z",
     "start_time": "2023-12-19T04:22:21.525416800Z"
    }
   },
   "id": "c4209ac3c9666aec"
  },
  {
   "cell_type": "markdown",
   "source": [
    "It's handy to have the details of the individual method definitions. \n",
    "\n",
    "We've built an API that's close to the original, succinct set of definitions. \n",
    "\n",
    "We've added enough formality to be confident the code is likely to work before we even start putting test cases together.\n",
    "\n",
    "Let's take one more step. Let's allow it to accept tuples too, and we can construct the Point objects ourselves, if needed:"
   ],
   "metadata": {
    "collapsed": false
   },
   "id": "ef70ec1e9eae2d6e"
  },
  {
   "cell_type": "code",
   "execution_count": 21,
   "outputs": [],
   "source": [
    "from typing import Union\n",
    "\n",
    "Pair = Tuple[float, float]\n",
    "\n",
    "Point_or_Tuple = Union[Point, Pair]\n",
    "\n",
    "class Polygon_3:\n",
    "    def __init__(self, vertices: Optional[Iterable[Point_or_Tuple]] = None) -> None:\n",
    "        self.vertices: List[Point] = []\n",
    "        if vertices:\n",
    "            for point_or_tuple in vertices:\n",
    "                self.vertices.append(self.make_point(point_or_tuple))\n",
    "    @staticmethod\n",
    "    def make_point(item: Point_or_Tuple) -> Point:\n",
    "        return item if isinstance(item, Point) else Point(*item)\n"
   ],
   "metadata": {
    "collapsed": false,
    "ExecuteTime": {
     "end_time": "2023-12-19T04:25:21.810664Z",
     "start_time": "2023-12-19T04:25:21.763855500Z"
    }
   },
   "id": "c3b161d283b5ba05"
  },
  {
   "cell_type": "markdown",
   "source": [
    "This initializer goes through the list of items (either Point or Tuple[float, float]) and ensures that any non-Point objects are converted to Point instances."
   ],
   "metadata": {
    "collapsed": false
   },
   "id": "4a9e860a64eb83d6"
  },
  {
   "cell_type": "markdown",
   "source": [
    "For an example this small, there's no clear winner between the object-oriented and more data-oriented versions of this code. They all do the same thing. \n",
    "\n",
    "If we have new functions that accept a polygon argument, such as area(polygon) or point_in_polygon(polygon, x, y), the benefits of the object-oriented code become increasingly obvious.\n",
    "\n",
    "Likewise, if we add other attributes to the polygon, such as color or texture, it makes more and more sense to encapsulate that data into a single class.\n",
    "\n",
    "The distinction is a design decision, but in general, the more important a set of data is, the more likely it is to have multiple functions specific to that data, and the more useful it is to use a class with attributes and methods.\n",
    "\n",
    "When making this decision, it also pays to consider how the class will be used. \n",
    "\n",
    "If we're only trying to calculate the perimeter of one polygon in the context of a much greater problem, using a function will probably be quickest to code and easier to use one time only. \n",
    "\n",
    "On the other hand, if our program needs to manipulate numerous polygons in a wide variety of ways (calculating the perimeter, area, and intersection with other polygons, moving or scaling them, and so on), we have almost certainly identified a class of related objects. \n",
    "\n",
    "The class definition becomes more important as the number of instances increases."
   ],
   "metadata": {
    "collapsed": false
   },
   "id": "e3d7acdab83a122d"
  },
  {
   "cell_type": "markdown",
   "source": [
    "# ADDING BEHAVIOURS TO CLASS DATA WITH PROPERTIES"
   ],
   "metadata": {
    "collapsed": false
   },
   "id": "960007808b9e3bf1"
  },
  {
   "cell_type": "markdown",
   "source": [
    "So far, we've focused on the separation of behavior and data. \n",
    "\n",
    "This is very important in object-oriented programming, but we're about to see that, in Python, the distinction is uncannily blurry. \n",
    "\n",
    "Python is very good at blurring distinctions; it doesn't exactly help us to think outside the box. \n",
    "\n",
    "Rather, it teaches us to stop thinking about the box.\n",
    "\n",
    "Before we get into the details, let's discuss some bad object-oriented design principles. \n",
    "\n",
    "Many object-oriented developers teach us to never access attributes directly. \n",
    "\n",
    "They insist that we write attribute access like this:"
   ],
   "metadata": {
    "collapsed": false
   },
   "id": "ba8eb9ab4d1da558"
  },
  {
   "cell_type": "code",
   "execution_count": 22,
   "outputs": [],
   "source": [
    "class Color:\n",
    "    def __init__(self, rgb_value: int, name: str) -> None:\n",
    "        self._rgb_value = rgb_value\n",
    "        self._name = name\n",
    "    def set_name(self, name: str) -> None:\n",
    "        self._name = name\n",
    "    def get_name(self) -> str:\n",
    "        return self._name\n",
    "    def set_rgb_value(self, rgb_value: int) -> None:\n",
    "        self._rgb_value = rgb_value\n",
    "    def get_rgb_value(self) -> int:\n",
    "        return self._rgb_value"
   ],
   "metadata": {
    "collapsed": false,
    "ExecuteTime": {
     "end_time": "2023-12-19T04:48:40.183901700Z",
     "start_time": "2023-12-19T04:48:40.168285Z"
    }
   },
   "id": "b0ab8fdfb8473596"
  },
  {
   "cell_type": "markdown",
   "source": [
    "*The instance variables are prefixed with an underscore to suggest that they are private (other languages would actually force them to be private)*. \n",
    "\n",
    "**Then, the get and set methods provide access to each variable.** \n",
    "\n",
    "This class would be used in practice as follows:"
   ],
   "metadata": {
    "collapsed": false
   },
   "id": "d3a6f06163068f3f"
  },
  {
   "cell_type": "code",
   "execution_count": 23,
   "outputs": [],
   "source": [
    "c = Color(0xff0000, 'bright red')"
   ],
   "metadata": {
    "collapsed": false,
    "ExecuteTime": {
     "end_time": "2023-12-19T04:51:25.817247800Z",
     "start_time": "2023-12-19T04:51:25.785963700Z"
    }
   },
   "id": "9ade083b77bb3053"
  },
  {
   "cell_type": "code",
   "execution_count": 24,
   "outputs": [
    {
     "data": {
      "text/plain": "'bright red'"
     },
     "execution_count": 24,
     "metadata": {},
     "output_type": "execute_result"
    }
   ],
   "source": [
    "c.get_name()"
   ],
   "metadata": {
    "collapsed": false,
    "ExecuteTime": {
     "end_time": "2023-12-19T04:51:38.817250600Z",
     "start_time": "2023-12-19T04:51:38.723502100Z"
    }
   },
   "id": "832adfcca1371303"
  },
  {
   "cell_type": "code",
   "execution_count": 25,
   "outputs": [],
   "source": [
    "c.set_name('reddish red')"
   ],
   "metadata": {
    "collapsed": false,
    "ExecuteTime": {
     "end_time": "2023-12-19T04:51:47.316597200Z",
     "start_time": "2023-12-19T04:51:47.257089200Z"
    }
   },
   "id": "c9471268f501f811"
  },
  {
   "cell_type": "code",
   "execution_count": 26,
   "outputs": [
    {
     "data": {
      "text/plain": "'reddish red'"
     },
     "execution_count": 26,
     "metadata": {},
     "output_type": "execute_result"
    }
   ],
   "source": [
    "c.get_name()"
   ],
   "metadata": {
    "collapsed": false,
    "ExecuteTime": {
     "end_time": "2023-12-19T04:51:48.896427900Z",
     "start_time": "2023-12-19T04:51:48.802595500Z"
    }
   },
   "id": "12cc109e7ec9ee5c"
  },
  {
   "cell_type": "markdown",
   "source": [
    "The above example is not nearly as readable as the following:"
   ],
   "metadata": {
    "collapsed": false
   },
   "id": "ed4061ab6bd2cd9a"
  },
  {
   "cell_type": "code",
   "execution_count": 27,
   "outputs": [],
   "source": [
    "class Color_Py:\n",
    "    def __init__(self,rgb_value: int, name: str) -> None:\n",
    "        self.rgb_value = rgb_value\n",
    "        self.name = name"
   ],
   "metadata": {
    "collapsed": false,
    "ExecuteTime": {
     "end_time": "2023-12-20T04:24:47.333970700Z",
     "start_time": "2023-12-20T04:24:47.302726200Z"
    }
   },
   "id": "608a37a44902acc6"
  },
  {
   "cell_type": "code",
   "execution_count": 28,
   "outputs": [],
   "source": [
    "c = Color_Py(0xff0000, 'bright redPy')"
   ],
   "metadata": {
    "collapsed": false,
    "ExecuteTime": {
     "end_time": "2023-12-20T04:25:06.305396100Z",
     "start_time": "2023-12-20T04:25:06.242896700Z"
    }
   },
   "id": "dbb4b77067fadbc9"
  },
  {
   "cell_type": "code",
   "execution_count": 29,
   "outputs": [
    {
     "data": {
      "text/plain": "'bright redPy'"
     },
     "execution_count": 29,
     "metadata": {},
     "output_type": "execute_result"
    }
   ],
   "source": [
    "c.name"
   ],
   "metadata": {
    "collapsed": false,
    "ExecuteTime": {
     "end_time": "2023-12-20T04:25:08.326153500Z",
     "start_time": "2023-12-20T04:25:08.232399900Z"
    }
   },
   "id": "6a709d94aefd71b8"
  },
  {
   "cell_type": "code",
   "execution_count": 30,
   "outputs": [],
   "source": [
    "c.name = 'reddish redPy'"
   ],
   "metadata": {
    "collapsed": false,
    "ExecuteTime": {
     "end_time": "2023-12-20T04:25:16.373363200Z",
     "start_time": "2023-12-20T04:25:16.326492700Z"
    }
   },
   "id": "fd1f1302f59568ba"
  },
  {
   "cell_type": "code",
   "execution_count": 31,
   "outputs": [
    {
     "data": {
      "text/plain": "'reddish redPy'"
     },
     "execution_count": 31,
     "metadata": {},
     "output_type": "execute_result"
    }
   ],
   "source": [
    "c.name"
   ],
   "metadata": {
    "collapsed": false,
    "ExecuteTime": {
     "end_time": "2023-12-20T04:25:19.069962600Z",
     "start_time": "2023-12-20T04:25:18.952552Z"
    }
   },
   "id": "fa1636faddc536b3"
  },
  {
   "cell_type": "markdown",
   "source": [
    "The idea of seetters and getters seems helpful for encapsulating the class definition.\n",
    "\n",
    "One ongoing justification for getters and setters is that someday, we may want to add extra code when a value is set or retrieved.\n",
    "\n",
    "For example, we could decide to cache a value to avoid complex computations, or we might want to validate that a given value is suitable for input.\n",
    "\n",
    "For example:"
   ],
   "metadata": {
    "collapsed": false
   },
   "id": "7203aa660bcf273d"
  },
  {
   "cell_type": "code",
   "execution_count": 32,
   "outputs": [],
   "source": [
    "class Color_V:\n",
    "    def __init__(self, rgb_value: int, name: str) -> None:\n",
    "        self._rgb_value = rgb_value\n",
    "        self._name = name\n",
    "        if not name:\n",
    "            raise ValueError(\"Invalid Name\")\n",
    "    def _set_name(self, name: str) -> None:\n",
    "        if not name:\n",
    "            raise ValueError(\"Invalid Name\")\n",
    "        self._name = name\n",
    "    "
   ],
   "metadata": {
    "collapsed": false,
    "ExecuteTime": {
     "end_time": "2023-12-20T04:40:06.927025600Z",
     "start_time": "2023-12-20T04:40:06.848870100Z"
    }
   },
   "id": "339bda00f1d5a521"
  },
  {
   "cell_type": "markdown",
   "source": [
    "If we had written our original code for direct attribute access and then later changed it o a method like the preceding one, we would have a problem:\n",
    "\n",
    "-Anyone who had written code that accessed the attribute directly would now have to change their code to access a method.\n",
    "\n",
    " If they did not change the access style from attribute access to a function call, their code would be broken."
   ],
   "metadata": {
    "collapsed": false
   },
   "id": "69e2f6162749a57f"
  },
  {
   "cell_type": "markdown",
   "source": [
    "The mantra that we should make all attributes private, accessible through methods, does not make much sense in Python.\n",
    "\n",
    "*Python Language lacks any real concept of private members!* \n",
    "\n",
    "**We are all adults!** \n",
    "\n",
    "We can make the syntax distinction between attribute and method less visible."
   ],
   "metadata": {
    "collapsed": false
   },
   "id": "b7209be30b5d5d65"
  },
  {
   "cell_type": "markdown",
   "source": [
    "Python gives us the `property` function to make methods that look like attributes.\n",
    "\n",
    "We can therefore write our code to use direct member access, and if we ever unecpectedly need to alter the implementation to do some calculation when getting pr setting that attribute's value, we can do so without changing the interface.\n",
    " "
   ],
   "metadata": {
    "collapsed": false
   },
   "id": "62809e9db49656c0"
  },
  {
   "cell_type": "code",
   "execution_count": 33,
   "outputs": [],
   "source": [
    "class Color_VP:\n",
    "    \n",
    "    def __init__(self, rgb_value: int, name: str) -> None:\n",
    "        self._rgb_value = rgb_value\n",
    "        if not name:\n",
    "            raise ValueError(f\"Invalid Name: {name!r}\")\n",
    "        self._name = name\n",
    "    \n",
    "    def _set_name(self, name: str) -> None:\n",
    "        if not name:\n",
    "            raise ValueError(f\"Invalid Name: {name!r}\")\n",
    "        self._name = name\n",
    "    \n",
    "    def _get_name(self) -> str:\n",
    "        return self._name\n",
    "    \n",
    "    ## Now we can use the property function to create a property object\n",
    "    name = property(_get_name, _set_name)"
   ],
   "metadata": {
    "collapsed": false,
    "ExecuteTime": {
     "end_time": "2023-12-20T04:55:52.571440900Z",
     "start_time": "2023-12-20T04:55:52.477702700Z"
    }
   },
   "id": "4fa9c42be1db5358"
  },
  {
   "cell_type": "markdown",
   "source": [
    "Compared to earlier class, we first change the name attibute into a private attribute, `_name`. \n",
    "\n",
    "Then, we add two more private methods to get and set that variable, performing our validation when we set it.\n",
    "\n",
    "Finally, we use the property construction at the bottom.\n",
    "\n",
    "This creates a new attribute on the `Color_VP` class called `name`.\n",
    "\n",
    "It sets this attribute to be a property.\n",
    "\n",
    "Under the hood, a `property` attrbiute delegates the real work to the two methods we just created.\n",
    "\n",
    "When used in an access context, the first fucntion gets the value.\n",
    "\n",
    "When used in an update context, the second function sets the value.\n",
    "\n",
    "This new version of the `Color` class can be used in exaclt the same way as the earlier version, yet it now peroforms validation when we set the `name` attribute: "
   ],
   "metadata": {
    "collapsed": false
   },
   "id": "dfa4d160eaa949d7"
  },
  {
   "cell_type": "code",
   "execution_count": 34,
   "outputs": [],
   "source": [
    "c = Color_VP(0xff0000, 'bright red')"
   ],
   "metadata": {
    "collapsed": false,
    "ExecuteTime": {
     "end_time": "2023-12-20T05:05:56.468419600Z",
     "start_time": "2023-12-20T05:05:56.405921400Z"
    }
   },
   "id": "6757d21b8ad2dbe4"
  },
  {
   "cell_type": "code",
   "execution_count": 35,
   "outputs": [
    {
     "data": {
      "text/plain": "'bright red'"
     },
     "execution_count": 35,
     "metadata": {},
     "output_type": "execute_result"
    }
   ],
   "source": [
    "c.name"
   ],
   "metadata": {
    "collapsed": false,
    "ExecuteTime": {
     "end_time": "2023-12-20T05:05:57.705858400Z",
     "start_time": "2023-12-20T05:05:57.643356100Z"
    }
   },
   "id": "8334f5c94ebb4f36"
  },
  {
   "cell_type": "code",
   "execution_count": 36,
   "outputs": [],
   "source": [
    "c.name = 'red3'"
   ],
   "metadata": {
    "collapsed": false,
    "ExecuteTime": {
     "end_time": "2023-12-20T05:06:20.132976200Z",
     "start_time": "2023-12-20T05:06:20.070447700Z"
    }
   },
   "id": "98dc5b906d360a5e"
  },
  {
   "cell_type": "code",
   "execution_count": 37,
   "outputs": [
    {
     "data": {
      "text/plain": "'red3'"
     },
     "execution_count": 37,
     "metadata": {},
     "output_type": "execute_result"
    }
   ],
   "source": [
    "c.name"
   ],
   "metadata": {
    "collapsed": false,
    "ExecuteTime": {
     "end_time": "2023-12-20T05:06:26.716375800Z",
     "start_time": "2023-12-20T05:06:26.653844Z"
    }
   },
   "id": "6336bdda139dc6a2"
  },
  {
   "cell_type": "code",
   "execution_count": 38,
   "outputs": [
    {
     "ename": "ValueError",
     "evalue": "Invalid Name: ''",
     "output_type": "error",
     "traceback": [
      "\u001B[1;31m---------------------------------------------------------------------------\u001B[0m",
      "\u001B[1;31mValueError\u001B[0m                                Traceback (most recent call last)",
      "\u001B[1;32m~\\AppData\\Local\\Temp\\ipykernel_20276\\3509037865.py\u001B[0m in \u001B[0;36m<module>\u001B[1;34m\u001B[0m\n\u001B[1;32m----> 1\u001B[1;33m \u001B[0mc\u001B[0m\u001B[1;33m.\u001B[0m\u001B[0mname\u001B[0m \u001B[1;33m=\u001B[0m \u001B[1;34m''\u001B[0m\u001B[1;33m\u001B[0m\u001B[1;33m\u001B[0m\u001B[0m\n\u001B[0m",
      "\u001B[1;32m~\\AppData\\Local\\Temp\\ipykernel_20276\\3152092239.py\u001B[0m in \u001B[0;36m_set_name\u001B[1;34m(self, name)\u001B[0m\n\u001B[0;32m      9\u001B[0m     \u001B[1;32mdef\u001B[0m \u001B[0m_set_name\u001B[0m\u001B[1;33m(\u001B[0m\u001B[0mself\u001B[0m\u001B[1;33m,\u001B[0m \u001B[0mname\u001B[0m\u001B[1;33m:\u001B[0m \u001B[0mstr\u001B[0m\u001B[1;33m)\u001B[0m \u001B[1;33m->\u001B[0m \u001B[1;32mNone\u001B[0m\u001B[1;33m:\u001B[0m\u001B[1;33m\u001B[0m\u001B[1;33m\u001B[0m\u001B[0m\n\u001B[0;32m     10\u001B[0m         \u001B[1;32mif\u001B[0m \u001B[1;32mnot\u001B[0m \u001B[0mname\u001B[0m\u001B[1;33m:\u001B[0m\u001B[1;33m\u001B[0m\u001B[1;33m\u001B[0m\u001B[0m\n\u001B[1;32m---> 11\u001B[1;33m             \u001B[1;32mraise\u001B[0m \u001B[0mValueError\u001B[0m\u001B[1;33m(\u001B[0m\u001B[1;34mf\"Invalid Name: {name!r}\"\u001B[0m\u001B[1;33m)\u001B[0m\u001B[1;33m\u001B[0m\u001B[1;33m\u001B[0m\u001B[0m\n\u001B[0m\u001B[0;32m     12\u001B[0m         \u001B[0mself\u001B[0m\u001B[1;33m.\u001B[0m\u001B[0m_name\u001B[0m \u001B[1;33m=\u001B[0m \u001B[0mname\u001B[0m\u001B[1;33m\u001B[0m\u001B[1;33m\u001B[0m\u001B[0m\n\u001B[0;32m     13\u001B[0m \u001B[1;33m\u001B[0m\u001B[0m\n",
      "\u001B[1;31mValueError\u001B[0m: Invalid Name: ''"
     ]
    }
   ],
   "source": [
    "c.name = ''"
   ],
   "metadata": {
    "collapsed": false,
    "ExecuteTime": {
     "end_time": "2023-12-20T05:06:31.447669200Z",
     "start_time": "2023-12-20T05:06:30.241105500Z"
    }
   },
   "id": "7d37fe43fb76365"
  },
  {
   "cell_type": "markdown",
   "source": [
    "So, if we would previously written code to access the name attribute, and then changed it to use our property based object, the previous code would still work.\n",
    "\n",
    "If it attempts to set an empty property value, this is behaviour we wanted to forbid. It is success.\n",
    "\n",
    "Bear in mind that, even with the name property, the previous code is not 100% safe.\n",
    "\n",
    "People can still access the _name attribute directly and set it to an empty string if they want to.\n",
    "\n",
    "But if they access a variable we have explicitly marked with an underscore to suggest it is private, they're the ones that have to deal wtih the consequences."
   ],
   "metadata": {
    "collapsed": false
   },
   "id": "fa688568198c9e95"
  },
  {
   "cell_type": "markdown",
   "source": [
    "# Properties in Detail\n"
   ],
   "metadata": {
    "collapsed": false
   },
   "id": "9d49d68001e89610"
  },
  {
   "cell_type": "markdown",
   "source": [
    "Think of the property function as returning an object that proxies any requests to get or set the attribute value through the method names we have specified.\n",
    "\n",
    "The property built-in is like a constructor for such an object, and that object is set as the public facing member for the given attribute.\n",
    "\n",
    "This property constur"
   ],
   "metadata": {
    "collapsed": false
   },
   "id": "9c5a220db77a5bc0"
  }
 ],
 "metadata": {
  "kernelspec": {
   "display_name": "Python 3",
   "language": "python",
   "name": "python3"
  },
  "language_info": {
   "codemirror_mode": {
    "name": "ipython",
    "version": 2
   },
   "file_extension": ".py",
   "mimetype": "text/x-python",
   "name": "python",
   "nbconvert_exporter": "python",
   "pygments_lexer": "ipython2",
   "version": "2.7.6"
  }
 },
 "nbformat": 4,
 "nbformat_minor": 5
}
